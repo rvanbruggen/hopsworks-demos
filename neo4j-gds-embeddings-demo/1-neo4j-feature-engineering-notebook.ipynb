{
 "cells": [
  {
   "cell_type": "markdown",
   "metadata": {},
   "source": [
    "# How to connect Neo4j to Hopsworks\n",
    "In this notebook we will\n",
    "* import data into Neo4j\n",
    "* use Neo4j's Graph Data Science library to calculate node2vec graph node embeddings, and store these on the nodes in the graph database.\n",
    "* read these embeddings into a dataframe\n",
    "* create feature groups in a Hopsworks feature store"
   ]
  },
  {
   "cell_type": "markdown",
   "metadata": {},
   "source": [
    "## Step 1: Importing the data into Neo4j\n",
    "\n",
    "First we do a few Imports and set a few parameters."
   ]
  },
  {
   "cell_type": "code",
   "execution_count": 1,
   "metadata": {},
   "outputs": [],
   "source": [
    "from neo4j import GraphDatabase\n",
    "from graphdatascience import GraphDataScience\n",
    "\n",
    "URI = \"bolt://localhost:7687\"\n",
    "AUTH = (\"neo4j\", \"changeme\")\n",
    "DATABASE = \"neo4j2\""
   ]
  },
  {
   "cell_type": "markdown",
   "metadata": {},
   "source": [
    "Then we create a few indexes in Neo4j."
   ]
  },
  {
   "cell_type": "code",
   "execution_count": 2,
   "metadata": {},
   "outputs": [],
   "source": [
    "with GraphDatabase.driver(URI, auth=AUTH) as driver:\n",
    "    driver.execute_query(\"create text index party_id_index for (p:Party) on (p.partyId)\", database_=DATABASE)\n",
    "    driver.execute_query(\"create text index party_type_index for (p:Party) on (p.partyType)\", database_=DATABASE)\n",
    "    driver.execute_query(\"create text index transaction_id_index for ()-[r:TRANSACTION]-() ON r.tran_id\", database_=DATABASE)\n",
    "    driver.execute_query(\"create range index transaction_timestamp_index for ()-[r:TRANSACTION]-() ON r.tran_timestamp\", database_=DATABASE)"
   ]
  },
  {
   "cell_type": "markdown",
   "metadata": {},
   "source": [
    "Then we do the first import of the first .csv file, holding the (:Party) nodes. This will finish very quickly, as there are only 7-8k nodes."
   ]
  },
  {
   "cell_type": "code",
   "execution_count": 3,
   "metadata": {},
   "outputs": [
    {
     "name": "stderr",
     "output_type": "stream",
     "text": [
      "/var/folders/yp/z0pz6z2j49g_bdh9zzznhvcr0000gp/T/ipykernel_30900/2629808008.py:1: DeprecationWarning: Using a driver after it has been closed is deprecated. Future versions of the driver will raise an error.\n",
      "  with driver.session(database=DATABASE) as session:\n"
     ]
    },
    {
     "name": "stdout",
     "output_type": "stream",
     "text": [
      "{'_contains_updates': True, 'labels_added': 7347, 'nodes_created': 7347, 'properties_set': 14694}\n"
     ]
    }
   ],
   "source": [
    "with driver.session(database=DATABASE) as session:\n",
    "            result = session.run(\"\"\"\n",
    "                load csv with headers from \"https://repo.hops.works/master/hopsworks-tutorials/data/aml/party.csv\" as parties\n",
    "                create (p:Party)\n",
    "                set p = parties\n",
    "            \"\"\")\n",
    "print(result.consume().counters)"
   ]
  },
  {
   "cell_type": "markdown",
   "metadata": {},
   "source": [
    "Next we will import the relationshops. There are approx 430k [:TRANSACTION] relationships, and importing these will take a few minutes."
   ]
  },
  {
   "cell_type": "code",
   "execution_count": 4,
   "metadata": {},
   "outputs": [
    {
     "name": "stderr",
     "output_type": "stream",
     "text": [
      "/var/folders/yp/z0pz6z2j49g_bdh9zzznhvcr0000gp/T/ipykernel_30900/3992007967.py:1: DeprecationWarning: Using a driver after it has been closed is deprecated. Future versions of the driver will raise an error.\n",
      "  with driver.session(database=DATABASE) as session:\n"
     ]
    }
   ],
   "source": [
    "with driver.session(database=DATABASE) as session:\n",
    "            result = session.run(\"\"\"\n",
    "                LOAD CSV WITH HEADERS FROM \"https://repo.hops.works/master/hopsworks-tutorials/data/aml/transactions.csv\" AS Transaction\n",
    "                    MATCH (startNode:Party)\n",
    "                    WHERE startNode.partyId = Transaction.src\n",
    "                    CALL {\n",
    "                        WITH Transaction, startNode\n",
    "                        MATCH (endNode:Party)\n",
    "                        WHERE endNode.partyId = Transaction.dst\n",
    "                        CREATE (startNode)-[rel:TRANSACTION {tran_id: Transaction.tran_id, tx_type: Transaction.tx_type, base_amt: Transaction.base_amt, tran_timestamp: datetime(Transaction.tran_timestamp)}]->(endNode)\n",
    "                    } IN TRANSACTIONS OF 2500 ROWS;\n",
    "            \"\"\")\n",
    "print(result.consume().counters)"
   ]
  },
  {
   "cell_type": "markdown",
   "metadata": {},
   "source": [
    "This completes the importing of the data into Neo4j."
   ]
  }
 ],
 "metadata": {
  "kernelspec": {
   "display_name": "Python 3",
   "language": "python",
   "name": "python3"
  },
  "language_info": {
   "codemirror_mode": {
    "name": "ipython",
    "version": 3
   },
   "file_extension": ".py",
   "mimetype": "text/x-python",
   "name": "python",
   "nbconvert_exporter": "python",
   "pygments_lexer": "ipython3",
   "version": "3.11.6"
  }
 },
 "nbformat": 4,
 "nbformat_minor": 2
}
