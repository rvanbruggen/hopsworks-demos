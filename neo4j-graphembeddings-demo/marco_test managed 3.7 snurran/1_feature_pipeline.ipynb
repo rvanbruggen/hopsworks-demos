{
 "cells": [
  {
   "cell_type": "markdown",
   "metadata": {},
   "source": [
    "# <span style=\"font-width:bold; font-size: 3rem; color:#1EB182;\">**Hopsworks Feature Store** </span><span style=\"font-width:bold; font-size: 3rem; color:#333;\">- Part 01: Load, Engineer & Connect</span>\n",
    "\n",
    "<span style=\"font-width:bold; font-size: 1.4rem;\"> This is the first part of the Neo4j and Hopsworks Feature Store integration. As part of this first module, we will work with data related to credit card transactions. \n",
    "The objective of this tutorial is to demonstrate how to work with **Neo4j** and the **Hopworks Feature Store**  for batch data with a goal of training and deploying a model that can predict fraudulent transactions.</span>\n",
    "\n",
    "## **🗒️ This notebook is divided in 4 sections:** \n",
    "1. Import data into Neo4j\n",
    "2. Use Neo4j's GDS library and `node2vec` to calculate graph node embeddings\n",
    "3. More Feature Engineering of transactions\n",
    "5. Create Feature Groups in Hopsworks Feature Store from Neo4j embeddings and processed features\n",
    "\n",
    "![tutorial-flow](../../images/01_featuregroups.png)"
   ]
  },
  {
   "cell_type": "markdown",
   "metadata": {},
   "source": [
    "### 📝 Import libraries "
   ]
  },
  {
   "cell_type": "code",
   "execution_count": 1,
   "metadata": {},
   "outputs": [],
   "source": [
    "import datetime\n",
    "import neo4j\n",
    "from neo4j import GraphDatabase\n",
    "from graphdatascience import GraphDataScience\n",
    "import pandas as pd\n",
    "import numpy as np\n",
    "from features.transactions import get_in_out_transactions\n",
    "from features.party import get_transaction_labels, get_party_labels"
   ]
  },
  {
   "cell_type": "markdown",
   "metadata": {},
   "source": [
    "## <span style=\"color:#ff5f27;\"> 💽 Loading the Data </span>\n",
    "\n",
    "The data we will use comes from three different CSV files:\n",
    "\n",
    "- `transactions.csv`: transaction information such as timestamp, location, and the amount. \n",
    "- `alert_transactions.csv`: Suspicious Activity Report (SAR) transactions.\n",
    "- `party.csv`: User profile information.\n",
    "\n",
    "In a production system, these CSV files would originate from separate data sources or tables, and probably separate data pipelines. **All three files have a customer id column `id` in common, which we can use for joins.**\n",
    "\n",
    "Let's go ahead and load the data."
   ]
  },
  {
   "cell_type": "markdown",
   "metadata": {},
   "source": [
    "## Loading the Data into Neo4j\n",
    "\n",
    "#### Neo4j setup\n",
    "Before executing the next cells, the Neo4j database must be installed and initialized:\n",
    "- Install Neo4j Desktop from https://neo4j.com/download/\n",
    "- Create a new database project and server\n",
    "- Install the APOC and GDS plugins\n",
    "- BOLT protocol should be set (if already is not) in the the [neo4j.conf](https://neo4j.com/docs/operations-manual/current/configuration/neo4j-conf/) file\n",
    "\n",
    "First, let's set a few parameters to connect with the Neo4j database."
   ]
  },
  {
   "cell_type": "code",
   "execution_count": 2,
   "metadata": {},
   "outputs": [],
   "source": [
    "URI = \"bolt://localhost:7687\"\n",
    "AUTH = (\"neo4j\", \"changeme\")\n",
    "DATABASE = \"gdshopsworksdemo\""
   ]
  },
  {
   "cell_type": "markdown",
   "metadata": {},
   "source": [
    "Then we create a few indexes in Neo4j."
   ]
  },
  {
   "cell_type": "code",
   "execution_count": 4,
   "metadata": {},
   "outputs": [],
   "source": [
    "with GraphDatabase.driver(URI, auth=AUTH) as driver:\n",
    "    driver.execute_query(\"CREATE CONSTRAINT party_id_constraint FOR (p:Party) REQUIRE p.partyId IS UNIQUE\", database_=DATABASE)\n",
    "    driver.execute_query(\"CREATE TEXT INDEX party_type_index FOR (p:Party) ON (p.partyType)\", database_=DATABASE)\n",
    "    driver.execute_query(\"CREATE CONSTRAINT transaction_id_constraint FOR ()-[r:TRANSACTION]-() REQUIRE r.tran_id is UNIQUE\", database_=DATABASE)\n",
    "    driver.execute_query(\"CREATE TEXT INDEX transaction_timestamp_index FOR ()-[r:TRANSACTION]-() ON r.tran_timestamp\", database_=DATABASE)"
   ]
  },
  {
   "cell_type": "markdown",
   "metadata": {},
   "source": [
    "Then we do the first import of the first .csv file, holding the (:Party) nodes. This will finish very quickly, as there are only 7-8k nodes."
   ]
  },
  {
   "cell_type": "code",
   "execution_count": 5,
   "metadata": {},
   "outputs": [
    {
     "name": "stderr",
     "output_type": "stream",
     "text": [
      "/var/folders/yp/z0pz6z2j49g_bdh9zzznhvcr0000gp/T/ipykernel_66769/2629808008.py:1: DeprecationWarning: Using a driver after it has been closed is deprecated. Future versions of the driver will raise an error.\n",
      "  with driver.session(database=DATABASE) as session:\n"
     ]
    },
    {
     "name": "stdout",
     "output_type": "stream",
     "text": [
      "{'_contains_updates': True, 'labels_added': 7347, 'nodes_created': 7347, 'properties_set': 14694}\n"
     ]
    }
   ],
   "source": [
    "with driver.session(database=DATABASE) as session:\n",
    "            result = session.run(\"\"\"\n",
    "                load csv with headers from \"https://repo.hops.works/master/hopsworks-tutorials/data/aml/party.csv\" as parties\n",
    "                create (p:Party)\n",
    "                set p = parties\n",
    "            \"\"\")\n",
    "print(result.consume().counters)"
   ]
  },
  {
   "cell_type": "markdown",
   "metadata": {},
   "source": [
    "Next we will import the relationshops. There are approx 430k [:TRANSACTION] relationships, and importing these will take a few minutes."
   ]
  },
  {
   "cell_type": "code",
   "execution_count": 6,
   "metadata": {},
   "outputs": [
    {
     "name": "stderr",
     "output_type": "stream",
     "text": [
      "/var/folders/yp/z0pz6z2j49g_bdh9zzznhvcr0000gp/T/ipykernel_66769/3992007967.py:1: DeprecationWarning: Using a driver after it has been closed is deprecated. Future versions of the driver will raise an error.\n",
      "  with driver.session(database=DATABASE) as session:\n"
     ]
    },
    {
     "name": "stdout",
     "output_type": "stream",
     "text": [
      "{'_contains_updates': True, 'relationships_created': 438386, 'properties_set': 1753544}\n"
     ]
    }
   ],
   "source": [
    "with driver.session(database=DATABASE) as session:\n",
    "            result = session.run(\"\"\"\n",
    "                LOAD CSV WITH HEADERS FROM \"https://repo.hops.works/master/hopsworks-tutorials/data/aml/transactions.csv\" AS Transaction\n",
    "                    MATCH (startNode:Party)\n",
    "                    WHERE startNode.partyId = Transaction.src\n",
    "                    CALL {\n",
    "                        WITH Transaction, startNode\n",
    "                        MATCH (endNode:Party)\n",
    "                        WHERE endNode.partyId = Transaction.dst\n",
    "                        CREATE (startNode)-[rel:TRANSACTION {tran_id: Transaction.tran_id, tx_type: Transaction.tx_type, base_amt: Transaction.base_amt, tran_timestamp: datetime(Transaction.tran_timestamp)}]->(endNode)\n",
    "                    } IN TRANSACTIONS OF 2500 ROWS;\n",
    "            \"\"\")\n",
    "print(result.consume().counters)"
   ]
  },
  {
   "cell_type": "markdown",
   "metadata": {},
   "source": [
    "This completes the importing of the data into Neo4j."
   ]
  },
  {
   "cell_type": "markdown",
   "metadata": {},
   "source": [
    "## Loading remaining data"
   ]
  },
  {
   "cell_type": "markdown",
   "metadata": {},
   "source": [
    "#### ⛳️ Transactions dataset"
   ]
  },
  {
   "cell_type": "code",
   "execution_count": 7,
   "metadata": {},
   "outputs": [
    {
     "data": {
      "text/html": [
       "<div>\n",
       "<style scoped>\n",
       "    .dataframe tbody tr th:only-of-type {\n",
       "        vertical-align: middle;\n",
       "    }\n",
       "\n",
       "    .dataframe tbody tr th {\n",
       "        vertical-align: top;\n",
       "    }\n",
       "\n",
       "    .dataframe thead th {\n",
       "        text-align: right;\n",
       "    }\n",
       "</style>\n",
       "<table border=\"1\" class=\"dataframe\">\n",
       "  <thead>\n",
       "    <tr style=\"text-align: right;\">\n",
       "      <th></th>\n",
       "      <th>tran_id</th>\n",
       "      <th>tx_type</th>\n",
       "      <th>base_amt</th>\n",
       "      <th>tran_timestamp</th>\n",
       "      <th>src</th>\n",
       "      <th>dst</th>\n",
       "    </tr>\n",
       "  </thead>\n",
       "  <tbody>\n",
       "    <tr>\n",
       "      <th>0</th>\n",
       "      <td>496</td>\n",
       "      <td>TRANSFER-FanOut</td>\n",
       "      <td>858.77</td>\n",
       "      <td>2020-01-01 00:00:00+00:00</td>\n",
       "      <td>3aa9646b</td>\n",
       "      <td>1e46e726</td>\n",
       "    </tr>\n",
       "    <tr>\n",
       "      <th>1</th>\n",
       "      <td>1342</td>\n",
       "      <td>TRANSFER-Mutual</td>\n",
       "      <td>386.86</td>\n",
       "      <td>2020-01-01 00:00:00+00:00</td>\n",
       "      <td>49203bc3</td>\n",
       "      <td>a74d1101</td>\n",
       "    </tr>\n",
       "    <tr>\n",
       "      <th>2</th>\n",
       "      <td>1580</td>\n",
       "      <td>TRANSFER-FanOut</td>\n",
       "      <td>616.43</td>\n",
       "      <td>2020-01-02 00:00:00+00:00</td>\n",
       "      <td>616d4505</td>\n",
       "      <td>99af2455</td>\n",
       "    </tr>\n",
       "    <tr>\n",
       "      <th>3</th>\n",
       "      <td>2866</td>\n",
       "      <td>TRANSFER-FanOut</td>\n",
       "      <td>146.44</td>\n",
       "      <td>2020-01-02 00:00:00+00:00</td>\n",
       "      <td>39be1ea2</td>\n",
       "      <td>e7ec7bdb</td>\n",
       "    </tr>\n",
       "    <tr>\n",
       "      <th>4</th>\n",
       "      <td>3997</td>\n",
       "      <td>TRANSFER-Mutual</td>\n",
       "      <td>439.09</td>\n",
       "      <td>2020-01-03 00:00:00+00:00</td>\n",
       "      <td>e2e0d938</td>\n",
       "      <td>afc399a9</td>\n",
       "    </tr>\n",
       "  </tbody>\n",
       "</table>\n",
       "</div>"
      ],
      "text/plain": [
       "   tran_id          tx_type  base_amt            tran_timestamp       src  \\\n",
       "0      496  TRANSFER-FanOut    858.77 2020-01-01 00:00:00+00:00  3aa9646b   \n",
       "1     1342  TRANSFER-Mutual    386.86 2020-01-01 00:00:00+00:00  49203bc3   \n",
       "2     1580  TRANSFER-FanOut    616.43 2020-01-02 00:00:00+00:00  616d4505   \n",
       "3     2866  TRANSFER-FanOut    146.44 2020-01-02 00:00:00+00:00  39be1ea2   \n",
       "4     3997  TRANSFER-Mutual    439.09 2020-01-03 00:00:00+00:00  e2e0d938   \n",
       "\n",
       "        dst  \n",
       "0  1e46e726  \n",
       "1  a74d1101  \n",
       "2  99af2455  \n",
       "3  e7ec7bdb  \n",
       "4  afc399a9  "
      ]
     },
     "execution_count": 7,
     "metadata": {},
     "output_type": "execute_result"
    }
   ],
   "source": [
    "transactions_df = pd.read_csv(\"https://repo.hops.works/master/hopsworks-tutorials/data/aml/transactions.csv\", parse_dates = ['tran_timestamp'])\n",
    "transactions_df.head(5)"
   ]
  },
  {
   "cell_type": "markdown",
   "metadata": {},
   "source": [
    "#### ⛳️ Alert Transactions dataset"
   ]
  },
  {
   "cell_type": "code",
   "execution_count": 8,
   "metadata": {},
   "outputs": [
    {
     "data": {
      "text/html": [
       "<div>\n",
       "<style scoped>\n",
       "    .dataframe tbody tr th:only-of-type {\n",
       "        vertical-align: middle;\n",
       "    }\n",
       "\n",
       "    .dataframe tbody tr th {\n",
       "        vertical-align: top;\n",
       "    }\n",
       "\n",
       "    .dataframe thead th {\n",
       "        text-align: right;\n",
       "    }\n",
       "</style>\n",
       "<table border=\"1\" class=\"dataframe\">\n",
       "  <thead>\n",
       "    <tr style=\"text-align: right;\">\n",
       "      <th></th>\n",
       "      <th>alert_id</th>\n",
       "      <th>alert_type</th>\n",
       "      <th>is_sar</th>\n",
       "      <th>tran_id</th>\n",
       "    </tr>\n",
       "  </thead>\n",
       "  <tbody>\n",
       "    <tr>\n",
       "      <th>0</th>\n",
       "      <td>47</td>\n",
       "      <td>gather_scatter</td>\n",
       "      <td>True</td>\n",
       "      <td>11873</td>\n",
       "    </tr>\n",
       "    <tr>\n",
       "      <th>1</th>\n",
       "      <td>47</td>\n",
       "      <td>gather_scatter</td>\n",
       "      <td>True</td>\n",
       "      <td>11874</td>\n",
       "    </tr>\n",
       "    <tr>\n",
       "      <th>2</th>\n",
       "      <td>47</td>\n",
       "      <td>gather_scatter</td>\n",
       "      <td>True</td>\n",
       "      <td>11875</td>\n",
       "    </tr>\n",
       "    <tr>\n",
       "      <th>3</th>\n",
       "      <td>47</td>\n",
       "      <td>gather_scatter</td>\n",
       "      <td>True</td>\n",
       "      <td>13151</td>\n",
       "    </tr>\n",
       "    <tr>\n",
       "      <th>4</th>\n",
       "      <td>47</td>\n",
       "      <td>gather_scatter</td>\n",
       "      <td>True</td>\n",
       "      <td>23148</td>\n",
       "    </tr>\n",
       "  </tbody>\n",
       "</table>\n",
       "</div>"
      ],
      "text/plain": [
       "   alert_id      alert_type  is_sar  tran_id\n",
       "0        47  gather_scatter    True    11873\n",
       "1        47  gather_scatter    True    11874\n",
       "2        47  gather_scatter    True    11875\n",
       "3        47  gather_scatter    True    13151\n",
       "4        47  gather_scatter    True    23148"
      ]
     },
     "execution_count": 8,
     "metadata": {},
     "output_type": "execute_result"
    }
   ],
   "source": [
    "alert_transactions = pd.read_csv(\"https://repo.hops.works/master/hopsworks-tutorials/data/aml/alert_transactions.csv\")\n",
    "alert_transactions.head()"
   ]
  },
  {
   "cell_type": "markdown",
   "metadata": {},
   "source": [
    "#### ⛳️ Party dataset"
   ]
  },
  {
   "cell_type": "code",
   "execution_count": 9,
   "metadata": {},
   "outputs": [
    {
     "data": {
      "text/html": [
       "<div>\n",
       "<style scoped>\n",
       "    .dataframe tbody tr th:only-of-type {\n",
       "        vertical-align: middle;\n",
       "    }\n",
       "\n",
       "    .dataframe tbody tr th {\n",
       "        vertical-align: top;\n",
       "    }\n",
       "\n",
       "    .dataframe thead th {\n",
       "        text-align: right;\n",
       "    }\n",
       "</style>\n",
       "<table border=\"1\" class=\"dataframe\">\n",
       "  <thead>\n",
       "    <tr style=\"text-align: right;\">\n",
       "      <th></th>\n",
       "      <th>partyId</th>\n",
       "      <th>partyType</th>\n",
       "    </tr>\n",
       "  </thead>\n",
       "  <tbody>\n",
       "    <tr>\n",
       "      <th>0</th>\n",
       "      <td>5628bd6c</td>\n",
       "      <td>Organization</td>\n",
       "    </tr>\n",
       "    <tr>\n",
       "      <th>1</th>\n",
       "      <td>a1fcba39</td>\n",
       "      <td>Organization</td>\n",
       "    </tr>\n",
       "    <tr>\n",
       "      <th>2</th>\n",
       "      <td>f56c9501</td>\n",
       "      <td>Individual</td>\n",
       "    </tr>\n",
       "    <tr>\n",
       "      <th>3</th>\n",
       "      <td>9969afdd</td>\n",
       "      <td>Organization</td>\n",
       "    </tr>\n",
       "    <tr>\n",
       "      <th>4</th>\n",
       "      <td>b356eeae</td>\n",
       "      <td>Individual</td>\n",
       "    </tr>\n",
       "  </tbody>\n",
       "</table>\n",
       "</div>"
      ],
      "text/plain": [
       "    partyId     partyType\n",
       "0  5628bd6c  Organization\n",
       "1  a1fcba39  Organization\n",
       "2  f56c9501    Individual\n",
       "3  9969afdd  Organization\n",
       "4  b356eeae    Individual"
      ]
     },
     "execution_count": 9,
     "metadata": {},
     "output_type": "execute_result"
    }
   ],
   "source": [
    "party = pd.read_csv(\"https://repo.hops.works/master/hopsworks-tutorials/data/aml/party.csv\")\n",
    "party.head()"
   ]
  },
  {
   "cell_type": "markdown",
   "metadata": {},
   "source": [
    "## <span style=\"color:#ff5f27;\"> 🛠️ Feature Engineering </span>\n",
    "## Calculating the node embeddings in Neo4j\n",
    "For each month of transactions, compute and store embeddings using the `node2vec` library. This uses the GDS library of Neo4j, which [needs to be installed](https://neo4j.com/docs/graph-data-science/current/installation/) on the Neo4j server."
   ]
  },
  {
   "cell_type": "code",
   "execution_count": 10,
   "metadata": {},
   "outputs": [],
   "source": [
    "with GraphDatabase.driver(URI, auth=AUTH) as driver:\n",
    "    try:\n",
    "        gds = GraphDataScience(URI, auth=AUTH, database=DATABASE)\n",
    "\n",
    "        # Determine months of transactions\n",
    "        start_date = transactions_df['tran_timestamp'].min().to_pydatetime().replace(tzinfo=None)\n",
    "        end_date = transactions_df['tran_timestamp'].max().to_pydatetime().replace(tzinfo=None)\n",
    "\n",
    "        # For each month of transactions\n",
    "        while start_date <= end_date:\n",
    "            last_day_of_month = datetime.datetime(start_date.year, start_date.month, 1) + datetime.timedelta(days=32)\n",
    "            end_date_of_month = last_day_of_month - datetime.timedelta(days=last_day_of_month.day)\n",
    "\n",
    "            # Convert dates as milliseconds\n",
    "            start = float(start_date.timestamp() / 10 ** 9)\n",
    "            end = float(end_date_of_month.timestamp() / 10 ** 9)\n",
    "\n",
    "            # Retrieve transactions within the month\n",
    "            gds.run_cypher(\n",
    "            f\"MATCH (p1:Party)-[t:TRANSACTION]->(p2:Party) WHERE t.tran_timestamp >= {start} AND t.tran_timestamp < {end} RETURN p1, t, p2\")\n",
    "\n",
    "            # Create a temporary graph\n",
    "            G, project_result = gds.graph.project(\"transaction_graph\", \"Party\", \"TRANSACTION\")\n",
    "\n",
    "            # Use the temporary graph to compute embeddings and save them as a property in the Neo4j database\n",
    "            node2vec_result = gds.node2vec.write(\n",
    "                G,                                #  Graph object\n",
    "                embeddingDimension=16,\n",
    "                walkLength=80,\n",
    "                inOutFactor=1,\n",
    "                returnFactor=1,\n",
    "                writeProperty=\"node2vec\"\n",
    "            )\n",
    "\n",
    "            # Increment to next month\n",
    "            start_date = end_date_of_month + datetime.timedelta(days=1)\n",
    "\n",
    "            # Remove the current monthly graph to generate a graph for the following month in the subsequent iteration\n",
    "            gds.run_cypher(\n",
    "                \"\"\"\n",
    "                CALL gds.graph.drop('transaction_graph') YIELD graphName\n",
    "                \"\"\"\n",
    "            )\n",
    "\n",
    "    except Exception as e:\n",
    "        print(e)"
   ]
  },
  {
   "cell_type": "markdown",
   "metadata": {},
   "source": [
    "## Feature Engineering outside Neo4j"
   ]
  },
  {
   "cell_type": "markdown",
   "metadata": {},
   "source": [
    "#### To investigate patterns of suspicious activities you will make time window aggregates such monthly frequency, total, mean and standard deviation of amount of incoming and outgoing transasactions.  "
   ]
  },
  {
   "cell_type": "code",
   "execution_count": 11,
   "metadata": {},
   "outputs": [
    {
     "data": {
      "text/html": [
       "<div>\n",
       "<style scoped>\n",
       "    .dataframe tbody tr th:only-of-type {\n",
       "        vertical-align: middle;\n",
       "    }\n",
       "\n",
       "    .dataframe tbody tr th {\n",
       "        vertical-align: top;\n",
       "    }\n",
       "\n",
       "    .dataframe thead th {\n",
       "        text-align: right;\n",
       "    }\n",
       "</style>\n",
       "<table border=\"1\" class=\"dataframe\">\n",
       "  <thead>\n",
       "    <tr style=\"text-align: right;\">\n",
       "      <th></th>\n",
       "      <th>source</th>\n",
       "      <th>target</th>\n",
       "      <th>tran_timestamp</th>\n",
       "      <th>tran_id</th>\n",
       "      <th>base_amt</th>\n",
       "    </tr>\n",
       "  </thead>\n",
       "  <tbody>\n",
       "    <tr>\n",
       "      <th>0</th>\n",
       "      <td>3aa9646b</td>\n",
       "      <td>1e46e726</td>\n",
       "      <td>2020-01-01 00:00:00+00:00</td>\n",
       "      <td>496</td>\n",
       "      <td>858.77</td>\n",
       "    </tr>\n",
       "    <tr>\n",
       "      <th>1</th>\n",
       "      <td>49203bc3</td>\n",
       "      <td>a74d1101</td>\n",
       "      <td>2020-01-01 00:00:00+00:00</td>\n",
       "      <td>1342</td>\n",
       "      <td>386.86</td>\n",
       "    </tr>\n",
       "    <tr>\n",
       "      <th>2</th>\n",
       "      <td>616d4505</td>\n",
       "      <td>99af2455</td>\n",
       "      <td>2020-01-02 00:00:00+00:00</td>\n",
       "      <td>1580</td>\n",
       "      <td>616.43</td>\n",
       "    </tr>\n",
       "  </tbody>\n",
       "</table>\n",
       "</div>"
      ],
      "text/plain": [
       "     source    target            tran_timestamp  tran_id  base_amt\n",
       "0  3aa9646b  1e46e726 2020-01-01 00:00:00+00:00      496    858.77\n",
       "1  49203bc3  a74d1101 2020-01-01 00:00:00+00:00     1342    386.86\n",
       "2  616d4505  99af2455 2020-01-02 00:00:00+00:00     1580    616.43"
      ]
     },
     "execution_count": 11,
     "metadata": {},
     "output_type": "execute_result"
    }
   ],
   "source": [
    "# Renaming columns for clarity\n",
    "transactions_df.columns = ['tran_id', 'tx_type', 'base_amt', 'tran_timestamp', 'source', 'target']\n",
    "\n",
    "# Reordering columns for better readability\n",
    "transactions_df = transactions_df[[\"source\", \"target\", \"tran_timestamp\", \"tran_id\", \"base_amt\"]]\n",
    "\n",
    "# Displaying the first few rows of the DataFrame\n",
    "transactions_df.head(3)"
   ]
  },
  {
   "cell_type": "markdown",
   "metadata": {},
   "source": [
    "#### Incoming and Outgoing transactions"
   ]
  },
  {
   "cell_type": "code",
   "execution_count": 12,
   "metadata": {},
   "outputs": [
    {
     "data": {
      "text/html": [
       "<div>\n",
       "<style scoped>\n",
       "    .dataframe tbody tr th:only-of-type {\n",
       "        vertical-align: middle;\n",
       "    }\n",
       "\n",
       "    .dataframe tbody tr th {\n",
       "        vertical-align: top;\n",
       "    }\n",
       "\n",
       "    .dataframe thead th {\n",
       "        text-align: right;\n",
       "    }\n",
       "</style>\n",
       "<table border=\"1\" class=\"dataframe\">\n",
       "  <thead>\n",
       "    <tr style=\"text-align: right;\">\n",
       "      <th></th>\n",
       "      <th>tran_timestamp</th>\n",
       "      <th>id</th>\n",
       "      <th>monthly_in_count</th>\n",
       "      <th>monthly_in_total_amount</th>\n",
       "      <th>monthly_in_mean_amount</th>\n",
       "      <th>monthly_in_std_amount</th>\n",
       "      <th>monthly_out_count</th>\n",
       "      <th>monthly_out_total_amount</th>\n",
       "      <th>monthly_out_mean_amount</th>\n",
       "      <th>monthly_out_std_amount</th>\n",
       "    </tr>\n",
       "  </thead>\n",
       "  <tbody>\n",
       "    <tr>\n",
       "      <th>0</th>\n",
       "      <td>1580428800000</td>\n",
       "      <td>0016359b</td>\n",
       "      <td>4.0</td>\n",
       "      <td>1872.92</td>\n",
       "      <td>468.230000</td>\n",
       "      <td>175.274700</td>\n",
       "      <td>4.0</td>\n",
       "      <td>1843.32</td>\n",
       "      <td>460.83</td>\n",
       "      <td>252.951744</td>\n",
       "    </tr>\n",
       "    <tr>\n",
       "      <th>1</th>\n",
       "      <td>1580428800000</td>\n",
       "      <td>001dcc27</td>\n",
       "      <td>9.0</td>\n",
       "      <td>5874.64</td>\n",
       "      <td>652.737778</td>\n",
       "      <td>271.236889</td>\n",
       "      <td>0.0</td>\n",
       "      <td>0.00</td>\n",
       "      <td>0.00</td>\n",
       "      <td>0.000000</td>\n",
       "    </tr>\n",
       "    <tr>\n",
       "      <th>2</th>\n",
       "      <td>1580428800000</td>\n",
       "      <td>00298665</td>\n",
       "      <td>1.0</td>\n",
       "      <td>755.64</td>\n",
       "      <td>755.640000</td>\n",
       "      <td>0.000000</td>\n",
       "      <td>1.0</td>\n",
       "      <td>521.11</td>\n",
       "      <td>521.11</td>\n",
       "      <td>0.000000</td>\n",
       "    </tr>\n",
       "  </tbody>\n",
       "</table>\n",
       "</div>"
      ],
      "text/plain": [
       "   tran_timestamp        id  monthly_in_count  monthly_in_total_amount  \\\n",
       "0   1580428800000  0016359b               4.0                  1872.92   \n",
       "1   1580428800000  001dcc27               9.0                  5874.64   \n",
       "2   1580428800000  00298665               1.0                   755.64   \n",
       "\n",
       "   monthly_in_mean_amount  monthly_in_std_amount  monthly_out_count  \\\n",
       "0              468.230000             175.274700                4.0   \n",
       "1              652.737778             271.236889                0.0   \n",
       "2              755.640000               0.000000                1.0   \n",
       "\n",
       "   monthly_out_total_amount  monthly_out_mean_amount  monthly_out_std_amount  \n",
       "0                   1843.32                   460.83              252.951744  \n",
       "1                      0.00                     0.00                0.000000  \n",
       "2                    521.11                   521.11                0.000000  "
      ]
     },
     "execution_count": 12,
     "metadata": {},
     "output_type": "execute_result"
    }
   ],
   "source": [
    "# Generating a DataFrame with monthly incoming and outgoing transaction statistics\n",
    "in_out_df = get_in_out_transactions(transactions_df)\n",
    "\n",
    "# Displaying the first few rows of the resulting DataFrame\n",
    "in_out_df.head(3)"
   ]
  },
  {
   "cell_type": "markdown",
   "metadata": {},
   "source": [
    "#### Transactions identified as suspicious activity "
   ]
  },
  {
   "cell_type": "code",
   "execution_count": 13,
   "metadata": {},
   "outputs": [
    {
     "data": {
      "text/html": [
       "<div>\n",
       "<style scoped>\n",
       "    .dataframe tbody tr th:only-of-type {\n",
       "        vertical-align: middle;\n",
       "    }\n",
       "\n",
       "    .dataframe tbody tr th {\n",
       "        vertical-align: top;\n",
       "    }\n",
       "\n",
       "    .dataframe thead th {\n",
       "        text-align: right;\n",
       "    }\n",
       "</style>\n",
       "<table border=\"1\" class=\"dataframe\">\n",
       "  <thead>\n",
       "    <tr style=\"text-align: right;\">\n",
       "      <th></th>\n",
       "      <th>alert_id</th>\n",
       "      <th>alert_type</th>\n",
       "      <th>is_sar</th>\n",
       "      <th>tran_id</th>\n",
       "    </tr>\n",
       "  </thead>\n",
       "  <tbody>\n",
       "    <tr>\n",
       "      <th>0</th>\n",
       "      <td>47</td>\n",
       "      <td>gather_scatter</td>\n",
       "      <td>True</td>\n",
       "      <td>11873</td>\n",
       "    </tr>\n",
       "    <tr>\n",
       "      <th>1</th>\n",
       "      <td>47</td>\n",
       "      <td>gather_scatter</td>\n",
       "      <td>True</td>\n",
       "      <td>11874</td>\n",
       "    </tr>\n",
       "    <tr>\n",
       "      <th>2</th>\n",
       "      <td>47</td>\n",
       "      <td>gather_scatter</td>\n",
       "      <td>True</td>\n",
       "      <td>11875</td>\n",
       "    </tr>\n",
       "  </tbody>\n",
       "</table>\n",
       "</div>"
      ],
      "text/plain": [
       "   alert_id      alert_type  is_sar  tran_id\n",
       "0        47  gather_scatter    True    11873\n",
       "1        47  gather_scatter    True    11874\n",
       "2        47  gather_scatter    True    11875"
      ]
     },
     "execution_count": 13,
     "metadata": {},
     "output_type": "execute_result"
    }
   ],
   "source": [
    "# Displaying the first few rows of the 'alert_transactions' DataFrame\n",
    "alert_transactions.head(3)"
   ]
  },
  {
   "cell_type": "code",
   "execution_count": 14,
   "metadata": {},
   "outputs": [
    {
     "data": {
      "text/html": [
       "<div>\n",
       "<style scoped>\n",
       "    .dataframe tbody tr th:only-of-type {\n",
       "        vertical-align: middle;\n",
       "    }\n",
       "\n",
       "    .dataframe tbody tr th {\n",
       "        vertical-align: top;\n",
       "    }\n",
       "\n",
       "    .dataframe thead th {\n",
       "        text-align: right;\n",
       "    }\n",
       "</style>\n",
       "<table border=\"1\" class=\"dataframe\">\n",
       "  <thead>\n",
       "    <tr style=\"text-align: right;\">\n",
       "      <th></th>\n",
       "      <th>source</th>\n",
       "      <th>target</th>\n",
       "      <th>id</th>\n",
       "      <th>tran_timestamp</th>\n",
       "      <th>is_sar</th>\n",
       "    </tr>\n",
       "  </thead>\n",
       "  <tbody>\n",
       "    <tr>\n",
       "      <th>322886</th>\n",
       "      <td>cee9cf6d</td>\n",
       "      <td>79c248ae</td>\n",
       "      <td>2</td>\n",
       "      <td>2020-01-01 00:00:00+00:00</td>\n",
       "      <td>0</td>\n",
       "    </tr>\n",
       "    <tr>\n",
       "      <th>307052</th>\n",
       "      <td>65ab2f44</td>\n",
       "      <td>b20ce84b</td>\n",
       "      <td>3</td>\n",
       "      <td>2020-01-01 00:00:00+00:00</td>\n",
       "      <td>0</td>\n",
       "    </tr>\n",
       "    <tr>\n",
       "      <th>181198</th>\n",
       "      <td>2a39b731</td>\n",
       "      <td>a07edae4</td>\n",
       "      <td>4</td>\n",
       "      <td>2020-01-01 00:00:00+00:00</td>\n",
       "      <td>0</td>\n",
       "    </tr>\n",
       "  </tbody>\n",
       "</table>\n",
       "</div>"
      ],
      "text/plain": [
       "          source    target  id            tran_timestamp  is_sar\n",
       "322886  cee9cf6d  79c248ae   2 2020-01-01 00:00:00+00:00       0\n",
       "307052  65ab2f44  b20ce84b   3 2020-01-01 00:00:00+00:00       0\n",
       "181198  2a39b731  a07edae4   4 2020-01-01 00:00:00+00:00       0"
      ]
     },
     "execution_count": 14,
     "metadata": {},
     "output_type": "execute_result"
    }
   ],
   "source": [
    "# Generating transaction labels based on transaction and alert transaction data\n",
    "transaction_labels = get_transaction_labels(\n",
    "    transactions_df, \n",
    "    alert_transactions,\n",
    ")\n",
    "\n",
    "# Displaying the first three rows of the resulting DataFrame\n",
    "transaction_labels.head(3)"
   ]
  },
  {
   "cell_type": "markdown",
   "metadata": {},
   "source": [
    "#### Party dataset"
   ]
  },
  {
   "cell_type": "code",
   "execution_count": 15,
   "metadata": {},
   "outputs": [
    {
     "data": {
      "text/html": [
       "<div>\n",
       "<style scoped>\n",
       "    .dataframe tbody tr th:only-of-type {\n",
       "        vertical-align: middle;\n",
       "    }\n",
       "\n",
       "    .dataframe tbody tr th {\n",
       "        vertical-align: top;\n",
       "    }\n",
       "\n",
       "    .dataframe thead th {\n",
       "        text-align: right;\n",
       "    }\n",
       "</style>\n",
       "<table border=\"1\" class=\"dataframe\">\n",
       "  <thead>\n",
       "    <tr style=\"text-align: right;\">\n",
       "      <th></th>\n",
       "      <th>id</th>\n",
       "      <th>type</th>\n",
       "    </tr>\n",
       "  </thead>\n",
       "  <tbody>\n",
       "    <tr>\n",
       "      <th>0</th>\n",
       "      <td>5628bd6c</td>\n",
       "      <td>1</td>\n",
       "    </tr>\n",
       "    <tr>\n",
       "      <th>1</th>\n",
       "      <td>a1fcba39</td>\n",
       "      <td>1</td>\n",
       "    </tr>\n",
       "    <tr>\n",
       "      <th>2</th>\n",
       "      <td>f56c9501</td>\n",
       "      <td>0</td>\n",
       "    </tr>\n",
       "  </tbody>\n",
       "</table>\n",
       "</div>"
      ],
      "text/plain": [
       "         id  type\n",
       "0  5628bd6c     1\n",
       "1  a1fcba39     1\n",
       "2  f56c9501     0"
      ]
     },
     "execution_count": 15,
     "metadata": {},
     "output_type": "execute_result"
    }
   ],
   "source": [
    "# Renaming columns for clarity\n",
    "party.columns = [\"id\", \"type\"]\n",
    "\n",
    "# Mapping 'type' values to numerical values for better representation\n",
    "party.type = party.type.map({\"Individual\": 0, \"Organization\": 1})\n",
    "\n",
    "# Displaying the first three rows of the DataFrame\n",
    "party.head(3)"
   ]
  },
  {
   "cell_type": "code",
   "execution_count": 16,
   "metadata": {},
   "outputs": [
    {
     "data": {
      "text/html": [
       "<div>\n",
       "<style scoped>\n",
       "    .dataframe tbody tr th:only-of-type {\n",
       "        vertical-align: middle;\n",
       "    }\n",
       "\n",
       "    .dataframe tbody tr th {\n",
       "        vertical-align: top;\n",
       "    }\n",
       "\n",
       "    .dataframe thead th {\n",
       "        text-align: right;\n",
       "    }\n",
       "</style>\n",
       "<table border=\"1\" class=\"dataframe\">\n",
       "  <thead>\n",
       "    <tr style=\"text-align: right;\">\n",
       "      <th></th>\n",
       "      <th>source</th>\n",
       "      <th>target</th>\n",
       "      <th>id</th>\n",
       "      <th>tran_timestamp</th>\n",
       "      <th>is_sar</th>\n",
       "    </tr>\n",
       "  </thead>\n",
       "  <tbody>\n",
       "    <tr>\n",
       "      <th>41322</th>\n",
       "      <td>5e7442f1</td>\n",
       "      <td>0bffd1da</td>\n",
       "      <td>11873</td>\n",
       "      <td>2020-01-09 00:00:00+00:00</td>\n",
       "      <td>1</td>\n",
       "    </tr>\n",
       "    <tr>\n",
       "      <th>62128</th>\n",
       "      <td>65c7b5a1</td>\n",
       "      <td>0bffd1da</td>\n",
       "      <td>11874</td>\n",
       "      <td>2020-01-09 00:00:00+00:00</td>\n",
       "      <td>1</td>\n",
       "    </tr>\n",
       "    <tr>\n",
       "      <th>57575</th>\n",
       "      <td>04128f28</td>\n",
       "      <td>0bffd1da</td>\n",
       "      <td>11875</td>\n",
       "      <td>2020-01-09 00:00:00+00:00</td>\n",
       "      <td>1</td>\n",
       "    </tr>\n",
       "  </tbody>\n",
       "</table>\n",
       "</div>"
      ],
      "text/plain": [
       "         source    target     id            tran_timestamp  is_sar\n",
       "41322  5e7442f1  0bffd1da  11873 2020-01-09 00:00:00+00:00       1\n",
       "62128  65c7b5a1  0bffd1da  11874 2020-01-09 00:00:00+00:00       1\n",
       "57575  04128f28  0bffd1da  11875 2020-01-09 00:00:00+00:00       1"
      ]
     },
     "execution_count": 16,
     "metadata": {},
     "output_type": "execute_result"
    }
   ],
   "source": [
    "# Filtering transactions with SAR(Suspicious Activity Reports) labels from the generated transaction labels DataFrame\n",
    "alert_transactions = transaction_labels[transaction_labels.is_sar == 1]\n",
    "\n",
    "# Displaying the first few rows of transactions flagged as SAR\n",
    "alert_transactions.head(3)"
   ]
  },
  {
   "cell_type": "code",
   "execution_count": 17,
   "metadata": {},
   "outputs": [
    {
     "data": {
      "text/html": [
       "<div>\n",
       "<style scoped>\n",
       "    .dataframe tbody tr th:only-of-type {\n",
       "        vertical-align: middle;\n",
       "    }\n",
       "\n",
       "    .dataframe tbody tr th {\n",
       "        vertical-align: top;\n",
       "    }\n",
       "\n",
       "    .dataframe thead th {\n",
       "        text-align: right;\n",
       "    }\n",
       "</style>\n",
       "<table border=\"1\" class=\"dataframe\">\n",
       "  <thead>\n",
       "    <tr style=\"text-align: right;\">\n",
       "      <th></th>\n",
       "      <th>id</th>\n",
       "      <th>type</th>\n",
       "      <th>tran_timestamp</th>\n",
       "      <th>is_sar</th>\n",
       "    </tr>\n",
       "  </thead>\n",
       "  <tbody>\n",
       "    <tr>\n",
       "      <th>0</th>\n",
       "      <td>5628bd6c</td>\n",
       "      <td>1</td>\n",
       "      <td>2021-12-20 00:00:00</td>\n",
       "      <td>0</td>\n",
       "    </tr>\n",
       "    <tr>\n",
       "      <th>1</th>\n",
       "      <td>a1fcba39</td>\n",
       "      <td>1</td>\n",
       "      <td>2021-12-20 00:00:00</td>\n",
       "      <td>0</td>\n",
       "    </tr>\n",
       "    <tr>\n",
       "      <th>2</th>\n",
       "      <td>f56c9501</td>\n",
       "      <td>0</td>\n",
       "      <td>2021-12-20 00:00:00</td>\n",
       "      <td>0</td>\n",
       "    </tr>\n",
       "  </tbody>\n",
       "</table>\n",
       "</div>"
      ],
      "text/plain": [
       "         id  type       tran_timestamp  is_sar\n",
       "0  5628bd6c     1  2021-12-20 00:00:00       0\n",
       "1  a1fcba39     1  2021-12-20 00:00:00       0\n",
       "2  f56c9501     0  2021-12-20 00:00:00       0"
      ]
     },
     "execution_count": 17,
     "metadata": {},
     "output_type": "execute_result"
    }
   ],
   "source": [
    "# Generating party labels based on transaction labels and party information\n",
    "party_labels = get_party_labels(\n",
    "    transaction_labels, \n",
    "    party,\n",
    ")\n",
    "\n",
    "# Displaying the first three rows of the resulting DataFrame\n",
    "party_labels.head(3)"
   ]
  },
  {
   "cell_type": "markdown",
   "metadata": {},
   "source": [
    "#### Convert date time to unix epoc milliseconds "
   ]
  },
  {
   "cell_type": "code",
   "execution_count": 18,
   "metadata": {},
   "outputs": [
    {
     "data": {
      "text/html": [
       "<div>\n",
       "<style scoped>\n",
       "    .dataframe tbody tr th:only-of-type {\n",
       "        vertical-align: middle;\n",
       "    }\n",
       "\n",
       "    .dataframe tbody tr th {\n",
       "        vertical-align: top;\n",
       "    }\n",
       "\n",
       "    .dataframe thead th {\n",
       "        text-align: right;\n",
       "    }\n",
       "</style>\n",
       "<table border=\"1\" class=\"dataframe\">\n",
       "  <thead>\n",
       "    <tr style=\"text-align: right;\">\n",
       "      <th></th>\n",
       "      <th>source</th>\n",
       "      <th>target</th>\n",
       "      <th>id</th>\n",
       "      <th>tran_timestamp</th>\n",
       "      <th>is_sar</th>\n",
       "    </tr>\n",
       "  </thead>\n",
       "  <tbody>\n",
       "    <tr>\n",
       "      <th>322886</th>\n",
       "      <td>cee9cf6d</td>\n",
       "      <td>79c248ae</td>\n",
       "      <td>2</td>\n",
       "      <td>1577836800000</td>\n",
       "      <td>0</td>\n",
       "    </tr>\n",
       "    <tr>\n",
       "      <th>307052</th>\n",
       "      <td>65ab2f44</td>\n",
       "      <td>b20ce84b</td>\n",
       "      <td>3</td>\n",
       "      <td>1577836800000</td>\n",
       "      <td>0</td>\n",
       "    </tr>\n",
       "    <tr>\n",
       "      <th>181198</th>\n",
       "      <td>2a39b731</td>\n",
       "      <td>a07edae4</td>\n",
       "      <td>4</td>\n",
       "      <td>1577836800000</td>\n",
       "      <td>0</td>\n",
       "    </tr>\n",
       "  </tbody>\n",
       "</table>\n",
       "</div>"
      ],
      "text/plain": [
       "          source    target  id  tran_timestamp  is_sar\n",
       "322886  cee9cf6d  79c248ae   2   1577836800000       0\n",
       "307052  65ab2f44  b20ce84b   3   1577836800000       0\n",
       "181198  2a39b731  a07edae4   4   1577836800000       0"
      ]
     },
     "execution_count": 18,
     "metadata": {},
     "output_type": "execute_result"
    }
   ],
   "source": [
    "# Converting 'tran_timestamp' values to milliseconds for consistency\n",
    "transaction_labels.tran_timestamp = transaction_labels.tran_timestamp.values.astype(np.int64) // 10 ** 6\n",
    "\n",
    "# Converting 'tran_timestamp' values in 'party_labels' to milliseconds\n",
    "party_labels.tran_timestamp = party_labels.tran_timestamp.map(lambda x: datetime.datetime.timestamp(x) * 1000)\n",
    "party_labels.tran_timestamp = party_labels.tran_timestamp.values.astype(np.int64)\n",
    "\n",
    "# Displaying the first three rows of the DataFrame\n",
    "transaction_labels.head(3)"
   ]
  },
  {
   "cell_type": "markdown",
   "metadata": {},
   "source": [
    "---\n",
    "\n",
    "# <span style=\"color:#ff5f27;\">👮🏼‍♀️ Data Validation</span>\n",
    "\n",
    "Before you define [feature groups](https://docs.hopsworks.ai/latest/generated/feature_group/) lets define [validation rules](https://docs.hopsworks.ai/latest/generated/feature_validation/) for features. You do expect some of the features to comply with certain *rules* or *expectations*. For example: a transacted amount must be a positive value. In the case of a transacted amount arriving as a negative value you can decide whether to stop it to `write` into a feature group and throw an error or allow it to be written but provide a warning. In the next section you will create feature store `expectations`, attach them to feature groups, and apply them to dataframes being appended to said feature group.\n",
    "\n",
    "#### Data validation with Greate Expectations in Hopsworks\n",
    "You can use GE library for validation in Hopsworks features store. \n",
    "\n",
    "##  <img src=\"../../images/icon102.png\" width=\"18px\"></img> Hopsworks feature store\n",
    "\n",
    "The Hopsworks feature feature store library is Apache V2 licensed and available [here](https://github.com/logicalclocks/feature-store-api). The library is currently available for Python and JVM languages such as Scala and Java.\n",
    "In this notebook, we are going to cover Python part.\n",
    "\n",
    "You can find the complete documentation of the library here: \n",
    "\n",
    "The first step is to establish a connection with your Hopsworks feature store instance and retrieve the object that represents the feature store you'll be working with. \n",
    "\n",
    "> By default `project.get_feature_store()` returns the feature store of the project we are working with. However, it accepts also a project name as parameter to select a different feature store."
   ]
  },
  {
   "cell_type": "code",
   "execution_count": 19,
   "metadata": {},
   "outputs": [
    {
     "name": "stdout",
     "output_type": "stream",
     "text": [
      "Connected. Call `.close()` to terminate connection gracefully.\n",
      "Connected. Call `.close()` to terminate connection gracefully.\n"
     ]
    }
   ],
   "source": [
    "# import hopsworks\n",
    "\n",
    "# project = hopsworks.login()\n",
    "\n",
    "# fs = project.get_feature_store()\n",
    "\n",
    "\n",
    "import hopsworks\n",
    "conn = hopsworks.connection(\n",
    "    host=\"snurran.hops.works\",                                # DNS of your Feature Store instance\n",
    "    hostname_verification=False,                     # Disable for self-signed certificates\n",
    "    api_key_value=\"mHcmlu3RlZY6VqRu.loXm26Aq1TaygwyS8wb4qrK90Fc0Rmzve1ziE7FresJEgf0DxFHfIUOMthohuh52\"          # Feature store API key value \n",
    ")\n",
    "project = conn.get_project('GraphEmbeddingsDemo') # specify your project name\n",
    "fs = project.get_feature_store()"
   ]
  },
  {
   "cell_type": "markdown",
   "metadata": {},
   "source": [
    "### 🔬 Expectations suite"
   ]
  },
  {
   "cell_type": "code",
   "execution_count": 20,
   "metadata": {},
   "outputs": [
    {
     "name": "stdout",
     "output_type": "stream",
     "text": [
      "{ 'data_asset_type': None,\n",
      "  'expectation_suite_name': 'aml_project_validations',\n",
      "  'expectations': [],\n",
      "  'ge_cloud_id': None,\n",
      "  'meta': {'great_expectations_version': '0.15.12'}}\n"
     ]
    }
   ],
   "source": [
    "# Define Expectation Suite - no use of HSFS\n",
    "import great_expectations as ge\n",
    "from pprint import pprint\n",
    "import json\n",
    "\n",
    "expectation_suite = ge.core.ExpectationSuite(expectation_suite_name=\"aml_project_validations\")\n",
    "pprint(expectation_suite.to_json_dict(), indent=2)"
   ]
  },
  {
   "cell_type": "code",
   "execution_count": 21,
   "metadata": {},
   "outputs": [
    {
     "data": {
      "text/plain": [
       "{\"kwargs\": {\"column\": \"monthly_in_count\", \"min_value\": 0, \"max_value\": 10000000}, \"meta\": {}, \"expectation_type\": \"expect_column_max_to_be_between\"}"
      ]
     },
     "execution_count": 21,
     "metadata": {},
     "output_type": "execute_result"
    }
   ],
   "source": [
    "expectation_suite.add_expectation(\n",
    "  ge.core.ExpectationConfiguration(\n",
    "  expectation_type=\"expect_column_max_to_be_between\",\n",
    "  kwargs={\"column\": \"monthly_in_count\", \"min_value\": 0, \"max_value\": 10000000}) \n",
    ")"
   ]
  },
  {
   "cell_type": "code",
   "execution_count": 22,
   "metadata": {},
   "outputs": [
    {
     "name": "stdout",
     "output_type": "stream",
     "text": [
      "{\n",
      "  \"expectations\": [\n",
      "    {\n",
      "      \"kwargs\": {\n",
      "        \"column\": \"monthly_in_count\",\n",
      "        \"min_value\": 0,\n",
      "        \"max_value\": 10000000\n",
      "      },\n",
      "      \"meta\": {},\n",
      "      \"expectation_type\": \"expect_column_max_to_be_between\"\n",
      "    }\n",
      "  ],\n",
      "  \"data_asset_type\": null,\n",
      "  \"meta\": {\n",
      "    \"great_expectations_version\": \"0.15.12\"\n",
      "  },\n",
      "  \"ge_cloud_id\": null,\n",
      "  \"expectation_suite_name\": \"aml_project_validations\"\n",
      "}\n"
     ]
    }
   ],
   "source": [
    "pprint(expectation_suite)"
   ]
  },
  {
   "cell_type": "markdown",
   "metadata": {},
   "source": [
    "## <span style=\"color:#ff5f27;\"> 🪄 Register Feature Groups in Hopsworks </span>\n",
    "\n",
    "A `Feature Groups` is a logical grouping of features, and experience has shown, that this grouping generally originates from the features being derived from the same data source. The `Feature Group` lets you save metadata along features, which defines how the Feature Store interprets them, combines them and reproduces training datasets created from them.\n",
    "\n",
    "Generally, the features in a feature group are engineered together in an ingestion job. However, it is possible to have additional jobs to append features to an existing feature group. Furthermore, `feature groups` provide a way of defining a namespace for features, such that you can define features with the same name multiple times, but uniquely identified by the group they are contained in.\n",
    "\n",
    "> It is important to note that `feature groups` are not groupings of features for immediate training of Machine Learning models. Instead, to ensure reusability of features, it is possible to combine features from any number of groups into training datasets."
   ]
  },
  {
   "cell_type": "markdown",
   "metadata": {},
   "source": [
    "#### Read embeddings from Neo4j, and store them in the Hopsworks feature store"
   ]
  },
  {
   "cell_type": "code",
   "execution_count": 23,
   "metadata": {},
   "outputs": [
    {
     "name": "stdout",
     "output_type": "stream",
     "text": [
      "<class 'pandas.core.frame.DataFrame'>\n",
      "         id                              party_graph_embedding  tran_timestamp\n",
      "0  5628bd6c  [-0.813572108745575, 0.016053855419158936, 0.0...   1603843200000\n",
      "1  5628bd6c  [-0.813572108745575, 0.016053855419158936, 0.0...   1602028800000\n",
      "2  5628bd6c  [-0.813572108745575, 0.016053855419158936, 0.0...   1599609600000\n",
      "3  5628bd6c  [-0.813572108745575, 0.016053855419158936, 0.0...   1587513600000\n",
      "4  5628bd6c  [-0.813572108745575, 0.016053855419158936, 0.0...   1605657600000\n"
     ]
    }
   ],
   "source": [
    "# Connecting to Neo4j, getting the embeddings, and putting them into a data frame\n",
    "\n",
    "with GraphDatabase.driver(URI, auth=AUTH) as driver:\n",
    "    graph_embeddings_df = driver.execute_query(\n",
    "        \"\"\"MATCH (p:Party)-[t:TRANSACTION]->(:Party) \n",
    "            return \n",
    "            p.partyId as id, \n",
    "            p.node2vec as party_graph_embedding, \n",
    "            datetime(t.tran_timestamp).epochmillis as tran_timestamp\"\"\",\n",
    "        database_=DATABASE,\n",
    "        result_transformer_=neo4j.Result.to_df\n",
    "    )\n",
    "    \n",
    "    print(type(graph_embeddings_df))  # <class 'pandas.core.frame.DataFrame'>\n",
    "    print(graph_embeddings_df.head())"
   ]
  },
  {
   "cell_type": "code",
   "execution_count": 24,
   "metadata": {},
   "outputs": [
    {
     "name": "stdout",
     "output_type": "stream",
     "text": [
      "Feature Group created successfully, explore it at \n",
      "https://snurran.hops.works:443/p/10375/fs/10322/fg/12309\n"
     ]
    },
    {
     "data": {
      "application/vnd.jupyter.widget-view+json": {
       "model_id": "5bf7d4326ae14ea7b01ca3aebf4bd5f1",
       "version_major": 2,
       "version_minor": 0
      },
      "text/plain": [
       "Uploading Dataframe: 0.00% |          | Rows 0/438386 | Elapsed Time: 00:00 | Remaining Time: ?"
      ]
     },
     "metadata": {},
     "output_type": "display_data"
    },
    {
     "name": "stdout",
     "output_type": "stream",
     "text": [
      "Launching job: graph_embeddings_1_offline_fg_materialization\n",
      "Job started successfully, you can follow the progress at \n",
      "https://snurran.hops.works/p/10375/jobs/named/graph_embeddings_1_offline_fg_materialization/executions\n"
     ]
    },
    {
     "data": {
      "text/plain": [
       "(<hsfs.core.job.Job at 0x288b85940>, None)"
      ]
     },
     "execution_count": 24,
     "metadata": {},
     "output_type": "execute_result"
    }
   ],
   "source": [
    "# Increase data size to store embeddings\n",
    "from hsfs import engine\n",
    "features = engine.get_instance().parse_schema_feature_group(graph_embeddings_df)\n",
    "for f in features:\n",
    "    if f.type == \"array<double>\" or f.type == \"array<float>\":\n",
    "        f.online_type = \"VARBINARY(20000)\"\n",
    "\n",
    "# Define Feature Group\n",
    "graph_embeddings_fg = fs.get_or_create_feature_group(name=\"graph_embeddings\",\n",
    "                                       version=1,\n",
    "                                       primary_key=[\"id\"],\n",
    "                                       description=\"node embeddings from transactions graph\",\n",
    "                                       event_time = 'tran_timestamp',     \n",
    "                                       online_enabled=True,\n",
    "                                       features=features,\n",
    "                                       statistics_config={\"enabled\": False, \"histograms\": False, \"correlations\": False, \"exact_uniqueness\": False}\n",
    "                                       )\n",
    "\n",
    "# Insert data frame into Feature Group\n",
    "graph_embeddings_fg.insert(graph_embeddings_df)"
   ]
  },
  {
   "cell_type": "markdown",
   "metadata": {},
   "source": [
    "#### Transactions monthly aggregates feature group"
   ]
  },
  {
   "cell_type": "code",
   "execution_count": 25,
   "metadata": {},
   "outputs": [
    {
     "name": "stdout",
     "output_type": "stream",
     "text": [
      "Feature Group created successfully, explore it at \n",
      "https://snurran.hops.works:443/p/10375/fs/10322/fg/12310\n",
      "Validation succeeded.\n",
      "Validation Report saved successfully, explore a summary at https://snurran.hops.works:443/p/10375/fs/10322/fg/12310\n"
     ]
    },
    {
     "data": {
      "application/vnd.jupyter.widget-view+json": {
       "model_id": "e4cedd667dcd4237801e45cc7c526066",
       "version_major": 2,
       "version_minor": 0
      },
      "text/plain": [
       "Uploading Dataframe: 0.00% |          | Rows 0/170876 | Elapsed Time: 00:00 | Remaining Time: ?"
      ]
     },
     "metadata": {},
     "output_type": "display_data"
    },
    {
     "name": "stdout",
     "output_type": "stream",
     "text": [
      "Launching job: transactions_monthly_1_offline_fg_materialization\n",
      "Job started successfully, you can follow the progress at \n",
      "https://snurran.hops.works/p/10375/jobs/named/transactions_monthly_1_offline_fg_materialization/executions\n"
     ]
    },
    {
     "data": {
      "text/plain": [
       "(<hsfs.core.job.Job at 0x1715b2f10>,\n",
       " {\n",
       "   \"results\": [\n",
       "     {\n",
       "       \"result\": {\n",
       "         \"observed_value\": 26.0,\n",
       "         \"element_count\": 170876,\n",
       "         \"missing_count\": null,\n",
       "         \"missing_percent\": null\n",
       "       },\n",
       "       \"expectation_config\": {\n",
       "         \"kwargs\": {\n",
       "           \"column\": \"monthly_in_count\",\n",
       "           \"min_value\": 0,\n",
       "           \"max_value\": 10000000\n",
       "         },\n",
       "         \"meta\": {\n",
       "           \"expectationId\": 9237\n",
       "         },\n",
       "         \"expectation_type\": \"expect_column_max_to_be_between\"\n",
       "       },\n",
       "       \"meta\": {\n",
       "         \"ingestionResult\": \"INGESTED\",\n",
       "         \"validationTime\": \"2024-04-11T01:54:37.000273Z\"\n",
       "       },\n",
       "       \"exception_info\": {\n",
       "         \"raised_exception\": false,\n",
       "         \"exception_message\": null,\n",
       "         \"exception_traceback\": null\n",
       "       },\n",
       "       \"success\": true\n",
       "     }\n",
       "   ],\n",
       "   \"evaluation_parameters\": {},\n",
       "   \"meta\": {\n",
       "     \"great_expectations_version\": \"0.15.12\",\n",
       "     \"expectation_suite_name\": \"aml_project_validations\",\n",
       "     \"run_id\": {\n",
       "       \"run_name\": null,\n",
       "       \"run_time\": \"2024-04-11T13:54:37.273117+00:00\"\n",
       "     },\n",
       "     \"batch_kwargs\": {\n",
       "       \"ge_batch_id\": \"08e6836c-f80b-11ee-86df-a2df1663ba56\"\n",
       "     },\n",
       "     \"batch_markers\": {},\n",
       "     \"batch_parameters\": {},\n",
       "     \"validation_time\": \"20240411T135437.273018Z\",\n",
       "     \"expectation_suite_meta\": {\n",
       "       \"great_expectations_version\": \"0.15.12\"\n",
       "     }\n",
       "   },\n",
       "   \"statistics\": {\n",
       "     \"evaluated_expectations\": 1,\n",
       "     \"successful_expectations\": 1,\n",
       "     \"unsuccessful_expectations\": 0,\n",
       "     \"success_percent\": 100.0\n",
       "   },\n",
       "   \"success\": true\n",
       " })"
      ]
     },
     "execution_count": 25,
     "metadata": {},
     "output_type": "execute_result"
    }
   ],
   "source": [
    "# Define Feature Group\n",
    "transactions_fg = fs.get_or_create_feature_group(\n",
    "    name = \"transactions_monthly\",\n",
    "    version = 1,\n",
    "    primary_key = [\"id\"],\n",
    "    partition_key = [\"tran_timestamp\"],   \n",
    "    description = \"transactions monthly aggregates features\",\n",
    "    event_time = 'tran_timestamp',\n",
    "    online_enabled = True,\n",
    "    statistics_config = {\"enabled\": True, \"histograms\": True, \"correlations\": True, \"exact_uniqueness\": False},\n",
    "    expectation_suite=expectation_suite\n",
    ")   \n",
    "\n",
    "# Insert data frame into Feature Group\n",
    "transactions_fg.insert(in_out_df)"
   ]
  },
  {
   "cell_type": "markdown",
   "metadata": {},
   "source": [
    "#### Party feature group"
   ]
  },
  {
   "cell_type": "code",
   "execution_count": 26,
   "metadata": {},
   "outputs": [
    {
     "name": "stdout",
     "output_type": "stream",
     "text": [
      "Feature Group created successfully, explore it at \n",
      "https://snurran.hops.works:443/p/10375/fs/10322/fg/12311\n"
     ]
    },
    {
     "data": {
      "application/vnd.jupyter.widget-view+json": {
       "model_id": "0dcce16083894b98b91aa07a81a3db53",
       "version_major": 2,
       "version_minor": 0
      },
      "text/plain": [
       "Uploading Dataframe: 0.00% |          | Rows 0/7347 | Elapsed Time: 00:00 | Remaining Time: ?"
      ]
     },
     "metadata": {},
     "output_type": "display_data"
    },
    {
     "name": "stdout",
     "output_type": "stream",
     "text": [
      "Launching job: party_labels_1_offline_fg_materialization\n",
      "Job started successfully, you can follow the progress at \n",
      "https://snurran.hops.works/p/10375/jobs/named/party_labels_1_offline_fg_materialization/executions\n"
     ]
    },
    {
     "data": {
      "text/plain": [
       "(<hsfs.core.job.Job at 0x149172ac0>, None)"
      ]
     },
     "execution_count": 26,
     "metadata": {},
     "output_type": "execute_result"
    }
   ],
   "source": [
    "# Define Feature Group\n",
    "party_fg = fs.get_or_create_feature_group(\n",
    "    name = \"party_labels\",\n",
    "    version = 1,\n",
    "    primary_key = [\"id\"],\n",
    "    description = \"party fg with labels\",\n",
    "    event_time = 'tran_timestamp',        \n",
    "    online_enabled = True,\n",
    "    statistics_config = {\"enabled\": True, \"histograms\": True, \"correlations\": True, \"exact_uniqueness\": False}\n",
    ")\n",
    "\n",
    "# Insert data frame into Feature Group\n",
    "party_fg.insert(party_labels)"
   ]
  },
  {
   "cell_type": "markdown",
   "metadata": {},
   "source": [
    "## <span style=\"color:#ff5f27;\"> ⏭️ **Next:** Part 02 </span>\n",
    "    \n",
    "In the following notebook you will use feature groups to create feature views and training dataset."
   ]
  }
 ],
 "metadata": {
  "kernelspec": {
   "display_name": "Python 3 (ipykernel)",
   "language": "python",
   "name": "python3"
  },
  "language_info": {
   "codemirror_mode": {
    "name": "ipython",
    "version": 3
   },
   "file_extension": ".py",
   "mimetype": "text/x-python",
   "name": "python",
   "nbconvert_exporter": "python",
   "pygments_lexer": "ipython3",
   "version": "3.8.18"
  }
 },
 "nbformat": 4,
 "nbformat_minor": 4
}
