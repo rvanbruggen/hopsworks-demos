{
 "cells": [
  {
   "cell_type": "markdown",
   "metadata": {},
   "source": [
    "# Online Inference Pipeline for Beervolume Predictions"
   ]
  },
  {
   "cell_type": "markdown",
   "metadata": {},
   "source": [
    "## Imports"
   ]
  },
  {
   "cell_type": "code",
   "execution_count": null,
   "metadata": {},
   "outputs": [],
   "source": [
    "import streamlit as st\n",
    "import hopsworks"
   ]
  },
  {
   "cell_type": "markdown",
   "metadata": {},
   "source": [
    "## Online Beervolume Inference Pipeline"
   ]
  },
  {
   "cell_type": "code",
   "execution_count": null,
   "metadata": {},
   "outputs": [],
   "source": [
    "@st.cache_resource()\n",
    "def get_deployment():\n",
    "    st.markdown('📡 Connecting to Hopsworks Feature Store...')\n",
    "\n",
    "    project = hopsworks.login()\n",
    "    fs = project.get_feature_store()\n",
    "\n",
    "    st.write(\"✅ Logged in successfully!\")  \n",
    "    st.write(\"🚀 Retrieving and Starting Deployment...\")\n",
    "    ms = project.get_model_serving()\n",
    "\n",
    "    # Get deployment\n",
    "    deployment = ms.get_deployment(\"beervolumeonlinemodeldeployment3\")\n",
    "\n",
    "    # Start deployment\n",
    "    deployment.start(await_running=180)\n",
    "\n",
    "    print(deployment.get_state().describe())\n",
    "    \n",
    "    st.write(\"✅ Success!\")\n",
    "\n",
    "    return deployment\n",
    "\n",
    "deployment = get_deployment()\n",
    "\n",
    "options = st.multiselect(\n",
    "    'Select the identifier for which the beervolume forecasting will be performed',\n",
    "    (0, 1, 2, 3, 4, 5))\n",
    "\n",
    "st.write('You selected the next ID:', options)\n",
    "\n",
    "preds = [deployment.predict({'instances': [option]}) for option in options]\n",
    "\n",
    "for option, pred in zip(options, preds):\n",
    "    st.write(f'🔮 Predicted Beervolume for the {option} ID: {round(pred[\"predictions\"][0],2)}💰')"
   ]
  },
  {
   "cell_type": "code",
   "execution_count": null,
   "metadata": {},
   "outputs": [],
   "source": []
  }
 ],
 "metadata": {
  "kernelspec": {
   "display_name": "Python 3",
   "language": "python",
   "name": "python3"
  },
  "language_info": {
   "codemirror_mode": {
    "name": "ipython",
    "version": 3
   },
   "file_extension": ".py",
   "mimetype": "text/x-python",
   "name": "python",
   "nbconvert_exporter": "python",
   "pygments_lexer": "ipython3",
   "version": "3.11.6"
  }
 },
 "nbformat": 4,
 "nbformat_minor": 2
}
