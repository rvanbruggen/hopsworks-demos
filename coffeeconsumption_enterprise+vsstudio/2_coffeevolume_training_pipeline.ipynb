{
 "cells": [
  {
   "cell_type": "markdown",
   "metadata": {},
   "source": [
    "# CoffeeVolume Prediction Demo - Training Pipeline (2)\n",
    "\n",
    "This is the second part of a short demonstration of how you can use Hopsworks for creating a Machine Learning System that creates predictions. The hypothetical use case is that of a **barrista** who would want to predict how much coffee will be consumed in his bar, based on past trends and behaviour.\n",
    "\n",
    "![](https://blogstudio.s3.theshoppad.net/coffeeheroau/d4459a5d44905ff2cf3c245e7a931675.jpg)\n",
    "\n",
    "In this second part of the Machine Learning system that we are creating, we are going to focus on the **Training Pipeline** required to make the predictions that we want."
   ]
  },
  {
   "cell_type": "markdown",
   "id": "83dd6e7e",
   "metadata": {},
   "source": [
    "## <span style=\"color:#ff5f27\">📝 Code Library Imports and installations</span>"
   ]
  },
  {
   "cell_type": "markdown",
   "metadata": {},
   "source": [
    "### Installing Supporting libraries\n",
    "We also need to install the Kaleido libraries so that we can use these during our notebook exploration:"
   ]
  },
  {
   "cell_type": "code",
   "execution_count": 1,
   "id": "5c5b0a68",
   "metadata": {},
   "outputs": [
    {
     "name": "stdout",
     "output_type": "stream",
     "text": [
      "Requirement already satisfied: kaleido in /Users/rvanbruggen/.pyenv/versions/3.11.6/lib/python3.11/site-packages (0.2.1)\n",
      "Requirement already satisfied: sklearn in /Users/rvanbruggen/.pyenv/versions/3.11.6/lib/python3.11/site-packages (0.0.post12)\n",
      "Requirement already satisfied: hopsworks==3.5.0rc1 in /Users/rvanbruggen/.pyenv/versions/3.11.6/lib/python3.11/site-packages (3.5.0rc1)\n",
      "Requirement already satisfied: hsfs~=3.5.0rc0 in /Users/rvanbruggen/.pyenv/versions/3.11.6/lib/python3.11/site-packages (from hsfs[python]~=3.5.0rc0->hopsworks==3.5.0rc1) (3.5.0rc4)\n",
      "Requirement already satisfied: hsml~=3.5.0rc0 in /Users/rvanbruggen/.pyenv/versions/3.11.6/lib/python3.11/site-packages (from hopsworks==3.5.0rc1) (3.5.0rc0)\n",
      "Requirement already satisfied: pyhumps==1.6.1 in /Users/rvanbruggen/.pyenv/versions/3.11.6/lib/python3.11/site-packages (from hopsworks==3.5.0rc1) (1.6.1)\n",
      "Requirement already satisfied: requests in /Users/rvanbruggen/.pyenv/versions/3.11.6/lib/python3.11/site-packages (from hopsworks==3.5.0rc1) (2.31.0)\n",
      "Requirement already satisfied: furl in /Users/rvanbruggen/.pyenv/versions/3.11.6/lib/python3.11/site-packages (from hopsworks==3.5.0rc1) (2.1.3)\n",
      "Requirement already satisfied: boto3 in /Users/rvanbruggen/.pyenv/versions/3.11.6/lib/python3.11/site-packages (from hopsworks==3.5.0rc1) (1.28.83)\n",
      "Requirement already satisfied: pyjks in /Users/rvanbruggen/.pyenv/versions/3.11.6/lib/python3.11/site-packages (from hopsworks==3.5.0rc1) (20.0.0)\n",
      "Requirement already satisfied: mock in /Users/rvanbruggen/.pyenv/versions/3.11.6/lib/python3.11/site-packages (from hopsworks==3.5.0rc1) (5.1.0)\n",
      "Requirement already satisfied: tqdm in /Users/rvanbruggen/.pyenv/versions/3.11.6/lib/python3.11/site-packages (from hopsworks==3.5.0rc1) (4.66.1)\n",
      "Requirement already satisfied: pandas<2.1.0 in /Users/rvanbruggen/.pyenv/versions/3.11.6/lib/python3.11/site-packages (from hsfs~=3.5.0rc0->hsfs[python]~=3.5.0rc0->hopsworks==3.5.0rc1) (2.0.3)\n",
      "Requirement already satisfied: numpy<2 in /Users/rvanbruggen/.pyenv/versions/3.11.6/lib/python3.11/site-packages (from hsfs~=3.5.0rc0->hsfs[python]~=3.5.0rc0->hopsworks==3.5.0rc1) (1.26.1)\n",
      "Requirement already satisfied: avro==1.11.3 in /Users/rvanbruggen/.pyenv/versions/3.11.6/lib/python3.11/site-packages (from hsfs~=3.5.0rc0->hsfs[python]~=3.5.0rc0->hopsworks==3.5.0rc1) (1.11.3)\n",
      "Requirement already satisfied: sqlalchemy in /Users/rvanbruggen/.pyenv/versions/3.11.6/lib/python3.11/site-packages (from hsfs~=3.5.0rc0->hsfs[python]~=3.5.0rc0->hopsworks==3.5.0rc1) (2.0.23)\n",
      "Requirement already satisfied: PyMySQL[rsa] in /Users/rvanbruggen/.pyenv/versions/3.11.6/lib/python3.11/site-packages (from hsfs~=3.5.0rc0->hsfs[python]~=3.5.0rc0->hopsworks==3.5.0rc1) (1.1.0)\n",
      "Requirement already satisfied: great-expectations==0.15.12 in /Users/rvanbruggen/.pyenv/versions/3.11.6/lib/python3.11/site-packages (from hsfs~=3.5.0rc0->hsfs[python]~=3.5.0rc0->hopsworks==3.5.0rc1) (0.15.12)\n",
      "Requirement already satisfied: markupsafe<2.1.0 in /Users/rvanbruggen/.pyenv/versions/3.11.6/lib/python3.11/site-packages (from hsfs~=3.5.0rc0->hsfs[python]~=3.5.0rc0->hopsworks==3.5.0rc1) (2.0.1)\n",
      "Requirement already satisfied: tzlocal in /Users/rvanbruggen/.pyenv/versions/3.11.6/lib/python3.11/site-packages (from hsfs~=3.5.0rc0->hsfs[python]~=3.5.0rc0->hopsworks==3.5.0rc1) (5.2)\n",
      "Requirement already satisfied: fsspec in /Users/rvanbruggen/.pyenv/versions/3.11.6/lib/python3.11/site-packages (from hsfs~=3.5.0rc0->hsfs[python]~=3.5.0rc0->hopsworks==3.5.0rc1) (2023.10.0)\n",
      "Requirement already satisfied: retrying in /Users/rvanbruggen/.pyenv/versions/3.11.6/lib/python3.11/site-packages (from hsfs~=3.5.0rc0->hsfs[python]~=3.5.0rc0->hopsworks==3.5.0rc1) (1.3.4)\n",
      "Requirement already satisfied: altair<5,>=4.0.0 in /Users/rvanbruggen/.pyenv/versions/3.11.6/lib/python3.11/site-packages (from great-expectations==0.15.12->hsfs~=3.5.0rc0->hsfs[python]~=3.5.0rc0->hopsworks==3.5.0rc1) (4.2.2)\n",
      "Requirement already satisfied: Click>=7.1.2 in /Users/rvanbruggen/.pyenv/versions/3.11.6/lib/python3.11/site-packages (from great-expectations==0.15.12->hsfs~=3.5.0rc0->hsfs[python]~=3.5.0rc0->hopsworks==3.5.0rc1) (8.1.7)\n",
      "Requirement already satisfied: colorama>=0.4.3 in /Users/rvanbruggen/.pyenv/versions/3.11.6/lib/python3.11/site-packages (from great-expectations==0.15.12->hsfs~=3.5.0rc0->hsfs[python]~=3.5.0rc0->hopsworks==3.5.0rc1) (0.4.6)\n",
      "Requirement already satisfied: cryptography>=3.2 in /Users/rvanbruggen/.pyenv/versions/3.11.6/lib/python3.11/site-packages (from great-expectations==0.15.12->hsfs~=3.5.0rc0->hsfs[python]~=3.5.0rc0->hopsworks==3.5.0rc1) (41.0.5)\n",
      "Requirement already satisfied: importlib-metadata>=1.7.0 in /Users/rvanbruggen/.pyenv/versions/3.11.6/lib/python3.11/site-packages (from great-expectations==0.15.12->hsfs~=3.5.0rc0->hsfs[python]~=3.5.0rc0->hopsworks==3.5.0rc1) (6.8.0)\n",
      "Requirement already satisfied: Ipython>=7.16.3 in /Users/rvanbruggen/.pyenv/versions/3.11.6/lib/python3.11/site-packages (from great-expectations==0.15.12->hsfs~=3.5.0rc0->hsfs[python]~=3.5.0rc0->hopsworks==3.5.0rc1) (8.17.2)\n",
      "Requirement already satisfied: jinja2>=2.10 in /Users/rvanbruggen/.pyenv/versions/3.11.6/lib/python3.11/site-packages (from great-expectations==0.15.12->hsfs~=3.5.0rc0->hsfs[python]~=3.5.0rc0->hopsworks==3.5.0rc1) (3.0.3)\n",
      "Requirement already satisfied: jsonpatch>=1.22 in /Users/rvanbruggen/.pyenv/versions/3.11.6/lib/python3.11/site-packages (from great-expectations==0.15.12->hsfs~=3.5.0rc0->hsfs[python]~=3.5.0rc0->hopsworks==3.5.0rc1) (1.33)\n",
      "Requirement already satisfied: jsonschema>=2.5.1 in /Users/rvanbruggen/.pyenv/versions/3.11.6/lib/python3.11/site-packages (from great-expectations==0.15.12->hsfs~=3.5.0rc0->hsfs[python]~=3.5.0rc0->hopsworks==3.5.0rc1) (4.19.2)\n",
      "Requirement already satisfied: mistune>=0.8.4 in /Users/rvanbruggen/.pyenv/versions/3.11.6/lib/python3.11/site-packages (from great-expectations==0.15.12->hsfs~=3.5.0rc0->hsfs[python]~=3.5.0rc0->hopsworks==3.5.0rc1) (3.0.2)\n",
      "Requirement already satisfied: nbformat>=5.0 in /Users/rvanbruggen/.pyenv/versions/3.11.6/lib/python3.11/site-packages (from great-expectations==0.15.12->hsfs~=3.5.0rc0->hsfs[python]~=3.5.0rc0->hopsworks==3.5.0rc1) (5.9.2)\n",
      "Requirement already satisfied: notebook>=6.4.10 in /Users/rvanbruggen/.pyenv/versions/3.11.6/lib/python3.11/site-packages (from great-expectations==0.15.12->hsfs~=3.5.0rc0->hsfs[python]~=3.5.0rc0->hopsworks==3.5.0rc1) (7.0.6)\n",
      "Requirement already satisfied: packaging in /Users/rvanbruggen/.pyenv/versions/3.11.6/lib/python3.11/site-packages (from great-expectations==0.15.12->hsfs~=3.5.0rc0->hsfs[python]~=3.5.0rc0->hopsworks==3.5.0rc1) (23.2)\n",
      "Requirement already satisfied: pyparsing<3,>=2.4 in /Users/rvanbruggen/.pyenv/versions/3.11.6/lib/python3.11/site-packages (from great-expectations==0.15.12->hsfs~=3.5.0rc0->hsfs[python]~=3.5.0rc0->hopsworks==3.5.0rc1) (2.4.7)\n",
      "Requirement already satisfied: python-dateutil>=2.8.1 in /Users/rvanbruggen/.pyenv/versions/3.11.6/lib/python3.11/site-packages (from great-expectations==0.15.12->hsfs~=3.5.0rc0->hsfs[python]~=3.5.0rc0->hopsworks==3.5.0rc1) (2.8.2)\n",
      "Requirement already satisfied: pytz>=2021.3 in /Users/rvanbruggen/.pyenv/versions/3.11.6/lib/python3.11/site-packages (from great-expectations==0.15.12->hsfs~=3.5.0rc0->hsfs[python]~=3.5.0rc0->hopsworks==3.5.0rc1) (2023.3.post1)\n",
      "Requirement already satisfied: ruamel.yaml<0.17.18,>=0.16 in /Users/rvanbruggen/.pyenv/versions/3.11.6/lib/python3.11/site-packages (from great-expectations==0.15.12->hsfs~=3.5.0rc0->hsfs[python]~=3.5.0rc0->hopsworks==3.5.0rc1) (0.17.17)\n",
      "Requirement already satisfied: scipy>=0.19.0 in /Users/rvanbruggen/.pyenv/versions/3.11.6/lib/python3.11/site-packages (from great-expectations==0.15.12->hsfs~=3.5.0rc0->hsfs[python]~=3.5.0rc0->hopsworks==3.5.0rc1) (1.11.3)\n",
      "Requirement already satisfied: termcolor>=1.1.0 in /Users/rvanbruggen/.pyenv/versions/3.11.6/lib/python3.11/site-packages (from great-expectations==0.15.12->hsfs~=3.5.0rc0->hsfs[python]~=3.5.0rc0->hopsworks==3.5.0rc1) (2.3.0)\n",
      "Requirement already satisfied: typing-extensions>=3.10.0.0 in /Users/rvanbruggen/.pyenv/versions/3.11.6/lib/python3.11/site-packages (from great-expectations==0.15.12->hsfs~=3.5.0rc0->hsfs[python]~=3.5.0rc0->hopsworks==3.5.0rc1) (4.8.0)\n",
      "Requirement already satisfied: urllib3<1.27,>=1.25.4 in /Users/rvanbruggen/.pyenv/versions/3.11.6/lib/python3.11/site-packages (from great-expectations==0.15.12->hsfs~=3.5.0rc0->hsfs[python]~=3.5.0rc0->hopsworks==3.5.0rc1) (1.26.18)\n",
      "Requirement already satisfied: pyhopshive[thrift] in /Users/rvanbruggen/.pyenv/versions/3.11.6/lib/python3.11/site-packages (from hsfs[python]~=3.5.0rc0->hopsworks==3.5.0rc1) (0.6.4.1.dev0)\n",
      "Requirement already satisfied: pyarrow>=10.0 in /Users/rvanbruggen/.pyenv/versions/3.11.6/lib/python3.11/site-packages (from hsfs[python]~=3.5.0rc0->hopsworks==3.5.0rc1) (14.0.1)\n",
      "Requirement already satisfied: confluent-kafka<=2.1.1 in /Users/rvanbruggen/.pyenv/versions/3.11.6/lib/python3.11/site-packages (from hsfs[python]~=3.5.0rc0->hopsworks==3.5.0rc1) (2.1.1)\n",
      "Requirement already satisfied: fastavro<=1.8.2,>=1.4.11 in /Users/rvanbruggen/.pyenv/versions/3.11.6/lib/python3.11/site-packages (from hsfs[python]~=3.5.0rc0->hopsworks==3.5.0rc1) (1.8.2)\n",
      "Requirement already satisfied: charset-normalizer<4,>=2 in /Users/rvanbruggen/.pyenv/versions/3.11.6/lib/python3.11/site-packages (from requests->hopsworks==3.5.0rc1) (3.3.2)\n",
      "Requirement already satisfied: idna<4,>=2.5 in /Users/rvanbruggen/.pyenv/versions/3.11.6/lib/python3.11/site-packages (from requests->hopsworks==3.5.0rc1) (3.4)\n",
      "Requirement already satisfied: certifi>=2017.4.17 in /Users/rvanbruggen/.pyenv/versions/3.11.6/lib/python3.11/site-packages (from requests->hopsworks==3.5.0rc1) (2023.7.22)\n",
      "Requirement already satisfied: botocore<1.32.0,>=1.31.83 in /Users/rvanbruggen/.pyenv/versions/3.11.6/lib/python3.11/site-packages (from boto3->hopsworks==3.5.0rc1) (1.31.83)\n",
      "Requirement already satisfied: jmespath<2.0.0,>=0.7.1 in /Users/rvanbruggen/.pyenv/versions/3.11.6/lib/python3.11/site-packages (from boto3->hopsworks==3.5.0rc1) (1.0.1)\n",
      "Requirement already satisfied: s3transfer<0.8.0,>=0.7.0 in /Users/rvanbruggen/.pyenv/versions/3.11.6/lib/python3.11/site-packages (from boto3->hopsworks==3.5.0rc1) (0.7.0)\n",
      "Requirement already satisfied: six>=1.8.0 in /Users/rvanbruggen/.pyenv/versions/3.11.6/lib/python3.11/site-packages (from furl->hopsworks==3.5.0rc1) (1.16.0)\n",
      "Requirement already satisfied: orderedmultidict>=1.0.1 in /Users/rvanbruggen/.pyenv/versions/3.11.6/lib/python3.11/site-packages (from furl->hopsworks==3.5.0rc1) (1.0.1)\n",
      "Requirement already satisfied: javaobj-py3 in /Users/rvanbruggen/.pyenv/versions/3.11.6/lib/python3.11/site-packages (from pyjks->hopsworks==3.5.0rc1) (0.4.3)\n",
      "Requirement already satisfied: pyasn1>=0.3.5 in /Users/rvanbruggen/.pyenv/versions/3.11.6/lib/python3.11/site-packages (from pyjks->hopsworks==3.5.0rc1) (0.5.0)\n",
      "Requirement already satisfied: pyasn1-modules in /Users/rvanbruggen/.pyenv/versions/3.11.6/lib/python3.11/site-packages (from pyjks->hopsworks==3.5.0rc1) (0.3.0)\n",
      "Requirement already satisfied: pycryptodomex in /Users/rvanbruggen/.pyenv/versions/3.11.6/lib/python3.11/site-packages (from pyjks->hopsworks==3.5.0rc1) (3.19.0)\n",
      "Requirement already satisfied: twofish in /Users/rvanbruggen/.pyenv/versions/3.11.6/lib/python3.11/site-packages (from pyjks->hopsworks==3.5.0rc1) (0.3.0)\n",
      "Requirement already satisfied: tzdata>=2022.1 in /Users/rvanbruggen/.pyenv/versions/3.11.6/lib/python3.11/site-packages (from pandas<2.1.0->hsfs~=3.5.0rc0->hsfs[python]~=3.5.0rc0->hopsworks==3.5.0rc1) (2023.3)\n",
      "Requirement already satisfied: future in /Users/rvanbruggen/.pyenv/versions/3.11.6/lib/python3.11/site-packages (from pyhopshive[thrift]; extra == \"python\"->hsfs[python]~=3.5.0rc0->hopsworks==3.5.0rc1) (0.18.3)\n",
      "Requirement already satisfied: thrift>=0.10.0 in /Users/rvanbruggen/.pyenv/versions/3.11.6/lib/python3.11/site-packages (from pyhopshive[thrift]; extra == \"python\"->hsfs[python]~=3.5.0rc0->hopsworks==3.5.0rc1) (0.16.0)\n",
      "Requirement already satisfied: greenlet!=0.4.17 in /Users/rvanbruggen/.pyenv/versions/3.11.6/lib/python3.11/site-packages (from sqlalchemy->hsfs~=3.5.0rc0->hsfs[python]~=3.5.0rc0->hopsworks==3.5.0rc1) (3.0.1)\n",
      "Requirement already satisfied: entrypoints in /Users/rvanbruggen/.pyenv/versions/3.11.6/lib/python3.11/site-packages (from altair<5,>=4.0.0->great-expectations==0.15.12->hsfs~=3.5.0rc0->hsfs[python]~=3.5.0rc0->hopsworks==3.5.0rc1) (0.4)\n",
      "Requirement already satisfied: toolz in /Users/rvanbruggen/.pyenv/versions/3.11.6/lib/python3.11/site-packages (from altair<5,>=4.0.0->great-expectations==0.15.12->hsfs~=3.5.0rc0->hsfs[python]~=3.5.0rc0->hopsworks==3.5.0rc1) (0.12.0)\n",
      "Requirement already satisfied: cffi>=1.12 in /Users/rvanbruggen/.pyenv/versions/3.11.6/lib/python3.11/site-packages (from cryptography>=3.2->great-expectations==0.15.12->hsfs~=3.5.0rc0->hsfs[python]~=3.5.0rc0->hopsworks==3.5.0rc1) (1.16.0)\n",
      "Requirement already satisfied: zipp>=0.5 in /Users/rvanbruggen/.pyenv/versions/3.11.6/lib/python3.11/site-packages (from importlib-metadata>=1.7.0->great-expectations==0.15.12->hsfs~=3.5.0rc0->hsfs[python]~=3.5.0rc0->hopsworks==3.5.0rc1) (3.17.0)\n",
      "Requirement already satisfied: decorator in /Users/rvanbruggen/.pyenv/versions/3.11.6/lib/python3.11/site-packages (from Ipython>=7.16.3->great-expectations==0.15.12->hsfs~=3.5.0rc0->hsfs[python]~=3.5.0rc0->hopsworks==3.5.0rc1) (5.1.1)\n",
      "Requirement already satisfied: jedi>=0.16 in /Users/rvanbruggen/.pyenv/versions/3.11.6/lib/python3.11/site-packages (from Ipython>=7.16.3->great-expectations==0.15.12->hsfs~=3.5.0rc0->hsfs[python]~=3.5.0rc0->hopsworks==3.5.0rc1) (0.19.1)\n",
      "Requirement already satisfied: matplotlib-inline in /Users/rvanbruggen/.pyenv/versions/3.11.6/lib/python3.11/site-packages (from Ipython>=7.16.3->great-expectations==0.15.12->hsfs~=3.5.0rc0->hsfs[python]~=3.5.0rc0->hopsworks==3.5.0rc1) (0.1.6)\n",
      "Requirement already satisfied: prompt-toolkit!=3.0.37,<3.1.0,>=3.0.30 in /Users/rvanbruggen/.pyenv/versions/3.11.6/lib/python3.11/site-packages (from Ipython>=7.16.3->great-expectations==0.15.12->hsfs~=3.5.0rc0->hsfs[python]~=3.5.0rc0->hopsworks==3.5.0rc1) (3.0.39)\n",
      "Requirement already satisfied: pygments>=2.4.0 in /Users/rvanbruggen/.pyenv/versions/3.11.6/lib/python3.11/site-packages (from Ipython>=7.16.3->great-expectations==0.15.12->hsfs~=3.5.0rc0->hsfs[python]~=3.5.0rc0->hopsworks==3.5.0rc1) (2.16.1)\n",
      "Requirement already satisfied: stack-data in /Users/rvanbruggen/.pyenv/versions/3.11.6/lib/python3.11/site-packages (from Ipython>=7.16.3->great-expectations==0.15.12->hsfs~=3.5.0rc0->hsfs[python]~=3.5.0rc0->hopsworks==3.5.0rc1) (0.6.3)\n",
      "Requirement already satisfied: traitlets>=5 in /Users/rvanbruggen/.pyenv/versions/3.11.6/lib/python3.11/site-packages (from Ipython>=7.16.3->great-expectations==0.15.12->hsfs~=3.5.0rc0->hsfs[python]~=3.5.0rc0->hopsworks==3.5.0rc1) (5.13.0)\n",
      "Requirement already satisfied: pexpect>4.3 in /Users/rvanbruggen/.pyenv/versions/3.11.6/lib/python3.11/site-packages (from Ipython>=7.16.3->great-expectations==0.15.12->hsfs~=3.5.0rc0->hsfs[python]~=3.5.0rc0->hopsworks==3.5.0rc1) (4.8.0)\n",
      "Requirement already satisfied: appnope in /Users/rvanbruggen/.pyenv/versions/3.11.6/lib/python3.11/site-packages (from Ipython>=7.16.3->great-expectations==0.15.12->hsfs~=3.5.0rc0->hsfs[python]~=3.5.0rc0->hopsworks==3.5.0rc1) (0.1.3)\n",
      "Requirement already satisfied: jsonpointer>=1.9 in /Users/rvanbruggen/.pyenv/versions/3.11.6/lib/python3.11/site-packages (from jsonpatch>=1.22->great-expectations==0.15.12->hsfs~=3.5.0rc0->hsfs[python]~=3.5.0rc0->hopsworks==3.5.0rc1) (2.4)\n",
      "Requirement already satisfied: attrs>=22.2.0 in /Users/rvanbruggen/.pyenv/versions/3.11.6/lib/python3.11/site-packages (from jsonschema>=2.5.1->great-expectations==0.15.12->hsfs~=3.5.0rc0->hsfs[python]~=3.5.0rc0->hopsworks==3.5.0rc1) (23.1.0)\n",
      "Requirement already satisfied: jsonschema-specifications>=2023.03.6 in /Users/rvanbruggen/.pyenv/versions/3.11.6/lib/python3.11/site-packages (from jsonschema>=2.5.1->great-expectations==0.15.12->hsfs~=3.5.0rc0->hsfs[python]~=3.5.0rc0->hopsworks==3.5.0rc1) (2023.7.1)\n",
      "Requirement already satisfied: referencing>=0.28.4 in /Users/rvanbruggen/.pyenv/versions/3.11.6/lib/python3.11/site-packages (from jsonschema>=2.5.1->great-expectations==0.15.12->hsfs~=3.5.0rc0->hsfs[python]~=3.5.0rc0->hopsworks==3.5.0rc1) (0.30.2)\n",
      "Requirement already satisfied: rpds-py>=0.7.1 in /Users/rvanbruggen/.pyenv/versions/3.11.6/lib/python3.11/site-packages (from jsonschema>=2.5.1->great-expectations==0.15.12->hsfs~=3.5.0rc0->hsfs[python]~=3.5.0rc0->hopsworks==3.5.0rc1) (0.12.0)\n",
      "Requirement already satisfied: fastjsonschema in /Users/rvanbruggen/.pyenv/versions/3.11.6/lib/python3.11/site-packages (from nbformat>=5.0->great-expectations==0.15.12->hsfs~=3.5.0rc0->hsfs[python]~=3.5.0rc0->hopsworks==3.5.0rc1) (2.18.1)\n",
      "Requirement already satisfied: jupyter-core in /Users/rvanbruggen/.pyenv/versions/3.11.6/lib/python3.11/site-packages (from nbformat>=5.0->great-expectations==0.15.12->hsfs~=3.5.0rc0->hsfs[python]~=3.5.0rc0->hopsworks==3.5.0rc1) (5.5.0)\n",
      "Requirement already satisfied: jupyter-server<3,>=2.4.0 in /Users/rvanbruggen/.pyenv/versions/3.11.6/lib/python3.11/site-packages (from notebook>=6.4.10->great-expectations==0.15.12->hsfs~=3.5.0rc0->hsfs[python]~=3.5.0rc0->hopsworks==3.5.0rc1) (2.10.0)\n",
      "Requirement already satisfied: jupyterlab-server<3,>=2.22.1 in /Users/rvanbruggen/.pyenv/versions/3.11.6/lib/python3.11/site-packages (from notebook>=6.4.10->great-expectations==0.15.12->hsfs~=3.5.0rc0->hsfs[python]~=3.5.0rc0->hopsworks==3.5.0rc1) (2.25.1)\n",
      "Requirement already satisfied: jupyterlab<5,>=4.0.2 in /Users/rvanbruggen/.pyenv/versions/3.11.6/lib/python3.11/site-packages (from notebook>=6.4.10->great-expectations==0.15.12->hsfs~=3.5.0rc0->hsfs[python]~=3.5.0rc0->hopsworks==3.5.0rc1) (4.0.8)\n",
      "Requirement already satisfied: notebook-shim<0.3,>=0.2 in /Users/rvanbruggen/.pyenv/versions/3.11.6/lib/python3.11/site-packages (from notebook>=6.4.10->great-expectations==0.15.12->hsfs~=3.5.0rc0->hsfs[python]~=3.5.0rc0->hopsworks==3.5.0rc1) (0.2.3)\n",
      "Requirement already satisfied: tornado>=6.2.0 in /Users/rvanbruggen/.pyenv/versions/3.11.6/lib/python3.11/site-packages (from notebook>=6.4.10->great-expectations==0.15.12->hsfs~=3.5.0rc0->hsfs[python]~=3.5.0rc0->hopsworks==3.5.0rc1) (6.3.3)\n",
      "Requirement already satisfied: pycparser in /Users/rvanbruggen/.pyenv/versions/3.11.6/lib/python3.11/site-packages (from cffi>=1.12->cryptography>=3.2->great-expectations==0.15.12->hsfs~=3.5.0rc0->hsfs[python]~=3.5.0rc0->hopsworks==3.5.0rc1) (2.21)\n",
      "Requirement already satisfied: parso<0.9.0,>=0.8.3 in /Users/rvanbruggen/.pyenv/versions/3.11.6/lib/python3.11/site-packages (from jedi>=0.16->Ipython>=7.16.3->great-expectations==0.15.12->hsfs~=3.5.0rc0->hsfs[python]~=3.5.0rc0->hopsworks==3.5.0rc1) (0.8.3)\n",
      "Requirement already satisfied: anyio>=3.1.0 in /Users/rvanbruggen/.pyenv/versions/3.11.6/lib/python3.11/site-packages (from jupyter-server<3,>=2.4.0->notebook>=6.4.10->great-expectations==0.15.12->hsfs~=3.5.0rc0->hsfs[python]~=3.5.0rc0->hopsworks==3.5.0rc1) (4.0.0)\n",
      "Requirement already satisfied: argon2-cffi in /Users/rvanbruggen/.pyenv/versions/3.11.6/lib/python3.11/site-packages (from jupyter-server<3,>=2.4.0->notebook>=6.4.10->great-expectations==0.15.12->hsfs~=3.5.0rc0->hsfs[python]~=3.5.0rc0->hopsworks==3.5.0rc1) (23.1.0)\n",
      "Requirement already satisfied: jupyter-client>=7.4.4 in /Users/rvanbruggen/.pyenv/versions/3.11.6/lib/python3.11/site-packages (from jupyter-server<3,>=2.4.0->notebook>=6.4.10->great-expectations==0.15.12->hsfs~=3.5.0rc0->hsfs[python]~=3.5.0rc0->hopsworks==3.5.0rc1) (8.6.0)\n",
      "Requirement already satisfied: jupyter-events>=0.6.0 in /Users/rvanbruggen/.pyenv/versions/3.11.6/lib/python3.11/site-packages (from jupyter-server<3,>=2.4.0->notebook>=6.4.10->great-expectations==0.15.12->hsfs~=3.5.0rc0->hsfs[python]~=3.5.0rc0->hopsworks==3.5.0rc1) (0.9.0)\n",
      "Requirement already satisfied: jupyter-server-terminals in /Users/rvanbruggen/.pyenv/versions/3.11.6/lib/python3.11/site-packages (from jupyter-server<3,>=2.4.0->notebook>=6.4.10->great-expectations==0.15.12->hsfs~=3.5.0rc0->hsfs[python]~=3.5.0rc0->hopsworks==3.5.0rc1) (0.4.4)\n",
      "Requirement already satisfied: nbconvert>=6.4.4 in /Users/rvanbruggen/.pyenv/versions/3.11.6/lib/python3.11/site-packages (from jupyter-server<3,>=2.4.0->notebook>=6.4.10->great-expectations==0.15.12->hsfs~=3.5.0rc0->hsfs[python]~=3.5.0rc0->hopsworks==3.5.0rc1) (7.11.0)\n",
      "Requirement already satisfied: overrides in /Users/rvanbruggen/.pyenv/versions/3.11.6/lib/python3.11/site-packages (from jupyter-server<3,>=2.4.0->notebook>=6.4.10->great-expectations==0.15.12->hsfs~=3.5.0rc0->hsfs[python]~=3.5.0rc0->hopsworks==3.5.0rc1) (7.4.0)\n",
      "Requirement already satisfied: prometheus-client in /Users/rvanbruggen/.pyenv/versions/3.11.6/lib/python3.11/site-packages (from jupyter-server<3,>=2.4.0->notebook>=6.4.10->great-expectations==0.15.12->hsfs~=3.5.0rc0->hsfs[python]~=3.5.0rc0->hopsworks==3.5.0rc1) (0.18.0)\n",
      "Requirement already satisfied: pyzmq>=24 in /Users/rvanbruggen/.pyenv/versions/3.11.6/lib/python3.11/site-packages (from jupyter-server<3,>=2.4.0->notebook>=6.4.10->great-expectations==0.15.12->hsfs~=3.5.0rc0->hsfs[python]~=3.5.0rc0->hopsworks==3.5.0rc1) (25.1.1)\n",
      "Requirement already satisfied: send2trash>=1.8.2 in /Users/rvanbruggen/.pyenv/versions/3.11.6/lib/python3.11/site-packages (from jupyter-server<3,>=2.4.0->notebook>=6.4.10->great-expectations==0.15.12->hsfs~=3.5.0rc0->hsfs[python]~=3.5.0rc0->hopsworks==3.5.0rc1) (1.8.2)\n",
      "Requirement already satisfied: terminado>=0.8.3 in /Users/rvanbruggen/.pyenv/versions/3.11.6/lib/python3.11/site-packages (from jupyter-server<3,>=2.4.0->notebook>=6.4.10->great-expectations==0.15.12->hsfs~=3.5.0rc0->hsfs[python]~=3.5.0rc0->hopsworks==3.5.0rc1) (0.18.0)\n",
      "Requirement already satisfied: websocket-client in /Users/rvanbruggen/.pyenv/versions/3.11.6/lib/python3.11/site-packages (from jupyter-server<3,>=2.4.0->notebook>=6.4.10->great-expectations==0.15.12->hsfs~=3.5.0rc0->hsfs[python]~=3.5.0rc0->hopsworks==3.5.0rc1) (1.6.4)\n",
      "Requirement already satisfied: platformdirs>=2.5 in /Users/rvanbruggen/.pyenv/versions/3.11.6/lib/python3.11/site-packages (from jupyter-core->nbformat>=5.0->great-expectations==0.15.12->hsfs~=3.5.0rc0->hsfs[python]~=3.5.0rc0->hopsworks==3.5.0rc1) (3.11.0)\n",
      "Requirement already satisfied: async-lru>=1.0.0 in /Users/rvanbruggen/.pyenv/versions/3.11.6/lib/python3.11/site-packages (from jupyterlab<5,>=4.0.2->notebook>=6.4.10->great-expectations==0.15.12->hsfs~=3.5.0rc0->hsfs[python]~=3.5.0rc0->hopsworks==3.5.0rc1) (2.0.4)\n",
      "Requirement already satisfied: ipykernel in /Users/rvanbruggen/.pyenv/versions/3.11.6/lib/python3.11/site-packages (from jupyterlab<5,>=4.0.2->notebook>=6.4.10->great-expectations==0.15.12->hsfs~=3.5.0rc0->hsfs[python]~=3.5.0rc0->hopsworks==3.5.0rc1) (6.26.0)\n",
      "Requirement already satisfied: jupyter-lsp>=2.0.0 in /Users/rvanbruggen/.pyenv/versions/3.11.6/lib/python3.11/site-packages (from jupyterlab<5,>=4.0.2->notebook>=6.4.10->great-expectations==0.15.12->hsfs~=3.5.0rc0->hsfs[python]~=3.5.0rc0->hopsworks==3.5.0rc1) (2.2.0)\n",
      "Requirement already satisfied: babel>=2.10 in /Users/rvanbruggen/.pyenv/versions/3.11.6/lib/python3.11/site-packages (from jupyterlab-server<3,>=2.22.1->notebook>=6.4.10->great-expectations==0.15.12->hsfs~=3.5.0rc0->hsfs[python]~=3.5.0rc0->hopsworks==3.5.0rc1) (2.13.1)\n",
      "Requirement already satisfied: json5>=0.9.0 in /Users/rvanbruggen/.pyenv/versions/3.11.6/lib/python3.11/site-packages (from jupyterlab-server<3,>=2.22.1->notebook>=6.4.10->great-expectations==0.15.12->hsfs~=3.5.0rc0->hsfs[python]~=3.5.0rc0->hopsworks==3.5.0rc1) (0.9.14)\n",
      "Requirement already satisfied: ptyprocess>=0.5 in /Users/rvanbruggen/.pyenv/versions/3.11.6/lib/python3.11/site-packages (from pexpect>4.3->Ipython>=7.16.3->great-expectations==0.15.12->hsfs~=3.5.0rc0->hsfs[python]~=3.5.0rc0->hopsworks==3.5.0rc1) (0.7.0)\n",
      "Requirement already satisfied: wcwidth in /Users/rvanbruggen/.pyenv/versions/3.11.6/lib/python3.11/site-packages (from prompt-toolkit!=3.0.37,<3.1.0,>=3.0.30->Ipython>=7.16.3->great-expectations==0.15.12->hsfs~=3.5.0rc0->hsfs[python]~=3.5.0rc0->hopsworks==3.5.0rc1) (0.2.9)\n",
      "Requirement already satisfied: executing>=1.2.0 in /Users/rvanbruggen/.pyenv/versions/3.11.6/lib/python3.11/site-packages (from stack-data->Ipython>=7.16.3->great-expectations==0.15.12->hsfs~=3.5.0rc0->hsfs[python]~=3.5.0rc0->hopsworks==3.5.0rc1) (2.0.1)\n",
      "Requirement already satisfied: asttokens>=2.1.0 in /Users/rvanbruggen/.pyenv/versions/3.11.6/lib/python3.11/site-packages (from stack-data->Ipython>=7.16.3->great-expectations==0.15.12->hsfs~=3.5.0rc0->hsfs[python]~=3.5.0rc0->hopsworks==3.5.0rc1) (2.4.1)\n",
      "Requirement already satisfied: pure-eval in /Users/rvanbruggen/.pyenv/versions/3.11.6/lib/python3.11/site-packages (from stack-data->Ipython>=7.16.3->great-expectations==0.15.12->hsfs~=3.5.0rc0->hsfs[python]~=3.5.0rc0->hopsworks==3.5.0rc1) (0.2.2)\n",
      "Requirement already satisfied: sniffio>=1.1 in /Users/rvanbruggen/.pyenv/versions/3.11.6/lib/python3.11/site-packages (from anyio>=3.1.0->jupyter-server<3,>=2.4.0->notebook>=6.4.10->great-expectations==0.15.12->hsfs~=3.5.0rc0->hsfs[python]~=3.5.0rc0->hopsworks==3.5.0rc1) (1.3.0)\n",
      "Requirement already satisfied: python-json-logger>=2.0.4 in /Users/rvanbruggen/.pyenv/versions/3.11.6/lib/python3.11/site-packages (from jupyter-events>=0.6.0->jupyter-server<3,>=2.4.0->notebook>=6.4.10->great-expectations==0.15.12->hsfs~=3.5.0rc0->hsfs[python]~=3.5.0rc0->hopsworks==3.5.0rc1) (2.0.7)\n",
      "Requirement already satisfied: pyyaml>=5.3 in /Users/rvanbruggen/.pyenv/versions/3.11.6/lib/python3.11/site-packages (from jupyter-events>=0.6.0->jupyter-server<3,>=2.4.0->notebook>=6.4.10->great-expectations==0.15.12->hsfs~=3.5.0rc0->hsfs[python]~=3.5.0rc0->hopsworks==3.5.0rc1) (6.0.1)\n",
      "Requirement already satisfied: rfc3339-validator in /Users/rvanbruggen/.pyenv/versions/3.11.6/lib/python3.11/site-packages (from jupyter-events>=0.6.0->jupyter-server<3,>=2.4.0->notebook>=6.4.10->great-expectations==0.15.12->hsfs~=3.5.0rc0->hsfs[python]~=3.5.0rc0->hopsworks==3.5.0rc1) (0.1.4)\n",
      "Requirement already satisfied: rfc3986-validator>=0.1.1 in /Users/rvanbruggen/.pyenv/versions/3.11.6/lib/python3.11/site-packages (from jupyter-events>=0.6.0->jupyter-server<3,>=2.4.0->notebook>=6.4.10->great-expectations==0.15.12->hsfs~=3.5.0rc0->hsfs[python]~=3.5.0rc0->hopsworks==3.5.0rc1) (0.1.1)\n",
      "Requirement already satisfied: beautifulsoup4 in /Users/rvanbruggen/.pyenv/versions/3.11.6/lib/python3.11/site-packages (from nbconvert>=6.4.4->jupyter-server<3,>=2.4.0->notebook>=6.4.10->great-expectations==0.15.12->hsfs~=3.5.0rc0->hsfs[python]~=3.5.0rc0->hopsworks==3.5.0rc1) (4.12.2)\n",
      "Requirement already satisfied: bleach!=5.0.0 in /Users/rvanbruggen/.pyenv/versions/3.11.6/lib/python3.11/site-packages (from nbconvert>=6.4.4->jupyter-server<3,>=2.4.0->notebook>=6.4.10->great-expectations==0.15.12->hsfs~=3.5.0rc0->hsfs[python]~=3.5.0rc0->hopsworks==3.5.0rc1) (6.1.0)\n",
      "Requirement already satisfied: defusedxml in /Users/rvanbruggen/.pyenv/versions/3.11.6/lib/python3.11/site-packages (from nbconvert>=6.4.4->jupyter-server<3,>=2.4.0->notebook>=6.4.10->great-expectations==0.15.12->hsfs~=3.5.0rc0->hsfs[python]~=3.5.0rc0->hopsworks==3.5.0rc1) (0.7.1)\n",
      "Requirement already satisfied: jupyterlab-pygments in /Users/rvanbruggen/.pyenv/versions/3.11.6/lib/python3.11/site-packages (from nbconvert>=6.4.4->jupyter-server<3,>=2.4.0->notebook>=6.4.10->great-expectations==0.15.12->hsfs~=3.5.0rc0->hsfs[python]~=3.5.0rc0->hopsworks==3.5.0rc1) (0.2.2)\n",
      "Requirement already satisfied: nbclient>=0.5.0 in /Users/rvanbruggen/.pyenv/versions/3.11.6/lib/python3.11/site-packages (from nbconvert>=6.4.4->jupyter-server<3,>=2.4.0->notebook>=6.4.10->great-expectations==0.15.12->hsfs~=3.5.0rc0->hsfs[python]~=3.5.0rc0->hopsworks==3.5.0rc1) (0.9.0)\n",
      "Requirement already satisfied: pandocfilters>=1.4.1 in /Users/rvanbruggen/.pyenv/versions/3.11.6/lib/python3.11/site-packages (from nbconvert>=6.4.4->jupyter-server<3,>=2.4.0->notebook>=6.4.10->great-expectations==0.15.12->hsfs~=3.5.0rc0->hsfs[python]~=3.5.0rc0->hopsworks==3.5.0rc1) (1.5.0)\n",
      "Requirement already satisfied: tinycss2 in /Users/rvanbruggen/.pyenv/versions/3.11.6/lib/python3.11/site-packages (from nbconvert>=6.4.4->jupyter-server<3,>=2.4.0->notebook>=6.4.10->great-expectations==0.15.12->hsfs~=3.5.0rc0->hsfs[python]~=3.5.0rc0->hopsworks==3.5.0rc1) (1.2.1)\n",
      "Requirement already satisfied: argon2-cffi-bindings in /Users/rvanbruggen/.pyenv/versions/3.11.6/lib/python3.11/site-packages (from argon2-cffi->jupyter-server<3,>=2.4.0->notebook>=6.4.10->great-expectations==0.15.12->hsfs~=3.5.0rc0->hsfs[python]~=3.5.0rc0->hopsworks==3.5.0rc1) (21.2.0)\n",
      "Requirement already satisfied: comm>=0.1.1 in /Users/rvanbruggen/.pyenv/versions/3.11.6/lib/python3.11/site-packages (from ipykernel->jupyterlab<5,>=4.0.2->notebook>=6.4.10->great-expectations==0.15.12->hsfs~=3.5.0rc0->hsfs[python]~=3.5.0rc0->hopsworks==3.5.0rc1) (0.2.0)\n",
      "Requirement already satisfied: debugpy>=1.6.5 in /Users/rvanbruggen/.pyenv/versions/3.11.6/lib/python3.11/site-packages (from ipykernel->jupyterlab<5,>=4.0.2->notebook>=6.4.10->great-expectations==0.15.12->hsfs~=3.5.0rc0->hsfs[python]~=3.5.0rc0->hopsworks==3.5.0rc1) (1.8.0)\n",
      "Requirement already satisfied: nest-asyncio in /Users/rvanbruggen/.pyenv/versions/3.11.6/lib/python3.11/site-packages (from ipykernel->jupyterlab<5,>=4.0.2->notebook>=6.4.10->great-expectations==0.15.12->hsfs~=3.5.0rc0->hsfs[python]~=3.5.0rc0->hopsworks==3.5.0rc1) (1.5.8)\n",
      "Requirement already satisfied: psutil in /Users/rvanbruggen/.pyenv/versions/3.11.6/lib/python3.11/site-packages (from ipykernel->jupyterlab<5,>=4.0.2->notebook>=6.4.10->great-expectations==0.15.12->hsfs~=3.5.0rc0->hsfs[python]~=3.5.0rc0->hopsworks==3.5.0rc1) (5.9.6)\n",
      "Requirement already satisfied: webencodings in /Users/rvanbruggen/.pyenv/versions/3.11.6/lib/python3.11/site-packages (from bleach!=5.0.0->nbconvert>=6.4.4->jupyter-server<3,>=2.4.0->notebook>=6.4.10->great-expectations==0.15.12->hsfs~=3.5.0rc0->hsfs[python]~=3.5.0rc0->hopsworks==3.5.0rc1) (0.5.1)\n",
      "Requirement already satisfied: fqdn in /Users/rvanbruggen/.pyenv/versions/3.11.6/lib/python3.11/site-packages (from jsonschema[format-nongpl]>=4.18.0->jupyter-events>=0.6.0->jupyter-server<3,>=2.4.0->notebook>=6.4.10->great-expectations==0.15.12->hsfs~=3.5.0rc0->hsfs[python]~=3.5.0rc0->hopsworks==3.5.0rc1) (1.5.1)\n",
      "Requirement already satisfied: isoduration in /Users/rvanbruggen/.pyenv/versions/3.11.6/lib/python3.11/site-packages (from jsonschema[format-nongpl]>=4.18.0->jupyter-events>=0.6.0->jupyter-server<3,>=2.4.0->notebook>=6.4.10->great-expectations==0.15.12->hsfs~=3.5.0rc0->hsfs[python]~=3.5.0rc0->hopsworks==3.5.0rc1) (20.11.0)\n",
      "Requirement already satisfied: uri-template in /Users/rvanbruggen/.pyenv/versions/3.11.6/lib/python3.11/site-packages (from jsonschema[format-nongpl]>=4.18.0->jupyter-events>=0.6.0->jupyter-server<3,>=2.4.0->notebook>=6.4.10->great-expectations==0.15.12->hsfs~=3.5.0rc0->hsfs[python]~=3.5.0rc0->hopsworks==3.5.0rc1) (1.3.0)\n",
      "Requirement already satisfied: webcolors>=1.11 in /Users/rvanbruggen/.pyenv/versions/3.11.6/lib/python3.11/site-packages (from jsonschema[format-nongpl]>=4.18.0->jupyter-events>=0.6.0->jupyter-server<3,>=2.4.0->notebook>=6.4.10->great-expectations==0.15.12->hsfs~=3.5.0rc0->hsfs[python]~=3.5.0rc0->hopsworks==3.5.0rc1) (1.13)\n",
      "Requirement already satisfied: soupsieve>1.2 in /Users/rvanbruggen/.pyenv/versions/3.11.6/lib/python3.11/site-packages (from beautifulsoup4->nbconvert>=6.4.4->jupyter-server<3,>=2.4.0->notebook>=6.4.10->great-expectations==0.15.12->hsfs~=3.5.0rc0->hsfs[python]~=3.5.0rc0->hopsworks==3.5.0rc1) (2.5)\n",
      "Requirement already satisfied: arrow>=0.15.0 in /Users/rvanbruggen/.pyenv/versions/3.11.6/lib/python3.11/site-packages (from isoduration->jsonschema[format-nongpl]>=4.18.0->jupyter-events>=0.6.0->jupyter-server<3,>=2.4.0->notebook>=6.4.10->great-expectations==0.15.12->hsfs~=3.5.0rc0->hsfs[python]~=3.5.0rc0->hopsworks==3.5.0rc1) (1.3.0)\n",
      "Requirement already satisfied: types-python-dateutil>=2.8.10 in /Users/rvanbruggen/.pyenv/versions/3.11.6/lib/python3.11/site-packages (from arrow>=0.15.0->isoduration->jsonschema[format-nongpl]>=4.18.0->jupyter-events>=0.6.0->jupyter-server<3,>=2.4.0->notebook>=6.4.10->great-expectations==0.15.12->hsfs~=3.5.0rc0->hsfs[python]~=3.5.0rc0->hopsworks==3.5.0rc1) (2.8.19.14)\n"
     ]
    }
   ],
   "source": [
    "!pip install -U kaleido # For Plotly Image export\n",
    "!pip install sklearn\n",
    "!pip install hopsworks==3.5.0rc1"
   ]
  },
  {
   "cell_type": "markdown",
   "metadata": {},
   "source": [
    "### Other imports\n",
    "We are importing a number of other libaries, among which several classes from  `coffeevolume.py` and `averages.py`, into this notebook, as we will use it later on."
   ]
  },
  {
   "cell_type": "code",
   "execution_count": 2,
   "id": "8355be0e",
   "metadata": {},
   "outputs": [],
   "source": [
    "import pandas as pd\n",
    "import numpy as np\n",
    "import xgboost as xgb\n",
    "from sklearn.metrics import mean_squared_error\n",
    "import os\n",
    "import joblib\n",
    "from coffeevolume import plot_prediction_test\n",
    "from functions import predict_id\n",
    "from datetime import datetime\n",
    "import warnings\n",
    "warnings.filterwarnings('ignore')"
   ]
  },
  {
   "cell_type": "markdown",
   "id": "9dbea0ad",
   "metadata": {},
   "source": [
    "## <span style=\"color:#ff5f27\">🔮 Connect to Hopsworks Feature Store </span>\n",
    "As we have already installed Hopsworks on this system, all we now need to do is import the library into this notebook, and start establishing the connection to the Hopsworks feature store."
   ]
  },
  {
   "cell_type": "code",
   "execution_count": 4,
   "id": "e499f528",
   "metadata": {},
   "outputs": [
    {
     "name": "stdout",
     "output_type": "stream",
     "text": [
      "Connected. Call `.close()` to terminate connection gracefully.\n",
      "\n",
      "Logged in to project, explore it here https://172f2800-9e76-11ee-ba4c-277d56d9f8e7.cloud.hopsworks.ai:443/p/4215\n",
      "Connected. Call `.close()` to terminate connection gracefully.\n"
     ]
    }
   ],
   "source": [
    "import hopsworks\n",
    "\n",
    "# #To connect to Managed:\n",
    "# import hsfs\n",
    "# conn = hsfs.connection(\n",
    "#     host=\"172f2800-9e76-11ee-ba4c-277d56d9f8e7.cloud.hopsworks.ai\",                                # DNS of your Feature Store instance\n",
    "#     project=\"RixCoffeevolumeDemo\",                      # Name of your Hopsworks Feature Store project\n",
    "#     hostname_verification=False,                     # Disable for self-signed certificates\n",
    "#     api_key_value=\"Q0sPuOSFpsuwdIa0.pfBCpgAAnPr3C3J49BvEdeJvfoqTkwQihEotXupzz23FPzDdJpexwHmXyRB8ACDf\"          # Feature store API key value \n",
    "# )\n",
    "# fs = conn.get_feature_store()           # Get the project's default feature store\"\n",
    "\n",
    "project = hopsworks.login(\n",
    "    host=\"172f2800-9e76-11ee-ba4c-277d56d9f8e7.cloud.hopsworks.ai\", \n",
    "    project=\"RixCoffeevolumeDemo\",        \n",
    "    api_key_value=\"Q0sPuOSFpsuwdIa0.pfBCpgAAnPr3C3J49BvEdeJvfoqTkwQihEotXupzz23FPzDdJpexwHmXyRB8ACDf\" \n",
    ")\n",
    "fs = project.get_feature_store()  \n",
    "\n",
    "#To connect to Serverless:\n",
    "#import hopsworks\n",
    "# project = hopsworks.login()\n",
    "#fs = project.get_feature_store() "
   ]
  },
  {
   "cell_type": "markdown",
   "metadata": {},
   "source": [
    "Since we have already created the necessary feature groups in our previous notebook, we can now just import these into our training pipeline. Remember we had two feature groups:\n",
    "1. a `coffeevolume` feature group that contained the synthetic data that we had created,\n",
    "2. a `coffeevolume_averages` feature group that contained a number of _engineered_ features that we derived from the `coffeevolume` feature group in order to have better predictions later on.\n",
    "\n",
    "We retrieve bother feature groups:"
   ]
  },
  {
   "cell_type": "code",
   "execution_count": 5,
   "id": "b9c6c942",
   "metadata": {},
   "outputs": [],
   "source": [
    "# Retrieve feature groups\n",
    "coffeevolume_fg = fs.get_feature_group(\n",
    "    name='coffeevolume',\n",
    "    version=1,\n",
    ")\n",
    "coffeevolume_averages_fg = fs.get_feature_group(\n",
    "    name='coffeevolume_averages',\n",
    "    version=1,\n",
    ")"
   ]
  },
  {
   "cell_type": "markdown",
   "id": "7e72db48",
   "metadata": {},
   "source": [
    "## <span style=\"color:#ff5f27\">🔪 Preparing our Training pipeline: Feature Selection </span>\n",
    "Using the Hopsworks feature store, we can very easily select the specific subset that we need for our training pipeline, and be confident that we will be using the correct training dataset in our Machine Learning process:"
   ]
  },
  {
   "cell_type": "code",
   "execution_count": 6,
   "id": "0740ac7f",
   "metadata": {},
   "outputs": [
    {
     "name": "stdout",
     "output_type": "stream",
     "text": [
      "Finished: Reading data from Hopsworks, using ArrowFlight (29.74s) \n"
     ]
    },
    {
     "data": {
      "text/html": [
       "<div>\n",
       "<style scoped>\n",
       "    .dataframe tbody tr th:only-of-type {\n",
       "        vertical-align: middle;\n",
       "    }\n",
       "\n",
       "    .dataframe tbody tr th {\n",
       "        vertical-align: top;\n",
       "    }\n",
       "\n",
       "    .dataframe thead th {\n",
       "        text-align: right;\n",
       "    }\n",
       "</style>\n",
       "<table border=\"1\" class=\"dataframe\">\n",
       "  <thead>\n",
       "    <tr style=\"text-align: right;\">\n",
       "      <th></th>\n",
       "      <th>date</th>\n",
       "      <th>id</th>\n",
       "      <th>coffeevolume</th>\n",
       "      <th>ma_7</th>\n",
       "      <th>ma_14</th>\n",
       "      <th>ma_30</th>\n",
       "      <th>daily_rate_of_change</th>\n",
       "      <th>volatility_30_day</th>\n",
       "      <th>ema_02</th>\n",
       "      <th>ema_05</th>\n",
       "      <th>rsi</th>\n",
       "    </tr>\n",
       "  </thead>\n",
       "  <tbody>\n",
       "    <tr>\n",
       "      <th>0</th>\n",
       "      <td>2023-09-01</td>\n",
       "      <td>0</td>\n",
       "      <td>200.0</td>\n",
       "      <td>0.0</td>\n",
       "      <td>0.0</td>\n",
       "      <td>0.0</td>\n",
       "      <td>0.000000</td>\n",
       "      <td>0.0</td>\n",
       "      <td>200.000000</td>\n",
       "      <td>200.000000</td>\n",
       "      <td>0.0</td>\n",
       "    </tr>\n",
       "    <tr>\n",
       "      <th>1</th>\n",
       "      <td>2023-09-02</td>\n",
       "      <td>0</td>\n",
       "      <td>201.0</td>\n",
       "      <td>0.0</td>\n",
       "      <td>0.0</td>\n",
       "      <td>0.0</td>\n",
       "      <td>0.500000</td>\n",
       "      <td>0.0</td>\n",
       "      <td>200.555556</td>\n",
       "      <td>200.666667</td>\n",
       "      <td>0.0</td>\n",
       "    </tr>\n",
       "    <tr>\n",
       "      <th>2</th>\n",
       "      <td>2023-09-03</td>\n",
       "      <td>0</td>\n",
       "      <td>193.1</td>\n",
       "      <td>0.0</td>\n",
       "      <td>0.0</td>\n",
       "      <td>0.0</td>\n",
       "      <td>-3.930348</td>\n",
       "      <td>0.0</td>\n",
       "      <td>197.500000</td>\n",
       "      <td>196.342857</td>\n",
       "      <td>0.0</td>\n",
       "    </tr>\n",
       "    <tr>\n",
       "      <th>3</th>\n",
       "      <td>2023-09-04</td>\n",
       "      <td>0</td>\n",
       "      <td>206.7</td>\n",
       "      <td>0.0</td>\n",
       "      <td>0.0</td>\n",
       "      <td>0.0</td>\n",
       "      <td>7.042983</td>\n",
       "      <td>0.0</td>\n",
       "      <td>200.616531</td>\n",
       "      <td>201.866667</td>\n",
       "      <td>0.0</td>\n",
       "    </tr>\n",
       "    <tr>\n",
       "      <th>4</th>\n",
       "      <td>2023-09-05</td>\n",
       "      <td>0</td>\n",
       "      <td>204.7</td>\n",
       "      <td>0.0</td>\n",
       "      <td>0.0</td>\n",
       "      <td>0.0</td>\n",
       "      <td>-1.539202</td>\n",
       "      <td>0.0</td>\n",
       "      <td>204.237744</td>\n",
       "      <td>205.219355</td>\n",
       "      <td>0.0</td>\n",
       "    </tr>\n",
       "  </tbody>\n",
       "</table>\n",
       "</div>"
      ],
      "text/plain": [
       "         date  id  coffeevolume  ma_7  ma_14  ma_30  daily_rate_of_change  \\\n",
       "0  2023-09-01   0         200.0   0.0    0.0    0.0              0.000000   \n",
       "1  2023-09-02   0         201.0   0.0    0.0    0.0              0.500000   \n",
       "2  2023-09-03   0         193.1   0.0    0.0    0.0             -3.930348   \n",
       "3  2023-09-04   0         206.7   0.0    0.0    0.0              7.042983   \n",
       "4  2023-09-05   0         204.7   0.0    0.0    0.0             -1.539202   \n",
       "\n",
       "   volatility_30_day      ema_02      ema_05  rsi  \n",
       "0                0.0  200.000000  200.000000  0.0  \n",
       "1                0.0  200.555556  200.666667  0.0  \n",
       "2                0.0  197.500000  196.342857  0.0  \n",
       "3                0.0  200.616531  201.866667  0.0  \n",
       "4                0.0  204.237744  205.219355  0.0  "
      ]
     },
     "execution_count": 6,
     "metadata": {},
     "output_type": "execute_result"
    }
   ],
   "source": [
    "# Select features for training dataset\n",
    "selected_features = coffeevolume_fg.select_all() \\\n",
    "    .join(coffeevolume_averages_fg.select_except(['date']))\n",
    "selected_features.show(5)"
   ]
  },
  {
   "cell_type": "markdown",
   "id": "1334a4cb",
   "metadata": {},
   "source": [
    "## <span style=\"color:#ff5f27\">🤖 Preparing our Training pipeline: Transformation Functions </span>\n",
    "Using the Hopsworks feature store, we can easily apply a set of transformation functions that will apply to our training pipeline:"
   ]
  },
  {
   "cell_type": "code",
   "execution_count": 7,
   "id": "bccb7d00",
   "metadata": {},
   "outputs": [
    {
     "data": {
      "text/plain": [
       "{'ma_7': <hsfs.transformation_function.TransformationFunction at 0x159556bd0>,\n",
       " 'ma_14': <hsfs.transformation_function.TransformationFunction at 0x159556bd0>,\n",
       " 'ma_30': <hsfs.transformation_function.TransformationFunction at 0x159556bd0>,\n",
       " 'daily_rate_of_change': <hsfs.transformation_function.TransformationFunction at 0x159556bd0>,\n",
       " 'volatility_30_day': <hsfs.transformation_function.TransformationFunction at 0x159556bd0>,\n",
       " 'ema_02': <hsfs.transformation_function.TransformationFunction at 0x159556bd0>,\n",
       " 'ema_05': <hsfs.transformation_function.TransformationFunction at 0x159556bd0>,\n",
       " 'rsi': <hsfs.transformation_function.TransformationFunction at 0x159556bd0>}"
      ]
     },
     "execution_count": 7,
     "metadata": {},
     "output_type": "execute_result"
    }
   ],
   "source": [
    "# Load transformation function\n",
    "min_max_scaler = fs.get_transformation_function(name=\"min_max_scaler\")\n",
    "\n",
    "# Define a list of feature names\n",
    "feature_names = [\n",
    "    'ma_7', 'ma_14', 'ma_30', 'daily_rate_of_change', 'volatility_30_day', 'ema_02', 'ema_05', 'rsi'\n",
    "]\n",
    "\n",
    "# Map features to transformations\n",
    "transformation_functions = {\n",
    "    feature_name: min_max_scaler\n",
    "    for feature_name in feature_names\n",
    "}\n",
    "transformation_functions"
   ]
  },
  {
   "cell_type": "markdown",
   "id": "925ad679",
   "metadata": {},
   "source": [
    "## <span style=\"color:#ff5f27\">⚙️ Feature View Creation leveraging feature groups, feature selection and feature transformations </span>\n",
    "Using the feature groups, the selection that we made above and finally the associated transformation functions, we can create a **feature view** in the Hopsworks feature store:"
   ]
  },
  {
   "cell_type": "code",
   "execution_count": 8,
   "id": "ffdfda5e",
   "metadata": {},
   "outputs": [],
   "source": [
    "# Get or create the 'coffeevolume_fv' feature view\n",
    "feature_view = fs.get_or_create_feature_view(\n",
    "    name='coffeevolume_fv',\n",
    "    version=1,\n",
    "    query=selected_features,\n",
    "    labels=[\"coffeevolume\"],\n",
    "    transformation_functions=transformation_functions,\n",
    ")\n"
   ]
  },
  {
   "cell_type": "markdown",
   "id": "3e1e1170",
   "metadata": {},
   "source": [
    "# <span style=\"color:#ff5f27\">🏋️ Training Dataset Creation based on the Feature View</span>\n",
    "The next part of our process will focus on the creation of a Training dataset based on the feature view that we have prepared above."
   ]
  },
  {
   "cell_type": "code",
   "execution_count": 9,
   "id": "554cbace",
   "metadata": {},
   "outputs": [
    {
     "name": "stdout",
     "output_type": "stream",
     "text": [
      "Finished: Reading data from Hopsworks, using ArrowFlight (27.13s) \n"
     ]
    },
    {
     "name": "stderr",
     "output_type": "stream",
     "text": [
      "VersionWarning: Incremented version to `2`.\n"
     ]
    }
   ],
   "source": [
    "# Get training and testing sets\n",
    "X_train, X_test, y_train, y_test = feature_view.train_test_split(\n",
    "    description='Coffee Volume Dataset',  # Provide a description for the dataset split\n",
    "    train_start='2023-09-01',      # Start date for the training set\n",
    "    train_end='2023-11-01',        # End date for the training set\n",
    "    test_start='2023-11-01',       # Start date for the testing set\n",
    "    test_end=datetime.today().strftime(\"%Y-%m-%d\"),  # End date for the testing set (current date)\n",
    ")"
   ]
  },
  {
   "cell_type": "code",
   "execution_count": 10,
   "id": "041666ce",
   "metadata": {},
   "outputs": [
    {
     "data": {
      "text/html": [
       "<div>\n",
       "<style scoped>\n",
       "    .dataframe tbody tr th:only-of-type {\n",
       "        vertical-align: middle;\n",
       "    }\n",
       "\n",
       "    .dataframe tbody tr th {\n",
       "        vertical-align: top;\n",
       "    }\n",
       "\n",
       "    .dataframe thead th {\n",
       "        text-align: right;\n",
       "    }\n",
       "</style>\n",
       "<table border=\"1\" class=\"dataframe\">\n",
       "  <thead>\n",
       "    <tr style=\"text-align: right;\">\n",
       "      <th></th>\n",
       "      <th>date</th>\n",
       "      <th>id</th>\n",
       "      <th>ma_7</th>\n",
       "      <th>ma_14</th>\n",
       "      <th>ma_30</th>\n",
       "      <th>daily_rate_of_change</th>\n",
       "      <th>volatility_30_day</th>\n",
       "      <th>ema_02</th>\n",
       "      <th>ema_05</th>\n",
       "      <th>rsi</th>\n",
       "    </tr>\n",
       "  </thead>\n",
       "  <tbody>\n",
       "    <tr>\n",
       "      <th>0</th>\n",
       "      <td>2023-09-01</td>\n",
       "      <td>0</td>\n",
       "      <td>0.0</td>\n",
       "      <td>0.0</td>\n",
       "      <td>0.0</td>\n",
       "      <td>0.449107</td>\n",
       "      <td>0.0</td>\n",
       "      <td>0.207295</td>\n",
       "      <td>0.184405</td>\n",
       "      <td>0.361737</td>\n",
       "    </tr>\n",
       "    <tr>\n",
       "      <th>1</th>\n",
       "      <td>2023-09-02</td>\n",
       "      <td>0</td>\n",
       "      <td>0.0</td>\n",
       "      <td>0.0</td>\n",
       "      <td>0.0</td>\n",
       "      <td>0.467924</td>\n",
       "      <td>0.0</td>\n",
       "      <td>0.221873</td>\n",
       "      <td>0.199966</td>\n",
       "      <td>0.361737</td>\n",
       "    </tr>\n",
       "    <tr>\n",
       "      <th>2</th>\n",
       "      <td>2023-09-03</td>\n",
       "      <td>0</td>\n",
       "      <td>0.0</td>\n",
       "      <td>0.0</td>\n",
       "      <td>0.0</td>\n",
       "      <td>0.301190</td>\n",
       "      <td>0.0</td>\n",
       "      <td>0.141695</td>\n",
       "      <td>0.099038</td>\n",
       "      <td>0.361737</td>\n",
       "    </tr>\n",
       "  </tbody>\n",
       "</table>\n",
       "</div>"
      ],
      "text/plain": [
       "         date  id  ma_7  ma_14  ma_30  daily_rate_of_change  \\\n",
       "0  2023-09-01   0   0.0    0.0    0.0              0.449107   \n",
       "1  2023-09-02   0   0.0    0.0    0.0              0.467924   \n",
       "2  2023-09-03   0   0.0    0.0    0.0              0.301190   \n",
       "\n",
       "   volatility_30_day    ema_02    ema_05       rsi  \n",
       "0                0.0  0.207295  0.184405  0.361737  \n",
       "1                0.0  0.221873  0.199966  0.361737  \n",
       "2                0.0  0.141695  0.099038  0.361737  "
      ]
     },
     "execution_count": 10,
     "metadata": {},
     "output_type": "execute_result"
    }
   ],
   "source": [
    "X_train.head(3)"
   ]
  },
  {
   "cell_type": "code",
   "execution_count": 11,
   "id": "d7315f14",
   "metadata": {},
   "outputs": [
    {
     "data": {
      "text/html": [
       "<div>\n",
       "<style scoped>\n",
       "    .dataframe tbody tr th:only-of-type {\n",
       "        vertical-align: middle;\n",
       "    }\n",
       "\n",
       "    .dataframe tbody tr th {\n",
       "        vertical-align: top;\n",
       "    }\n",
       "\n",
       "    .dataframe thead th {\n",
       "        text-align: right;\n",
       "    }\n",
       "</style>\n",
       "<table border=\"1\" class=\"dataframe\">\n",
       "  <thead>\n",
       "    <tr style=\"text-align: right;\">\n",
       "      <th></th>\n",
       "      <th>coffeevolume</th>\n",
       "    </tr>\n",
       "  </thead>\n",
       "  <tbody>\n",
       "    <tr>\n",
       "      <th>0</th>\n",
       "      <td>200.0</td>\n",
       "    </tr>\n",
       "    <tr>\n",
       "      <th>1</th>\n",
       "      <td>201.0</td>\n",
       "    </tr>\n",
       "    <tr>\n",
       "      <th>2</th>\n",
       "      <td>193.1</td>\n",
       "    </tr>\n",
       "  </tbody>\n",
       "</table>\n",
       "</div>"
      ],
      "text/plain": [
       "   coffeevolume\n",
       "0         200.0\n",
       "1         201.0\n",
       "2         193.1"
      ]
     },
     "execution_count": 11,
     "metadata": {},
     "output_type": "execute_result"
    }
   ],
   "source": [
    "y_train.head(3)"
   ]
  },
  {
   "cell_type": "code",
   "execution_count": 12,
   "id": "af817399",
   "metadata": {},
   "outputs": [],
   "source": [
    "# Sort the training features by the 'date' column\n",
    "X_train = X_train.sort_values(\"date\")\n",
    "\n",
    "# Reindex the target 'y_train' to match the sorted order of 'X_train'\n",
    "y_train = y_train.reindex(X_train.index)\n",
    "\n",
    "# Sort the testing features by the 'date' column\n",
    "X_test = X_test.sort_values(\"date\")\n",
    "\n",
    "# Reindex the target 'y_test' to match the sorted order of 'X_test'\n",
    "y_test = y_test.reindex(X_test.index)\n",
    "\n",
    "# Extract and store the 'date' column as a separate DataFrame for both training and testing sets\n",
    "train_date = pd.DataFrame(X_train.pop(\"date\"))\n",
    "test_date = pd.DataFrame(X_test.pop(\"date\"))"
   ]
  },
  {
   "cell_type": "markdown",
   "id": "4e7d0253",
   "metadata": {},
   "source": [
    "# <span style=\"color:#ff5f27\">🧬 Using the training dataset to create a Machine Learning Model</span>\n",
    "\n",
    "In order to now create a predictive model out of our data, we will use the **XGBoost Regressor** to examine the training dataset and figure out a predictive model. XGBoost regressor is a powerful and highly effective machine learning algorithm for regression problems. XGBoost is known for its ability to handle complex relationships in the data, handle missing values, and provide accurate predictions. It's a popular choice in the data science community due to its robustness and excellent predictive performance, making it well-suited for our specific problem."
   ]
  },
  {
   "cell_type": "code",
   "execution_count": 13,
   "id": "a999d119",
   "metadata": {},
   "outputs": [
    {
     "name": "stdout",
     "output_type": "stream",
     "text": [
      "Mean Squared Error (MSE): 1.6051051026030378\n"
     ]
    }
   ],
   "source": [
    "# Initialize the XGBoost regressor\n",
    "model = xgb.XGBRegressor()\n",
    "\n",
    "# Train the model on the training data\n",
    "model.fit(X_train, y_train)\n",
    "\n",
    "# Make predictions on the validation set\n",
    "y_test_pred = model.predict(X_test)\n",
    "\n",
    "# Calculate RMSE on the validation set\n",
    "mse = mean_squared_error(y_test, y_test_pred, squared=False)\n",
    "print(f\"Mean Squared Error (MSE): {mse}\")"
   ]
  },
  {
   "cell_type": "code",
   "execution_count": 14,
   "id": "3b0f556d",
   "metadata": {},
   "outputs": [
    {
     "data": {
      "application/vnd.plotly.v1+json": {
       "config": {
        "plotlyServerURL": "https://plot.ly"
       },
       "data": [
        {
         "line": {
          "color": "blue"
         },
         "mode": "lines",
         "name": "Training Data",
         "type": "scatter",
         "x": [
          "2023-09-01",
          "2023-09-02",
          "2023-09-04",
          "2023-09-06",
          "2023-09-07",
          "2023-09-08",
          "2023-09-09",
          "2023-09-10",
          "2023-09-11",
          "2023-09-12",
          "2023-09-13",
          "2023-09-14",
          "2023-09-15",
          "2023-09-16",
          "2023-09-17",
          "2023-09-18",
          "2023-09-19",
          "2023-09-21",
          "2023-09-22",
          "2023-09-23",
          "2023-09-24",
          "2023-09-25",
          "2023-09-27",
          "2023-09-28",
          "2023-09-29",
          "2023-10-01",
          "2023-10-02",
          "2023-10-03",
          "2023-10-04",
          "2023-10-05",
          "2023-10-06",
          "2023-10-07",
          "2023-10-08",
          "2023-10-09",
          "2023-10-10",
          "2023-10-11",
          "2023-10-12",
          "2023-10-13",
          "2023-10-14",
          "2023-10-15",
          "2023-10-17",
          "2023-10-19",
          "2023-10-20",
          "2023-10-21",
          "2023-10-22",
          "2023-10-23",
          "2023-10-24",
          "2023-10-25",
          "2023-10-26",
          "2023-10-27",
          "2023-10-28",
          "2023-10-29",
          "2023-10-30",
          "2023-10-31"
         ],
         "y": [
          200,
          200.6,
          208.8,
          206.2,
          207.7,
          203.7,
          204.9,
          209.7,
          207.3,
          201.2,
          206.1,
          206.5,
          206.1,
          207.4,
          209.5,
          206.8,
          214.3,
          207.3,
          207.3,
          207.8,
          210.1,
          211.9,
          206.3,
          211.4,
          216.3,
          216.6,
          212,
          215.4,
          217,
          219.7,
          211.4,
          227.9,
          226.9,
          206.7,
          214,
          222.7,
          221.2,
          222.2,
          220.1,
          227.2,
          224.9,
          226.7,
          215.4,
          219.9,
          221.9,
          228.3,
          221.2,
          223.7,
          215.5,
          228.2,
          226.3,
          225.7,
          225.5,
          226.1
         ]
        },
        {
         "line": {
          "color": "green"
         },
         "mode": "lines",
         "name": "Test Data",
         "type": "scatter",
         "x": [
          "2023-11-01",
          "2023-11-02",
          "2023-11-03",
          "2023-11-04",
          "2023-11-05",
          "2023-11-08",
          "2023-11-09",
          "2023-11-10",
          "2023-11-11",
          "2023-11-12",
          "2023-11-13",
          "2023-11-14",
          "2023-11-15",
          "2023-11-16",
          "2023-11-17",
          "2023-11-18",
          "2023-11-19",
          "2023-11-20",
          "2023-11-21",
          "2023-11-22",
          "2023-11-25",
          "2023-11-26",
          "2023-11-27",
          "2023-11-28",
          "2023-11-29",
          "2023-11-30",
          "2023-12-01",
          "2023-12-02",
          "2023-12-03",
          "2023-12-04",
          "2023-12-05",
          "2023-12-06",
          "2023-12-07",
          "2023-12-08",
          "2023-12-09",
          "2023-12-10",
          "2023-12-11",
          "2023-12-13",
          "2023-12-14",
          "2023-12-15",
          "2023-12-16",
          "2023-12-17",
          "2023-12-18",
          "2023-12-19",
          "2023-12-20",
          "2023-12-21",
          "2023-12-22",
          "2023-12-23",
          "2023-12-24",
          "2023-12-25",
          "2023-12-26",
          "2023-12-27",
          "2023-12-28",
          "2023-12-29",
          "2023-12-31",
          "2024-01-01",
          "2024-01-02",
          "2024-01-04",
          "2024-01-05",
          "2024-01-06",
          "2024-01-07",
          "2024-01-08",
          "2024-01-09",
          "2024-01-10",
          "2024-01-11",
          "2024-01-12",
          "2024-01-13",
          "2024-01-15",
          "2024-01-16",
          "2024-01-17",
          "2024-01-19",
          "2024-01-22",
          "2024-01-23",
          "2024-01-24",
          "2024-01-25",
          "2024-01-27",
          "2024-01-28",
          "2024-01-29"
         ],
         "y": [
          224.1,
          226.4,
          224.5,
          235.2,
          214.9,
          223.4,
          226.1,
          231.2,
          226.9,
          238.7,
          227.7,
          228.6,
          232.3,
          231.8,
          228.2,
          228.5,
          228.6,
          226.2,
          233.6,
          219.9,
          231.1,
          229.3,
          227.6,
          230.7,
          233.6,
          231.4,
          228,
          237.9,
          238.7,
          227.2,
          233.2,
          228.4,
          224.5,
          233.2,
          235.5,
          218.9,
          236.3,
          229.1,
          227.9,
          229.2,
          230.7,
          228.6,
          228.8,
          220,
          220.5,
          224.1,
          232.1,
          230.9,
          224.6,
          228.4,
          235.1,
          217.3,
          233,
          224.7,
          228.5,
          226.5,
          222.8,
          226.2,
          229.6,
          224.4,
          224.1,
          229.6,
          228.3,
          225.3,
          222.8,
          218.8,
          219.7,
          221.6,
          223.2,
          223.2,
          219.1,
          213.4,
          214.5,
          220.9,
          212.3,
          216.7,
          217.9,
          217.4
         ]
        },
        {
         "line": {
          "color": "red"
         },
         "mode": "lines",
         "name": "Prediction",
         "type": "scatter",
         "x": [
          "2023-11-01",
          "2023-11-02",
          "2023-11-03",
          "2023-11-04",
          "2023-11-05",
          "2023-11-08",
          "2023-11-09",
          "2023-11-10",
          "2023-11-11",
          "2023-11-12",
          "2023-11-13",
          "2023-11-14",
          "2023-11-15",
          "2023-11-16",
          "2023-11-17",
          "2023-11-18",
          "2023-11-19",
          "2023-11-20",
          "2023-11-21",
          "2023-11-22",
          "2023-11-25",
          "2023-11-26",
          "2023-11-27",
          "2023-11-28",
          "2023-11-29",
          "2023-11-30",
          "2023-12-01",
          "2023-12-02",
          "2023-12-03",
          "2023-12-04",
          "2023-12-05",
          "2023-12-06",
          "2023-12-07",
          "2023-12-08",
          "2023-12-09",
          "2023-12-10",
          "2023-12-11",
          "2023-12-13",
          "2023-12-14",
          "2023-12-15",
          "2023-12-16",
          "2023-12-17",
          "2023-12-18",
          "2023-12-19",
          "2023-12-20",
          "2023-12-21",
          "2023-12-22",
          "2023-12-23",
          "2023-12-24",
          "2023-12-25",
          "2023-12-26",
          "2023-12-27",
          "2023-12-28",
          "2023-12-29",
          "2023-12-31",
          "2024-01-01",
          "2024-01-02",
          "2024-01-04",
          "2024-01-05",
          "2024-01-06",
          "2024-01-07",
          "2024-01-08",
          "2024-01-09",
          "2024-01-10",
          "2024-01-11",
          "2024-01-12",
          "2024-01-13",
          "2024-01-15",
          "2024-01-16",
          "2024-01-17",
          "2024-01-19",
          "2024-01-22",
          "2024-01-23",
          "2024-01-24",
          "2024-01-25",
          "2024-01-27",
          "2024-01-28",
          "2024-01-29"
         ],
         "y": [
          224.2014617919922,
          226.6690216064453,
          224.6599578857422,
          232.9710235595703,
          214.72267150878906,
          224.00164794921875,
          224.82342529296875,
          231.5399169921875,
          225.79721069335938,
          236.8513946533203,
          226.63368225097656,
          227.32623291015625,
          232.74075317382812,
          230.7387237548828,
          229.40032958984375,
          231.0982666015625,
          228.40663146972656,
          225.70286560058594,
          232.7849884033203,
          219.9640350341797,
          230.44827270507812,
          230.20823669433594,
          227.29783630371094,
          231.6913604736328,
          231.6913604736328,
          230.12338256835938,
          228.30044555664062,
          231.3477020263672,
          233.33670043945312,
          226.40475463867188,
          228.7047882080078,
          231.6272735595703,
          224.96339416503906,
          232.5457763671875,
          231.7293243408203,
          219.3054656982422,
          235.6476593017578,
          227.95835876464844,
          227.9658660888672,
          231.74179077148438,
          231.6849365234375,
          230.20823669433594,
          228.1392822265625,
          219.43357849121094,
          222.95562744140625,
          223.57643127441406,
          228.32818603515625,
          230.51004028320312,
          224.90359497070312,
          229.5293426513672,
          232.93641662597656,
          217.1966552734375,
          231.168701171875,
          224.91346740722656,
          228.9738006591797,
          226.100341796875,
          222.49815368652344,
          225.642822265625,
          228.65692138671875,
          224.671142578125,
          224.27337646484375,
          229.1475372314453,
          228.74356079101562,
          225.07810974121094,
          223.42129516601562,
          218.7945556640625,
          219.8531494140625,
          220.3024139404297,
          222.45948791503906,
          223.1432342529297,
          218.53749084472656,
          213.1406707763672,
          214.05087280273438,
          220.69113159179688,
          212.64576721191406,
          215.6663818359375,
          217.77806091308594,
          217.51821899414062
         ]
        }
       ],
       "layout": {
        "legend": {
         "title": {
          "text": "Data Type"
         }
        },
        "template": {
         "data": {
          "bar": [
           {
            "error_x": {
             "color": "#2a3f5f"
            },
            "error_y": {
             "color": "#2a3f5f"
            },
            "marker": {
             "line": {
              "color": "#E5ECF6",
              "width": 0.5
             },
             "pattern": {
              "fillmode": "overlay",
              "size": 10,
              "solidity": 0.2
             }
            },
            "type": "bar"
           }
          ],
          "barpolar": [
           {
            "marker": {
             "line": {
              "color": "#E5ECF6",
              "width": 0.5
             },
             "pattern": {
              "fillmode": "overlay",
              "size": 10,
              "solidity": 0.2
             }
            },
            "type": "barpolar"
           }
          ],
          "carpet": [
           {
            "aaxis": {
             "endlinecolor": "#2a3f5f",
             "gridcolor": "white",
             "linecolor": "white",
             "minorgridcolor": "white",
             "startlinecolor": "#2a3f5f"
            },
            "baxis": {
             "endlinecolor": "#2a3f5f",
             "gridcolor": "white",
             "linecolor": "white",
             "minorgridcolor": "white",
             "startlinecolor": "#2a3f5f"
            },
            "type": "carpet"
           }
          ],
          "choropleth": [
           {
            "colorbar": {
             "outlinewidth": 0,
             "ticks": ""
            },
            "type": "choropleth"
           }
          ],
          "contour": [
           {
            "colorbar": {
             "outlinewidth": 0,
             "ticks": ""
            },
            "colorscale": [
             [
              0,
              "#0d0887"
             ],
             [
              0.1111111111111111,
              "#46039f"
             ],
             [
              0.2222222222222222,
              "#7201a8"
             ],
             [
              0.3333333333333333,
              "#9c179e"
             ],
             [
              0.4444444444444444,
              "#bd3786"
             ],
             [
              0.5555555555555556,
              "#d8576b"
             ],
             [
              0.6666666666666666,
              "#ed7953"
             ],
             [
              0.7777777777777778,
              "#fb9f3a"
             ],
             [
              0.8888888888888888,
              "#fdca26"
             ],
             [
              1,
              "#f0f921"
             ]
            ],
            "type": "contour"
           }
          ],
          "contourcarpet": [
           {
            "colorbar": {
             "outlinewidth": 0,
             "ticks": ""
            },
            "type": "contourcarpet"
           }
          ],
          "heatmap": [
           {
            "colorbar": {
             "outlinewidth": 0,
             "ticks": ""
            },
            "colorscale": [
             [
              0,
              "#0d0887"
             ],
             [
              0.1111111111111111,
              "#46039f"
             ],
             [
              0.2222222222222222,
              "#7201a8"
             ],
             [
              0.3333333333333333,
              "#9c179e"
             ],
             [
              0.4444444444444444,
              "#bd3786"
             ],
             [
              0.5555555555555556,
              "#d8576b"
             ],
             [
              0.6666666666666666,
              "#ed7953"
             ],
             [
              0.7777777777777778,
              "#fb9f3a"
             ],
             [
              0.8888888888888888,
              "#fdca26"
             ],
             [
              1,
              "#f0f921"
             ]
            ],
            "type": "heatmap"
           }
          ],
          "heatmapgl": [
           {
            "colorbar": {
             "outlinewidth": 0,
             "ticks": ""
            },
            "colorscale": [
             [
              0,
              "#0d0887"
             ],
             [
              0.1111111111111111,
              "#46039f"
             ],
             [
              0.2222222222222222,
              "#7201a8"
             ],
             [
              0.3333333333333333,
              "#9c179e"
             ],
             [
              0.4444444444444444,
              "#bd3786"
             ],
             [
              0.5555555555555556,
              "#d8576b"
             ],
             [
              0.6666666666666666,
              "#ed7953"
             ],
             [
              0.7777777777777778,
              "#fb9f3a"
             ],
             [
              0.8888888888888888,
              "#fdca26"
             ],
             [
              1,
              "#f0f921"
             ]
            ],
            "type": "heatmapgl"
           }
          ],
          "histogram": [
           {
            "marker": {
             "pattern": {
              "fillmode": "overlay",
              "size": 10,
              "solidity": 0.2
             }
            },
            "type": "histogram"
           }
          ],
          "histogram2d": [
           {
            "colorbar": {
             "outlinewidth": 0,
             "ticks": ""
            },
            "colorscale": [
             [
              0,
              "#0d0887"
             ],
             [
              0.1111111111111111,
              "#46039f"
             ],
             [
              0.2222222222222222,
              "#7201a8"
             ],
             [
              0.3333333333333333,
              "#9c179e"
             ],
             [
              0.4444444444444444,
              "#bd3786"
             ],
             [
              0.5555555555555556,
              "#d8576b"
             ],
             [
              0.6666666666666666,
              "#ed7953"
             ],
             [
              0.7777777777777778,
              "#fb9f3a"
             ],
             [
              0.8888888888888888,
              "#fdca26"
             ],
             [
              1,
              "#f0f921"
             ]
            ],
            "type": "histogram2d"
           }
          ],
          "histogram2dcontour": [
           {
            "colorbar": {
             "outlinewidth": 0,
             "ticks": ""
            },
            "colorscale": [
             [
              0,
              "#0d0887"
             ],
             [
              0.1111111111111111,
              "#46039f"
             ],
             [
              0.2222222222222222,
              "#7201a8"
             ],
             [
              0.3333333333333333,
              "#9c179e"
             ],
             [
              0.4444444444444444,
              "#bd3786"
             ],
             [
              0.5555555555555556,
              "#d8576b"
             ],
             [
              0.6666666666666666,
              "#ed7953"
             ],
             [
              0.7777777777777778,
              "#fb9f3a"
             ],
             [
              0.8888888888888888,
              "#fdca26"
             ],
             [
              1,
              "#f0f921"
             ]
            ],
            "type": "histogram2dcontour"
           }
          ],
          "mesh3d": [
           {
            "colorbar": {
             "outlinewidth": 0,
             "ticks": ""
            },
            "type": "mesh3d"
           }
          ],
          "parcoords": [
           {
            "line": {
             "colorbar": {
              "outlinewidth": 0,
              "ticks": ""
             }
            },
            "type": "parcoords"
           }
          ],
          "pie": [
           {
            "automargin": true,
            "type": "pie"
           }
          ],
          "scatter": [
           {
            "fillpattern": {
             "fillmode": "overlay",
             "size": 10,
             "solidity": 0.2
            },
            "type": "scatter"
           }
          ],
          "scatter3d": [
           {
            "line": {
             "colorbar": {
              "outlinewidth": 0,
              "ticks": ""
             }
            },
            "marker": {
             "colorbar": {
              "outlinewidth": 0,
              "ticks": ""
             }
            },
            "type": "scatter3d"
           }
          ],
          "scattercarpet": [
           {
            "marker": {
             "colorbar": {
              "outlinewidth": 0,
              "ticks": ""
             }
            },
            "type": "scattercarpet"
           }
          ],
          "scattergeo": [
           {
            "marker": {
             "colorbar": {
              "outlinewidth": 0,
              "ticks": ""
             }
            },
            "type": "scattergeo"
           }
          ],
          "scattergl": [
           {
            "marker": {
             "colorbar": {
              "outlinewidth": 0,
              "ticks": ""
             }
            },
            "type": "scattergl"
           }
          ],
          "scattermapbox": [
           {
            "marker": {
             "colorbar": {
              "outlinewidth": 0,
              "ticks": ""
             }
            },
            "type": "scattermapbox"
           }
          ],
          "scatterpolar": [
           {
            "marker": {
             "colorbar": {
              "outlinewidth": 0,
              "ticks": ""
             }
            },
            "type": "scatterpolar"
           }
          ],
          "scatterpolargl": [
           {
            "marker": {
             "colorbar": {
              "outlinewidth": 0,
              "ticks": ""
             }
            },
            "type": "scatterpolargl"
           }
          ],
          "scatterternary": [
           {
            "marker": {
             "colorbar": {
              "outlinewidth": 0,
              "ticks": ""
             }
            },
            "type": "scatterternary"
           }
          ],
          "surface": [
           {
            "colorbar": {
             "outlinewidth": 0,
             "ticks": ""
            },
            "colorscale": [
             [
              0,
              "#0d0887"
             ],
             [
              0.1111111111111111,
              "#46039f"
             ],
             [
              0.2222222222222222,
              "#7201a8"
             ],
             [
              0.3333333333333333,
              "#9c179e"
             ],
             [
              0.4444444444444444,
              "#bd3786"
             ],
             [
              0.5555555555555556,
              "#d8576b"
             ],
             [
              0.6666666666666666,
              "#ed7953"
             ],
             [
              0.7777777777777778,
              "#fb9f3a"
             ],
             [
              0.8888888888888888,
              "#fdca26"
             ],
             [
              1,
              "#f0f921"
             ]
            ],
            "type": "surface"
           }
          ],
          "table": [
           {
            "cells": {
             "fill": {
              "color": "#EBF0F8"
             },
             "line": {
              "color": "white"
             }
            },
            "header": {
             "fill": {
              "color": "#C8D4E3"
             },
             "line": {
              "color": "white"
             }
            },
            "type": "table"
           }
          ]
         },
         "layout": {
          "annotationdefaults": {
           "arrowcolor": "#2a3f5f",
           "arrowhead": 0,
           "arrowwidth": 1
          },
          "autotypenumbers": "strict",
          "coloraxis": {
           "colorbar": {
            "outlinewidth": 0,
            "ticks": ""
           }
          },
          "colorscale": {
           "diverging": [
            [
             0,
             "#8e0152"
            ],
            [
             0.1,
             "#c51b7d"
            ],
            [
             0.2,
             "#de77ae"
            ],
            [
             0.3,
             "#f1b6da"
            ],
            [
             0.4,
             "#fde0ef"
            ],
            [
             0.5,
             "#f7f7f7"
            ],
            [
             0.6,
             "#e6f5d0"
            ],
            [
             0.7,
             "#b8e186"
            ],
            [
             0.8,
             "#7fbc41"
            ],
            [
             0.9,
             "#4d9221"
            ],
            [
             1,
             "#276419"
            ]
           ],
           "sequential": [
            [
             0,
             "#0d0887"
            ],
            [
             0.1111111111111111,
             "#46039f"
            ],
            [
             0.2222222222222222,
             "#7201a8"
            ],
            [
             0.3333333333333333,
             "#9c179e"
            ],
            [
             0.4444444444444444,
             "#bd3786"
            ],
            [
             0.5555555555555556,
             "#d8576b"
            ],
            [
             0.6666666666666666,
             "#ed7953"
            ],
            [
             0.7777777777777778,
             "#fb9f3a"
            ],
            [
             0.8888888888888888,
             "#fdca26"
            ],
            [
             1,
             "#f0f921"
            ]
           ],
           "sequentialminus": [
            [
             0,
             "#0d0887"
            ],
            [
             0.1111111111111111,
             "#46039f"
            ],
            [
             0.2222222222222222,
             "#7201a8"
            ],
            [
             0.3333333333333333,
             "#9c179e"
            ],
            [
             0.4444444444444444,
             "#bd3786"
            ],
            [
             0.5555555555555556,
             "#d8576b"
            ],
            [
             0.6666666666666666,
             "#ed7953"
            ],
            [
             0.7777777777777778,
             "#fb9f3a"
            ],
            [
             0.8888888888888888,
             "#fdca26"
            ],
            [
             1,
             "#f0f921"
            ]
           ]
          },
          "colorway": [
           "#636efa",
           "#EF553B",
           "#00cc96",
           "#ab63fa",
           "#FFA15A",
           "#19d3f3",
           "#FF6692",
           "#B6E880",
           "#FF97FF",
           "#FECB52"
          ],
          "font": {
           "color": "#2a3f5f"
          },
          "geo": {
           "bgcolor": "white",
           "lakecolor": "white",
           "landcolor": "#E5ECF6",
           "showlakes": true,
           "showland": true,
           "subunitcolor": "white"
          },
          "hoverlabel": {
           "align": "left"
          },
          "hovermode": "closest",
          "mapbox": {
           "style": "light"
          },
          "paper_bgcolor": "white",
          "plot_bgcolor": "#E5ECF6",
          "polar": {
           "angularaxis": {
            "gridcolor": "white",
            "linecolor": "white",
            "ticks": ""
           },
           "bgcolor": "#E5ECF6",
           "radialaxis": {
            "gridcolor": "white",
            "linecolor": "white",
            "ticks": ""
           }
          },
          "scene": {
           "xaxis": {
            "backgroundcolor": "#E5ECF6",
            "gridcolor": "white",
            "gridwidth": 2,
            "linecolor": "white",
            "showbackground": true,
            "ticks": "",
            "zerolinecolor": "white"
           },
           "yaxis": {
            "backgroundcolor": "#E5ECF6",
            "gridcolor": "white",
            "gridwidth": 2,
            "linecolor": "white",
            "showbackground": true,
            "ticks": "",
            "zerolinecolor": "white"
           },
           "zaxis": {
            "backgroundcolor": "#E5ECF6",
            "gridcolor": "white",
            "gridwidth": 2,
            "linecolor": "white",
            "showbackground": true,
            "ticks": "",
            "zerolinecolor": "white"
           }
          },
          "shapedefaults": {
           "line": {
            "color": "#2a3f5f"
           }
          },
          "ternary": {
           "aaxis": {
            "gridcolor": "white",
            "linecolor": "white",
            "ticks": ""
           },
           "baxis": {
            "gridcolor": "white",
            "linecolor": "white",
            "ticks": ""
           },
           "bgcolor": "#E5ECF6",
           "caxis": {
            "gridcolor": "white",
            "linecolor": "white",
            "ticks": ""
           }
          },
          "title": {
           "x": 0.05
          },
          "xaxis": {
           "automargin": true,
           "gridcolor": "white",
           "linecolor": "white",
           "ticks": "",
           "title": {
            "standoff": 15
           },
           "zerolinecolor": "white",
           "zerolinewidth": 2
          },
          "yaxis": {
           "automargin": true,
           "gridcolor": "white",
           "linecolor": "white",
           "ticks": "",
           "title": {
            "standoff": 15
           },
           "zerolinecolor": "white",
           "zerolinewidth": 2
          }
         }
        },
        "title": {
         "text": "Time Series for the 1 ID"
        },
        "xaxis": {
         "range": [
          "2023-09-01",
          "2024-01-29"
         ],
         "title": {
          "text": "Date"
         }
        },
        "yaxis": {
         "title": {
          "text": "coffeevolume"
         }
        }
       }
      }
     },
     "metadata": {},
     "output_type": "display_data"
    }
   ],
   "source": [
    "# Make predictions for a specific ID (ID=1) using the 'predict_id' function\n",
    "prediction_for_id = predict_id(\n",
    "    1, \n",
    "    X_test, \n",
    "    model,\n",
    ")\n",
    "\n",
    "# Generate a Plotly figure for visualizing the predictions\n",
    "fig = plot_prediction_test(\n",
    "    1, \n",
    "    X_train, \n",
    "    X_test, \n",
    "    y_train, \n",
    "    y_test, \n",
    "    train_date, \n",
    "    test_date, \n",
    "    prediction_for_id,\n",
    ")\n",
    "\n",
    "# Display the generated Plotly figure\n",
    "fig.show()"
   ]
  },
  {
   "cell_type": "markdown",
   "id": "558799fa",
   "metadata": {},
   "source": [
    "## <span style=\"color:#ff5f27\">⚙️ Creating the Model Schema </span>\n",
    "Now that we know what the input training features and the target/output variables will look like, we can create a schema for this and save this to a dictionary."
   ]
  },
  {
   "cell_type": "code",
   "execution_count": 15,
   "id": "3b490e4d",
   "metadata": {},
   "outputs": [
    {
     "data": {
      "text/plain": [
       "{'input_schema': {'tensor_schema': {'shape': '(263652, 9)',\n",
       "   'type': 'float64'}},\n",
       " 'output_schema': {'columnar_schema': [{'name': 'coffeevolume',\n",
       "    'type': 'float64'}]}}"
      ]
     },
     "execution_count": 15,
     "metadata": {},
     "output_type": "execute_result"
    }
   ],
   "source": [
    "from hsml.schema import Schema\n",
    "from hsml.model_schema import ModelSchema\n",
    "\n",
    "# Create an input schema using the training features\n",
    "input_schema = Schema(X_train.values)\n",
    "\n",
    "# Create an output schema using the target variable\n",
    "output_schema = Schema(y_train)\n",
    "\n",
    "# Create a model schema using the input and output schemas\n",
    "model_schema = ModelSchema(\n",
    "    input_schema=input_schema, \n",
    "    output_schema=output_schema,\n",
    ")\n",
    "\n",
    "# Convert the model schema to a dictionary\n",
    "model_schema.to_dict()"
   ]
  },
  {
   "cell_type": "markdown",
   "id": "44e8f511",
   "metadata": {},
   "source": [
    "## <span style=\"color:#ff5f27\">📝 Registering the model in the Hopsworks registry</span>\n",
    "We will also save and persist the model in Hopsworks, in case future decisions would need to be retraced to a specific version of the prediction system:"
   ]
  },
  {
   "cell_type": "code",
   "execution_count": 16,
   "id": "fb397a64",
   "metadata": {},
   "outputs": [
    {
     "name": "stderr",
     "output_type": "stream",
     "text": [
      "/Users/rvanbruggen/.pyenv/versions/3.11.6/lib/python3.11/site-packages/kaleido/scopes/base.py:188: DeprecationWarning:\n",
      "\n",
      "setDaemon() is deprecated, set the daemon attribute instead\n",
      "\n"
     ]
    }
   ],
   "source": [
    "# Specify the directory for saving the model\n",
    "model_dir = \"coffeevolume_model\"\n",
    "\n",
    "# Check if the directory exists, and create it if not\n",
    "if not os.path.isdir(model_dir):\n",
    "    os.mkdir(model_dir)\n",
    "\n",
    "# Save the trained XGBoost model using joblib\n",
    "joblib.dump(model, f'{model_dir}/xgboost_coffeevolume_model.pkl')\n",
    "\n",
    "# Write the generated Plotly figure image to the specified directory\n",
    "fig.write_image(f'{model_dir}/model_prediction.png')"
   ]
  },
  {
   "cell_type": "code",
   "execution_count": 17,
   "id": "782f9731",
   "metadata": {},
   "outputs": [
    {
     "name": "stdout",
     "output_type": "stream",
     "text": [
      "Connected. Call `.close()` to terminate connection gracefully.\n"
     ]
    },
    {
     "data": {
      "application/vnd.jupyter.widget-view+json": {
       "model_id": "6120496c36fc4a9f85904408d6551b2b",
       "version_major": 2,
       "version_minor": 0
      },
      "text/plain": [
       "  0%|          | 0/6 [00:00<?, ?it/s]"
      ]
     },
     "metadata": {},
     "output_type": "display_data"
    },
    {
     "data": {
      "application/vnd.jupyter.widget-view+json": {
       "model_id": "0fc23dc090cd44e4a1efe4c64a08b02f",
       "version_major": 2,
       "version_minor": 0
      },
      "text/plain": [
       "Uploading: 0.000%|          | 0/496802 elapsed<00:00 remaining<?"
      ]
     },
     "metadata": {},
     "output_type": "display_data"
    },
    {
     "data": {
      "application/vnd.jupyter.widget-view+json": {
       "model_id": "36cfc4426d3d4363a8b5ded22c745268",
       "version_major": 2,
       "version_minor": 0
      },
      "text/plain": [
       "Uploading: 0.000%|          | 0/65655 elapsed<00:00 remaining<?"
      ]
     },
     "metadata": {},
     "output_type": "display_data"
    },
    {
     "data": {
      "application/vnd.jupyter.widget-view+json": {
       "model_id": "e6009d2f012d49978ba26f4c7a591e6e",
       "version_major": 2,
       "version_minor": 0
      },
      "text/plain": [
       "Uploading: 0.000%|          | 0/167 elapsed<00:00 remaining<?"
      ]
     },
     "metadata": {},
     "output_type": "display_data"
    },
    {
     "data": {
      "application/vnd.jupyter.widget-view+json": {
       "model_id": "d2cfe248ec9542419c22cb84c4507503",
       "version_major": 2,
       "version_minor": 0
      },
      "text/plain": [
       "Uploading: 0.000%|          | 0/241 elapsed<00:00 remaining<?"
      ]
     },
     "metadata": {},
     "output_type": "display_data"
    },
    {
     "name": "stdout",
     "output_type": "stream",
     "text": [
      "Model created, explore it at https://172f2800-9e76-11ee-ba4c-277d56d9f8e7.cloud.hopsworks.ai:443/p/4215/models/xgboost_coffeevolume_model/2\n"
     ]
    },
    {
     "data": {
      "text/plain": [
       "Model(name: 'xgboost_coffeevolume_model', version: 2)"
      ]
     },
     "execution_count": 17,
     "metadata": {},
     "output_type": "execute_result"
    }
   ],
   "source": [
    "# Get the model registry from the project\n",
    "mr = project.get_model_registry()\n",
    "\n",
    "# Create a Python model in the model registry named 'xgboost_price_model'\n",
    "coffeevolume_model = mr.python.create_model(\n",
    "    name=\"xgboost_coffeevolume_model\", \n",
    "    metrics={\"MSE\": mse},           # Specify metrics (Mean Squared Error)\n",
    "    model_schema=model_schema,      # Provide the model schema\n",
    "    input_example=X_train.sample(), # Provide an example of the input data\n",
    "    description=\"Coffeevolume Predictor\",  # Add a description for the model\n",
    ")\n",
    "\n",
    "# Save the model to the specified directory\n",
    "coffeevolume_model.save(model_dir)"
   ]
  },
  {
   "cell_type": "markdown",
   "id": "88bfb99f",
   "metadata": {},
   "source": [
    "# <span style=\"color:#ff5f27\">🚀 Coffeevolume Consumption Prediction Model Deployment</span>\n",
    "\n",
    "**About Model Serving**\n",
    "\n",
    "Models can be served via KFServing or \"default\" serving, which means a Docker container exposing a Flask server. For KFServing models, or models written in Tensorflow, we do not need to write a prediction file. However, for sklearn models using default serving, you do need to proceed to write a prediction file.\n",
    "\n",
    "We will not go into this at this point - and wrap up the 2nd part of our prediction system with this training example.\n",
    "\n",
    "----"
   ]
  },
  {
   "cell_type": "markdown",
   "id": "4017c8e4",
   "metadata": {},
   "source": [
    "## <span style=\"color:#ff5f27\">📎 Predictor script for Python models</span>\n",
    "\n",
    "Scikit-learn and XGBoost models are deployed as Python models, in which case you need to provide a Predict class that implements the predict method. The `predict()` method invokes the model on the inputs and returns the prediction as a list.\n",
    "\n",
    "The `init()` method is run when the predictor is loaded into memory, loading the model from the local directory it is materialized to, ARTIFACT_FILES_PATH.\n",
    "\n",
    "The directive **\"%%writefile\"** writes out the cell before to the given Python file. We will use the **predict_example.py** file to create a deployment for our model."
   ]
  },
  {
   "cell_type": "code",
   "execution_count": null,
   "id": "79a97ca9",
   "metadata": {},
   "outputs": [],
   "source": [
    "%%writefile predict_example.py\n",
    "import os\n",
    "import numpy as np\n",
    "import pandas as pd\n",
    "import hsfs\n",
    "import joblib\n",
    "\n",
    "\n",
    "class Predict(object):\n",
    "\n",
    "    def __init__(self):\n",
    "        \"\"\" Initializes the serving state, reads a trained model\"\"\"        \n",
    "        # get feature store handle\n",
    "        fs_conn = hsfs.connection()\n",
    "        self.fs = fs_conn.get_feature_store()\n",
    "        \n",
    "        # get feature view\n",
    "        self.fv = self.fs.get_feature_view(\"coffeevolume_fv\", 1)\n",
    "        \n",
    "        # initialize serving\n",
    "        self.fv.init_serving(1)\n",
    "\n",
    "        # load the trained model\n",
    "        self.model = joblib.load(os.environ[\"ARTIFACT_FILES_PATH\"] + \"/xgboost_coffeevolume_model.pkl\")\n",
    "        print(\"Initialization of Coffeevolume model Complete\")\n",
    "\n",
    "    \n",
    "    def predict(self, id_value):\n",
    "        \"\"\" Serves a Coffeevolume prediction request usign a trained model\"\"\"\n",
    "        # Retrieve feature vectors\n",
    "        feature_vector = self.fv.get_feature_vector(\n",
    "            entry = {'id': id_value[0]}\n",
    "        )\n",
    "        return self.model.predict(np.asarray(feature_vector[1:]).reshape(1, -1)).tolist()"
   ]
  },
  {
   "cell_type": "markdown",
   "id": "b979582c",
   "metadata": {},
   "source": [
    "This script needs to be put into a known location in the Hopsworks file system. Let's call the file predict_example.py and put it in the Models directory."
   ]
  },
  {
   "cell_type": "code",
   "execution_count": null,
   "id": "a64048e9",
   "metadata": {},
   "outputs": [],
   "source": [
    "# Get the dataset API from the project\n",
    "dataset_api = project.get_dataset_api()\n",
    "\n",
    "# Upload the file \"predict_example.py\" to the \"Models\" dataset, overwriting if it already exists\n",
    "uploaded_file_path = dataset_api.upload(\"predict_example.py\", \"Models\", overwrite=True)\n",
    "\n",
    "# Create the full path to the uploaded predictor script\n",
    "predictor_script_path = os.path.join(\"/Projects\", project.name, uploaded_file_path)"
   ]
  },
  {
   "cell_type": "markdown",
   "id": "7d7cea10",
   "metadata": {},
   "source": [
    "---"
   ]
  },
  {
   "cell_type": "markdown",
   "id": "cf59ec95",
   "metadata": {},
   "source": [
    "## <span style=\"color:#ff5f27\">🚀 Create the deployment</span>\n",
    "\n",
    "Here, you fetch the model you want from the model registry and define a configuration for the deployment. For the configuration, you need to specify the serving type (default or KFserving)."
   ]
  },
  {
   "cell_type": "code",
   "execution_count": null,
   "id": "9f98e2dd",
   "metadata": {},
   "outputs": [],
   "source": [
    "# Deploy the 'coffeevolume_model'\n",
    "deployment = coffeevolume_model.deploy(\n",
    "    name=\"coffeevolumeonlinemodeldeployment\",  # Specify the deployment name\n",
    "    script_file=predictor_script_path,  # Provide the path to the predictor script\n",
    ")"
   ]
  },
  {
   "cell_type": "code",
   "execution_count": null,
   "id": "86154683",
   "metadata": {},
   "outputs": [],
   "source": [
    "# Start the deployment and wait for it up to 180 seconds\n",
    "deployment.start(await_running=180)"
   ]
  },
  {
   "cell_type": "code",
   "execution_count": null,
   "id": "80e5b6ec",
   "metadata": {},
   "outputs": [],
   "source": [
    "# Get the current state of the deployment and describe it\n",
    "deployment_state = deployment.get_state().describe()"
   ]
  },
  {
   "cell_type": "code",
   "execution_count": null,
   "id": "ea906d47",
   "metadata": {},
   "outputs": [],
   "source": [
    "# Predict volume for the 1 ID\n",
    "deployment.predict({'instances': [100]})"
   ]
  },
  {
   "cell_type": "markdown",
   "id": "1354c27a",
   "metadata": {},
   "source": [
    "---"
   ]
  }
 ],
 "metadata": {
  "kernelspec": {
   "display_name": "Python 3 (ipykernel)",
   "language": "python",
   "name": "python3"
  },
  "language_info": {
   "codemirror_mode": {
    "name": "ipython",
    "version": 3
   },
   "file_extension": ".py",
   "mimetype": "text/x-python",
   "name": "python",
   "nbconvert_exporter": "python",
   "pygments_lexer": "ipython3",
   "version": "3.11.6"
  }
 },
 "nbformat": 4,
 "nbformat_minor": 5
}
