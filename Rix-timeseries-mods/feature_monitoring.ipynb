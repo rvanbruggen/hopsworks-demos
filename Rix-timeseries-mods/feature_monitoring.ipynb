{
 "cells": [
  {
   "cell_type": "markdown",
   "id": "e64c5876",
   "metadata": {},
   "source": [
    "# Set up Feature Monitoring for a Feature Group"
   ]
  },
  {
   "cell_type": "code",
   "execution_count": 21,
   "id": "1764cd81",
   "metadata": {},
   "outputs": [
    {
     "name": "stdout",
     "output_type": "stream",
     "text": [
      "Connection closed.\n",
      "Connected. Call `.close()` to terminate connection gracefully.\n",
      "\n",
      "Logged in to project, explore it here https://snurran.hops.works/p/15484\n",
      "Connected. Call `.close()` to terminate connection gracefully.\n"
     ]
    }
   ],
   "source": [
    "# Establish connection with the feature store\n",
    "\n",
    "import hopsworks\n",
    "\n",
    "project = hopsworks.login()\n",
    "\n",
    "fs = project.get_feature_store()"
   ]
  },
  {
   "cell_type": "code",
   "execution_count": 22,
   "id": "f1d5dc9b",
   "metadata": {},
   "outputs": [],
   "source": [
    "# Retrieve an the \"price\" feature group\n",
    "trans_fg = fs.get_feature_group(\"price\", version=1)"
   ]
  },
  {
   "cell_type": "code",
   "execution_count": 23,
   "id": "f52714cf",
   "metadata": {},
   "outputs": [],
   "source": [
    "# compute statistics for all the features in the feature group\n",
    "fg_full_monitoring = trans_fg.create_statistics_monitoring(\n",
    "    name=\"fg_full_monitoring\",\n",
    "    description=\"Compute statistics on all data of all features of the Feature Group on a daily basis\",\n",
    ").save()"
   ]
  },
  {
   "cell_type": "code",
   "execution_count": 24,
   "id": "c136eb98",
   "metadata": {},
   "outputs": [],
   "source": [
    "# Compute statistics on a reduced share of the data\n",
    "fg_full_monitoring.detection_window_config.row_percentage = 0.1"
   ]
  },
  {
   "cell_type": "code",
   "execution_count": 25,
   "id": "aabce849",
   "metadata": {},
   "outputs": [],
   "source": [
    "fg_full_monitoring_sliding = trans_fg.create_statistics_monitoring(\n",
    "    name=\"fg_full_monitoring_sliding\",\n",
    "    description=\"Compute statistics on 20% of the data inserted in the last week of all features of the Feature Group on a weekly basis\",\n",
    "    cron_expression=\"0 0 12 ? * MON *\",\n",
    ").with_detection_window(\n",
    "    time_offset=\"1w\", # fetch data from the last week\n",
    "    row_percentage=0.2,\n",
    ").save()"
   ]
  },
  {
   "cell_type": "code",
   "execution_count": 26,
   "id": "10ca3006",
   "metadata": {},
   "outputs": [],
   "source": [
    "fg_price_monitoring_reference_value = trans_fg.create_feature_monitoring(\n",
    "    name=\"fg_price_monitoring_reference_value\",\n",
    "    feature_name=\"price\",\n",
    "    cron_expression=\"0 0 12 ? * MON *\",\n",
    "    description=\"Compute descriptive statistics on the amount Feature in the last week of data inserted in the Feature Group\",\n",
    ").with_detection_window(\n",
    "    time_offset=\"1w\", # fetch data from the last week\n",
    "    row_percentage=0.2,\n",
    ")"
   ]
  },
  {
   "cell_type": "code",
   "execution_count": 27,
   "id": "50db6264",
   "metadata": {},
   "outputs": [
    {
     "data": {
      "text/plain": [
       "FeatureMonitoringConfig('fg_price_monitoring_reference_value', STATISTICS_COMPARISON)"
      ]
     },
     "execution_count": 27,
     "metadata": {},
     "output_type": "execute_result"
    }
   ],
   "source": [
    "fg_price_monitoring_reference_value.with_reference_value(\n",
    "    value=100,\n",
    ").compare_on(\n",
    "    metric=\"mean\",\n",
    "    threshold=50,\n",
    ").save()"
   ]
  },
  {
   "cell_type": "code",
   "execution_count": 30,
   "id": "a1b9a956",
   "metadata": {},
   "outputs": [],
   "source": [
    "price_fv = fs.get_feature_view(\"price_fv\", version=1)\n",
    "\n",
    "fv_price_monitoring_reference_td = price_fv.create_feature_monitoring(\n",
    "    name=\"fv_price_monitoring_reference_td\",\n",
    "    feature_name=\"price\",\n",
    "    cron_expression=\"0 0 12 ? * * *\",\n",
    "    description=\"Compute and compare descriptive statistics on the amount Feature in the last hour of data inserted in the Feature View\",\n",
    ").with_detection_window(\n",
    "    time_offset=\"1h\", # fetch data from the last hour\n",
    "    row_percentage=0.2,\n",
    ").with_reference_training_dataset(\n",
    "    training_dataset_version=1, # use the training dataset used to train your production model\n",
    ").compare_on(\n",
    "    metric=\"mean\",\n",
    "    threshold=50,\n",
    ").save()"
   ]
  },
  {
   "cell_type": "code",
   "execution_count": null,
   "id": "69fde46c",
   "metadata": {},
   "outputs": [],
   "source": []
  }
 ],
 "metadata": {
  "kernelspec": {
   "display_name": "Python 3",
   "language": "python",
   "name": "python3"
  },
  "language_info": {
   "codemirror_mode": {
    "name": "ipython",
    "version": 3
   },
   "file_extension": ".py",
   "mimetype": "text/x-python",
   "name": "python",
   "nbconvert_exporter": "python",
   "pygments_lexer": "ipython3",
   "version": "3.10.11"
  }
 },
 "nbformat": 4,
 "nbformat_minor": 5
}
