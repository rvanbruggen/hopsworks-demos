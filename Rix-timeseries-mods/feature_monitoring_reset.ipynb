{
 "cells": [
  {
   "cell_type": "code",
   "execution_count": null,
   "id": "2ca8339a",
   "metadata": {},
   "outputs": [],
   "source": [
    "# Connect to Hopsworks\n",
    "\n",
    "import hopsworks\n",
    "\n",
    "project = hopsworks.login()\n",
    "\n",
    "fs = project.get_feature_store()"
   ]
  },
  {
   "cell_type": "code",
   "execution_count": null,
   "id": "22e3ab9b",
   "metadata": {},
   "outputs": [],
   "source": [
    "# Reset the feature monitoring on the price Feature Group\n",
    "\n",
    "trans_fg = fs.get_feature_group(\"price\", version=1)\n",
    "fm_config = trans_fg.get_feature_monitoring_configs(\n",
    "    name=\"fg_full_monitoring_sliding\",\n",
    ")\n",
    "fm_config.delete()\n",
    "\n",
    "fm_config = trans_fg.get_feature_monitoring_configs(\n",
    "    name=\"fg_full_monitoring\",\n",
    ")\n",
    "fm_config.delete()\n",
    "\n",
    "fm_config = trans_fg.get_feature_monitoring_configs(\n",
    "    name=\"fg_price_monitoring_reference_value\",\n",
    ")\n",
    "fm_config.delete()"
   ]
  },
  {
   "cell_type": "code",
   "execution_count": null,
   "id": "555b00b1",
   "metadata": {},
   "outputs": [],
   "source": [
    "# Reset the feature monitoring on the price_fv Feature View\n",
    "\n",
    "trans_fv = fs.get_feature_view(\"price_fv\", version=1)\n",
    "\n",
    "fm_config = trans_fv.get_feature_monitoring_configs(\n",
    "    name=\"fv_price_monitoring_reference_td\",\n",
    ")\n",
    "fm_config.delete()"
   ]
  },
  {
   "cell_type": "code",
   "execution_count": null,
   "id": "d07d1fae",
   "metadata": {},
   "outputs": [],
   "source": []
  }
 ],
 "metadata": {
  "kernelspec": {
   "display_name": "Python 3",
   "language": "python",
   "name": "python3"
  },
  "language_info": {
   "codemirror_mode": {
    "name": "ipython",
    "version": 3
   },
   "file_extension": ".py",
   "mimetype": "text/x-python",
   "name": "python",
   "nbconvert_exporter": "python",
   "pygments_lexer": "ipython3",
   "version": "3.10.11"
  }
 },
 "nbformat": 4,
 "nbformat_minor": 5
}
