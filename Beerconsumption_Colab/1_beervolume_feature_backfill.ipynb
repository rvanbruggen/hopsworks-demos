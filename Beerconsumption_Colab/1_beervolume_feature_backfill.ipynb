{
  "cells": [
    {
      "cell_type": "markdown",
      "metadata": {
        "id": "view-in-github",
        "colab_type": "text"
      },
      "source": [
        "<a href=\"https://colab.research.google.com/github/rvanbruggen/rix-hopsworks-demos/blob/main/Beerconsumption_Colab/1_beervolume_feature_backfill.ipynb\" target=\"_parent\"><img src=\"https://colab.research.google.com/assets/colab-badge.svg\" alt=\"Open In Colab\"/></a>"
      ]
    },
    {
      "cell_type": "markdown",
      "source": [
        "# BeerVolume Prediction Demo\n",
        "This is a short demonstration of how you can use Hopsworks for creating a Machine Learning System that creates predictions. The hypothetical use case is that of a bar owner who would want to predict how much beer will be consumed in his bar, based on past trends and behaviour.\n",
        "\n",
        "![](https://lh3.googleusercontent.com/blogger_img_proxy/ALY8t1uqu0YUTdfoFJYGV2r9a2iHEewpP3daVa9J3qzCzV3rZm8EX8YyhHhOHbfG450AhHYQXu6Hgf8pj2fTpSzg4uio4X_qv9TTEfMnEtO6rYLevnGBxF6sO97tGeYyzaAkGSyVBnw8WtWS1P_2RLY=s0-d)"
      ],
      "metadata": {
        "id": "qW51rMaCk55W"
      },
      "id": "qW51rMaCk55W"
    },
    {
      "cell_type": "markdown",
      "id": "3e80dec4",
      "metadata": {
        "id": "3e80dec4"
      },
      "source": [
        "## <span style=\"color:#ff5f27\">📝 Code Library Imports </span>\n",
        "Before we can get started with our machine learning pipelines, we have to import a number of libraries.\n",
        "\n",
        "### Colab / Gdrive integration\n"
      ]
    },
    {
      "cell_type": "code",
      "source": [
        "from google.colab import drive\n",
        "drive.mount('/content/drive')\n",
        "!cp '/content/drive/MyDrive/Colab Notebooks/Beervolume predictions/beervolume.py' .\n",
        "!cp '/content/drive/MyDrive/Colab Notebooks/Beervolume predictions/averages.py' .\n",
        "!cp '/content/drive/MyDrive/Colab Notebooks/Beervolume predictions/functions.py' .\n",
        "\n",
        "!pip install -U hopsworks --quiet"
      ],
      "metadata": {
        "id": "9h5-OXXjCJ_g"
      },
      "id": "9h5-OXXjCJ_g",
      "execution_count": null,
      "outputs": []
    },
    {
      "cell_type": "code",
      "execution_count": null,
      "id": "27d37094",
      "metadata": {
        "id": "27d37094"
      },
      "outputs": [],
      "source": [
        "import datetime\n",
        "from beervolume import generate_historical_data, to_wide_format, plot_historical_id\n",
        "from averages import calculate_second_order_features\n",
        "\n",
        "import great_expectations as ge\n",
        "from great_expectations.core import ExpectationSuite, ExpectationConfiguration\n",
        "\n",
        "import warnings\n",
        "warnings.filterwarnings('ignore')"
      ]
    },
    {
      "cell_type": "markdown",
      "id": "cfae4d6e",
      "metadata": {
        "id": "cfae4d6e"
      },
      "source": [
        "## <span style=\"color:#ff5f27\">⚙️ Beer Consumption Data Import </span>\n",
        "\n",
        "Let's define the `START_DATE` variable (format: %Y-%m-%d) which will indicate the start date for data generation."
      ]
    },
    {
      "cell_type": "code",
      "execution_count": null,
      "id": "b7bee036",
      "metadata": {
        "id": "b7bee036"
      },
      "outputs": [],
      "source": [
        "# Define a constant START_DATE with a specific date (September 1, 2022)\n",
        "START_DATE = datetime.date(2022, 9, 1)"
      ]
    },
    {
      "cell_type": "code",
      "execution_count": null,
      "id": "b610580b",
      "metadata": {
        "id": "b610580b"
      },
      "outputs": [],
      "source": [
        "# Generate synthetic historical data using the generate_historical_data function from START_DATE till current date\n",
        "data_generated = generate_historical_data(\n",
        "    START_DATE,  # Start date for data generation (September 1, 2022)\n",
        ")\n",
        "\n",
        "# Display the first 3 rows of the generated data\n",
        "data_generated.head(3)"
      ]
    },
    {
      "cell_type": "markdown",
      "id": "3e8bacfa",
      "metadata": {
        "id": "3e8bacfa"
      },
      "source": [
        "Look at historical values for 1 and 2 IDs."
      ]
    },
    {
      "cell_type": "code",
      "execution_count": null,
      "id": "5e229269",
      "metadata": {
        "id": "5e229269"
      },
      "outputs": [],
      "source": [
        "plot_historical_id([1,2], data_generated)"
      ]
    },
    {
      "cell_type": "markdown",
      "id": "c83e00ef",
      "metadata": {
        "id": "c83e00ef"
      },
      "source": [
        "## <span style=\"color:#ff5f27\"> 👮🏻‍♂️ Great Expectations </span>"
      ]
    },
    {
      "cell_type": "code",
      "execution_count": null,
      "id": "4d644fc1",
      "metadata": {
        "id": "4d644fc1"
      },
      "outputs": [],
      "source": [
        "# Convert the generated historical data DataFrame to a Great Expectations DataFrame\n",
        "ge_beervolume_df = ge.from_pandas(data_generated)\n",
        "\n",
        "# Retrieve the expectation suite associated with the ge DataFrame\n",
        "expectation_suite_beervolume = ge_beervolume_df.get_expectation_suite()\n",
        "\n",
        "# Set the expectation suite name to \"beervolume_suite\"\n",
        "expectation_suite_beervolume.expectation_suite_name = \"beervolume_suite\""
      ]
    },
    {
      "cell_type": "code",
      "execution_count": null,
      "id": "21ea95d9",
      "metadata": {
        "id": "21ea95d9"
      },
      "outputs": [],
      "source": [
        "# Add expectation for the 'id' column values to be between 0 and 5000\n",
        "expectation_suite_beervolume.add_expectation(\n",
        "    ExpectationConfiguration(\n",
        "        expectation_type=\"expect_column_values_to_be_between\",\n",
        "        kwargs={\n",
        "            \"column\": \"id\",\n",
        "            \"min_value\": 0,\n",
        "            \"max_value\": 5000,\n",
        "        }\n",
        "    )\n",
        ")\n",
        "\n",
        "# Add expectation for the 'beervolume' column values to be between 0 and 1000\n",
        "expectation_suite_beervolume.add_expectation(\n",
        "    ExpectationConfiguration(\n",
        "        expectation_type=\"expect_column_values_to_be_between\",\n",
        "        kwargs={\n",
        "            \"column\": \"beervolume\",\n",
        "            \"min_value\": 0,\n",
        "            \"max_value\": 1000,\n",
        "        }\n",
        "    )\n",
        ")\n",
        "\n",
        "# Loop through specified columns ('date', 'id', 'beervolume') and add expectations for null values\n",
        "for column in ['date', 'id', 'beervolume']:\n",
        "    expectation_suite_beervolume.add_expectation(\n",
        "        ExpectationConfiguration(\n",
        "            expectation_type=\"expect_column_values_to_be_null\",\n",
        "            kwargs={\n",
        "                \"column\": column,\n",
        "                \"mostly\": 0.0,\n",
        "            }\n",
        "        )\n",
        "    )\n"
      ]
    },
    {
      "cell_type": "markdown",
      "id": "6148b5e6",
      "metadata": {
        "id": "6148b5e6"
      },
      "source": [
        "## <span style=\"color:#ff5f27\">🔮 Connect to Hopsworks Feature Store </span>"
      ]
    },
    {
      "cell_type": "code",
      "execution_count": null,
      "id": "e8d98244",
      "metadata": {
        "id": "e8d98244"
      },
      "outputs": [],
      "source": [
        "import hopsworks\n",
        "\n",
        "project = hopsworks.login()\n",
        "\n",
        "fs = project.get_feature_store()"
      ]
    },
    {
      "cell_type": "markdown",
      "id": "9471bceb",
      "metadata": {
        "id": "9471bceb"
      },
      "source": [
        "## <span style=\"color:#ff5f27\">🪄 Feature Group Creation </span>"
      ]
    },
    {
      "cell_type": "code",
      "execution_count": null,
      "id": "b13b302d",
      "metadata": {
        "id": "b13b302d"
      },
      "outputs": [],
      "source": [
        "# Get or create the 'beervolume' feature group\n",
        "beervolume_fg = fs.get_or_create_feature_group(\n",
        "    name='beervolume',\n",
        "    description='Beer Volume Consumption Data',\n",
        "    version=1,\n",
        "    primary_key=['id'],\n",
        "    event_time='date',\n",
        "    online_enabled=True,\n",
        "    expectation_suite=expectation_suite_beervolume,\n",
        ")\n",
        "# Insert data\n",
        "beervolume_fg.insert(data_generated)"
      ]
    },
    {
      "cell_type": "markdown",
      "id": "b7ad450b",
      "metadata": {
        "id": "b7ad450b"
      },
      "source": [
        "## <span style=\"color:#ff5f27\">⚙️ Feature Engineering  </span>\n",
        "\n",
        "We will engineer the next features:\n",
        "\n",
        "- `ma_7`: This feature represents the 7-day moving average of the 'beervolume' data, providing a smoothed representation of short-term beervolume trends.\n",
        "\n",
        "- `ma_14`: This feature represents the 14-day moving average of the 'beervolume' data, offering a slightly longer-term smoothed beervolume trend.\n",
        "\n",
        "- `ma_30`: This feature represents the 30-day moving average of the 'beervolume' data, providing a longer-term smoothed representation of beervolume trends.\n",
        "\n",
        "- `daily_rate_of_change`: This feature calculates the daily rate of change in beer volumes as a percentage change, indicating how much the beer volume has changed from the previous day.\n",
        "\n",
        "- `volatility_30_day`: This feature measures the volatility of beer volume over a 30-day window using the standard deviation. Higher values indicate greater beer volume fluctuations.\n",
        "\n",
        "- `ema_02`: This feature calculates the exponential moving average (EMA) of 'beer volume' with a smoothing factor of 0.2, giving more weight to recent data points in the calculation.\n",
        "\n",
        "- `ema_05`: Similar to ema_02, this feature calculates the EMA of 'beer volume' with a smoothing factor of 0.5, providing a different degree of responsiveness to recent data.\n",
        "\n",
        "# need to check this!\n",
        "- `rsi`: The Relative Strength Index (RSI) is a momentum oscillator that measures the speed and change of beer volume movements. It ranges from 0 to 100, with values above 70 indicating higher-than-normal volume conditions and values below 30 indicating lower-than-normal volume conditions."
      ]
    },
    {
      "cell_type": "code",
      "execution_count": null,
      "id": "d3123547",
      "metadata": {
        "id": "d3123547"
      },
      "outputs": [],
      "source": [
        "# Read the beer volume data from the 'beervolume' feature group\n",
        "beervolume_df = beervolume_fg.read()\n",
        "beervolume_df.head(3)"
      ]
    },
    {
      "cell_type": "code",
      "execution_count": null,
      "id": "2b3f9bbe",
      "metadata": {
        "id": "2b3f9bbe"
      },
      "outputs": [],
      "source": [
        "# Calculate second-order features\n",
        "beervolume_averages_df = calculate_second_order_features(beervolume_df)\n",
        "\n",
        "# Display the first 3 rows of the resulting DataFrame\n",
        "beervolume_averages_df.head(3)"
      ]
    },
    {
      "cell_type": "markdown",
      "id": "b8496432",
      "metadata": {
        "id": "b8496432"
      },
      "source": [
        "## <span style=\"color:#ff5f27\">🪄 Feature Group Creation </span>"
      ]
    },
    {
      "cell_type": "code",
      "execution_count": null,
      "id": "e4c0dbab",
      "metadata": {
        "id": "e4c0dbab"
      },
      "outputs": [],
      "source": [
        "# Get or create the 'beervolume averages' feature group\n",
        "averages_fg = fs.get_or_create_feature_group(\n",
        "    name='beervolume_averages',\n",
        "    description='Calculated second order beervolume features',\n",
        "    version=1,\n",
        "    primary_key=['id'],\n",
        "    event_time='date',\n",
        "    online_enabled=True,\n",
        "    parents=[beervolume_fg],\n",
        ")\n",
        "# Insert data\n",
        "beervolume_averages_fg.insert(beervolume_averages_df)"
      ]
    },
    {
      "cell_type": "markdown",
      "id": "6fdf0327",
      "metadata": {
        "id": "6fdf0327"
      },
      "source": [
        "---"
      ]
    }
  ],
  "metadata": {
    "kernelspec": {
      "display_name": "Python 3 (ipykernel)",
      "language": "python",
      "name": "python3"
    },
    "language_info": {
      "codemirror_mode": {
        "name": "ipython",
        "version": 3
      },
      "file_extension": ".py",
      "mimetype": "text/x-python",
      "name": "python",
      "nbconvert_exporter": "python",
      "pygments_lexer": "ipython3",
      "version": "3.9.18"
    },
    "colab": {
      "provenance": [],
      "include_colab_link": true
    }
  },
  "nbformat": 4,
  "nbformat_minor": 5
}