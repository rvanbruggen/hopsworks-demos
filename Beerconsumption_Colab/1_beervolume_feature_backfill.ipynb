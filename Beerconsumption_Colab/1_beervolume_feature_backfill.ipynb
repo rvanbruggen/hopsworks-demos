{
  "cells": [
    {
      "cell_type": "markdown",
      "metadata": {
        "id": "view-in-github",
        "colab_type": "text"
      },
      "source": [
        "<a href=\"https://colab.research.google.com/github/rvanbruggen/rix-hopsworks-demos/blob/main/Beerconsumption_Colab/1_beervolume_feature_backfill.ipynb\" target=\"_parent\"><img src=\"https://colab.research.google.com/assets/colab-badge.svg\" alt=\"Open In Colab\"/></a>"
      ]
    },
    {
      "cell_type": "markdown",
      "source": [
        "# BeerVolume Prediction Demo\n",
        "This is a short demonstration of how you can use Hopsworks for creating a Machine Learning System that creates predictions. The hypothetical use case is that of a **bar owner** who would want to predict how much beer will be consumed in his bar, based on past trends and behaviour.\n",
        "\n",
        "![](https://lh3.googleusercontent.com/blogger_img_proxy/ALY8t1uqu0YUTdfoFJYGV2r9a2iHEewpP3daVa9J3qzCzV3rZm8EX8YyhHhOHbfG450AhHYQXu6Hgf8pj2fTpSzg4uio4X_qv9TTEfMnEtO6rYLevnGBxF6sO97tGeYyzaAkGSyVBnw8WtWS1P_2RLY=s0-d)"
      ],
      "metadata": {
        "id": "qW51rMaCk55W"
      },
      "id": "qW51rMaCk55W"
    },
    {
      "cell_type": "markdown",
      "id": "3e80dec4",
      "metadata": {
        "id": "3e80dec4"
      },
      "source": [
        "## <span style=\"color:#ff5f27\">📝 Code Library Imports and installations</span>\n",
        "Before we can get started with our machine learning pipelines, we have to import and/or install a number of libraries."
      ]
    },
    {
      "cell_type": "markdown",
      "source": [
        "### Colab / Gdrive integration\n",
        "In order to work with files from Gdrive, we need to include the following:"
      ],
      "metadata": {
        "id": "IodQcGnnnaiq"
      },
      "id": "IodQcGnnnaiq"
    },
    {
      "cell_type": "code",
      "source": [
        "from google.colab import drive\n",
        "drive.mount('/content/drive')\n",
        "!cp '/content/drive/MyDrive/Colab Notebooks/Beervolume predictions/beervolume.py' .\n",
        "!cp '/content/drive/MyDrive/Colab Notebooks/Beervolume predictions/averages.py' .\n",
        "!cp '/content/drive/MyDrive/Colab Notebooks/Beervolume predictions/functions.py' ."
      ],
      "metadata": {
        "id": "9h5-OXXjCJ_g"
      },
      "id": "9h5-OXXjCJ_g",
      "execution_count": null,
      "outputs": []
    },
    {
      "cell_type": "markdown",
      "source": [
        "### Installing Hopsworks libraries\n",
        "We also need to install the Hopsworks libraries so that we can use these during out notebook exploration"
      ],
      "metadata": {
        "id": "oep_k4bUq3_3"
      },
      "id": "oep_k4bUq3_3"
    },
    {
      "cell_type": "code",
      "source": [
        "!pip install -U hopsworks --quiet"
      ],
      "metadata": {
        "id": "8jJ4SAyxq4pA"
      },
      "id": "8jJ4SAyxq4pA",
      "execution_count": null,
      "outputs": []
    },
    {
      "cell_type": "markdown",
      "source": [
        "### Other imports\n",
        "We are importing a `beervolume.py` and a `averages.py` script in this notebook, as we will use it later on to generate the historical data, plot it, and generate the second-order features for our predictions."
      ],
      "metadata": {
        "id": "pVf3hoBmnjOQ"
      },
      "id": "pVf3hoBmnjOQ"
    },
    {
      "cell_type": "code",
      "execution_count": null,
      "id": "27d37094",
      "metadata": {
        "id": "27d37094"
      },
      "outputs": [],
      "source": [
        "import datetime\n",
        "from beervolume import generate_historical_data, to_wide_format, plot_historical_id\n",
        "from averages import calculate_second_order_features\n",
        "\n",
        "import great_expectations as ge\n",
        "from great_expectations.core import ExpectationSuite, ExpectationConfiguration\n",
        "\n",
        "import warnings\n",
        "warnings.filterwarnings('ignore')"
      ]
    },
    {
      "cell_type": "markdown",
      "id": "cfae4d6e",
      "metadata": {
        "id": "cfae4d6e"
      },
      "source": [
        "## <span style=\"color:#ff5f27\">⚙️ Beer Consumption Data Import </span>\n",
        "\n",
        "In this demo, we will be generating synthetic beer consumption data. For every day after a certain `START_DATE`, we will be generating a supposed volume of beer that has been consumed.\n",
        "\n",
        "Therefore, let's define the `START_DATE` variable (format: %Y-%m-%d) which will indicate the start date for our beer data generation."
      ]
    },
    {
      "cell_type": "code",
      "execution_count": null,
      "id": "b7bee036",
      "metadata": {
        "id": "b7bee036"
      },
      "outputs": [],
      "source": [
        "# Define a constant START_DATE with a specific date (September 1, 2023)\n",
        "START_DATE = datetime.date(2023, 9, 1)"
      ]
    },
    {
      "cell_type": "code",
      "execution_count": null,
      "id": "b610580b",
      "metadata": {
        "id": "b610580b"
      },
      "outputs": [],
      "source": [
        "# Generate synthetic historical beer consumption data using the generate_historical_data function from START_DATE till current date\n",
        "data_generated = generate_historical_data(\n",
        "    START_DATE,  # Start date for data generation (September 1, 2023)\n",
        ")\n",
        "\n",
        "# Display the first 3 rows of the generated data\n",
        "data_generated.head(3)"
      ]
    },
    {
      "cell_type": "markdown",
      "id": "3e8bacfa",
      "metadata": {
        "id": "3e8bacfa"
      },
      "source": [
        "Let's take a look at historical values for 1 and 2 IDs."
      ]
    },
    {
      "cell_type": "code",
      "execution_count": null,
      "id": "5e229269",
      "metadata": {
        "id": "5e229269"
      },
      "outputs": [],
      "source": [
        "plot_historical_id([1,2], data_generated)"
      ]
    },
    {
      "cell_type": "markdown",
      "id": "c83e00ef",
      "metadata": {
        "id": "c83e00ef"
      },
      "source": [
        "## <span style=\"color:#ff5f27\"> 👮🏻‍♂️ Beer Volume data validation using Great Expectations </span>\n",
        "\n",
        "In order to make sure that the generated data is in the right format, we will be running the generated synthetic data through an \"Expectation Suite\" that is part of the \"Great Expectations\" framework (see [over here](https://github.com/great-expectations/great_expectations) for more info) that is part of [Hopsworks](www.hopsworks.ai)."
      ]
    },
    {
      "cell_type": "code",
      "execution_count": null,
      "id": "4d644fc1",
      "metadata": {
        "id": "4d644fc1"
      },
      "outputs": [],
      "source": [
        "# Convert the generated historical data DataFrame to a Great Expectations DataFrame\n",
        "ge_beervolume_df = ge.from_pandas(data_generated)\n",
        "\n",
        "# Retrieve the expectation suite associated with the Great Expectations DataFrame\n",
        "expectation_suite_beervolume = ge_beervolume_df.get_expectation_suite()\n",
        "\n",
        "# Set the expectation suite name to \"beervolume_suite\"\n",
        "expectation_suite_beervolume.expectation_suite_name = \"beervolume_suite\""
      ]
    },
    {
      "cell_type": "markdown",
      "source": [
        "Now that we have the \"Expectation Suite\", we can add specific \"Expectations\" to that suite: every parameter that we generated will have comply with a specific expectation."
      ],
      "metadata": {
        "id": "O7N-Jwtrp05v"
      },
      "id": "O7N-Jwtrp05v"
    },
    {
      "cell_type": "code",
      "execution_count": null,
      "id": "21ea95d9",
      "metadata": {
        "id": "21ea95d9"
      },
      "outputs": [],
      "source": [
        "# Add expectation for the 'id' column values to be between 0 and 5000\n",
        "expectation_suite_beervolume.add_expectation(\n",
        "    ExpectationConfiguration(\n",
        "        expectation_type=\"expect_column_values_to_be_between\",\n",
        "        kwargs={\n",
        "            \"column\": \"id\",\n",
        "            \"min_value\": 0,\n",
        "            \"max_value\": 5000,\n",
        "        }\n",
        "    )\n",
        ")\n",
        "\n",
        "# Add expectation for the 'beervolume' column values to be between 0 and 1000\n",
        "expectation_suite_beervolume.add_expectation(\n",
        "    ExpectationConfiguration(\n",
        "        expectation_type=\"expect_column_values_to_be_between\",\n",
        "        kwargs={\n",
        "            \"column\": \"beervolume\",\n",
        "            \"min_value\": 0,\n",
        "            \"max_value\": 1000,\n",
        "        }\n",
        "    )\n",
        ")\n",
        "\n",
        "# Loop through specified columns ('date', 'id', 'beervolume') and add expectations for null values\n",
        "for column in ['date', 'id', 'beervolume']:\n",
        "    expectation_suite_beervolume.add_expectation(\n",
        "        ExpectationConfiguration(\n",
        "            expectation_type=\"expect_column_values_to_be_null\",\n",
        "            kwargs={\n",
        "                \"column\": column,\n",
        "                \"mostly\": 0.0,\n",
        "            }\n",
        "        )\n",
        "    )\n"
      ]
    },
    {
      "cell_type": "markdown",
      "source": [
        "Now that we have the correct dataset all ready to go, we will start connecting this to the Hopsworks Feature Store."
      ],
      "metadata": {
        "id": "TSUPwqfsqEdP"
      },
      "id": "TSUPwqfsqEdP"
    },
    {
      "cell_type": "markdown",
      "id": "6148b5e6",
      "metadata": {
        "id": "6148b5e6"
      },
      "source": [
        "## <span style=\"color:#ff5f27\">🔮 Connect to Hopsworks Feature Store </span>\n",
        "\n",
        "As we have already installed Hopsworks in a previous cell, all we now need to do is import the library into this notebook, and start establishing the connection to the Hopsworks feature store."
      ]
    },
    {
      "cell_type": "code",
      "execution_count": null,
      "id": "e8d98244",
      "metadata": {
        "id": "e8d98244"
      },
      "outputs": [],
      "source": [
        "import hopsworks\n",
        "\n",
        "project = hopsworks.login()\n",
        "\n",
        "fs = project.get_feature_store()"
      ]
    },
    {
      "cell_type": "markdown",
      "source": [
        "Now that we have a connection to the feature store (called `fs`) we can start working with it in the notebook. Specifically, we first want to start creating feature groups for our Beer Consumption machine learning assignment."
      ],
      "metadata": {
        "id": "Ioz0-G5Gvx5S"
      },
      "id": "Ioz0-G5Gvx5S"
    },
    {
      "cell_type": "markdown",
      "id": "9471bceb",
      "metadata": {
        "id": "9471bceb"
      },
      "source": [
        "## <span style=\"color:#ff5f27\">🪄 Creating the **beervolume** Feature Group</span>\n",
        "\n",
        "Based on the synthetic data that we generated in previous notebook cells, we are now going to create the first feature group for our Beer Volume dataset."
      ]
    },
    {
      "cell_type": "code",
      "execution_count": null,
      "id": "b13b302d",
      "metadata": {
        "id": "b13b302d"
      },
      "outputs": [],
      "source": [
        "# Get or create the 'beervolume' feature group\n",
        "beervolume_fg = fs.get_or_create_feature_group(\n",
        "    name='beervolume',\n",
        "    description='Beer Volume Consumption Data',\n",
        "    version=1,\n",
        "    primary_key=['id'],\n",
        "    event_time='date',\n",
        "    online_enabled=True,\n",
        "    expectation_suite=expectation_suite_beervolume,\n",
        ")\n",
        "# Insert data\n",
        "beervolume_fg.insert(data_generated)"
      ]
    },
    {
      "cell_type": "markdown",
      "source": [
        "Now that this is done, we can move on to creating derived features that we will _engineer_ from the featuregroup above."
      ],
      "metadata": {
        "id": "E0XF8HM1xvIo"
      },
      "id": "E0XF8HM1xvIo"
    },
    {
      "cell_type": "markdown",
      "id": "b7ad450b",
      "metadata": {
        "id": "b7ad450b"
      },
      "source": [
        "## <span style=\"color:#ff5f27\">⚙️ **beervolume** Feature Engineering  </span>\n",
        "\n",
        "In order to make predictions around the volume of the consumption of beer that our hypothetical bar owner needs to take into account, we actually want to calculate a set of derived features that will be meaningful input to our prediction pipelines later on. We will therefore *engineer* the following features:\n",
        "\n",
        "- `ma_7`: This feature represents the **7-day moving average** of the 'beervolume' data, providing a smoothed representation of short-term beervolume trends.\n",
        "\n",
        "- `ma_14`: This feature represents the **14-day moving average** of the 'beervolume' data, offering a slightly longer-term smoothed beervolume trend.\n",
        "\n",
        "- `ma_30`: This feature represents the **30-day moving average** of the 'beervolume' data, providing a longer-term smoothed representation of beervolume trends.\n",
        "\n",
        "- `daily_rate_of_change`: This feature calculates the **daily rate of change** in beer volumes as a percentage change, indicating how much the beervolume has changed from the previous day.\n",
        "\n",
        "- `volatility_30_day`: This feature measures the **volatility of beer volume over a 30-day window** using the standard deviation. Higher values indicate greater beer volume fluctuations.\n",
        "\n",
        "- `ema_02`: This feature calculates the **exponential moving average (EMA)** of 'beervolume' with a _smoothing factor of 0.2_, giving more weight to recent data points in the calculation.\n",
        "\n",
        "- `ema_05`: Similar to ema_02, this feature calculates the **EMA of 'beer volume'** with a _smoothing factor of 0.5_, providing a different degree of responsiveness to recent data.\n",
        "\n",
        "- `rsi`: The **Relative Strength Index (RSI)** is a momentum oscillator that measures the speed and change of beer volume movements. It ranges from 0 to 100, with values above 70 indicating higher-than-normal beervolume and values below 30 indicating lower-than-normal beervolume."
      ]
    },
    {
      "cell_type": "code",
      "execution_count": null,
      "id": "d3123547",
      "metadata": {
        "id": "d3123547"
      },
      "outputs": [],
      "source": [
        "# Read the beer volume data from the 'beervolume' feature group\n",
        "beervolume_df = beervolume_fg.read()\n",
        "beervolume_df.head(3)"
      ]
    },
    {
      "cell_type": "code",
      "execution_count": null,
      "id": "2b3f9bbe",
      "metadata": {
        "id": "2b3f9bbe"
      },
      "outputs": [],
      "source": [
        "# Calculate second-order features\n",
        "beervolume_averages_df = calculate_second_order_features(beervolume_df)\n",
        "\n",
        "# Display the first 3 rows of the resulting DataFrame\n",
        "beervolume_averages_df.head(3)"
      ]
    },
    {
      "cell_type": "markdown",
      "id": "b8496432",
      "metadata": {
        "id": "b8496432"
      },
      "source": [
        "## <span style=\"color:#ff5f27\">🪄 Creating feature groups for the newly engineered features </span>\n",
        "\n",
        "Now that we have the newly engineered features calculated, we will add them to a separate set of Hopsworks Feature Groups:"
      ]
    },
    {
      "cell_type": "code",
      "execution_count": null,
      "id": "e4c0dbab",
      "metadata": {
        "id": "e4c0dbab"
      },
      "outputs": [],
      "source": [
        "# Get or create the 'beervolume averages' feature group\n",
        "beervolume_averages_fg = fs.get_or_create_feature_group(\n",
        "    name='beervolume_averages',\n",
        "    description='Calculated second order beervolume features',\n",
        "    version=1,\n",
        "    primary_key=['id'],\n",
        "    event_time='date',\n",
        "    online_enabled=True,\n",
        "    parents=[beervolume_fg],\n",
        ")\n",
        "# Insert data\n",
        "beervolume_averages_fg.insert(beervolume_averages_df)"
      ]
    },
    {
      "cell_type": "markdown",
      "source": [
        "This concludes the initial creation of our Feature Pipeline. Now that we have both the core and the engineered feature groups set up, we can proceed to the next step: Training our Machine Learning system for Beer Consumption volume prediction."
      ],
      "metadata": {
        "id": "TMTbQxVAyMCo"
      },
      "id": "TMTbQxVAyMCo"
    },
    {
      "cell_type": "markdown",
      "id": "6fdf0327",
      "metadata": {
        "id": "6fdf0327"
      },
      "source": [
        "---"
      ]
    }
  ],
  "metadata": {
    "kernelspec": {
      "display_name": "Python 3 (ipykernel)",
      "language": "python",
      "name": "python3"
    },
    "language_info": {
      "codemirror_mode": {
        "name": "ipython",
        "version": 3
      },
      "file_extension": ".py",
      "mimetype": "text/x-python",
      "name": "python",
      "nbconvert_exporter": "python",
      "pygments_lexer": "ipython3",
      "version": "3.9.18"
    },
    "colab": {
      "provenance": [],
      "include_colab_link": true
    }
  },
  "nbformat": 4,
  "nbformat_minor": 5
}