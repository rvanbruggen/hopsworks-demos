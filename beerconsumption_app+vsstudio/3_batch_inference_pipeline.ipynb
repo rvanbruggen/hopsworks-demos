{
 "cells": [
  {
   "cell_type": "markdown",
   "metadata": {},
   "source": [
    "# Batch Inference Pipeline for Beervolume Predictions"
   ]
  },
  {
   "cell_type": "markdown",
   "metadata": {},
   "source": [
    "## Imports"
   ]
  },
  {
   "cell_type": "code",
   "execution_count": null,
   "metadata": {},
   "outputs": [],
   "source": [
    "!pip install streamlit"
   ]
  },
  {
   "cell_type": "code",
   "execution_count": null,
   "metadata": {},
   "outputs": [],
   "source": [
    "import streamlit as st\n",
    "import hopsworks\n",
    "from hsfs.feature import Feature\n",
    "from beervolume import plot_historical_id, plot_prediction\n",
    "import joblib\n",
    "from datetime import datetime, timedelta"
   ]
  },
  {
   "cell_type": "markdown",
   "metadata": {},
   "source": [
    "## Batch Beervolume Inference Pipeline"
   ]
  },
  {
   "cell_type": "code",
   "execution_count": 7,
   "metadata": {},
   "outputs": [
    {
     "name": "stdout",
     "output_type": "stream",
     "text": [
      "Connection closed.\n",
      "Connected. Call `.close()` to terminate connection gracefully.\n",
      "\n",
      "Multiple projects found. \n",
      "\n",
      "\t (1) rixdemo\n",
      "\t (2) BeerVolumePrediction\n",
      "\n",
      "Logged in to project, explore it here https://c.app.hopsworks.ai:443/p/294039\n",
      "Connected. Call `.close()` to terminate connection gracefully.\n"
     ]
    },
    {
     "ename": "RestAPIError",
     "evalue": "Metadata operation error: (url: https://c.app.hopsworks.ai/hopsworks-api/api/project/294039/featurestores/293958/featureview/beervolume_fv3/version/1). Server response: \nHTTP code: 404, HTTP reason: Not Found, body: b'{\"errorCode\":270181,\"usrMsg\":\"There exists no feature view with the name beervolume_fv3 and version 1.\",\"errorMsg\":\"Feature view wasn\\'t found.\"}', error code: 270181, error msg: Feature view wasn't found., user msg: There exists no feature view with the name beervolume_fv3 and version 1.",
     "output_type": "error",
     "traceback": [
      "\u001b[0;31m---------------------------------------------------------------------------\u001b[0m",
      "\u001b[0;31mCacheKeyNotFoundError\u001b[0m                     Traceback (most recent call last)",
      "File \u001b[0;32m~/.pyenv/versions/3.11.6/lib/python3.11/site-packages/streamlit/runtime/caching/cache_utils.py:264\u001b[0m, in \u001b[0;36mCachedFunc._get_or_create_cached_value\u001b[0;34m(self, func_args, func_kwargs)\u001b[0m\n\u001b[1;32m    263\u001b[0m \u001b[39mtry\u001b[39;00m:\n\u001b[0;32m--> 264\u001b[0m     cached_result \u001b[39m=\u001b[39m cache\u001b[39m.\u001b[39;49mread_result(value_key)\n\u001b[1;32m    265\u001b[0m     \u001b[39mreturn\u001b[39;00m \u001b[39mself\u001b[39m\u001b[39m.\u001b[39m_handle_cache_hit(cached_result)\n",
      "File \u001b[0;32m~/.pyenv/versions/3.11.6/lib/python3.11/site-packages/streamlit/runtime/caching/cache_resource_api.py:500\u001b[0m, in \u001b[0;36mResourceCache.read_result\u001b[0;34m(self, key)\u001b[0m\n\u001b[1;32m    498\u001b[0m \u001b[39mif\u001b[39;00m key \u001b[39mnot\u001b[39;00m \u001b[39min\u001b[39;00m \u001b[39mself\u001b[39m\u001b[39m.\u001b[39m_mem_cache:\n\u001b[1;32m    499\u001b[0m     \u001b[39m# key does not exist in cache.\u001b[39;00m\n\u001b[0;32m--> 500\u001b[0m     \u001b[39mraise\u001b[39;00m CacheKeyNotFoundError()\n\u001b[1;32m    502\u001b[0m multi_results: MultiCacheResults \u001b[39m=\u001b[39m \u001b[39mself\u001b[39m\u001b[39m.\u001b[39m_mem_cache[key]\n",
      "\u001b[0;31mCacheKeyNotFoundError\u001b[0m: ",
      "\nDuring handling of the above exception, another exception occurred:\n",
      "\u001b[0;31mCacheKeyNotFoundError\u001b[0m                     Traceback (most recent call last)",
      "File \u001b[0;32m~/.pyenv/versions/3.11.6/lib/python3.11/site-packages/streamlit/runtime/caching/cache_utils.py:312\u001b[0m, in \u001b[0;36mCachedFunc._handle_cache_miss\u001b[0;34m(self, cache, value_key, func_args, func_kwargs)\u001b[0m\n\u001b[1;32m    311\u001b[0m \u001b[39mtry\u001b[39;00m:\n\u001b[0;32m--> 312\u001b[0m     cached_result \u001b[39m=\u001b[39m cache\u001b[39m.\u001b[39;49mread_result(value_key)\n\u001b[1;32m    313\u001b[0m     \u001b[39m# Another thread computed the value before us. Early exit!\u001b[39;00m\n",
      "File \u001b[0;32m~/.pyenv/versions/3.11.6/lib/python3.11/site-packages/streamlit/runtime/caching/cache_resource_api.py:500\u001b[0m, in \u001b[0;36mResourceCache.read_result\u001b[0;34m(self, key)\u001b[0m\n\u001b[1;32m    498\u001b[0m \u001b[39mif\u001b[39;00m key \u001b[39mnot\u001b[39;00m \u001b[39min\u001b[39;00m \u001b[39mself\u001b[39m\u001b[39m.\u001b[39m_mem_cache:\n\u001b[1;32m    499\u001b[0m     \u001b[39m# key does not exist in cache.\u001b[39;00m\n\u001b[0;32m--> 500\u001b[0m     \u001b[39mraise\u001b[39;00m CacheKeyNotFoundError()\n\u001b[1;32m    502\u001b[0m multi_results: MultiCacheResults \u001b[39m=\u001b[39m \u001b[39mself\u001b[39m\u001b[39m.\u001b[39m_mem_cache[key]\n",
      "\u001b[0;31mCacheKeyNotFoundError\u001b[0m: ",
      "\nDuring handling of the above exception, another exception occurred:\n",
      "\u001b[0;31mRestAPIError\u001b[0m                              Traceback (most recent call last)",
      "\u001b[1;32m/Users/rvanbruggen/Documents/GitHub/rix-hopsworks-demos/beerconsumption_app+vsstudio/3_batch_inference_pipeline.ipynb Cell 6\u001b[0m line \u001b[0;36m3\n\u001b[1;32m     <a href='vscode-notebook-cell:/Users/rvanbruggen/Documents/GitHub/rix-hopsworks-demos/beerconsumption_app%2Bvsstudio/3_batch_inference_pipeline.ipynb#W4sZmlsZQ%3D%3D?line=33'>34</a>\u001b[0m project, fs \u001b[39m=\u001b[39m get_feature_store()\n\u001b[1;32m     <a href='vscode-notebook-cell:/Users/rvanbruggen/Documents/GitHub/rix-hopsworks-demos/beerconsumption_app%2Bvsstudio/3_batch_inference_pipeline.ipynb#W4sZmlsZQ%3D%3D?line=34'>35</a>\u001b[0m beervolume_fg \u001b[39m=\u001b[39m get_feature_group()\n\u001b[0;32m---> <a href='vscode-notebook-cell:/Users/rvanbruggen/Documents/GitHub/rix-hopsworks-demos/beerconsumption_app%2Bvsstudio/3_batch_inference_pipeline.ipynb#W4sZmlsZQ%3D%3D?line=35'>36</a>\u001b[0m feature_view \u001b[39m=\u001b[39m get_feature_view()\n\u001b[1;32m     <a href='vscode-notebook-cell:/Users/rvanbruggen/Documents/GitHub/rix-hopsworks-demos/beerconsumption_app%2Bvsstudio/3_batch_inference_pipeline.ipynb#W4sZmlsZQ%3D%3D?line=38'>39</a>\u001b[0m \u001b[39m@st\u001b[39m\u001b[39m.\u001b[39mcache_data()\n\u001b[1;32m     <a href='vscode-notebook-cell:/Users/rvanbruggen/Documents/GitHub/rix-hopsworks-demos/beerconsumption_app%2Bvsstudio/3_batch_inference_pipeline.ipynb#W4sZmlsZQ%3D%3D?line=39'>40</a>\u001b[0m \u001b[39mdef\u001b[39;00m \u001b[39mget_data_from_feature_group\u001b[39m(_beervolume_fg):\n\u001b[1;32m     <a href='vscode-notebook-cell:/Users/rvanbruggen/Documents/GitHub/rix-hopsworks-demos/beerconsumption_app%2Bvsstudio/3_batch_inference_pipeline.ipynb#W4sZmlsZQ%3D%3D?line=40'>41</a>\u001b[0m     st\u001b[39m.\u001b[39mwrite(\u001b[39m\"\u001b[39m\u001b[39m🪝 Retrieving Data from Feature Store...\u001b[39m\u001b[39m\"\u001b[39m)\n",
      "File \u001b[0;32m~/.pyenv/versions/3.11.6/lib/python3.11/site-packages/streamlit/runtime/caching/cache_utils.py:212\u001b[0m, in \u001b[0;36mmake_cached_func_wrapper.<locals>.wrapper\u001b[0;34m(*args, **kwargs)\u001b[0m\n\u001b[1;32m    210\u001b[0m \u001b[39m@functools\u001b[39m\u001b[39m.\u001b[39mwraps(info\u001b[39m.\u001b[39mfunc)\n\u001b[1;32m    211\u001b[0m \u001b[39mdef\u001b[39;00m \u001b[39mwrapper\u001b[39m(\u001b[39m*\u001b[39margs, \u001b[39m*\u001b[39m\u001b[39m*\u001b[39mkwargs):\n\u001b[0;32m--> 212\u001b[0m     \u001b[39mreturn\u001b[39;00m cached_func(\u001b[39m*\u001b[39;49margs, \u001b[39m*\u001b[39;49m\u001b[39m*\u001b[39;49mkwargs)\n",
      "File \u001b[0;32m~/.pyenv/versions/3.11.6/lib/python3.11/site-packages/streamlit/runtime/caching/cache_utils.py:241\u001b[0m, in \u001b[0;36mCachedFunc.__call__\u001b[0;34m(self, *args, **kwargs)\u001b[0m\n\u001b[1;32m    239\u001b[0m \u001b[39mif\u001b[39;00m \u001b[39mself\u001b[39m\u001b[39m.\u001b[39m_info\u001b[39m.\u001b[39mshow_spinner \u001b[39mor\u001b[39;00m \u001b[39misinstance\u001b[39m(\u001b[39mself\u001b[39m\u001b[39m.\u001b[39m_info\u001b[39m.\u001b[39mshow_spinner, \u001b[39mstr\u001b[39m):\n\u001b[1;32m    240\u001b[0m     \u001b[39mwith\u001b[39;00m spinner(message, cache\u001b[39m=\u001b[39m\u001b[39mTrue\u001b[39;00m):\n\u001b[0;32m--> 241\u001b[0m         \u001b[39mreturn\u001b[39;00m \u001b[39mself\u001b[39;49m\u001b[39m.\u001b[39;49m_get_or_create_cached_value(args, kwargs)\n\u001b[1;32m    242\u001b[0m \u001b[39melse\u001b[39;00m:\n\u001b[1;32m    243\u001b[0m     \u001b[39mreturn\u001b[39;00m \u001b[39mself\u001b[39m\u001b[39m.\u001b[39m_get_or_create_cached_value(args, kwargs)\n",
      "File \u001b[0;32m~/.pyenv/versions/3.11.6/lib/python3.11/site-packages/streamlit/runtime/caching/cache_utils.py:267\u001b[0m, in \u001b[0;36mCachedFunc._get_or_create_cached_value\u001b[0;34m(self, func_args, func_kwargs)\u001b[0m\n\u001b[1;32m    265\u001b[0m     \u001b[39mreturn\u001b[39;00m \u001b[39mself\u001b[39m\u001b[39m.\u001b[39m_handle_cache_hit(cached_result)\n\u001b[1;32m    266\u001b[0m \u001b[39mexcept\u001b[39;00m CacheKeyNotFoundError:\n\u001b[0;32m--> 267\u001b[0m     \u001b[39mreturn\u001b[39;00m \u001b[39mself\u001b[39;49m\u001b[39m.\u001b[39;49m_handle_cache_miss(cache, value_key, func_args, func_kwargs)\n",
      "File \u001b[0;32m~/.pyenv/versions/3.11.6/lib/python3.11/site-packages/streamlit/runtime/caching/cache_utils.py:321\u001b[0m, in \u001b[0;36mCachedFunc._handle_cache_miss\u001b[0;34m(self, cache, value_key, func_args, func_kwargs)\u001b[0m\n\u001b[1;32m    316\u001b[0m \u001b[39mexcept\u001b[39;00m CacheKeyNotFoundError:\n\u001b[1;32m    317\u001b[0m     \u001b[39m# We acquired the lock before any other thread. Compute the value!\u001b[39;00m\n\u001b[1;32m    318\u001b[0m     \u001b[39mwith\u001b[39;00m \u001b[39mself\u001b[39m\u001b[39m.\u001b[39m_info\u001b[39m.\u001b[39mcached_message_replay_ctx\u001b[39m.\u001b[39mcalling_cached_function(\n\u001b[1;32m    319\u001b[0m         \u001b[39mself\u001b[39m\u001b[39m.\u001b[39m_info\u001b[39m.\u001b[39mfunc, \u001b[39mself\u001b[39m\u001b[39m.\u001b[39m_info\u001b[39m.\u001b[39mallow_widgets\n\u001b[1;32m    320\u001b[0m     ):\n\u001b[0;32m--> 321\u001b[0m         computed_value \u001b[39m=\u001b[39m \u001b[39mself\u001b[39;49m\u001b[39m.\u001b[39;49m_info\u001b[39m.\u001b[39;49mfunc(\u001b[39m*\u001b[39;49mfunc_args, \u001b[39m*\u001b[39;49m\u001b[39m*\u001b[39;49mfunc_kwargs)\n\u001b[1;32m    323\u001b[0m     \u001b[39m# We've computed our value, and now we need to write it back to the cache\u001b[39;00m\n\u001b[1;32m    324\u001b[0m     \u001b[39m# along with any \"replay messages\" that were generated during value computation.\u001b[39;00m\n\u001b[1;32m    325\u001b[0m     messages \u001b[39m=\u001b[39m \u001b[39mself\u001b[39m\u001b[39m.\u001b[39m_info\u001b[39m.\u001b[39mcached_message_replay_ctx\u001b[39m.\u001b[39m_most_recent_messages\n",
      "\u001b[1;32m/Users/rvanbruggen/Documents/GitHub/rix-hopsworks-demos/beerconsumption_app+vsstudio/3_batch_inference_pipeline.ipynb Cell 6\u001b[0m line \u001b[0;36m2\n\u001b[1;32m     <a href='vscode-notebook-cell:/Users/rvanbruggen/Documents/GitHub/rix-hopsworks-demos/beerconsumption_app%2Bvsstudio/3_batch_inference_pipeline.ipynb#W4sZmlsZQ%3D%3D?line=22'>23</a>\u001b[0m \u001b[39m@st\u001b[39m\u001b[39m.\u001b[39mcache_resource()\n\u001b[1;32m     <a href='vscode-notebook-cell:/Users/rvanbruggen/Documents/GitHub/rix-hopsworks-demos/beerconsumption_app%2Bvsstudio/3_batch_inference_pipeline.ipynb#W4sZmlsZQ%3D%3D?line=23'>24</a>\u001b[0m \u001b[39mdef\u001b[39;00m \u001b[39mget_feature_view\u001b[39m():\n\u001b[1;32m     <a href='vscode-notebook-cell:/Users/rvanbruggen/Documents/GitHub/rix-hopsworks-demos/beerconsumption_app%2Bvsstudio/3_batch_inference_pipeline.ipynb#W4sZmlsZQ%3D%3D?line=24'>25</a>\u001b[0m     st\u001b[39m.\u001b[39mwrite(\u001b[39m\"\u001b[39m\u001b[39m🪝 Retrieving the Beervolume Feature View...\u001b[39m\u001b[39m\"\u001b[39m)\n\u001b[0;32m---> <a href='vscode-notebook-cell:/Users/rvanbruggen/Documents/GitHub/rix-hopsworks-demos/beerconsumption_app%2Bvsstudio/3_batch_inference_pipeline.ipynb#W4sZmlsZQ%3D%3D?line=25'>26</a>\u001b[0m     feature_view \u001b[39m=\u001b[39m fs\u001b[39m.\u001b[39;49mget_feature_view(\n\u001b[1;32m     <a href='vscode-notebook-cell:/Users/rvanbruggen/Documents/GitHub/rix-hopsworks-demos/beerconsumption_app%2Bvsstudio/3_batch_inference_pipeline.ipynb#W4sZmlsZQ%3D%3D?line=26'>27</a>\u001b[0m         name \u001b[39m=\u001b[39;49m \u001b[39m'\u001b[39;49m\u001b[39mbeervolume_fv3\u001b[39;49m\u001b[39m'\u001b[39;49m,\n\u001b[1;32m     <a href='vscode-notebook-cell:/Users/rvanbruggen/Documents/GitHub/rix-hopsworks-demos/beerconsumption_app%2Bvsstudio/3_batch_inference_pipeline.ipynb#W4sZmlsZQ%3D%3D?line=27'>28</a>\u001b[0m         version \u001b[39m=\u001b[39;49m \u001b[39m1\u001b[39;49m\n\u001b[1;32m     <a href='vscode-notebook-cell:/Users/rvanbruggen/Documents/GitHub/rix-hopsworks-demos/beerconsumption_app%2Bvsstudio/3_batch_inference_pipeline.ipynb#W4sZmlsZQ%3D%3D?line=28'>29</a>\u001b[0m     )\n\u001b[1;32m     <a href='vscode-notebook-cell:/Users/rvanbruggen/Documents/GitHub/rix-hopsworks-demos/beerconsumption_app%2Bvsstudio/3_batch_inference_pipeline.ipynb#W4sZmlsZQ%3D%3D?line=29'>30</a>\u001b[0m     st\u001b[39m.\u001b[39mwrite(\u001b[39m\"\u001b[39m\u001b[39m✅ Success!\u001b[39m\u001b[39m\"\u001b[39m)\n\u001b[1;32m     <a href='vscode-notebook-cell:/Users/rvanbruggen/Documents/GitHub/rix-hopsworks-demos/beerconsumption_app%2Bvsstudio/3_batch_inference_pipeline.ipynb#W4sZmlsZQ%3D%3D?line=31'>32</a>\u001b[0m     \u001b[39mreturn\u001b[39;00m feature_view\n",
      "File \u001b[0;32m~/.pyenv/versions/3.11.6/lib/python3.11/site-packages/hsfs/feature_store.py:1555\u001b[0m, in \u001b[0;36mFeatureStore.get_feature_view\u001b[0;34m(self, name, version)\u001b[0m\n\u001b[1;32m   1548\u001b[0m     warnings\u001b[39m.\u001b[39mwarn(\n\u001b[1;32m   1549\u001b[0m         \u001b[39m\"\u001b[39m\u001b[39mNo version provided for getting feature view `\u001b[39m\u001b[39m{}\u001b[39;00m\u001b[39m`, defaulting to `\u001b[39m\u001b[39m{}\u001b[39;00m\u001b[39m`.\u001b[39m\u001b[39m\"\u001b[39m\u001b[39m.\u001b[39mformat(\n\u001b[1;32m   1550\u001b[0m             name, \u001b[39mself\u001b[39m\u001b[39m.\u001b[39mDEFAULT_VERSION\n\u001b[1;32m   1551\u001b[0m         ),\n\u001b[1;32m   1552\u001b[0m         util\u001b[39m.\u001b[39mVersionWarning,\n\u001b[1;32m   1553\u001b[0m     )\n\u001b[1;32m   1554\u001b[0m     version \u001b[39m=\u001b[39m \u001b[39mself\u001b[39m\u001b[39m.\u001b[39mDEFAULT_VERSION\n\u001b[0;32m-> 1555\u001b[0m \u001b[39mreturn\u001b[39;00m \u001b[39mself\u001b[39;49m\u001b[39m.\u001b[39;49m_feature_view_engine\u001b[39m.\u001b[39;49mget(name, version)\n",
      "File \u001b[0;32m~/.pyenv/versions/3.11.6/lib/python3.11/site-packages/hsfs/core/feature_view_engine.py:96\u001b[0m, in \u001b[0;36mFeatureViewEngine.get\u001b[0;34m(self, name, version)\u001b[0m\n\u001b[1;32m     94\u001b[0m \u001b[39mdef\u001b[39;00m \u001b[39mget\u001b[39m(\u001b[39mself\u001b[39m, name, version\u001b[39m=\u001b[39m\u001b[39mNone\u001b[39;00m):\n\u001b[1;32m     95\u001b[0m     \u001b[39mif\u001b[39;00m version:\n\u001b[0;32m---> 96\u001b[0m         fv \u001b[39m=\u001b[39m \u001b[39mself\u001b[39;49m\u001b[39m.\u001b[39;49m_feature_view_api\u001b[39m.\u001b[39;49mget_by_name_version(name, version)\n\u001b[1;32m     97\u001b[0m         \u001b[39mself\u001b[39m\u001b[39m.\u001b[39mattach_transformation_function(fv)\n\u001b[1;32m     98\u001b[0m     \u001b[39melse\u001b[39;00m:\n",
      "File \u001b[0;32m~/.pyenv/versions/3.11.6/lib/python3.11/site-packages/hsfs/core/feature_view_api.py:113\u001b[0m, in \u001b[0;36mFeatureViewApi.get_by_name_version\u001b[0;34m(self, name, version)\u001b[0m\n\u001b[1;32m    107\u001b[0m     \u001b[39mraise\u001b[39;00m \u001b[39mValueError\u001b[39;00m(\n\u001b[1;32m    108\u001b[0m         \u001b[39m\"\u001b[39m\u001b[39mCannot get back the feature view because the query defined is no longer valid.\u001b[39m\u001b[39m\"\u001b[39m\n\u001b[1;32m    109\u001b[0m         \u001b[39m\"\u001b[39m\u001b[39m Some feature groups used in the query may have been deleted. You can clean up this feature view on the UI\u001b[39m\u001b[39m\"\u001b[39m\n\u001b[1;32m    110\u001b[0m         \u001b[39m\"\u001b[39m\u001b[39m or `FeatureView.clean`.\u001b[39m\u001b[39m\"\u001b[39m\n\u001b[1;32m    111\u001b[0m     )\n\u001b[1;32m    112\u001b[0m \u001b[39melse\u001b[39;00m:\n\u001b[0;32m--> 113\u001b[0m     \u001b[39mraise\u001b[39;00m e\n",
      "File \u001b[0;32m~/.pyenv/versions/3.11.6/lib/python3.11/site-packages/hsfs/core/feature_view_api.py:101\u001b[0m, in \u001b[0;36mFeatureViewApi.get_by_name_version\u001b[0;34m(self, name, version)\u001b[0m\n\u001b[1;32m     98\u001b[0m path \u001b[39m=\u001b[39m \u001b[39mself\u001b[39m\u001b[39m.\u001b[39m_base_path \u001b[39m+\u001b[39m [name, \u001b[39mself\u001b[39m\u001b[39m.\u001b[39m_VERSION, version]\n\u001b[1;32m     99\u001b[0m \u001b[39mtry\u001b[39;00m:\n\u001b[1;32m    100\u001b[0m     \u001b[39mreturn\u001b[39;00m feature_view\u001b[39m.\u001b[39mFeatureView\u001b[39m.\u001b[39mfrom_response_json(\n\u001b[0;32m--> 101\u001b[0m         \u001b[39mself\u001b[39;49m\u001b[39m.\u001b[39;49m_client\u001b[39m.\u001b[39;49m_send_request(\n\u001b[1;32m    102\u001b[0m             \u001b[39mself\u001b[39;49m\u001b[39m.\u001b[39;49m_GET, path, {\u001b[39m\"\u001b[39;49m\u001b[39mexpand\u001b[39;49m\u001b[39m\"\u001b[39;49m: [\u001b[39m\"\u001b[39;49m\u001b[39mquery\u001b[39;49m\u001b[39m\"\u001b[39;49m, \u001b[39m\"\u001b[39;49m\u001b[39mfeatures\u001b[39;49m\u001b[39m\"\u001b[39;49m]}\n\u001b[1;32m    103\u001b[0m         )\n\u001b[1;32m    104\u001b[0m     )\n\u001b[1;32m    105\u001b[0m \u001b[39mexcept\u001b[39;00m RestAPIError \u001b[39mas\u001b[39;00m e:\n\u001b[1;32m    106\u001b[0m     \u001b[39mif\u001b[39;00m e\u001b[39m.\u001b[39mresponse\u001b[39m.\u001b[39mjson()\u001b[39m.\u001b[39mget(\u001b[39m\"\u001b[39m\u001b[39merrorCode\u001b[39m\u001b[39m\"\u001b[39m, \u001b[39m\"\u001b[39m\u001b[39m\"\u001b[39m) \u001b[39m==\u001b[39m \u001b[39m270009\u001b[39m:\n",
      "File \u001b[0;32m~/.pyenv/versions/3.11.6/lib/python3.11/site-packages/hsfs/decorators.py:35\u001b[0m, in \u001b[0;36mconnected.<locals>.if_connected\u001b[0;34m(inst, *args, **kwargs)\u001b[0m\n\u001b[1;32m     33\u001b[0m \u001b[39mif\u001b[39;00m \u001b[39mnot\u001b[39;00m inst\u001b[39m.\u001b[39m_connected:\n\u001b[1;32m     34\u001b[0m     \u001b[39mraise\u001b[39;00m NoHopsworksConnectionError\n\u001b[0;32m---> 35\u001b[0m \u001b[39mreturn\u001b[39;00m fn(inst, \u001b[39m*\u001b[39;49margs, \u001b[39m*\u001b[39;49m\u001b[39m*\u001b[39;49mkwargs)\n",
      "File \u001b[0;32m~/.pyenv/versions/3.11.6/lib/python3.11/site-packages/hsfs/client/base.py:179\u001b[0m, in \u001b[0;36mClient._send_request\u001b[0;34m(self, method, path_params, query_params, headers, data, stream, files)\u001b[0m\n\u001b[1;32m    176\u001b[0m     response \u001b[39m=\u001b[39m \u001b[39mself\u001b[39m\u001b[39m.\u001b[39m_session\u001b[39m.\u001b[39msend(prepped, verify\u001b[39m=\u001b[39m\u001b[39mself\u001b[39m\u001b[39m.\u001b[39m_verify, stream\u001b[39m=\u001b[39mstream)\n\u001b[1;32m    178\u001b[0m \u001b[39mif\u001b[39;00m response\u001b[39m.\u001b[39mstatus_code \u001b[39m/\u001b[39m\u001b[39m/\u001b[39m \u001b[39m100\u001b[39m \u001b[39m!=\u001b[39m \u001b[39m2\u001b[39m:\n\u001b[0;32m--> 179\u001b[0m     \u001b[39mraise\u001b[39;00m exceptions\u001b[39m.\u001b[39mRestAPIError(url, response)\n\u001b[1;32m    181\u001b[0m \u001b[39mif\u001b[39;00m stream:\n\u001b[1;32m    182\u001b[0m     \u001b[39mreturn\u001b[39;00m response\n",
      "\u001b[0;31mRestAPIError\u001b[0m: Metadata operation error: (url: https://c.app.hopsworks.ai/hopsworks-api/api/project/294039/featurestores/293958/featureview/beervolume_fv3/version/1). Server response: \nHTTP code: 404, HTTP reason: Not Found, body: b'{\"errorCode\":270181,\"usrMsg\":\"There exists no feature view with the name beervolume_fv3 and version 1.\",\"errorMsg\":\"Feature view wasn\\'t found.\"}', error code: 270181, error msg: Feature view wasn't found., user msg: There exists no feature view with the name beervolume_fv3 and version 1."
     ]
    }
   ],
   "source": [
    "@st.cache_resource()\n",
    "def get_feature_store():\n",
    "    st.markdown('📡 Connecting to Hopsworks Feature Store...')\n",
    "\n",
    "    project = hopsworks.login()\n",
    "    fs = project.get_feature_store()\n",
    "\n",
    "    st.write(\"✅ Logged in successfully!\")\n",
    "\n",
    "    return project, fs\n",
    "\n",
    "@st.cache_resource()\n",
    "def get_feature_group():\n",
    "    st.write(\"🪝 Retrieving the Beervolume Feature Group...\")\n",
    "    beervolume_fg = fs.get_feature_group(\n",
    "        name='beervolume',\n",
    "        version=1,\n",
    "    )\n",
    "    st.write(\"✅ Success!\")\n",
    "\n",
    "    return beervolume_fg\n",
    "\n",
    "@st.cache_resource()\n",
    "def get_feature_view():\n",
    "    st.write(\"🪝 Retrieving the Beervolume Feature View...\")\n",
    "    feature_view = fs.get_feature_view(\n",
    "        name = 'beervolume_fv3',\n",
    "        version = 1\n",
    "    )\n",
    "    st.write(\"✅ Success!\")\n",
    "\n",
    "    return feature_view\n",
    "\n",
    "project, fs = get_feature_store()\n",
    "beervolume_fg = get_feature_group()\n",
    "feature_view = get_feature_view()\n",
    "\n",
    "\n",
    "@st.cache_data()\n",
    "def get_data_from_feature_group(_beervolume_fg):\n",
    "    st.write(\"🪝 Retrieving Data from Feature Store...\")\n",
    "    data = beervolume_fg.read()\n",
    "\n",
    "    st.write(\"✅ Success!\")\n",
    "\n",
    "    return data\n",
    "\n",
    "data = get_data_from_feature_group(beervolume_fg)\n",
    "\n",
    "fig = plot_historical_id([1, 2], data)\n",
    "\n",
    "st.plotly_chart(fig)\n",
    "\n",
    "\n",
    "@st.cache_resource()\n",
    "def retrieve_model():\n",
    "    st.write(\"⚙️ Retrieving Beervolume Model from Model Registry...\")\n",
    "    mr = project.get_model_registry()\n",
    "    retrieved_model = mr.get_model(\n",
    "        name=\"xgboost_beervolume_model2\",\n",
    "        version=1,\n",
    "    )\n",
    "    saved_model_dir = retrieved_model.download()\n",
    "    model = joblib.load(saved_model_dir + \"/xgboost_beervolume_model2.pkl\")\n",
    "\n",
    "    st.write(\"✅ Success!\")\n",
    "\n",
    "    return model\n",
    "\n",
    "model = retrieve_model()\n",
    "\n",
    "\n",
    "@st.cache_data()\n",
    "def get_batch_last_week():\n",
    "    st.write(\"⚙️ Retrieving Batch Beervolume Data for the last week...\")\n",
    "    # Get today's date\n",
    "    today = datetime.today()\n",
    "\n",
    "    # Calculate the date 7 days ago\n",
    "    week_ago = (today - timedelta(days=7)).strftime(\"%Y-%m-%d\")\n",
    "    # Initialise feature view to retrieve batch data\n",
    "    feature_view.init_batch_scoring(training_dataset_version=1)\n",
    "\n",
    "    # Retrieve batch data\n",
    "    batch_data = feature_view.get_batch_data(\n",
    "        start_time=week_ago,\n",
    "        end_time=today.strftime(\"%Y-%m-%d\"),\n",
    "    )\n",
    "    \n",
    "    st.write(\"✅ Success!\")\n",
    "\n",
    "    return batch_data, week_ago\n",
    "\n",
    "batch_data, week_ago = get_batch_last_week()\n",
    "\n",
    "def predict_id(id_value, data, model):\n",
    "    data_filtered = data[data.id == id_value]\n",
    "    preds = model.predict(data_filtered)\n",
    "    return preds\n",
    "\n",
    "id = 1\n",
    "predictions = predict_id(id, batch_data.drop('date', axis=1), model)\n",
    "\n",
    "fig_pred = plot_prediction(id, data, week_ago, predictions)\n",
    "\n",
    "st.plotly_chart(fig_pred)\n",
    "\n",
    "st.write(36 * \"-\")\n",
    "st.subheader('\\n🎉 📈 🤝 App Finished Successfully 🤝 📈 🎉')"
   ]
  },
  {
   "cell_type": "code",
   "execution_count": null,
   "metadata": {},
   "outputs": [],
   "source": []
  }
 ],
 "metadata": {
  "kernelspec": {
   "display_name": "Python 3",
   "language": "python",
   "name": "python3"
  },
  "language_info": {
   "codemirror_mode": {
    "name": "ipython",
    "version": 3
   },
   "file_extension": ".py",
   "mimetype": "text/x-python",
   "name": "python",
   "nbconvert_exporter": "python",
   "pygments_lexer": "ipython3",
   "version": "3.11.6"
  }
 },
 "nbformat": 4,
 "nbformat_minor": 2
}
