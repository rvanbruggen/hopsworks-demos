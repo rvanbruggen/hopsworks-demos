{
 "cells": [
  {
   "cell_type": "markdown",
   "metadata": {},
   "source": [
    "# Online Inference Pipeline for Beervolume Predictions"
   ]
  },
  {
   "cell_type": "markdown",
   "metadata": {},
   "source": [
    "## Imports"
   ]
  },
  {
   "cell_type": "code",
   "execution_count": 1,
   "metadata": {},
   "outputs": [],
   "source": [
    "import streamlit as st\n",
    "import hopsworks"
   ]
  },
  {
   "cell_type": "markdown",
   "metadata": {},
   "source": [
    "## Online Beervolume Inference Pipeline"
   ]
  },
  {
   "cell_type": "code",
   "execution_count": 2,
   "metadata": {},
   "outputs": [
    {
     "name": "stderr",
     "output_type": "stream",
     "text": [
      "2023-12-12 13:01:04.718 \n",
      "  \u001b[33m\u001b[1mWarning:\u001b[0m to view this Streamlit app on a browser, run it with the following\n",
      "  command:\n",
      "\n",
      "    streamlit run /Users/rvanbruggen/.pyenv/versions/3.11.6/lib/python3.11/site-packages/ipykernel_launcher.py [ARGUMENTS]\n"
     ]
    },
    {
     "name": "stdout",
     "output_type": "stream",
     "text": [
      "Connected. Call `.close()` to terminate connection gracefully.\n",
      "\n",
      "Multiple projects found. \n",
      "\n",
      "\t (1) rixdemo\n",
      "\t (2) BeerVolumePrediction\n",
      "\n",
      "Logged in to project, explore it here https://c.app.hopsworks.ai:443/p/294039\n",
      "Connected. Call `.close()` to terminate connection gracefully.\n",
      "Connected. Call `.close()` to terminate connection gracefully.\n"
     ]
    },
    {
     "ename": "RestAPIError",
     "evalue": "Metadata operation error: (url: https://c.app.hopsworks.ai/hopsworks-api/api/project/294039/serving). Server response: \nHTTP code: 404, HTTP reason: Not Found, body: b'{\"errorCode\":240000,\"errorMsg\":\"Serving instance not found\"}', error code: 240000, error msg: Serving instance not found, user msg: ",
     "output_type": "error",
     "traceback": [
      "\u001b[0;31m---------------------------------------------------------------------------\u001b[0m",
      "\u001b[0;31mCacheKeyNotFoundError\u001b[0m                     Traceback (most recent call last)",
      "File \u001b[0;32m~/.pyenv/versions/3.11.6/lib/python3.11/site-packages/streamlit/runtime/caching/cache_utils.py:264\u001b[0m, in \u001b[0;36mCachedFunc._get_or_create_cached_value\u001b[0;34m(self, func_args, func_kwargs)\u001b[0m\n\u001b[1;32m    263\u001b[0m \u001b[39mtry\u001b[39;00m:\n\u001b[0;32m--> 264\u001b[0m     cached_result \u001b[39m=\u001b[39m cache\u001b[39m.\u001b[39;49mread_result(value_key)\n\u001b[1;32m    265\u001b[0m     \u001b[39mreturn\u001b[39;00m \u001b[39mself\u001b[39m\u001b[39m.\u001b[39m_handle_cache_hit(cached_result)\n",
      "File \u001b[0;32m~/.pyenv/versions/3.11.6/lib/python3.11/site-packages/streamlit/runtime/caching/cache_resource_api.py:500\u001b[0m, in \u001b[0;36mResourceCache.read_result\u001b[0;34m(self, key)\u001b[0m\n\u001b[1;32m    498\u001b[0m \u001b[39mif\u001b[39;00m key \u001b[39mnot\u001b[39;00m \u001b[39min\u001b[39;00m \u001b[39mself\u001b[39m\u001b[39m.\u001b[39m_mem_cache:\n\u001b[1;32m    499\u001b[0m     \u001b[39m# key does not exist in cache.\u001b[39;00m\n\u001b[0;32m--> 500\u001b[0m     \u001b[39mraise\u001b[39;00m CacheKeyNotFoundError()\n\u001b[1;32m    502\u001b[0m multi_results: MultiCacheResults \u001b[39m=\u001b[39m \u001b[39mself\u001b[39m\u001b[39m.\u001b[39m_mem_cache[key]\n",
      "\u001b[0;31mCacheKeyNotFoundError\u001b[0m: ",
      "\nDuring handling of the above exception, another exception occurred:\n",
      "\u001b[0;31mCacheKeyNotFoundError\u001b[0m                     Traceback (most recent call last)",
      "File \u001b[0;32m~/.pyenv/versions/3.11.6/lib/python3.11/site-packages/streamlit/runtime/caching/cache_utils.py:312\u001b[0m, in \u001b[0;36mCachedFunc._handle_cache_miss\u001b[0;34m(self, cache, value_key, func_args, func_kwargs)\u001b[0m\n\u001b[1;32m    311\u001b[0m \u001b[39mtry\u001b[39;00m:\n\u001b[0;32m--> 312\u001b[0m     cached_result \u001b[39m=\u001b[39m cache\u001b[39m.\u001b[39;49mread_result(value_key)\n\u001b[1;32m    313\u001b[0m     \u001b[39m# Another thread computed the value before us. Early exit!\u001b[39;00m\n",
      "File \u001b[0;32m~/.pyenv/versions/3.11.6/lib/python3.11/site-packages/streamlit/runtime/caching/cache_resource_api.py:500\u001b[0m, in \u001b[0;36mResourceCache.read_result\u001b[0;34m(self, key)\u001b[0m\n\u001b[1;32m    498\u001b[0m \u001b[39mif\u001b[39;00m key \u001b[39mnot\u001b[39;00m \u001b[39min\u001b[39;00m \u001b[39mself\u001b[39m\u001b[39m.\u001b[39m_mem_cache:\n\u001b[1;32m    499\u001b[0m     \u001b[39m# key does not exist in cache.\u001b[39;00m\n\u001b[0;32m--> 500\u001b[0m     \u001b[39mraise\u001b[39;00m CacheKeyNotFoundError()\n\u001b[1;32m    502\u001b[0m multi_results: MultiCacheResults \u001b[39m=\u001b[39m \u001b[39mself\u001b[39m\u001b[39m.\u001b[39m_mem_cache[key]\n",
      "\u001b[0;31mCacheKeyNotFoundError\u001b[0m: ",
      "\nDuring handling of the above exception, another exception occurred:\n",
      "\u001b[0;31mRestAPIError\u001b[0m                              Traceback (most recent call last)",
      "\u001b[1;32m/Users/rvanbruggen/Documents/GitHub/rix-hopsworks-demos/beerconsumption_app+vsstudio/3_online_inference_pipeline.ipynb Cell 5\u001b[0m line \u001b[0;36m2\n\u001b[1;32m     <a href='vscode-notebook-cell:/Users/rvanbruggen/Documents/GitHub/rix-hopsworks-demos/beerconsumption_app%2Bvsstudio/3_online_inference_pipeline.ipynb#W4sZmlsZQ%3D%3D?line=19'>20</a>\u001b[0m     st\u001b[39m.\u001b[39mwrite(\u001b[39m\"\u001b[39m\u001b[39m✅ Success!\u001b[39m\u001b[39m\"\u001b[39m)\n\u001b[1;32m     <a href='vscode-notebook-cell:/Users/rvanbruggen/Documents/GitHub/rix-hopsworks-demos/beerconsumption_app%2Bvsstudio/3_online_inference_pipeline.ipynb#W4sZmlsZQ%3D%3D?line=21'>22</a>\u001b[0m     \u001b[39mreturn\u001b[39;00m deployment\n\u001b[0;32m---> <a href='vscode-notebook-cell:/Users/rvanbruggen/Documents/GitHub/rix-hopsworks-demos/beerconsumption_app%2Bvsstudio/3_online_inference_pipeline.ipynb#W4sZmlsZQ%3D%3D?line=23'>24</a>\u001b[0m deployment \u001b[39m=\u001b[39m get_deployment()\n\u001b[1;32m     <a href='vscode-notebook-cell:/Users/rvanbruggen/Documents/GitHub/rix-hopsworks-demos/beerconsumption_app%2Bvsstudio/3_online_inference_pipeline.ipynb#W4sZmlsZQ%3D%3D?line=25'>26</a>\u001b[0m options \u001b[39m=\u001b[39m st\u001b[39m.\u001b[39mmultiselect(\n\u001b[1;32m     <a href='vscode-notebook-cell:/Users/rvanbruggen/Documents/GitHub/rix-hopsworks-demos/beerconsumption_app%2Bvsstudio/3_online_inference_pipeline.ipynb#W4sZmlsZQ%3D%3D?line=26'>27</a>\u001b[0m     \u001b[39m'\u001b[39m\u001b[39mSelect the identifier for which the beervolume forecasting will be performed\u001b[39m\u001b[39m'\u001b[39m,\n\u001b[1;32m     <a href='vscode-notebook-cell:/Users/rvanbruggen/Documents/GitHub/rix-hopsworks-demos/beerconsumption_app%2Bvsstudio/3_online_inference_pipeline.ipynb#W4sZmlsZQ%3D%3D?line=27'>28</a>\u001b[0m     (\u001b[39m0\u001b[39m, \u001b[39m1\u001b[39m, \u001b[39m2\u001b[39m, \u001b[39m3\u001b[39m, \u001b[39m4\u001b[39m, \u001b[39m5\u001b[39m))\n\u001b[1;32m     <a href='vscode-notebook-cell:/Users/rvanbruggen/Documents/GitHub/rix-hopsworks-demos/beerconsumption_app%2Bvsstudio/3_online_inference_pipeline.ipynb#W4sZmlsZQ%3D%3D?line=29'>30</a>\u001b[0m st\u001b[39m.\u001b[39mwrite(\u001b[39m'\u001b[39m\u001b[39mYou selected the next ID:\u001b[39m\u001b[39m'\u001b[39m, options)\n",
      "File \u001b[0;32m~/.pyenv/versions/3.11.6/lib/python3.11/site-packages/streamlit/runtime/caching/cache_utils.py:212\u001b[0m, in \u001b[0;36mmake_cached_func_wrapper.<locals>.wrapper\u001b[0;34m(*args, **kwargs)\u001b[0m\n\u001b[1;32m    210\u001b[0m \u001b[39m@functools\u001b[39m\u001b[39m.\u001b[39mwraps(info\u001b[39m.\u001b[39mfunc)\n\u001b[1;32m    211\u001b[0m \u001b[39mdef\u001b[39;00m \u001b[39mwrapper\u001b[39m(\u001b[39m*\u001b[39margs, \u001b[39m*\u001b[39m\u001b[39m*\u001b[39mkwargs):\n\u001b[0;32m--> 212\u001b[0m     \u001b[39mreturn\u001b[39;00m cached_func(\u001b[39m*\u001b[39;49margs, \u001b[39m*\u001b[39;49m\u001b[39m*\u001b[39;49mkwargs)\n",
      "File \u001b[0;32m~/.pyenv/versions/3.11.6/lib/python3.11/site-packages/streamlit/runtime/caching/cache_utils.py:241\u001b[0m, in \u001b[0;36mCachedFunc.__call__\u001b[0;34m(self, *args, **kwargs)\u001b[0m\n\u001b[1;32m    239\u001b[0m \u001b[39mif\u001b[39;00m \u001b[39mself\u001b[39m\u001b[39m.\u001b[39m_info\u001b[39m.\u001b[39mshow_spinner \u001b[39mor\u001b[39;00m \u001b[39misinstance\u001b[39m(\u001b[39mself\u001b[39m\u001b[39m.\u001b[39m_info\u001b[39m.\u001b[39mshow_spinner, \u001b[39mstr\u001b[39m):\n\u001b[1;32m    240\u001b[0m     \u001b[39mwith\u001b[39;00m spinner(message, cache\u001b[39m=\u001b[39m\u001b[39mTrue\u001b[39;00m):\n\u001b[0;32m--> 241\u001b[0m         \u001b[39mreturn\u001b[39;00m \u001b[39mself\u001b[39;49m\u001b[39m.\u001b[39;49m_get_or_create_cached_value(args, kwargs)\n\u001b[1;32m    242\u001b[0m \u001b[39melse\u001b[39;00m:\n\u001b[1;32m    243\u001b[0m     \u001b[39mreturn\u001b[39;00m \u001b[39mself\u001b[39m\u001b[39m.\u001b[39m_get_or_create_cached_value(args, kwargs)\n",
      "File \u001b[0;32m~/.pyenv/versions/3.11.6/lib/python3.11/site-packages/streamlit/runtime/caching/cache_utils.py:267\u001b[0m, in \u001b[0;36mCachedFunc._get_or_create_cached_value\u001b[0;34m(self, func_args, func_kwargs)\u001b[0m\n\u001b[1;32m    265\u001b[0m     \u001b[39mreturn\u001b[39;00m \u001b[39mself\u001b[39m\u001b[39m.\u001b[39m_handle_cache_hit(cached_result)\n\u001b[1;32m    266\u001b[0m \u001b[39mexcept\u001b[39;00m CacheKeyNotFoundError:\n\u001b[0;32m--> 267\u001b[0m     \u001b[39mreturn\u001b[39;00m \u001b[39mself\u001b[39;49m\u001b[39m.\u001b[39;49m_handle_cache_miss(cache, value_key, func_args, func_kwargs)\n",
      "File \u001b[0;32m~/.pyenv/versions/3.11.6/lib/python3.11/site-packages/streamlit/runtime/caching/cache_utils.py:321\u001b[0m, in \u001b[0;36mCachedFunc._handle_cache_miss\u001b[0;34m(self, cache, value_key, func_args, func_kwargs)\u001b[0m\n\u001b[1;32m    316\u001b[0m \u001b[39mexcept\u001b[39;00m CacheKeyNotFoundError:\n\u001b[1;32m    317\u001b[0m     \u001b[39m# We acquired the lock before any other thread. Compute the value!\u001b[39;00m\n\u001b[1;32m    318\u001b[0m     \u001b[39mwith\u001b[39;00m \u001b[39mself\u001b[39m\u001b[39m.\u001b[39m_info\u001b[39m.\u001b[39mcached_message_replay_ctx\u001b[39m.\u001b[39mcalling_cached_function(\n\u001b[1;32m    319\u001b[0m         \u001b[39mself\u001b[39m\u001b[39m.\u001b[39m_info\u001b[39m.\u001b[39mfunc, \u001b[39mself\u001b[39m\u001b[39m.\u001b[39m_info\u001b[39m.\u001b[39mallow_widgets\n\u001b[1;32m    320\u001b[0m     ):\n\u001b[0;32m--> 321\u001b[0m         computed_value \u001b[39m=\u001b[39m \u001b[39mself\u001b[39;49m\u001b[39m.\u001b[39;49m_info\u001b[39m.\u001b[39;49mfunc(\u001b[39m*\u001b[39;49mfunc_args, \u001b[39m*\u001b[39;49m\u001b[39m*\u001b[39;49mfunc_kwargs)\n\u001b[1;32m    323\u001b[0m     \u001b[39m# We've computed our value, and now we need to write it back to the cache\u001b[39;00m\n\u001b[1;32m    324\u001b[0m     \u001b[39m# along with any \"replay messages\" that were generated during value computation.\u001b[39;00m\n\u001b[1;32m    325\u001b[0m     messages \u001b[39m=\u001b[39m \u001b[39mself\u001b[39m\u001b[39m.\u001b[39m_info\u001b[39m.\u001b[39mcached_message_replay_ctx\u001b[39m.\u001b[39m_most_recent_messages\n",
      "\u001b[1;32m/Users/rvanbruggen/Documents/GitHub/rix-hopsworks-demos/beerconsumption_app+vsstudio/3_online_inference_pipeline.ipynb Cell 5\u001b[0m line \u001b[0;36m1\n\u001b[1;32m     <a href='vscode-notebook-cell:/Users/rvanbruggen/Documents/GitHub/rix-hopsworks-demos/beerconsumption_app%2Bvsstudio/3_online_inference_pipeline.ipynb#W4sZmlsZQ%3D%3D?line=9'>10</a>\u001b[0m ms \u001b[39m=\u001b[39m project\u001b[39m.\u001b[39mget_model_serving()\n\u001b[1;32m     <a href='vscode-notebook-cell:/Users/rvanbruggen/Documents/GitHub/rix-hopsworks-demos/beerconsumption_app%2Bvsstudio/3_online_inference_pipeline.ipynb#W4sZmlsZQ%3D%3D?line=11'>12</a>\u001b[0m \u001b[39m# Get deployment\u001b[39;00m\n\u001b[0;32m---> <a href='vscode-notebook-cell:/Users/rvanbruggen/Documents/GitHub/rix-hopsworks-demos/beerconsumption_app%2Bvsstudio/3_online_inference_pipeline.ipynb#W4sZmlsZQ%3D%3D?line=12'>13</a>\u001b[0m deployment \u001b[39m=\u001b[39m ms\u001b[39m.\u001b[39;49mget_deployment(\u001b[39m\"\u001b[39;49m\u001b[39mbeervolumeonlinemodeldeployment3\u001b[39;49m\u001b[39m\"\u001b[39;49m)\n\u001b[1;32m     <a href='vscode-notebook-cell:/Users/rvanbruggen/Documents/GitHub/rix-hopsworks-demos/beerconsumption_app%2Bvsstudio/3_online_inference_pipeline.ipynb#W4sZmlsZQ%3D%3D?line=14'>15</a>\u001b[0m \u001b[39m# Start deployment\u001b[39;00m\n\u001b[1;32m     <a href='vscode-notebook-cell:/Users/rvanbruggen/Documents/GitHub/rix-hopsworks-demos/beerconsumption_app%2Bvsstudio/3_online_inference_pipeline.ipynb#W4sZmlsZQ%3D%3D?line=15'>16</a>\u001b[0m deployment\u001b[39m.\u001b[39mstart(await_running\u001b[39m=\u001b[39m\u001b[39m180\u001b[39m)\n",
      "File \u001b[0;32m~/.pyenv/versions/3.11.6/lib/python3.11/site-packages/hsml/model_serving.py:86\u001b[0m, in \u001b[0;36mModelServing.get_deployment\u001b[0;34m(self, name)\u001b[0m\n\u001b[1;32m     64\u001b[0m \u001b[39mdef\u001b[39;00m \u001b[39mget_deployment\u001b[39m(\u001b[39mself\u001b[39m, name: \u001b[39mstr\u001b[39m):\n\u001b[1;32m     65\u001b[0m \u001b[39m    \u001b[39m\u001b[39m\"\"\"Get a deployment by name from Model Serving.\u001b[39;00m\n\u001b[1;32m     66\u001b[0m \n\u001b[1;32m     67\u001b[0m \u001b[39m    !!! example\u001b[39;00m\n\u001b[0;32m   (...)\u001b[0m\n\u001b[1;32m     83\u001b[0m \u001b[39m        `RestAPIError`: If unable to retrieve deployment from model serving.\u001b[39;00m\n\u001b[1;32m     84\u001b[0m \u001b[39m    \"\"\"\u001b[39;00m\n\u001b[0;32m---> 86\u001b[0m     \u001b[39mreturn\u001b[39;00m \u001b[39mself\u001b[39;49m\u001b[39m.\u001b[39;49m_serving_api\u001b[39m.\u001b[39;49mget(name)\n",
      "File \u001b[0;32m~/.pyenv/versions/3.11.6/lib/python3.11/site-packages/hsml/core/serving_api.py:60\u001b[0m, in \u001b[0;36mServingApi.get\u001b[0;34m(self, name)\u001b[0m\n\u001b[1;32m     58\u001b[0m path_params \u001b[39m=\u001b[39m [\u001b[39m\"\u001b[39m\u001b[39mproject\u001b[39m\u001b[39m\"\u001b[39m, _client\u001b[39m.\u001b[39m_project_id, \u001b[39m\"\u001b[39m\u001b[39mserving\u001b[39m\u001b[39m\"\u001b[39m]\n\u001b[1;32m     59\u001b[0m query_params \u001b[39m=\u001b[39m {\u001b[39m\"\u001b[39m\u001b[39mname\u001b[39m\u001b[39m\"\u001b[39m: name}\n\u001b[0;32m---> 60\u001b[0m deployment_json \u001b[39m=\u001b[39m _client\u001b[39m.\u001b[39;49m_send_request(\n\u001b[1;32m     61\u001b[0m     \u001b[39m\"\u001b[39;49m\u001b[39mGET\u001b[39;49m\u001b[39m\"\u001b[39;49m, path_params, query_params\u001b[39m=\u001b[39;49mquery_params\n\u001b[1;32m     62\u001b[0m )\n\u001b[1;32m     63\u001b[0m \u001b[39mreturn\u001b[39;00m deployment\u001b[39m.\u001b[39mDeployment\u001b[39m.\u001b[39mfrom_response_json(deployment_json)\n",
      "File \u001b[0;32m~/.pyenv/versions/3.11.6/lib/python3.11/site-packages/hsml/decorators.py:35\u001b[0m, in \u001b[0;36mconnected.<locals>.if_connected\u001b[0;34m(inst, *args, **kwargs)\u001b[0m\n\u001b[1;32m     33\u001b[0m \u001b[39mif\u001b[39;00m \u001b[39mnot\u001b[39;00m inst\u001b[39m.\u001b[39m_connected:\n\u001b[1;32m     34\u001b[0m     \u001b[39mraise\u001b[39;00m NoHopsworksConnectionError\n\u001b[0;32m---> 35\u001b[0m \u001b[39mreturn\u001b[39;00m fn(inst, \u001b[39m*\u001b[39;49margs, \u001b[39m*\u001b[39;49m\u001b[39m*\u001b[39;49mkwargs)\n",
      "File \u001b[0;32m~/.pyenv/versions/3.11.6/lib/python3.11/site-packages/hsml/client/base.py:108\u001b[0m, in \u001b[0;36mClient._send_request\u001b[0;34m(self, method, path_params, query_params, headers, data, stream, files)\u001b[0m\n\u001b[1;32m    105\u001b[0m     response \u001b[39m=\u001b[39m \u001b[39mself\u001b[39m\u001b[39m.\u001b[39m_session\u001b[39m.\u001b[39msend(prepped, verify\u001b[39m=\u001b[39m\u001b[39mself\u001b[39m\u001b[39m.\u001b[39m_verify, stream\u001b[39m=\u001b[39mstream)\n\u001b[1;32m    107\u001b[0m \u001b[39mif\u001b[39;00m response\u001b[39m.\u001b[39mstatus_code \u001b[39m/\u001b[39m\u001b[39m/\u001b[39m \u001b[39m100\u001b[39m \u001b[39m!=\u001b[39m \u001b[39m2\u001b[39m:\n\u001b[0;32m--> 108\u001b[0m     \u001b[39mraise\u001b[39;00m exceptions\u001b[39m.\u001b[39mRestAPIError(url, response)\n\u001b[1;32m    110\u001b[0m \u001b[39mif\u001b[39;00m stream:\n\u001b[1;32m    111\u001b[0m     \u001b[39mreturn\u001b[39;00m response\n",
      "\u001b[0;31mRestAPIError\u001b[0m: Metadata operation error: (url: https://c.app.hopsworks.ai/hopsworks-api/api/project/294039/serving). Server response: \nHTTP code: 404, HTTP reason: Not Found, body: b'{\"errorCode\":240000,\"errorMsg\":\"Serving instance not found\"}', error code: 240000, error msg: Serving instance not found, user msg: "
     ]
    }
   ],
   "source": [
    "@st.cache_resource()\n",
    "def get_deployment():\n",
    "    st.markdown('📡 Connecting to Hopsworks Feature Store...')\n",
    "\n",
    "    project = hopsworks.login()\n",
    "    fs = project.get_feature_store()\n",
    "\n",
    "    st.write(\"✅ Logged in successfully!\")  \n",
    "    st.write(\"🚀 Retrieving and Starting Deployment...\")\n",
    "    ms = project.get_model_serving()\n",
    "\n",
    "    # Get deployment\n",
    "    deployment = ms.get_deployment(\"beervolumeonlinemodeldeployment3\")\n",
    "\n",
    "    # Start deployment\n",
    "    deployment.start(await_running=180)\n",
    "\n",
    "    print(deployment.get_state().describe())\n",
    "    \n",
    "    st.write(\"✅ Success!\")\n",
    "\n",
    "    return deployment\n",
    "\n",
    "deployment = get_deployment()\n",
    "\n",
    "options = st.multiselect(\n",
    "    'Select the identifier for which the beervolume forecasting will be performed',\n",
    "    (0, 1, 2, 3, 4, 5))\n",
    "\n",
    "st.write('You selected the next ID:', options)\n",
    "\n",
    "preds = [deployment.predict({'instances': [option]}) for option in options]\n",
    "\n",
    "for option, pred in zip(options, preds):\n",
    "    st.write(f'🔮 Predicted Beervolume for the {option} ID: {round(pred[\"predictions\"][0],2)}💰')"
   ]
  },
  {
   "cell_type": "code",
   "execution_count": null,
   "metadata": {},
   "outputs": [],
   "source": []
  }
 ],
 "metadata": {
  "kernelspec": {
   "display_name": "Python 3",
   "language": "python",
   "name": "python3"
  },
  "language_info": {
   "codemirror_mode": {
    "name": "ipython",
    "version": 3
   },
   "file_extension": ".py",
   "mimetype": "text/x-python",
   "name": "python",
   "nbconvert_exporter": "python",
   "pygments_lexer": "ipython3",
   "version": "3.11.6"
  }
 },
 "nbformat": 4,
 "nbformat_minor": 2
}
