{
  "nbformat": 4,
  "nbformat_minor": 0,
  "metadata": {
    "colab": {
      "provenance": []
    },
    "kernelspec": {
      "name": "python3",
      "display_name": "Python 3"
    },
    "language_info": {
      "name": "python"
    }
  },
  "cells": [
    {
      "cell_type": "markdown",
      "source": [
        "**0. AVANT DE COMMENCER**\n",
        "\n",
        "\n",
        "Avant de commencer, téléchargez ce dataset sur votre PC et importez-le dans votre Google Drive\n",
        "https://drive.google.com/file/d/1GoXwFQCbKE0o32VE44G1NhpsvfPtX2d0/view?usp=drive_link\n",
        "\n",
        "le lien d'origine de ce dataset est sur kaggle :\n",
        "https://www.kaggle.com/datasets/syedanwarafridi/vehicle-sales-data/data"
      ],
      "metadata": {
        "id": "iJ4zde1ht-M0"
      }
    },
    {
      "cell_type": "markdown",
      "source": [
        "**1. IMPORT DU DATASET**"
      ],
      "metadata": {
        "id": "bYgfrpsRzWQH"
      }
    },
    {
      "cell_type": "markdown",
      "source": [
        "J'ai un dataset sur mon google drive en format csv. Comment l'importer sur google colab dans une variable ?"
      ],
      "metadata": {
        "id": "RbLZiLMXk12T"
      }
    },
    {
      "cell_type": "code",
      "execution_count": null,
      "metadata": {
        "id": "KPU2Dpd9gqIE",
        "colab": {
          "base_uri": "https://localhost:8080/"
        },
        "outputId": "cb310fd9-0bdc-42ae-aac7-c996a6ad93c6"
      },
      "outputs": [
        {
          "output_type": "stream",
          "name": "stdout",
          "text": [
            "Mounted at /content/drive\n"
          ]
        }
      ],
      "source": [
        "# Importer les bibliothèques nécessaires\n",
        "import pandas as pd\n",
        "from google.colab import drive\n",
        "\n",
        "# Monter Google Drive\n",
        "drive.mount('/content/drive')\n",
        "\n",
        "# Chemin vers le fichier CSV sur Google Drive\n",
        "chemin_fichier = \"/content/drive/My Drive/ML Academy/Deep learning V2.0/Ressources/car_prices.csv\"\n",
        "\n",
        "# Lire le fichier CSV et l'enregistrer dans une variable \"data\"\n",
        "data = pd.read_csv(chemin_fichier)"
      ]
    },
    {
      "cell_type": "markdown",
      "source": [
        "**2. VISUALISATION DU DATASET**"
      ],
      "metadata": {
        "id": "YnowJLHozbwZ"
      }
    },
    {
      "cell_type": "markdown",
      "source": [
        "Je veux visualiser ce fichier. Comment voir les noms des colonnes avec les 5 premières valeurs ?"
      ],
      "metadata": {
        "id": "NDByX3-glNJq"
      }
    },
    {
      "cell_type": "code",
      "source": [
        "# Afficher les noms de colonnes\n",
        "print(\"Noms des colonnes :\")\n",
        "print(data.columns)\n",
        "\n",
        "# Afficher les cinq premières valeurs\n",
        "print(\"\\nCinq premières valeurs :\")\n",
        "print(data.head())"
      ],
      "metadata": {
        "id": "rQG-hDrDlHyV"
      },
      "execution_count": null,
      "outputs": []
    },
    {
      "cell_type": "markdown",
      "source": [
        "Comment savoir combien de données et combien de variables (avec leurs noms et leur type) il y a dans ce dataset ?\n"
      ],
      "metadata": {
        "id": "ITRUaQmsjxcO"
      }
    },
    {
      "cell_type": "code",
      "source": [
        "# Afficher des informations sur le dataset\n",
        "print(data.info())\n"
      ],
      "metadata": {
        "id": "FNUVbikKjmhH"
      },
      "execution_count": null,
      "outputs": []
    },
    {
      "cell_type": "markdown",
      "source": [
        "Affiche les valeurs possibles des données non numériques"
      ],
      "metadata": {
        "id": "qBlyD43p0FU5"
      }
    },
    {
      "cell_type": "code",
      "source": [
        "# Sélectionner les colonnes non numériques\n",
        "colonnes_non_numeriques = data.select_dtypes(exclude=['float', 'int']).columns\n",
        "\n",
        "# Afficher les valeurs uniques dans ces colonnes\n",
        "for colonne in colonnes_non_numeriques:\n",
        "    print(colonne, data[colonne].unique())"
      ],
      "metadata": {
        "id": "pgbxtg1n0O1H"
      },
      "execution_count": null,
      "outputs": []
    },
    {
      "cell_type": "markdown",
      "source": [
        "Comment savoir s'il y a des données manquantes ou nulles et dans quelles colonnes d'un dataset"
      ],
      "metadata": {
        "id": "dMJh_KL4gFtT"
      }
    },
    {
      "cell_type": "code",
      "source": [
        "# Vérifier s'il y a des valeurs manquantes ou nulles dans chaque colonne du dataset\n",
        "missing_values_per_column = data.isnull().sum()\n",
        "\n",
        "# Afficher les colonnes avec des valeurs manquantes ou nulles\n",
        "columns_with_missing_values = missing_values_per_column[missing_values_per_column > 0]\n",
        "print(\"Colonnes avec des valeurs manquantes ou nulles :\")\n",
        "print(columns_with_missing_values)\n"
      ],
      "metadata": {
        "id": "BMPrBo_ogblZ"
      },
      "execution_count": null,
      "outputs": []
    },
    {
      "cell_type": "markdown",
      "source": [
        "imprime un graphique des distributions des valeurs de la colonne \"sellingprice\""
      ],
      "metadata": {
        "id": "xS6Wi-dp0jLf"
      }
    },
    {
      "cell_type": "code",
      "source": [
        "import matplotlib.pyplot as plt\n",
        "\n",
        "# Paramètres du graphique\n",
        "plt.figure(figsize=(10, 6))  # Définit la taille de la figure\n",
        "\n",
        "# Tracer l'histogramme\n",
        "plt.hist(data['sellingprice'], bins=20, color='skyblue', edgecolor='black')  # Utilise 20 bins (barres)\n",
        "\n",
        "# Titres et labels\n",
        "plt.title('Distribution des valeurs de la colonne \"sellingprice\"', fontsize=14)\n",
        "plt.xlabel('Selling Price', fontsize=12)\n",
        "plt.ylabel('Fréquence', fontsize=12)\n",
        "\n",
        "# Affichage du graphique\n",
        "plt.grid(True)  # Ajoute une grille\n",
        "plt.show()\n"
      ],
      "metadata": {
        "collapsed": true,
        "id": "AaCKwHr9m0WN"
      },
      "execution_count": null,
      "outputs": []
    },
    {
      "cell_type": "markdown",
      "source": [
        "Quelles sont les valeurs possibles dans la colonne \"year\" ?"
      ],
      "metadata": {
        "id": "3wsPLLUSo_j1"
      }
    },
    {
      "cell_type": "code",
      "source": [
        "# Trouver les valeurs uniques dans la colonne \"year\"\n",
        "valeurs_year = data['year'].unique()\n",
        "\n",
        "# Afficher les valeurs uniques\n",
        "print(\"Valeurs uniques dans la colonne 'year' :\")\n",
        "print(valeurs_year)\n"
      ],
      "metadata": {
        "id": "PW3fbvYNpP1r",
        "colab": {
          "base_uri": "https://localhost:8080/"
        },
        "outputId": "e03d80f9-a2db-4064-d1ed-8809fdeb414e"
      },
      "execution_count": null,
      "outputs": [
        {
          "output_type": "stream",
          "name": "stdout",
          "text": [
            "Valeurs uniques dans la colonne 'year' :\n",
            "[2015 2014 2013 2012 2011 2010 2009 2008 2007 2006 2005 2004 2003 2002\n",
            " 2001 2000 1999 1998 1995 1996 1997 1987 1994 1993 1992 1989 1991 1990\n",
            " 1986 1985 1988 1984 1982 1983]\n"
          ]
        }
      ]
    },
    {
      "cell_type": "markdown",
      "source": [
        "Quelles sont les valeurs possibles dans la colonne \"make\" ?"
      ],
      "metadata": {
        "id": "FBDrl5tCphuw"
      }
    },
    {
      "cell_type": "code",
      "source": [
        "# Trouver les valeurs uniques dans la colonne \"make\"\n",
        "valeurs_make = data['make'].unique()\n",
        "\n",
        "# Afficher les valeurs uniques\n",
        "print(\"Valeurs uniques dans la colonne 'make' :\")\n",
        "print(valeurs_make)\n"
      ],
      "metadata": {
        "id": "-NP-2030ptYc",
        "colab": {
          "base_uri": "https://localhost:8080/"
        },
        "outputId": "c5e6e408-dad4-4670-e23f-0cee9482af7c"
      },
      "execution_count": null,
      "outputs": [
        {
          "output_type": "stream",
          "name": "stdout",
          "text": [
            "Valeurs uniques dans la colonne 'make' :\n",
            "['Kia' 'BMW' 'Volvo' 'Nissan' 'Chevrolet' 'Audi' 'Ford' 'Hyundai' 'Buick'\n",
            " 'Cadillac' 'Acura' 'Lexus' 'Infiniti' 'Jeep' 'Mercedes-Benz' 'Mitsubishi'\n",
            " 'Mazda' 'MINI' 'Land Rover' 'Lincoln' 'lincoln' 'Jaguar' 'Volkswagen'\n",
            " 'Toyota' 'Subaru' 'Scion' 'Porsche' nan 'bmw' 'Dodge' 'FIAT' 'Chrysler'\n",
            " 'ford' 'Ferrari' 'Honda' 'GMC' 'mitsubishi' 'Ram' 'smart' 'chevrolet'\n",
            " 'Bentley' 'chrysler' 'pontiac' 'Pontiac' 'Saturn' 'Maserati' 'Mercury'\n",
            " 'HUMMER' 'landrover' 'cadillac' 'land rover' 'mercedes' 'mazda' 'toyota'\n",
            " 'lexus' 'gmc truck' 'honda' 'nissan' 'porsche' 'Saab' 'Suzuki' 'dodge'\n",
            " 'subaru' 'Oldsmobile' 'oldsmobile' 'hyundai' 'jeep' 'Isuzu' 'dodge tk'\n",
            " 'Geo' 'acura' 'volkswagen' 'suzuki' 'kia' 'audi' 'Rolls-Royce' 'gmc'\n",
            " 'maserati' 'mazda tk' 'mercury' 'buick' 'hyundai tk' 'mercedes-b' 'vw'\n",
            " 'Daewoo' 'chev truck' 'ford tk' 'plymouth' 'Plymouth' 'ford truck'\n",
            " 'Tesla' 'airstream' 'dot' 'Aston Martin' 'Fisker' 'Lamborghini' 'Lotus']\n"
          ]
        }
      ]
    },
    {
      "cell_type": "markdown",
      "source": [
        "Quelles sont les valeurs possibles dans la colonne \"trim\" ?"
      ],
      "metadata": {
        "id": "GbuOpRi9le8e"
      }
    },
    {
      "cell_type": "code",
      "source": [
        "# Trouver les valeurs uniques dans la colonne \"trim\"\n",
        "valeurs_trim = data['trim'].unique()\n",
        "\n",
        "# Afficher les valeurs uniques\n",
        "print(\"Valeurs uniques dans la colonne 'trim' :\")\n",
        "print(list(valeurs_trim))"
      ],
      "metadata": {
        "id": "cxjiGB7kp-Kq",
        "colab": {
          "base_uri": "https://localhost:8080/"
        },
        "outputId": "e0846dd7-da6c-4afd-a877-2f45c869b84b"
      },
      "execution_count": null,
      "outputs": [
        {
          "output_type": "stream",
          "name": "stdout",
          "text": [
            "Valeurs uniques dans la colonne 'trim' :\n",
            "['LX', '328i SULEV', 'T5', '650i', '2.5 S', 'Base', '1LT', '2.0T Premium Plus quattro', 'LT', '3.0T Prestige quattro', 'SE', '2LT', 'LS', 'LTZ', '528i', '1.8 TFSI Premium', 'T6', 'sDrive35i', '3.0T Premium Plus quattro', 'Premium Plus quattro', 'Convenience Group', 'xDrive35i', 'Technology Package', 'Luxury', '1.6 SL', '1.6 SV', 'L 3.0T quattro', 'sDrive28i', '750Li', 'Leather Group', 'quattro', '428i SULEV', 'Work Truck', 'Advance and Entertainment Packages', '535d', 'G37 Sport', 'G37 Journey', 'FX37', 'Limited', '5.0 R-Spec', 'Signature', 'GLS', 'Sport', 'Sport 2.0T', 'Turbo', 'GS', 'Ultimate', '3.8', '3.8 Track', 'Unlimited Rubicon', 'EX Hybrid', '2.5', 'S550', 'C250', 'SX', 'Unlimited Sahara', 'C250 Sport', 'Touring', 'M37', '+', 'LE', 'SLK350', 'E350 Sport', 'i SV', 'Latitude', 'i Touring', 'JX35', 'G37x', 'HSE LUX', 'EX', 'i Sport', 'Pure Plus', 'L', 'GLK350', 'Unlimited Sport', 'E350 Sport BlueTEC', 'Pure', 'awd v6', 'GL450 4MATIC', 'ML350', 'Pure Premium', 'Ralliart', 'C63 AMG', 'Supercharged Limited Edition', 'E350', 'ES', 'SE PZEV', '3.2', 'LE 7-Passenger Mobility Auto Access', 'S', 'SR', '1500 S', 'R-Line PZEV', 'SL', 'XLE', 'PreRunner', '3.5 SL', '1.6 S Plus', '2.5L PZEV', 'Wolfsburg Edition PZEV', 'TDI', 'Tundra', '3.5 SV', 'Carrera S', 'Two', 'SV', '1.8 SL', 'S PZEV', 'FE+ S', 'SR5', '3.5 S', '2.5i Premium PZEV', 'PreRunner V6', 'S Hybrid', 'S Special Edition', '2.5X PZEV', '2.0i Sport Limited PZEV', 'V6', 'STI', 'FE+ SV', 'TDI SE', nan, 'xdr 750i xdriv', '3.0T Premium quattro', '740i', '335is', '328i', '135i', '640i', '535i', '740Li', '750li', '528i xDrive', 'Premium quattro', '335i', '2.0T Premium quattro', '128i', 'Special Edition', '750i', '550i', '650i xDrive', '4.2 quattro', 'xDrive28i', '3.2 Premium Plus quattro', 'Technology and Entertainment Packages', '535i xDrive', 'E-350 Super Duty XL', 'SEL', 'xDrive35i Premium', 'Titanium', 'xDrive35d', 'LT Fleet', 'LS Fleet', 'Lariat', 'SES', 'XLS', 'SXT', 'SRT8', 'xDrive50i', 'wagon v8 xlt', 'S V6', 'XLT', 'C Pop', 'LTZ Fleet', 'American Value Package', 'Premium', 'FX2', 'E-150', 'Hybrid', '1500', 'Eco', 'wagon v8', '2LS Fleet', 'E-350 Super Duty', '1LT Fleet', 'LS 3500', 'XL', 'Crew', 'Platinum Edition', 'G25', 'LX-P', 'LX-S', '4.6', 'EX V-6', 'EX-L', 'EX-L V-6', 'GT', 'Cargo Van XLT', 'SLE-2', 'G37', 'FX35', 'Denali', 'HF', 'E350 Luxury', 'XKR', 'QX56', 'XJL Supercharged', 'i Grand Touring', 'Laredo', 'M35h', 'Portfolio', 'HSE', 'S ALL4', 'Koup EX', 'SL550', 's Touring', 'Supercharged', 'M37x', 'fe', '2', '1.8 S', 'R/T', 'ST', '3500 S', 'WRX', 'Black Edition', 'ML350 4MATIC', '2.5X Touring PZEV', 'SLT', 'S350 BlueTEC 4MATIC', 'Carrera S (Midyear Redesign)', '4', 'E350 Luxury 4MATIC', 'ML350 BlueTEC', '2.5i Premium', 'ML63 AMG', '1.6 S', 'passion coupe', '2.0T Premium', 'Autobahn PZEV', 'Three', 'SH-AWD', '328i xDrive', 'PZEV', 'Sport PZEV', '3.0T S line Prestige quattro', '2.0T White Turbo Launch Edition PZEV', 'TDI Premium quattro', 'Lux Limited PZEV', '335d', 'Base 7-Passenger', '335i xDrive', 'LT1', 'C', 'Express', 'FX4', 'EX35', 'LTZ 1500', 'SLE', 'CXL', 'STX', 'CXS', 'SE Fleet', 'CX', 'Panel LS', 'GLS PZEV', 'SPORT', 'LT2', '2500', 'E-250', 'Heat', 'SLE-1', 'Si', 'Touring-L', 'Aero', 'C350 Sport', '!', 's Sport', 'G25x', 'GL550 4MATIC', '2500 144 WB Passenger', 'IPL', 'S400 Hybrid', 'Signature Limited', 'CLS550', 'XJL', 'E350 BlueTEC', 'C300 Sport', 'S63 AMG', 'E350 4MATIC', 's Grand Touring', '2.0 SR', '2.0 S', 'XLE 8-Passenger', 'SEL PZEV', 'Platinum', '2.5i', 'SXT Fleet', '2.0 SL', '1SS', 'cargo 4x2 upfitter', '1500 LT', '3.5L', '2500 170 WB Passenger', 'ls', '3.6 Premium quattro', '& country lx', 'Performance', 'T5 R-Design', 'X', 'EL Limited', '3.5 SR', 'cargo commercial', 'club wagon', 'Tundra Grade', '2.5X', 'S600', '4c', 'Blue', '2.5L Red Rock Edition PZEV', '3.2 R-Design', '2.0T quattro', 'Harley-Davidson', 'III', 'DX-VP', 'GLK350 4MATIC', 'T6 R-Design', 'GTS', 'BRABUS coupe', 'GL550', 'GL450', 'Grand Touring', 'ES-Sport', 'Premium Luxury', 'xDrive48i', 'DE', 'slv 4x2 rg work truck', 'SS', 'SportWagen S PZEV', 'XLE 7-Passenger', 'xDrive30i', '1500 LTZ', 'G550', 'SLT-2', 'CLK550', 'TDI Loyal Edition', 'C300 Luxury', 'SE V6', 'GL320 BlueTEC', 'V8', 'RT', '3.0si', '2.0T', '2.4i', '3.6 quattro', '335xi', '3.2 quattro', 'L quattro', 'SLT-1', 'v6 ltz', '3.0i', '4.8i', '1500 LS', 'club wagon xlt', '328xi', 'XR', 'Type-S', 'WRX STI', 'S550 4MATIC', '525i', 'Premier', 'G500', 'XE', '3.2 Special Edition', 'GXP', 'RTS', 'CL550', 'series b7 alpina', 'Journey', '530i', 'VR6 FSI', 'GSR', 'LE 7-Passenger', 'Unlimited X', 'VR6', 'XJ8 L', 'SE SULEV', 'King Ranch', 'lt', 'ZX3 S', 'Deluxe', 'v8 se', 'v8', 'ZX4 SE', 'LS2', 'Cargo', 'Overland', 'LT3', 'sport s/c', 'SEL Fleet', 'SLE 1500', 'rover sport', 'R350', 'CLK350', 'es', '325i', 'gr tourawd', '2.5 PZEV', '3.5 SE', '325xi', 'Limited 7-Passenger', 'CE', '1.8T', 'Nismo', '330i', '4x2 v8 sr5', 'WRX Limited', '530xi', 'touring', 'Wolfsburg Edition', 'Value Leader', 'Base PZEV', '470', 'SL 1500', 'ZX4 SES', 'SLE1', '3500', '3', 'Eddie Bauer', 'Laramie', 'LS 1500', 'EX-P', 'v8 hse', 'Standard', '1500 awd cr denali', '4x4 ex-l', 'Luxury III', 'SRT-8', 'SL2', 'LE 8-Passenger', 'XLE Limited 7-Passenger', 'rover 4.2l s/c', 'CLK500', 'C230 Sport', '2.5 i', 'XLE V6', 'sport hse', 'CLS500', 'rover sport hse', 'CL500', 'ML500', 'E55 AMG', 'E500', 'SLE V6', '4x2 6c carrera s', 'hse', 'Value Edition PZEV', 'Easy', 'E-350 Super Duty XLT', 'Lounge', 'Pop', 'EL King Ranch', 'fwd v6 touring', 'slv 4x2 rg', '545i', '2500 High Roof 140 WB', '645Ci', 'SRT-10', 'Z85 SLE', '1500 SLE', 'GL', '4.4i', 'Fleet', '745Li', 'Value Package', 'awd v8', 'HEV', 'GT Premium', 'C230 Kompressor', 'E320', 'E500 4MATIC', 'Bi-Color Edition', 'Dark Flint Edition', 'SV6', 'LS Premium', 'SL55 AMG', 'CE 7-Passenger', '745i', 'amg', '1.8T quattro', 'GLS 1.8T', 'WRX STi', '2.5i Limited', 'i', 's', '4x2 suv', 'Executive L Fleet', 'C240 Luxury', 'S430', 'CLK320', '2.5 RS', 'Enthusiast', 'LE V6', 'C230', 'se7', 'awd carrera 4s', 'GT1', 'GTP', 'ZX3', 'Arc', 'SL500', 'CL600', 'Touring Edition', '4c se', 'Convenience', 'NBX', 'Linear', 'SE1', 'awd', 'C320', 'v6 ls', 'LXi', 'SES Deluxe', '2.5T', 'LPT', 'DX', '4x4 v6 limited', '3.0 quattro', 'sub 4x2 v8 ls', 'XLT Value', 'GLX', 'GLS 1.8T 4Motion', '325Ci', 'Custom', '2500 SLE', '330Ci', 'C240', '2.4', 'zx3', 'XLT Popular', '180hp', '4x2', 'se', 'Z06', 'XLT Premium', 'LX Standard', 'ZX5', 'Choice', 'Sahara', '2.5 SL', 'SLS', 'GLX VR6', 'awd xs', 'E320 4MATIC', '2.4T', 'DHS', 'XJ8', 'SLK320', 'Avant quattro', '3.5', 'W8 4Motion', 'GT Deluxe', 'GL1', 'L300', 'VDC', 'Cartier', 'GX', 'LW300', 'GXE', 'gl', '4.6 HSE', '2.8 quattro', 'S55 AMG', 'fe 4x4 v6 lx', 'SD', 'ML430', 'SE-V6', 'ML320', 'v6 le', '740iL', '1.8T Avant quattro', 'VP', '323Ci', 'GLE', 'cherokee 4x4 limited', 'XC', 'le', 'GLX V6', 'GLX 1.8T', 'Vanden Plas', 'Classic', '2.3', 'dx', '1500 lramie slt', '2.7T quattro', 'ex', 'lx', 'xle', '4x2 xlt', '323i', '4x2 ext', 'Executive', 'fwd sel', '4x4 crew xlt', 'awd v8 limited', 'Ultra', '540i', '4x2 reg silverado', 'fwd 4c', 'fwd ext ls', '4x4 slt', 'EX V6', 'SE Sport', 'S320 LWB', 'SL1', 'Outback Limited', '4x2 ext silverado', 'GLT', 'JXi', 'base', 'awd xlt', 'S320 SWB', 'XJ8L', 'RS', 'caravn se', '4x4 4c se', '4x4 ext lariat', 'fwd gl', 'SC1', '328is', 'ce', '4x4 dx', 'C280', '3.8 Ultimate', 'V8 S', 'Forte5 EX', 'Hybrid Sport', 'XJR', 'Hybrid Premium', 'Touring w/Navigation and Rear Entertainment', 'SLT 1500', 'John Cooper Works ALL4', 'XXV', 'Autobiography LWB', 'Autobiography', 'Club', 'CLA45 AMG', 'GL63 AMG', 'E550', 'G63 AMG', 'C300 Sport 4MATIC', 'E63 AMG 4MATIC', 'GLK250 BlueTEC 4MATIC', 'CLA250', '320i', 'Premium Package', 'Prestige', 'LE Plus', 'S Plus', '2.0XT Touring', 'V6 Executive', '750Li xDrive', 'LX PZEV', 'EX-L w/Rear Entertainment', 'Hybrid PZEV w/Leather and Navigation', 'Prestige quattro', 'SH-AWD w/Technology Package', 'L 4.2 quattro', 'Tradesman', 'C300 Luxury 4MATIC', '550i xDrive', 'SLK300', '3.6R Limited', 'SRT8 Core', 'Limited Edition PZEV', 'SportWagen TDI', 'slv 4x2 ex work truck', 'C HEMI', 'R350 4MATIC', '4x2 6c carrera', 'i Sport Value Edition', '4x2 v8 slt', 'Limited Edition', 'SEL Plus', 'el 4x2 ed bauer', 'el 4x2 xlt', 'SLK280', 'S65 AMG', 'rover sport s/c', 'rover hse', '2.5i Special Edition', 'awd 6c carrera 4s', 'C280 Luxury', '3.6', 'fwd v6', 'Spectra5', 'EX PZEV', 'S500', '2.5 GT Limited', '330xi', 'fwd 4c gls', '2.7T S-Line quattro', 'ZQ8 LS', 'LX-V6', 'LX Family Value', 'awd ex', 'XE-V6', 'SRT-4', '1.8', '4x2 carrera', 'Linear 2.3T', 'GLX 4Motion', 'ES-V6', 'L100', 'DTS', 'SLK230', 'GLS TDI', 'ESC', 'ZX2', 'G3500', 'awd l', '4x4 reg silver ls', 'Laramie SLT', 'GLX VR6 (1999.5)', '4.0 S', 'sport', 'cpe carrera 2', '454SS', 'prix se', 'TDI Prestige quattro', 'Edition 30 PZEV', '2.0T Premium Plus', '3.8 R-Spec', 'spt lt', '2.0 TFSI Premium Plus quattro', '2.5i PZEV', '3.6R Premium', '2.5X Premium', '2.0i Premium PZEV', '2.5i Limited PZEV', 'LE Popular Package', 'v 4x2 ult advent', 'Laramie Longhorn Edition', '2.5X Premium PZEV', '2.0i', 'passion cabriolet', 'R-Line', '2.5L', 'SE 8-Passenger', 'Lux Limited', 'SEL 4Motion', 'TDI Sport', 'TDI SEL Premium', '2.0L TDI', '2.0T Avant Premium quattro', '2.0 TDI Premium', '3.2 Premium', '750li xdr', 'CXL1', 'b7 lwb alp b7 lwb', 'CXL Turbo', 'CXL2', '2SS', 'Aveo5 1LT', 'LT 1500', 'Mainstreet', 'Lux', 'Rush', 'C/V', 'v6 s', 'Citadel', 'LX Fleet', 'Shock', 'Lariat Limited', 'SVT Raptor', 'Cargo Van XL', 'SHO', '3.8 Grand Touring', 'Limited PZEV', 'x', 'XFR', 'EX Turbo', 'Rubicon', 'carav crew', 'GL350 BlueTEC', 'E63 AMG', 'E550 4MATIC', 'awd ls', 'R350 BlueTEC', 'ML550 4MATIC', 'PRO-4X', '1.8 S Krom Edition', 'SE-R', 'BigHorn', '1.6', 'SE-R Spec V', 'Outback Sport', 'SportBack Technology', 'Turbo4 Premium', '2.5X Touring', '2.5X Limited', '2.5XT Premium', 'Sport GTS', 'Sport SLS', 'Limited FFV', '4c comfort', 'Lux SULEV', 'R-Design', 'Tundra FFV', '750i xDrive', 'awd 2.0t', '3.2 Premium quattro', 'fwd w/1sh', 'Super', 'V6 Luxury Sport', 'Aveo5 LS', 'police', '4c ls w/1ls', 'cutaway', '4x2 rg work truck', '4c ls w/1fl', 'caravan sxt', 'Hero', 'RT Fleet', 'Limited Fleet', 'v6 touring', 'Touring Plus', '4x4 ex xlt', '4x4 cr xlt', 'EL SSV Fleet', '4x4 cr king ranch', 'Wagon XLT', 'street app', 'RTL', 'Renegade', 'Limited V6', 'Unlimited Sport RHD', 'Koup SX', 'awd v6 r/t', 'E-150 XL', '2500 144 WB Cargo', 's Touring Plus', '1.8 Base', 'MR', 'MR Touring', '4S', 'Carrera', 'Crossover', 'XSport', 'S Krom Edition', 'V6 TDI', '3.0T quattro', 'Komfort', 'SportWagen SE', 'Komfort PZEV', '2.5L Red Rock Edition', '1500 LT1', 'Aveo5 2LT', 'cargo 4x2', '1500 4x4 v8 slt', 'victoria police int', 'SLT1', 'SLT2 1500', 'SLE2 XFE', 'GLS V6', 'Rio5 LX', 'ML320 BlueTEC', 'i sport', 'ML550', 'John Cooper Works', 'E320 BlueTEC', '1.8 Krom', 'sv6', '2.5XT Limited', '4.2i', 'Turbo S', 'awd 4c', 'VR6 4Motion', 'SportWagen SE PZEV', '2.0T PZEV', 'SEL Premium', '528xi', '535xi', '4.2 Premium quattro', 'awd v6 awd', 'Aveo5 Special Value', 'V8 Luxury', '2500 LT', 'v6 lt', 'Panel LT', 'caravan se', '4x4 v8 slt', '3500 170 WB', '2500 144 WB', '60th Anniversary', 'FX4 Off-Road', 'fe awd v6 gl', 'Alpha', '4x4 4c limited', '3.0L', 'V8 SE', 'CL63 AMG', 'GL320 CDI', 'ML320 CDI', 'R320 CDI', 'S SULEV', 'SL SULEV', '5.3i', 'Limited 5-Passenger', 'passion', '3.0 R L.L.Bean Edition', '2.5I', 'fwd', 'Red Line', '2.5 X Premium Package', '2.5I Limited', 'passion cabrio', 'V8 FSI', '525xi', '760Li', 'cb/ch 4x2 lt1', 'z06', 'carav se', '4x4 mg slt', 'SSV Fleet', 'el 4x4 limited', '4x4 ex stx', 'ZX5 SES', 'ZX4 ST', '1500 4x4 cr slt', 'dx-g', 'Special Edition V-6', 'SC', 'XK', 'Rio5 SX', 'exec gt', 'car designer', 'B4000', 'touringawd', 'CLS63 AMG', 'R500', 'E320 BLUETEC', 'C280 Luxury 4MATIC', 'enthusiast', 'marquis ls', 'gt', 'SE Off-Road', '2.5 XT Limited', 'awd x premium', 'awd x', '4x4 v8 sr5', '4x2 v8 limited', 'Triple White', '4x2 v6 sr5', 'GLI', 'Wagon Titanium LWB', 'slv 4x2 cr 1lt', 'slv 4x4 cr 1lt', '5 lt', 'police police', 'awd v6 touring', 'awd v6 limited', '4x2 v6', 'carav v6 se', '4x2 v6 sxt', '2500 High Roof 158 WB', '2500 140 WB', '4x4 4c hybrid', '4x2 ex xl', 'ZX5 SE', 'comm', 'LX Special Edition', 'LX V-6', '4x4 cr', 'Limited SULEV', '4x4 cr rtl', 'gls', 'XK8', 'Wagon XLT LWB', '6c unlimited', '6c rubicon', '6c rubicon ul', 'car exec l liv', 'hse hse', 'car sig ltd', 'E320 CDI', 'CL55 AMG', '4wd i', 'C55 AMG', 'SLK55 AMG', 'marquis', 'marquis ls premium', 'IX', '5-Passenger', 'Value Edition', '3.6 4Motion', '5c 2.5l', 'Z71', 'awd v8 awd', '4x2 v6 rwd', 'Z85 LS Base', 'Z85', 'ZQ8', 'LS Sport', 'LT Entertainer', 'v6 se', 'cruiser touring', '4x2 v6 se', 'v6 sxt', 'XLT Sport', 'XLT NBX', '4x4 v6 xlt', '4x2 v6 xlt', '4x4 v6 ed bauer', 'xls', '4x2 v6 limited', 'EDGE', 'ZX3 SES', 'ZXW SES', 'awd limited', 'FX4 Level II', 'EX Special Edition', 'LX Special Edition PZEV', 'awd ex-l', 'S 7 Passenger', 'GLS Special Value', '4.2', 'Luxury 5 Passenger', 'Unlimited', '4wd s', 'C320 Luxury 4MATIC', 'SP23 Special Edition', 'Trailhawk', '3.5 SE-R', 'GTS V6', 'S500 4MATIC', 'Off-Road', 'SE Off Road', 'Arc 2.3T', '2.5 GT', 'awd xt', 'awd x w/prem', '1', 'GLI 1.8T', 'GL PZEV', '3.0 Avant quattro', 'premium', '4x2 6c cxl', '4.8is', 'Z71 LS', 'Xtreme', '2500 LS', 'v6 lxi', 'GTC', 'v6', 'awd 2004.5', 'v6 es', '4x2 rg xl', '4x2 v8 xlt', 'XLS Sport', '4x4 v6', 'Summit', 'Edge', 'Tremor', 'ZTS', 'Mach 1 Premium', 'Z71 SLE', 'SVT', 'SVT Cobra', 'ZTW', 'ex v-6', 'fe fwd v6 gl', 'si', 'S 5-Passenger', 'C240 4MATIC', 'SL600', 'LS Ultimate', 'Sport Edition', 'GT2', 'H6-3.0 L.L. Bean Edition', 'Tiptronic', 'H6-3.0 VDC', 'GL 1.8T', 'GLI VR6', 'HPT', 'XRS', 'R', '3.2 Type-S', '4.6is', 'sub 4x2 v8', 'LX Hybrid', 'ZR2', '& coun fwd lx', 'carav fwd se', 'v6 lx', 'carav fwd sport', 'lx lx', 'LX Value', '4x4 v6 xlt pop 2', 'LX Premium', 'XLT FX4', 'SVT Lightning', 'B2300', 'C320 4MATIC', 'C320 Sport', 'S430 4MATIC', 'CLK430', 'ES V6', 'SSEi', 'Arc 3.0t', 'L200', 'carrera 4x2 carrera 2', 'L.L. Bean Edition', 'gls 1.8t', '180hp quattro', '2.9', '225hp quattro', 'T6 Elite', 'STS', 'Z24', 'ram cargo', 'eC', 'Warner Brothers', 'EXT LT', 'SLT Plus', 'eL', 'XLT Choice', 'cargo v8', '4x2 v6 xls', 'XLS Choice', 'eX', 'ZX3 Power Premium', 'SE Comfort', 'SEL Deluxe', 'sierra 4x4 sle', 'lx-g', 'B3000', 'series ii', 'CLK55 AMG', 'LSE', 'Value', 'E430', 'GL2', 'LW200', 'GT Limited', 'Premiere', 'SC2', 'MV', 'GLS V6 4Motion', 'HT', 'awd v6 towncar', 'S Q4', 'Warner Bros.', 'ram v8', 'CDX', 'E-150 XLT', 'fe 4x4 v6', 'fe fwd v6', 'Bullitt', 'fe fwd v6 gls', 'LX V6', 'SE 20th Anniversary', 'SE-V6 Dessert Runner', '3.5XS', 'ML55 AMG', 'GLX V6 4Motion', 'GLS Wolfsburg Edition 1.8T', 'SW2', '2.4M', 'HD LS', 'cargo 4x2 w/yf7', '328Ci', 'HD', '2.8 Avant quattro', 'warner bro', 'fwd ext lt', 'cargo v8 recreation', '4x2 ext base', '4x2 v10 xlt', '4x2 ed bauer', '4x4 ext slt', '4x2 v8', 'fwd ext base', 'ed bauer', 'ext 4x2 base', '4x2 reg ls', 'fwd lxi', 'JX', 'ext base', '4x2 ext xlt', '4x4 ext lariat o/r', 'awd v8 xlt', 'se svg', 'HD SLT', '4x4 ext xlt', 'xlt', '1500 SLT', '4x4 ext xlt off/rd', '1500 4x2 ex sle', '1500 4x4 ex sle', '4x4 6c sport', '4.6 Vitesse', '4x4 6c sahara', 'cherokee limited', '4x4 sport', 'cherokee 4x4 laredo', 'E350 Sport 4MATIC', 'CLS550 4MATIC', 'C350 4MATIC', 'voyager se', 'LS1', 'gl2', 'GTZ', 'am se1', 'JLX', 'ext', 'XE V6', 'GT-S', '4x4 ext classic ls', 'Concours', 'GLS VR6', 'gls tdi', 'GLT SE', '2500k lt', '2500 lramie slt', 'G1500', '4x4 ext', 'E-350 Super Duty Chateau', 'fwd base', '4x4 crew lariat', '4x4 ext sport', 'S  w/Soft Top', 'fwd lx', 'l', 'Outback', 'cab carrera 2', 'fwd estate', '3.5 Premium', 'GLS (1999.5)', '4x2 ext ls', '4x4 ext silverado', 'ltz', \"D'elegance\", 'VE', 'GL (1999.5)', 'Silverado', '2.8', '4x4 reg silverado', '4x4 ed bauer', 'jx', 'WS', '4x4 xlt', 'cargo', 'Style', 'fwd gs', 'SLK230 Kompressor', 'cher 4x4 v8 limited', 'HX', 'cher 4x2 v8 limited', 'SW1', 'awd ed bauer', 'Econoline', '2.2', '318i', 'E300D', 'SLK250', 'S63 AMG 4MATIC', '1500 4x2', 'C220', 'Country', '2.5 Premium', 'Cheyenne', '25th Anniversary', '1.9', 'outback', 'cher 4x4 v8 laredo', 'Gran Sport', '4x4 base', '4x2 reg xlt', '2wd ext base', 'S420', 'E420', 'xe', 'DX V6', 'special', '1500 base', 'SR5 V6', '500SL', '300E', '4x4 reg xlt', '300SL', 'Unlimited Freedom Edition', 'Track Edition', '2500 S', '2.0i PZEV', 'Laramie Longhorn', '2.5i Touring PZEV', 'Trail', 'LE Eco', '1794', '1794 FFV', 'SR5 FFV', 'Advance Package', '2.0T Prestige quattro', '740Li xDrive', 'Premium 1', 'Leather', 'Premium 1 Turbo', 'ActiveHybrid 5', 'ZL1', '428i', '328i xDrive SULEV', 'TDI Premium Plus quattro', '228i', 'EL XLT', 'Electric', 'Premium I', 'EX-L w/Navigation', 'Hybrid PZEV', 'Sport w/Navigation', 'GS PZEV', 'Vsport Platinum', 'High Country', '2500 144 WB Crew', 'pure coupe', 'E550 Sport 4MATIC', 'Plus', 'L 7-Passenger', 'One', \"Driver's Edition PZEV\", 'VR6 4Motion Executive', 'V6 SE', 'S 4Motion', 'VR6 Executive', 'rvb', 'awd v6 premium', '2.0T PZEV Premium', 'SH-AWD w/Advance Package', 'Z51', 'fwd 4c 2.0t prm', 'xdr 750li xdr', 'Touring Group', 'Premium I Group', 'Premium III Group', 'Premium II Group', '1LS Fleet', 'SRT8 392', 'BEV', '5', 'Limited Jet', 'i Touring Plus', 'C350', '2500 170 WB Cargo', 'Pro-4X', 'Carrera Black Edition', 'IV', 'LT2 XFE', '1500 4x2 cr sle', 'Spectra5 SX', 'SL63 AMG', 'SportWagen S', 'SRT4', 'Spider F1', 'gx', 'C350 Luxury', '4x4 lx', '6c se', 'Duro Cross V8', 'exl', 'SE S/C', 'XLS Popular', 'SRT', 'v6 ex', 'GTZ V6', 'TS', 'Trans Am', 'cargo awd w/yf7', '4x4 cr srw xlt', '4x2 ext lariat', 'fwd ext warner bro', 'sel', '4x2 ext classic ls', 'xr-7', '4x4 4c s', 'CLA250 4MATIC', 'Longhorn', '320i xDrive', 'Carrera 4S', 'SRT8 Superbee', 'Touring Elite', '5.2 quattro Spyder', '4x4 ex xl', '4x2 v6 xl', 'Unlimited 70th Anniversary', 'GS-Sport', 'Platinum FFV', 'awd 2.0t pres', 'fwd v6 cx', '4x4 cr lariat', 'ext cargo commercial', 'club wagon xl', 'awd gl', 'Wolfsburg Edition 4Motion', 'II', '4.2 Prestige quattro', 'SLT1 XFE', 'i touring', 'SE 4Motion', '4x2 ex lt w/1lt', 'RTX', 'Spec', 'series', 'Luxury II', 'caravan crew', 'el 4x2 limited', '4x4 ex fx4', 'gr tr', 'gr tr gr touring', 'sport awd', 'marquis gs', 'WRX STI Limited', '4x4 v8 limited', '2.5l', 'police detective', '1500 4x2 cr sle1', '6c x', 'marquis gs conven', 'Adrenalin', '4x4 v6 xls', 'GS Convenience', 'Special', 'pass 4x2', 'S 7-Passenger', '6c sport', 'L 35th Anniversary Edition', '4x2 v8 xlt prm', 'yuk xl 4x2 slt', '1500 Maxi', 'XS', '4.6 SE', '323iT', '4x2 reg xl', 'carav fwd es', 'v6 base', '2wd ext ls', 'fwd limited', '(1999.5) XE', '4x4 ext silver z71', '318ti', '3.0 Premium', 'Highline', '3500 sport', '4x2 sls', 'caravan', 'sl', 'XR7', '10th Anniversary', 'gran sport', 'GLTS', '4x4', 'SE Luxury', 'Unlimited Rubicon Hard Rock', '1500 High Roof', '128i SULEV', 'V6 SEL Premium', '328d', 'C John Varvatos', 'C Abarth', 'Abarth', '640i xDrive', 'M235i', 'Wagon XLT Premium', 'NISMO', 'Vsport Premium', 'Five', 'TDI Executive', 'Premium Group', 'S V8', 'C Luxury Series', 'SXT Plus', 'wagon v8 xl', 'Diesel', 's/c sc', '2500 SV', '2.0i Sport Premium PZEV', 'Laramie Longhorn Limited Edition', 'X-Runner V6', 'Komfort SULEV', 'series m', 'FX50', '2.0T R-Spec', '4x4 cr rt', 'SX Premium', 'GSX', 'gxe', 'Formula', 'Splash', 'EX-L V-6 w/Navigation', 'SH-AWD w/Technology and Entertainment Packages', 'Prestige Premium', '2.0i Limited PZEV', 'fwd 4c gt', 'T5 Version 1.0', 'ext ls', 'gt gt', 'sport sport', 'sport fwd', '2.0T Avant quattro', '4x2 v8 c srt8', 'srw 4x4 ex xl', 'Z71 SLE Base', 'awd lx', 'LS V6', 'SVE-V6', 'sub 4x4 v8 lt', 'cargo 4x2 yf7 upfit', 'Edge Plus', 'VR-X', 'E430 4MATIC', '& coun fwd limited', 'Trailblazer', 'Work', 'B3000 SE', 'sierra 4x2 slt', 'SSE', 'SV Hybrid', '328d xDrive', '435i', '428i xDrive SULEV', '435i xDrive', '535d xDrive', '428i xDrive', 'Turbo PZEV Fender Edition', 'SEL Premium PZEV', 'Natural Gas', 'Uptown', '4x4 rg xl', 'Latitude X', '4c ltz', '2.0T Turbo', 'Autobahn', 'premium 2.0t qtro', 'comfrtline', 'CL550 4MATIC', 'Sport GT S Automatic', '3.0 R Limited', 'Sport V6', 'awd suv', 's spt s sport', 'Outback Sport Special Edition', '3.2L', 'limited', '4x4 ex', '3.0 R VDC Limited', 'Special Value', 'Z85 SL', 'Trekking', 'C240 Luxury 4MATIC', 'anniversar', '4x4 v6 nbx', 'Cinco', 'XLT Appearance', 'TrailBlazer', 'fwd ext', '2wd ext', '323is', 'XJ6', 'XJL Portfolio', '4x4 4c north', 'north', 'sel prm', 'RTL w/Leather', '2.5i Sport', 'Turbo PZEV', 'Turbo Fender Edition', 'Lux PZEV', 'L W12 6.3 quattro', 'ZR1', '2.0 TFSI Premium quattro', 'WRX Premium', 'XFE', 'N400 Roadster', '4x2 v8 x-sp', 'GL V6', '250hp quattro', 'ZX2 Deluxe', 'SportCross', 'Base (1999.5)', 'sierra 4x2 sle', 'r spt v6 hse', 'Hybrid Touring', 'Hybrid w/Technology Package', 'LS 2500', 'XLE Premium', 'Convenience Group 2', 'C Lounge', 'V8 HSE', '4x2 v6 xls sport', '4x4 v6 ex', 'awd v8 ed bauer', '1500 4x2 slt', '2.5i Sport PZEV', 'ActiveHybrid 3', 'S350', 'lxi', 'SL320', '4c 1.8t', 'Sports 2.5 X', 'Black Tie Edition', 'v8 base', '2500 High Ceiling 118 WB', 'perform', 'v6 sport', '4x2 qd slt', 'XE Desert Runner', '4c base', 'caravan es', '4.0 SE', 'XE (1997.5)', 'custom', '2.0T Premium Avant quattro', 'BRABUS cabriolet', 'C350 Luxury 4MATIC', '& coun fwd', 'fwd v6 sxt', 'Executive SULEV', 'G55 AMG', '4c le', 'TDI Lux', '4c lt w/2lt', 'Rallye', 'V', 'fwd lt', 'SLE2', '3.2 Avant quattro', 'WRX TR', 'Triple White PZEV', 'cxl', 'car signature', 'CLS55 AMG', 'VIII', 'Family Value', 'sub 4x4 v8', '3500 SH Ceiling 158 WB', 'XLS Value', '4x4 v6 xlt sport', 'xl', '25 4x4 cr sle', '4x2 reg', '4x2 reg silver ls', 'cherokee 4x4', 'sierra 4x2 sl', '4x4 le', 'gle', 'Z34', 'Expresso', '4x2 crew xlt', '4x4 6c se', 'B4000 SE', 'SXL', 'E250 Luxury BlueTEC 4MATIC', 'Premium 2 Turbo', 'L TDI quattro', 'Sport SULEV', 'b7 lwb', '2.0T White Turbo Launch Edition', 'VR6 Lux', 'lt w/2lt', 'Sport S', 'Green Line', '2.5 I', '4x2 v8 lt', 'S 5 Passenger', '4x2 v8 300c srt8', 'GL TDI', 'ext sle', 'Olympic Gold', '4x2 reg base', '2+2', '4x4 4c sport', 'V6 R-Line', 'sDrive35is', 'se w/rse', 'se w/nav', 'detective', 'i-290 LS', 'city 2', '4x4 cr rts', '2.5 XT', '4x2 v8 ed bauer', '4x4 v8 sle', 'chevy van base', 'Touring V-6', 'SH-AWD w/Advance and Entertainment Packages', '3.6l se se', 'VR6 Sport', '2.5L Final Edition PZEV', '2.5L Blush Edition PZEV', 'xlt 4x4 xlt sc', 'C32 AMG', 'Supercharged LWB', '2500 High Roof', 'SportBack', 'V6 Luxury', 'LE V8', '50th Anniversary', '2500 170 WB', 'awd xs ll bean', 'TSi', 'LX Special Edition V-6', 'ram', 'DX-V6', 'cargo v6 recreation', '4x4 4c', 'SE HO', '4x4 se', 'am se', '135is', 'Boss 302', 'GL350 BlueTEC 4MATIC', '2.5X Limited PZEV', '1.8 TFSI Premium Plus', 'STI Limited', 'Eco-Sport', '5.2 quattro', '7-Passenger', 'Executive GT DuoSelect', 'Ralliart V6', 'xr', 'rover', '3.0L Sportwagon', 'pulse', 'carrera', '4x2 ext xl', '2500 4x4', 'econoline cargo', '2.2 Premium', 'caravan le', 'Z28', 'F Sport', 'E63 AMG 4MATIC S-Model', '3500 SV', '1500 Low Roof', 'L 4.0T quattro', 'fwd 4c base', '1500 SV', '2.5L Blush Edition', 'el 4x4 xlt', 'Diamond Edition', 'SLS Sport', 'B2500 SE', 'Grand Sport', 'RE:MIX', 'Cambiocorsa', 'S Anniversary Edition', 'MC', '4x2 cr limited', 'LS 7 Passenger', 'SportBack GTS', 'Limited HEV', 'T5 Special Edition', 'LSi', 'ML350 BlueTEC 4MATIC', 'S Automatic', 'Volante', 'sDrive30i', 'Aero SportCombi', 'G25 Journey', '2.5XT Touring', '2.0T SportCombi', 'Series II', '2.5 X', '1.6 Base', 'V10 TDI', 'I4', '427', 'Limited (1994.5)', 'V8 Sport', 'CLS63 AMG 4MATIC S-Model', '2.0T Turbo PZEV', 'Luxury PZEV', 'Cloth', 'SE3', 'SR FFV', 'LS 5 Passenger', '400SEL', '20th Anniversary Edition', 'SC-V6', 'JLS', 'XJ6 Vanden Plas', 'XLE Touring', 'GT SULEV', 'Premium Signature', 'SS/T', 'electric drive coupe', '70th Anniversary', 'SportCombi', 'MontanaVision', 'Ultimate Adventure', '3500 High Roof 158 WB', 'O-Z Rally', 'i-280 S', 'Hybrid w/Leather', 'E250 Sport BlueTEC', 'S Premium', '2.0 TFSI Prestige quattro', 'EX35 Journey', 'SL65 AMG', 'electric drive cabriolet', 'M56x', 'Sport SE', 'SLT1 1500', 'Signature L', 's Sport Value Edition', '2.5 I Limited', 'Duro Cross V6', 'H6-3.0 35th Anniversary Edition', '2500 SH Ceiling 140 WB', 'SE2', '2.5 TS', 'XE-V6 Dessert Runner', 'ETC', 'GLX Sport', 'Wolfsburg', '2.3t', '190E 2.3', 'Wagon XLT SWB', 'Freedom Edition', \"Turbo 60's Edition\", '3.6R Touring', 'SE-V6 Desert Runner', 'Hardtop', 'Z06 Competition Sport Spec Ed', 'LW2', 'Prerunner', 'LSC', 'Cargo Van XLT LWB', 'RTL w/Leather and Navigation', 'T5 Drive-E', '4.0T quattro', 'LT 2500', 'Vector', 'Level I', 'Dynamic Premium', 'Advanced', 'Stingray', 'SE Limited', 'Type SH', 'XJR LWB', '2.0T Prestige', 'Z71 LT', 'Carrera 4 GTS', '2.5L Final Edition', '2.5 X L.L.Bean Edition', 'Spyder', '3500 High Roof 140 WB', '3.0 R', 'Rocky Mountain', 'E400 Hybrid', 'Carrera 4', 'I', 'G', '85', 'NISMO RS', 'T5 Drive-E Premier', '750iL', 'R320 BlueTEC', 'Turbo Premium', 'GS-R', '2.0XT Premium', 't Turbo', 'Z71 SL', 'Touring Fleet', 'GLS VR6 (1999.5)', 'Crossroad', 'Premium Cartier', 'Premium Fleet', '325is', 'TRD PRO', 'B3000 Dual Sport', 'Detonator', 'Ebony Edition', 'V6 Premium', '250 Medium Roof', 'TDI Cup Edition', '2500 118 WB', 'HD XLT', 'Sport JLX', 'Z/28', 'SE Premium', '850i', '420SEL', '2.5T SE', 'XLT Super Club Wagon', '60', '300SE', 'i-290 S', '300E 2.8', 'T5 Premier', 'SE PZEV w/Connectivity', '3.2 Premier Plus', 'E400 Sport Hybrid', 'GL4', 'GS Plus', 'LT Eco', '740Ld xDrive', 'LT 3500', '2.5 SV', 'TSI S', 'Big Horn', 'Premium 2', 'SX Turbo', 'XJ6L', 'SE Plus', '250 Low Roof', '150 Low Roof', '350 XL Low Roof', 'SE w/Leather and Navigation', 'EL XL', 'EcoBoost', 'CXL Premium', 'Ribelle', '3.0R Limited', 'Wagon', '3500 170 WB Cargo', 'C John Varvatos Luxury', 'X Special Edition', '250 High Roof', 'CL65 AMG', 'Cargo Van XL LWB', 'R/T Plus', 'Lux Plus', 'XJ6 Sovereign', 'C300', 'Estate', 'Stingray Z51', 'XSE', 'M56', 'GT Limited Edition', 'Altitude Edition', 'Sport Limited', 'XLE Touring SE', '2.0 TDI Premium Plus', 'Premium Plus', 'Executive PZEV', 'EX37', 'CLK63 AMG', 'LX-SV', '1.8T Classic', '350 XL High Roof', '2.3 Premium', 'STI Launch Edition', 'TSI SE', 'RE:FLEX', '2.5XT', 'ZX5 Premium', 'R/T Scat Pack', '2.5GT Limited', 'xDrive28d', '350 XL Medium Roof', 'Altitude', 'Spider', 'Sport GT', '3.5 Special Edition', 'High Altitude Edition', 'GLA250 4MATIC', 'Comfort', 'CXL Plus', 'C400 Sport 4MATIC', 'S E-Hybrid', '4.2 quattro Spyder', 'pure', 'EWB', 'Power Wagon']\n"
          ]
        }
      ]
    },
    {
      "cell_type": "markdown",
      "source": [
        "**3. NETTOYAGE DES DONNÉES**"
      ],
      "metadata": {
        "id": "gyuuSKNlzjLa"
      }
    },
    {
      "cell_type": "markdown",
      "source": [
        "Le dataset a des variables \"vin\", \"state\", \"mmr\", \"saledate\" \"seller\" et \"state\" effaces-les du dataset"
      ],
      "metadata": {
        "id": "Sj8lKUdSl0BA"
      }
    },
    {
      "cell_type": "code",
      "source": [
        "# Supprimer les colonnes spécifiées du DataFrame\n",
        "data.drop(['vin', 'state', 'mmr', 'saledate', 'seller'], axis=1, inplace=True)\n",
        "\n",
        "# Vérifier que les colonnes ont été supprimées\n",
        "if all(col not in data.columns for col in ['vin', 'state', 'mmr', 'saledate', 'seller']):\n",
        "    print(\"Les colonnes 'vin', 'state', 'mmr', 'saledate', 'seller' ont été supprimées avec succès.\")\n",
        "else:\n",
        "    print(\"Les colonnes n'ont pas été supprimées correctement. Assurez-vous que les noms des colonnes sont corrects.\")"
      ],
      "metadata": {
        "id": "kYRDDSdprA4n"
      },
      "execution_count": null,
      "outputs": []
    },
    {
      "cell_type": "markdown",
      "source": [
        "Efface toutes les données manquantes ou nulles du dataset"
      ],
      "metadata": {
        "id": "hpS_BGHPgxGh"
      }
    },
    {
      "cell_type": "code",
      "source": [
        "# Nombre de lignes avant la suppression\n",
        "num_rows_before = data.shape[0]\n",
        "\n",
        "# Supprimer toutes les lignes contenant des données manquantes ou nulles\n",
        "data = data.dropna()\n",
        "\n",
        "# Nombre de lignes après la suppression\n",
        "num_rows_after = data.shape[0]\n",
        "\n",
        "# Nombre de lignes supprimées\n",
        "num_rows_deleted = num_rows_before - num_rows_after\n",
        "\n",
        "print(f\"Nombre de lignes supprimées : {num_rows_deleted}\")\n"
      ],
      "metadata": {
        "id": "8xirJuj2g1gH"
      },
      "execution_count": null,
      "outputs": []
    },
    {
      "cell_type": "markdown",
      "source": [
        "Quelle est la moyenne dans la colonne \"sellingprice\", quelle est la valeur la plus petite et la plus grande ?"
      ],
      "metadata": {
        "id": "JN_7oexQqlEd"
      }
    },
    {
      "cell_type": "code",
      "source": [
        "# Calcul de la moyenne dans la colonne \"sellingprice\"\n",
        "moyenne_sellingprice = data['sellingprice'].mean()\n",
        "print(\"Moyenne dans la colonne 'sellingprice' :\", moyenne_sellingprice)\n",
        "\n",
        "# Valeur la plus petite dans la colonne \"sellingprice\"\n",
        "plus_petite_valeur = data['sellingprice'].min()\n",
        "print(\"Valeur la plus petite dans la colonne 'sellingprice' :\", plus_petite_valeur)\n",
        "\n",
        "# Valeur la plus grande dans la colonne \"sellingprice\"\n",
        "plus_grande_valeur = data['sellingprice'].max()\n",
        "print(\"Valeur la plus grande dans la colonne 'sellingprice' :\", plus_grande_valeur)\n"
      ],
      "metadata": {
        "id": "rD-2LPftmtQN"
      },
      "execution_count": null,
      "outputs": []
    },
    {
      "cell_type": "markdown",
      "source": [
        "Efface toutes les données avec une valeur inférieur ou égale à 1000 ou supérieures à 50000 dans la colonne \"sellingprice\". Dis-moi aussi combien de données ont été effacées"
      ],
      "metadata": {
        "id": "StgYG927n0Se"
      }
    },
    {
      "cell_type": "code",
      "source": [
        "# Compter le nombre de données avant la suppression\n",
        "nb_lignes_avant = len(data)\n",
        "\n",
        "# Effacer les données avec une valeur égale à 1 ou supérieure à 80000 dans la colonne \"sellingprice\"\n",
        "data = data[(data['sellingprice'] > 1000) & (data['sellingprice'] < 50000)]\n",
        "\n",
        "# Compter le nombre de données après la suppression\n",
        "nb_lignes_apres = len(data)\n",
        "\n",
        "# Calculer le nombre de données effacées\n",
        "nb_effacees = nb_lignes_avant - nb_lignes_apres\n",
        "\n",
        "# Afficher le nombre de données effacées\n",
        "print(\"Nombre de données effacées :\", nb_effacees)\n"
      ],
      "metadata": {
        "id": "pmCl1yu_n0tC"
      },
      "execution_count": null,
      "outputs": []
    },
    {
      "cell_type": "markdown",
      "source": [
        "Le dataset a une colonne \"interior\" et une colonne \"color\" est-ce qu'il y a des valeurs manquantes, nulles, égales à \"—\" ou avec des valeurs numériques dans cette colonne ? si oui, efface ces données du dataset et dis-moi combien de données ont été effacées"
      ],
      "metadata": {
        "id": "VaAxiB2vtCQN"
      }
    },
    {
      "cell_type": "code",
      "source": [
        "# Compter le nombre de données avant la suppression\n",
        "nb_lignes_avant = len(data)\n",
        "\n",
        "# Effacer les données avec des valeurs manquantes, nulles ou égales à \"—\" dans les colonnes \"interior\" et \"color\"\n",
        "data = data[(data['interior'] != '—') & (data['color'] != '—') & (data['interior'].notnull()) & (data['color'].notnull())]\n",
        "\n",
        "# Compter le nombre de données après la suppression\n",
        "nb_lignes_apres = len(data)\n",
        "\n",
        "# Calculer le nombre de données effacées\n",
        "nb_effacees = nb_lignes_avant - nb_lignes_apres\n",
        "\n",
        "# Afficher le nombre de données effacées\n",
        "print(\"Nombre de données effacées :\", nb_effacees)"
      ],
      "metadata": {
        "id": "RvoGFNjntXf6"
      },
      "execution_count": null,
      "outputs": []
    },
    {
      "cell_type": "markdown",
      "source": [
        "Exporte le dataset propre avec toutes ces modifications dans un fichier csv"
      ],
      "metadata": {
        "id": "MeaVZCCGujJY"
      }
    },
    {
      "cell_type": "code",
      "source": [
        "data.to_csv('dataset_cleaned.csv', index=False)"
      ],
      "metadata": {
        "id": "Kf8kW-ZRurb5"
      },
      "execution_count": null,
      "outputs": []
    },
    {
      "cell_type": "markdown",
      "source": [
        "**4. PRÉPARATION DES DONNÉES**\n",
        "\n",
        "\n",
        "Un modèle de machine learning est une équation mathématique. Une équation ne peut accepter autre chose que des chiffres. Vos données catégoriques doivent être donc transformées (encodées) en données numériques à cette étape. Cependant, si vous encodéz les données, vous devez aussi sauvegarder le encodeur pour après décodifier une fois le modèle entraîné"
      ],
      "metadata": {
        "id": "B9JhDUAb0rON"
      }
    },
    {
      "cell_type": "markdown",
      "source": [
        "Transforme les valeurs categoriques du dataset 'dataset_cleaned.csv' en valeurs numériques et sauvegarde l'encodeur dans un fichier pour une utilisation ultérieure lors de la prediction\n"
      ],
      "metadata": {
        "id": "gXubSe-QylWH"
      }
    },
    {
      "cell_type": "code",
      "source": [
        "import pandas as pd\n",
        "from sklearn.preprocessing import LabelEncoder\n",
        "import joblib\n",
        "\n",
        "def encode_categorical_data(data):\n",
        "    # Créer un dictionnaire pour stocker les label encoders\n",
        "    label_encoders = {}\n",
        "\n",
        "    # Charger le dataset depuis le fichier CSV\n",
        "    dataset = pd.read_csv(data)\n",
        "\n",
        "    # Itérer sur les colonnes du DataFrame\n",
        "    for column in dataset.columns:\n",
        "        # Vérifier si la colonne est de type 'object' (catégorique)\n",
        "        if dataset[column].dtype == 'object':\n",
        "            # Créer une instance de LabelEncoder\n",
        "            label_encoder = LabelEncoder()\n",
        "\n",
        "            # Effectuer l'encodage sur les valeurs uniques de la colonne\n",
        "            dataset[column] = label_encoder.fit_transform(dataset[column])\n",
        "\n",
        "            # Ajouter le label encoder au dictionnaire\n",
        "            label_encoders[column] = label_encoder\n",
        "\n",
        "    # Sauvegarder tous les label encoders dans un seul fichier\n",
        "    joblib.dump(label_encoders, 'label_encoders.pkl')\n",
        "\n",
        "    # Exporter le DataFrame encodé dans un nouveau fichier CSV\n",
        "    dataset.to_csv('dataset_encoded.csv', index=False)\n",
        "\n",
        "    # Retourner le dictionnaire des label encoders\n",
        "    return label_encoders\n",
        "\n",
        "# Exemple d'utilisation\n",
        "# Encodez les données catégoriques et récupérez les label encoders\n",
        "label_encoders = encode_categorical_data('dataset_cleaned.csv')\n",
        "\n",
        "# Afficher les label encoders utilisés pour chaque colonne catégorique\n",
        "for column, label_encoder in label_encoders.items():\n",
        "    print(f\"Label Encoder for {column}: {label_encoder}\")\n"
      ],
      "metadata": {
        "id": "OzzBBI_byd5C"
      },
      "execution_count": null,
      "outputs": []
    },
    {
      "cell_type": "markdown",
      "source": [
        "Coupe le dataset encodé en deux parties, train et test Garde 1000 données dans le dataset de test`"
      ],
      "metadata": {
        "id": "lLoQHlbkxahZ"
      }
    },
    {
      "cell_type": "code",
      "source": [
        "from sklearn.model_selection import train_test_split\n",
        "\n",
        "data = pd.read_csv(\"dataset_encoded.csv\")\n",
        "\n",
        "# Diviser les données en ensembles d'entraînement et de test\n",
        "train_data, test_data = train_test_split(data, test_size=1000, random_state=42)\n",
        "\n",
        "# Afficher les tailles des ensembles d'entraînement et de test\n",
        "print(\"Taille de l'ensemble d'entraînement :\", len(train_data))\n",
        "print(\"Taille de l'ensemble de test :\", len(test_data))"
      ],
      "metadata": {
        "id": "2XF7CP2jxbVE"
      },
      "execution_count": null,
      "outputs": []
    },
    {
      "cell_type": "markdown",
      "source": [
        "**5. ENTRAÎNEMENT DU MODÈLE**"
      ],
      "metadata": {
        "id": "lhrscXPmt1Us"
      }
    },
    {
      "cell_type": "markdown",
      "source": [
        "Entraîne un modèle de régression utilisant une architecture de neurones profondes. La colonne à calculer est \"sellingprice\". Utilise la fonction de perte mean absolute error et la librairie pytorch"
      ],
      "metadata": {
        "id": "nW6FGCy7omIG"
      }
    },
    {
      "cell_type": "code",
      "source": [
        "import torch\n",
        "import torch.nn as nn\n",
        "import torch.optim as optim\n",
        "from torch.utils.data import DataLoader, TensorDataset\n",
        "import numpy as np\n",
        "\n",
        "# Conversion des données en tenseurs PyTorch\n",
        "X_train_tensor = torch.tensor(train_data.drop('sellingprice', axis=1).values, dtype=torch.float32)\n",
        "y_train_tensor = torch.tensor(train_data['sellingprice'].values, dtype=torch.float32)\n",
        "X_test_tensor = torch.tensor(test_data.drop('sellingprice', axis=1).values, dtype=torch.float32)\n",
        "y_test_tensor = torch.tensor(test_data['sellingprice'].values, dtype=torch.float32)\n",
        "\n",
        "# Création des ensembles de données\n",
        "train_dataset = TensorDataset(X_train_tensor, y_train_tensor)\n",
        "test_dataset = TensorDataset(X_test_tensor, y_test_tensor)\n",
        "\n",
        "# Définition du modèle\n",
        "class DeepRegressor(nn.Module):\n",
        "    def __init__(self, input_size):\n",
        "        super(DeepRegressor, self).__init__()\n",
        "        self.fc1 = nn.Linear(input_size, 64)\n",
        "        self.fc2 = nn.Linear(64, 64)\n",
        "        self.fc3 = nn.Linear(64, 1)\n",
        "\n",
        "    def forward(self, x):\n",
        "        x = torch.relu(self.fc1(x))\n",
        "        x = torch.relu(self.fc2(x))\n",
        "        x = self.fc3(x)\n",
        "        return x\n",
        "\n",
        "# Initialisation du modèle\n",
        "model = DeepRegressor(input_size=X_train_tensor.shape[1])\n",
        "\n",
        "# Définition de la fonction de perte et de l'optimiseur\n",
        "criterion = nn.L1Loss()\n",
        "optimizer = optim.Adam(model.parameters(), lr=0.001)\n",
        "\n",
        "# Entraînement du modèle\n",
        "num_epochs = 50\n",
        "batch_size = 32\n",
        "train_loader = DataLoader(train_dataset, batch_size=batch_size, shuffle=True)\n",
        "\n",
        "for epoch in range(num_epochs):\n",
        "    model.train()\n",
        "    running_loss = 0.0\n",
        "    for inputs, targets in train_loader:\n",
        "        optimizer.zero_grad()\n",
        "        outputs = model(inputs)\n",
        "        loss = criterion(outputs.squeeze(), targets)\n",
        "        loss.backward()\n",
        "        optimizer.step()\n",
        "        running_loss += loss.item() * inputs.size(0)\n",
        "    epoch_loss = running_loss / len(train_loader.dataset)\n",
        "    print(f\"Epoch {epoch+1}/{num_epochs}, Loss: {epoch_loss:.4f}\")\n",
        "\n",
        "# Évaluation du modèle\n",
        "model.eval()\n",
        "test_loader = DataLoader(test_dataset, batch_size=batch_size, shuffle=False)\n",
        "test_loss = 0.0\n",
        "\n",
        "with torch.no_grad():\n",
        "    for inputs, targets in test_loader:\n",
        "        outputs = model(inputs)\n",
        "        loss = criterion(outputs.squeeze(), targets)\n",
        "        test_loss += loss.item() * inputs.size(0)\n",
        "\n",
        "test_loss /= len(test_loader.dataset)\n",
        "print(f\"Test Loss: {test_loss:.4f}\")\n"
      ],
      "metadata": {
        "colab": {
          "base_uri": "https://localhost:8080/"
        },
        "id": "fh_tE-pfjBVF",
        "outputId": "52e551bd-1dc8-42b2-977b-9af3ce7a0971"
      },
      "execution_count": null,
      "outputs": [
        {
          "output_type": "stream",
          "name": "stdout",
          "text": [
            "Epoch 1/50, Loss: 4730.5590\n",
            "Epoch 2/50, Loss: 4473.1648\n",
            "Epoch 3/50, Loss: 4252.0967\n",
            "Epoch 4/50, Loss: 4191.4077\n",
            "Epoch 5/50, Loss: 4128.1853\n",
            "Epoch 6/50, Loss: 4059.8715\n",
            "Epoch 7/50, Loss: 4011.4837\n",
            "Epoch 8/50, Loss: 3969.5452\n",
            "Epoch 9/50, Loss: 3936.5762\n",
            "Epoch 10/50, Loss: 3902.7761\n",
            "Epoch 11/50, Loss: 3875.2869\n",
            "Epoch 12/50, Loss: 3840.2216\n",
            "Epoch 13/50, Loss: 3812.0085\n",
            "Epoch 14/50, Loss: 3790.6078\n",
            "Epoch 15/50, Loss: 3772.4548\n",
            "Epoch 16/50, Loss: 3754.6132\n",
            "Epoch 17/50, Loss: 3739.8700\n",
            "Epoch 18/50, Loss: 3725.3894\n",
            "Epoch 19/50, Loss: 3706.8582\n",
            "Epoch 20/50, Loss: 3693.3353\n",
            "Epoch 21/50, Loss: 3679.6748\n",
            "Epoch 22/50, Loss: 3662.8751\n",
            "Epoch 23/50, Loss: 3645.4270\n",
            "Epoch 24/50, Loss: 3629.3301\n",
            "Epoch 25/50, Loss: 3609.7863\n",
            "Epoch 26/50, Loss: 3595.4183\n",
            "Epoch 27/50, Loss: 3583.7953\n",
            "Epoch 28/50, Loss: 3569.5388\n",
            "Epoch 29/50, Loss: 3553.9653\n",
            "Epoch 30/50, Loss: 3540.9169\n",
            "Epoch 31/50, Loss: 3525.0478\n",
            "Epoch 32/50, Loss: 3511.0649\n",
            "Epoch 33/50, Loss: 3496.4235\n",
            "Epoch 34/50, Loss: 3483.8548\n",
            "Epoch 35/50, Loss: 3474.3153\n",
            "Epoch 36/50, Loss: 3462.0957\n",
            "Epoch 37/50, Loss: 3455.7019\n",
            "Epoch 38/50, Loss: 3444.8405\n",
            "Epoch 39/50, Loss: 3442.7426\n",
            "Epoch 40/50, Loss: 3433.1544\n",
            "Epoch 41/50, Loss: 3420.4508\n",
            "Epoch 42/50, Loss: 3410.6088\n",
            "Epoch 43/50, Loss: 3395.3406\n",
            "Epoch 44/50, Loss: 3383.3081\n",
            "Epoch 45/50, Loss: 3371.5993\n",
            "Epoch 46/50, Loss: 3357.8660\n",
            "Epoch 47/50, Loss: 3354.1078\n",
            "Epoch 48/50, Loss: 3343.0847\n",
            "Epoch 49/50, Loss: 3335.8694\n",
            "Epoch 50/50, Loss: 3327.2710\n",
            "Test Loss: 3319.8935\n"
          ]
        }
      ]
    },
    {
      "cell_type": "markdown",
      "source": [
        "Pour minimiser l'erreur n'hesitez pas à :\n",
        "\n",
        "1. Tester des architectures neuronales différentes (plus de couches de neurones)\n",
        "2. Changer les hyper paramètres (plus d'epochs, autre learning rate, etc)\n",
        "3. Normaliser vos données avant l'entraînement lors de la phase de préparation de la donnée. Si vous le faites, n'oubliez pas de revenir à l'échelle (dénormaliser) avant de faire des prédictions."
      ],
      "metadata": {
        "id": "jwkP90rGvtI3"
      }
    },
    {
      "cell_type": "markdown",
      "source": [
        "**6. SAUVEGARDE DU MODÈLE DANS UN FICHIER POUR UTILISATION ULTÈRIEURE**"
      ],
      "metadata": {
        "id": "BhyYixe2vZkk"
      }
    },
    {
      "cell_type": "markdown",
      "source": [
        "Sauvegarde le modèle entier entraîné dans un fichier pour l'utiliser après et le mettre en production"
      ],
      "metadata": {
        "id": "_RY3iPCnwTuC"
      }
    },
    {
      "cell_type": "code",
      "source": [
        "# Sauvegarder le modèle\n",
        "torch.save(model, 'modele_regresseur.pth')"
      ],
      "metadata": {
        "id": "Q9K-1uTpvihp"
      },
      "execution_count": null,
      "outputs": []
    },
    {
      "cell_type": "markdown",
      "source": [
        "Je suis curieux. Comment je peux visualiser ce qu'il y a à l'intérieur de ce fichier ainsi que les weights ?"
      ],
      "metadata": {
        "id": "NfUK26AIwN2e"
      }
    },
    {
      "cell_type": "code",
      "source": [
        "import torch\n",
        "\n",
        "# Charger le fichier de modèle\n",
        "model_data = torch.load('modele_regresseur.pth', map_location=torch.device('cpu'))\n",
        "\n",
        "# Vérifier le type de l'objet chargé\n",
        "if isinstance(model_data, dict) and 'model_state_dict' in model_data:\n",
        "    state_dict = model_data['model_state_dict']\n",
        "elif isinstance(model_data, torch.nn.Module):\n",
        "    state_dict = model_data.state_dict()\n",
        "else:\n",
        "    raise ValueError(\"Le fichier ne contient pas un modèle PyTorch valide ou un format inattendu.\")\n",
        "\n",
        "# Afficher les poids de chaque couche\n",
        "print(\"Affichage des poids des différentes couches du modèle :\")\n",
        "for layer_name, weights in state_dict.items():\n",
        "    print(f\"\\nLayer: {layer_name}\")\n",
        "    print(f\"Weights: {weights.shape}\")\n",
        "    print(weights)\n",
        "\n",
        "# Si l'objet contient une autre structure, inspectez-la\n",
        "if isinstance(model_data, dict):\n",
        "    print(\"\\nStructure complète du modèle sauvegardé :\")\n",
        "    for key, value in model_data.items():\n",
        "        if key != 'model_state_dict':\n",
        "            print(f\"\\nStructure de la clé '{key}':\")\n",
        "            if isinstance(value, torch.Tensor):\n",
        "                print(f\"  - Tensor avec shape : {value.shape}\")\n",
        "            elif isinstance(value, dict):\n",
        "                print(\"  - Dictionnaire avec clés :\")\n",
        "                for subkey in value.keys():\n",
        "                    print(f\"    - {subkey}\")\n",
        "            else:\n",
        "                print(f\"  - Type : {type(value)}\")\n",
        "\n",
        "# Si l'objet est directement le modèle, afficher son architecture\n",
        "elif isinstance(model_data, torch.nn.Module):\n",
        "    print(\"\\nLe modèle sauvegardé est directement un module PyTorch.\")\n",
        "    print(\"Architecture du modèle :\")\n",
        "    print(model_data)"
      ],
      "metadata": {
        "id": "KwYDwYECwHm8"
      },
      "execution_count": null,
      "outputs": []
    },
    {
      "cell_type": "markdown",
      "source": [
        "**7. Utilisez votre modèle entraîné pour faire des estimations des prix**"
      ],
      "metadata": {
        "id": "TZvYbs4UjIOr"
      }
    },
    {
      "cell_type": "markdown",
      "source": [
        "Fais une fonction de prédiction pour charger le modèle entraîné et sauvegardé dans le fichier modele_regresseur.pth et puis tester sur une donné que l'utilisateur entrera manuellement. Pour rappel, les données catégoriques ont été codifiées et sauvegardées dans un fichier label_encoders.pth. Il y a aussi des variables numériques que l'utilisateur doit indiquer."
      ],
      "metadata": {
        "id": "YNtuVjWwnYTx"
      }
    },
    {
      "cell_type": "code",
      "source": [
        "import pandas as pd\n",
        "import joblib\n",
        "import torch\n",
        "import numpy as np\n",
        "from sklearn.preprocessing import LabelEncoder\n",
        "\n",
        "def load_label_encoders(file_path):\n",
        "    # Charger les label encoders à partir du fichier\n",
        "    label_encoders = joblib.load(file_path)\n",
        "    return label_encoders\n",
        "\n",
        "def load_model(file_path):\n",
        "    # Charger le modèle entier à partir du fichier\n",
        "    model = torch.load(file_path, map_location=torch.device('cpu'))\n",
        "    return model\n",
        "\n",
        "def preprocess_data(data, label_encoders):\n",
        "    # Créer une copie des données\n",
        "    processed_data = data.copy()\n",
        "\n",
        "    # Encoder les données catégoriques\n",
        "    for column, label_encoder in label_encoders.items():\n",
        "        if column in processed_data.columns:\n",
        "            # Vérifier les valeurs inconnues\n",
        "            unknown_labels = set(processed_data[column]) - set(label_encoder.classes_)\n",
        "            if unknown_labels:\n",
        "                raise ValueError(f\"Unknown labels found in column '{column}': {unknown_labels}\")\n",
        "            processed_data[column] = label_encoder.transform(processed_data[column])\n",
        "\n",
        "    return processed_data\n",
        "\n",
        "def predict_selling_price(data, label_encoders, model):\n",
        "    # Prétraiter les données\n",
        "    processed_data = preprocess_data(data, label_encoders)\n",
        "\n",
        "    # Convertir les données en tenseurs PyTorch\n",
        "    X_test = torch.tensor(processed_data.values.astype(np.float32))\n",
        "\n",
        "    # Passer les données au modèle pour prédiction\n",
        "    with torch.no_grad():\n",
        "        model.eval()\n",
        "        predictions = model(X_test).numpy()\n",
        "\n",
        "    return predictions\n",
        "\n",
        "def get_input_from_user(columns, label_encoders):\n",
        "    # Créer un dictionnaire pour stocker les données saisies par l'utilisateur\n",
        "    input_data = {}\n",
        "\n",
        "    # Demander à l'utilisateur de saisir les données pour chaque colonne\n",
        "    for column in columns:\n",
        "        print(f\"Enter value for '{column}':\")\n",
        "        if column in label_encoders:\n",
        "            # Si la colonne est catégorique, afficher les options disponibles\n",
        "            label_encoder = label_encoders[column]\n",
        "            print(f\"Options: {label_encoder.classes_}\")\n",
        "            value = input()\n",
        "            while value not in label_encoder.classes_:\n",
        "                print(f\"Invalid value for '{column}'. Please choose from {label_encoder.classes_}.\")\n",
        "                value = input()\n",
        "            input_data[column] = value\n",
        "        else:\n",
        "            value = input()\n",
        "            input_data[column] = float(value)  # Assurez-vous de convertir les valeurs numériques correctement\n",
        "\n",
        "    # Créer un DataFrame à partir des données saisies\n",
        "    input_df = pd.DataFrame([input_data])\n",
        "\n",
        "    return input_df\n",
        "\n",
        "# Exemple d'utilisation\n",
        "# Charger les label encoders\n",
        "label_encoders = load_label_encoders('label_encoders.pkl')\n",
        "\n",
        "# Charger les données d'entraînement pour déterminer les colonnes nécessaires\n",
        "train_data = pd.read_csv('dataset_encoded.csv')  # Remplacez par votre fichier de données d'entraînement\n",
        "columns = train_data.drop('sellingprice', axis=1).columns\n",
        "\n",
        "# Charger le modèle entier\n",
        "model = load_model('modele_regresseur.pth')\n",
        "\n",
        "# Obtenir les données de test saisies par l'utilisateur\n",
        "test_data = get_input_from_user(columns, label_encoders)\n",
        "\n",
        "# Prédire la colonne 'sellingprice' avec les données de test\n",
        "try:\n",
        "    predictions = predict_selling_price(test_data, label_encoders, model)\n",
        "    print(f\"Predicted Selling Price: {predictions}\")\n",
        "except ValueError as e:\n",
        "    print(e)\n"
      ],
      "metadata": {
        "id": "a3M86pCUlM-7"
      },
      "execution_count": null,
      "outputs": []
    }
  ]
}