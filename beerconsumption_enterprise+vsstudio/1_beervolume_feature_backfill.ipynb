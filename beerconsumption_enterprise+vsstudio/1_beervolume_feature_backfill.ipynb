{
 "cells": [
  {
   "cell_type": "markdown",
   "metadata": {},
   "source": [
    "# BeerVolume Prediction Demo\n",
    "This is a short demonstration of how you can use Hopsworks for creating a Machine Learning System that creates predictions. The hypothetical use case is that of a **bar owner** who would want to predict how much beer will be consumed in his bar, based on past trends and behaviour.\n",
    "\n",
    "![](https://lh3.googleusercontent.com/blogger_img_proxy/ALY8t1uqu0YUTdfoFJYGV2r9a2iHEewpP3daVa9J3qzCzV3rZm8EX8YyhHhOHbfG450AhHYQXu6Hgf8pj2fTpSzg4uio4X_qv9TTEfMnEtO6rYLevnGBxF6sO97tGeYyzaAkGSyVBnw8WtWS1P_2RLY=s0-d)"
   ]
  },
  {
   "cell_type": "markdown",
   "id": "3e80dec4",
   "metadata": {},
   "source": [
    "## <span style=\"color:#ff5f27\">📝 Code Library Imports </span>\n",
    "We are importing a `beervolume.py` and a `averages.py` script in this notebook, as we will use it later on to generate the historical data, plot it, and generate the second-order features for our predictions."
   ]
  },
  {
   "cell_type": "code",
   "execution_count": 1,
   "id": "27d37094",
   "metadata": {},
   "outputs": [],
   "source": [
    "import datetime\n",
    "from beervolume import generate_historical_data, to_wide_format, plot_historical_id\n",
    "from averages import calculate_second_order_features\n",
    "\n",
    "import great_expectations as ge\n",
    "from great_expectations.core import ExpectationSuite, ExpectationConfiguration\n",
    "\n",
    "import warnings\n",
    "warnings.filterwarnings('ignore')"
   ]
  },
  {
   "cell_type": "markdown",
   "id": "cfae4d6e",
   "metadata": {},
   "source": [
    "## <span style=\"color:#ff5f27\">⚙️ Beer Consumption Data Import </span>\n",
    "\n",
    "In this demo, we will be generating synthetic beer consumption data. For every day after a certain `START_DATE`, we will be generating a supposed volume of beer that has been consumed.\n",
    "\n",
    "Therefore, let's define the `START_DATE` variable (format: %Y-%m-%d) which will indicate the start date for our beer data generation."
   ]
  },
  {
   "cell_type": "code",
   "execution_count": 2,
   "id": "b7bee036",
   "metadata": {},
   "outputs": [],
   "source": [
    "# Define a constant START_DATE with a specific date (September 1, 2022)\n",
    "START_DATE = datetime.date(2023, 9, 1)"
   ]
  },
  {
   "cell_type": "code",
   "execution_count": 3,
   "id": "b610580b",
   "metadata": {},
   "outputs": [
    {
     "name": "stderr",
     "output_type": "stream",
     "text": [
      "Generating Data: 100%|██████████| 111/111 [00:07<00:00, 13.88it/s]\n"
     ]
    },
    {
     "data": {
      "text/html": [
       "<div>\n",
       "<style scoped>\n",
       "    .dataframe tbody tr th:only-of-type {\n",
       "        vertical-align: middle;\n",
       "    }\n",
       "\n",
       "    .dataframe tbody tr th {\n",
       "        vertical-align: top;\n",
       "    }\n",
       "\n",
       "    .dataframe thead th {\n",
       "        text-align: right;\n",
       "    }\n",
       "</style>\n",
       "<table border=\"1\" class=\"dataframe\">\n",
       "  <thead>\n",
       "    <tr style=\"text-align: right;\">\n",
       "      <th></th>\n",
       "      <th>date</th>\n",
       "      <th>id</th>\n",
       "      <th>beervolume</th>\n",
       "    </tr>\n",
       "  </thead>\n",
       "  <tbody>\n",
       "    <tr>\n",
       "      <th>0</th>\n",
       "      <td>2023-09-01</td>\n",
       "      <td>1539</td>\n",
       "      <td>200.0</td>\n",
       "    </tr>\n",
       "    <tr>\n",
       "      <th>1</th>\n",
       "      <td>2023-09-01</td>\n",
       "      <td>2641</td>\n",
       "      <td>200.0</td>\n",
       "    </tr>\n",
       "    <tr>\n",
       "      <th>2</th>\n",
       "      <td>2023-09-01</td>\n",
       "      <td>3030</td>\n",
       "      <td>200.0</td>\n",
       "    </tr>\n",
       "  </tbody>\n",
       "</table>\n",
       "</div>"
      ],
      "text/plain": [
       "         date    id  beervolume\n",
       "0  2023-09-01  1539       200.0\n",
       "1  2023-09-01  2641       200.0\n",
       "2  2023-09-01  3030       200.0"
      ]
     },
     "execution_count": 3,
     "metadata": {},
     "output_type": "execute_result"
    }
   ],
   "source": [
    "# Generate synthetic historical data using the generate_historical_data function from START_DATE till current date\n",
    "data_generated = generate_historical_data(\n",
    "    START_DATE,  # Start date for data generation (September 1, 2023)\n",
    ")\n",
    "\n",
    "# Display the first 3 rows of the generated data\n",
    "data_generated.head(3)"
   ]
  },
  {
   "cell_type": "markdown",
   "id": "3e8bacfa",
   "metadata": {},
   "source": [
    "Look at historical values for 1 and 2 IDs."
   ]
  },
  {
   "cell_type": "code",
   "execution_count": 4,
   "id": "5e229269",
   "metadata": {},
   "outputs": [
    {
     "data": {
      "application/vnd.plotly.v1+json": {
       "config": {
        "plotlyServerURL": "https://plot.ly"
       },
       "data": [
        {
         "hovertemplate": "id=2<br>Date=%{x}<br>beervolume=%{y}<extra></extra>",
         "legendgroup": "2",
         "line": {
          "color": "rgb(228,26,28)",
          "dash": "solid"
         },
         "marker": {
          "symbol": "circle"
         },
         "mode": "lines",
         "name": "2",
         "orientation": "v",
         "showlegend": true,
         "type": "scatter",
         "x": [
          "2023-09-02T00:00:00",
          "2023-09-04T00:00:00",
          "2023-09-04T00:00:00",
          "2023-09-04T00:00:00",
          "2023-09-05T00:00:00",
          "2023-09-05T00:00:00",
          "2023-09-05T00:00:00",
          "2023-09-06T00:00:00",
          "2023-09-06T00:00:00",
          "2023-09-07T00:00:00",
          "2023-09-07T00:00:00",
          "2023-09-07T00:00:00",
          "2023-09-07T00:00:00",
          "2023-09-07T00:00:00",
          "2023-09-08T00:00:00",
          "2023-09-09T00:00:00",
          "2023-09-10T00:00:00",
          "2023-09-13T00:00:00",
          "2023-09-18T00:00:00",
          "2023-09-18T00:00:00",
          "2023-09-19T00:00:00",
          "2023-09-19T00:00:00",
          "2023-09-20T00:00:00",
          "2023-09-21T00:00:00",
          "2023-09-22T00:00:00",
          "2023-09-24T00:00:00",
          "2023-09-26T00:00:00",
          "2023-09-28T00:00:00",
          "2023-09-28T00:00:00",
          "2023-09-29T00:00:00",
          "2023-09-29T00:00:00",
          "2023-10-01T00:00:00",
          "2023-10-01T00:00:00",
          "2023-10-01T00:00:00",
          "2023-10-02T00:00:00",
          "2023-10-03T00:00:00",
          "2023-10-05T00:00:00",
          "2023-10-05T00:00:00",
          "2023-10-06T00:00:00",
          "2023-10-06T00:00:00",
          "2023-10-10T00:00:00",
          "2023-10-12T00:00:00",
          "2023-10-13T00:00:00",
          "2023-10-14T00:00:00",
          "2023-10-16T00:00:00",
          "2023-10-17T00:00:00",
          "2023-10-18T00:00:00",
          "2023-10-18T00:00:00",
          "2023-10-18T00:00:00",
          "2023-10-19T00:00:00",
          "2023-10-20T00:00:00",
          "2023-10-21T00:00:00",
          "2023-10-21T00:00:00",
          "2023-10-21T00:00:00",
          "2023-10-22T00:00:00",
          "2023-10-23T00:00:00",
          "2023-10-23T00:00:00",
          "2023-10-23T00:00:00",
          "2023-10-25T00:00:00",
          "2023-10-25T00:00:00",
          "2023-10-26T00:00:00",
          "2023-10-26T00:00:00",
          "2023-10-26T00:00:00",
          "2023-10-27T00:00:00",
          "2023-10-27T00:00:00",
          "2023-10-28T00:00:00",
          "2023-10-29T00:00:00",
          "2023-10-30T00:00:00",
          "2023-10-31T00:00:00",
          "2023-11-01T00:00:00",
          "2023-11-04T00:00:00",
          "2023-11-06T00:00:00",
          "2023-11-07T00:00:00",
          "2023-11-07T00:00:00",
          "2023-11-07T00:00:00",
          "2023-11-10T00:00:00",
          "2023-11-10T00:00:00",
          "2023-11-11T00:00:00",
          "2023-11-12T00:00:00",
          "2023-11-12T00:00:00",
          "2023-11-14T00:00:00",
          "2023-11-14T00:00:00",
          "2023-11-16T00:00:00",
          "2023-11-20T00:00:00",
          "2023-11-21T00:00:00",
          "2023-11-22T00:00:00",
          "2023-11-24T00:00:00",
          "2023-11-27T00:00:00",
          "2023-11-27T00:00:00",
          "2023-11-28T00:00:00",
          "2023-11-30T00:00:00",
          "2023-11-30T00:00:00",
          "2023-11-30T00:00:00",
          "2023-12-01T00:00:00",
          "2023-12-01T00:00:00",
          "2023-12-05T00:00:00",
          "2023-12-06T00:00:00",
          "2023-12-07T00:00:00",
          "2023-12-08T00:00:00",
          "2023-12-08T00:00:00",
          "2023-12-10T00:00:00",
          "2023-12-11T00:00:00",
          "2023-12-13T00:00:00",
          "2023-12-14T00:00:00",
          "2023-12-14T00:00:00",
          "2023-12-14T00:00:00",
          "2023-12-17T00:00:00",
          "2023-12-18T00:00:00"
         ],
         "xaxis": "x",
         "y": [
          205.4,
          200.8,
          205.1,
          206.6,
          197,
          199.2,
          203.4,
          203.3,
          199,
          197.9,
          198,
          204.1,
          205.2,
          205.3,
          195.4,
          205.5,
          218,
          205.7,
          209.8,
          208.4,
          209.9,
          205.7,
          208.2,
          213.3,
          216.6,
          215.5,
          205.7,
          204.5,
          205.9,
          217.8,
          211.8,
          210.8,
          213.1,
          216.7,
          214.7,
          215.9,
          213.2,
          216.2,
          209.8,
          224.1,
          219,
          222.6,
          223.3,
          224.3,
          222.2,
          221.6,
          221.2,
          220.7,
          216.5,
          217.4,
          221.3,
          222.2,
          221.7,
          218.5,
          227.1,
          230.6,
          229.7,
          223.5,
          226.3,
          214.4,
          223.1,
          235.9,
          232.6,
          218.4,
          217.7,
          226,
          224.7,
          225.4,
          226.2,
          226.9,
          223.4,
          226.9,
          221.3,
          234.4,
          234.9,
          227.3,
          227.5,
          219.3,
          218,
          235.1,
          228.6,
          228.7,
          227,
          226.2,
          233,
          240.6,
          226.1,
          231.3,
          228.1,
          231.5,
          230.5,
          230.2,
          229.5,
          228.3,
          231,
          233.4,
          230,
          235.4,
          220.3,
          223.4,
          235,
          220.8,
          229.5,
          230.7,
          230.4,
          229.1,
          229.2,
          229.3
         ],
         "yaxis": "y"
        },
        {
         "hovertemplate": "id=1<br>Date=%{x}<br>beervolume=%{y}<extra></extra>",
         "legendgroup": "1",
         "line": {
          "color": "rgb(55,126,184)",
          "dash": "solid"
         },
         "marker": {
          "symbol": "circle"
         },
         "mode": "lines",
         "name": "1",
         "orientation": "v",
         "showlegend": true,
         "type": "scatter",
         "x": [
          "2023-09-04T00:00:00",
          "2023-09-05T00:00:00",
          "2023-09-06T00:00:00",
          "2023-09-07T00:00:00",
          "2023-09-08T00:00:00",
          "2023-09-10T00:00:00",
          "2023-09-10T00:00:00",
          "2023-09-11T00:00:00",
          "2023-09-12T00:00:00",
          "2023-09-15T00:00:00",
          "2023-09-16T00:00:00",
          "2023-09-19T00:00:00",
          "2023-09-19T00:00:00",
          "2023-09-20T00:00:00",
          "2023-09-20T00:00:00",
          "2023-09-20T00:00:00",
          "2023-09-21T00:00:00",
          "2023-09-22T00:00:00",
          "2023-09-23T00:00:00",
          "2023-09-23T00:00:00",
          "2023-09-25T00:00:00",
          "2023-09-25T00:00:00",
          "2023-09-27T00:00:00",
          "2023-09-29T00:00:00",
          "2023-09-29T00:00:00",
          "2023-10-01T00:00:00",
          "2023-10-02T00:00:00",
          "2023-10-02T00:00:00",
          "2023-10-03T00:00:00",
          "2023-10-03T00:00:00",
          "2023-10-06T00:00:00",
          "2023-10-08T00:00:00",
          "2023-10-13T00:00:00",
          "2023-10-13T00:00:00",
          "2023-10-15T00:00:00",
          "2023-10-15T00:00:00",
          "2023-10-17T00:00:00",
          "2023-10-18T00:00:00",
          "2023-10-19T00:00:00",
          "2023-10-20T00:00:00",
          "2023-10-23T00:00:00",
          "2023-10-25T00:00:00",
          "2023-10-26T00:00:00",
          "2023-10-26T00:00:00",
          "2023-10-28T00:00:00",
          "2023-10-29T00:00:00",
          "2023-10-31T00:00:00",
          "2023-11-01T00:00:00",
          "2023-11-02T00:00:00",
          "2023-11-03T00:00:00",
          "2023-11-04T00:00:00",
          "2023-11-06T00:00:00",
          "2023-11-06T00:00:00",
          "2023-11-08T00:00:00",
          "2023-11-08T00:00:00",
          "2023-11-08T00:00:00",
          "2023-11-09T00:00:00",
          "2023-11-09T00:00:00",
          "2023-11-09T00:00:00",
          "2023-11-11T00:00:00",
          "2023-11-12T00:00:00",
          "2023-11-12T00:00:00",
          "2023-11-13T00:00:00",
          "2023-11-13T00:00:00",
          "2023-11-13T00:00:00",
          "2023-11-14T00:00:00",
          "2023-11-14T00:00:00",
          "2023-11-16T00:00:00",
          "2023-11-16T00:00:00",
          "2023-11-17T00:00:00",
          "2023-11-19T00:00:00",
          "2023-11-22T00:00:00",
          "2023-11-22T00:00:00",
          "2023-11-23T00:00:00",
          "2023-11-24T00:00:00",
          "2023-11-25T00:00:00",
          "2023-11-27T00:00:00",
          "2023-11-27T00:00:00",
          "2023-11-28T00:00:00",
          "2023-11-28T00:00:00",
          "2023-11-29T00:00:00",
          "2023-11-29T00:00:00",
          "2023-11-29T00:00:00",
          "2023-12-01T00:00:00",
          "2023-12-01T00:00:00",
          "2023-12-03T00:00:00",
          "2023-12-04T00:00:00",
          "2023-12-04T00:00:00",
          "2023-12-05T00:00:00",
          "2023-12-05T00:00:00",
          "2023-12-05T00:00:00",
          "2023-12-07T00:00:00",
          "2023-12-07T00:00:00",
          "2023-12-10T00:00:00",
          "2023-12-10T00:00:00",
          "2023-12-11T00:00:00",
          "2023-12-11T00:00:00",
          "2023-12-12T00:00:00",
          "2023-12-13T00:00:00",
          "2023-12-14T00:00:00",
          "2023-12-15T00:00:00",
          "2023-12-17T00:00:00",
          "2023-12-17T00:00:00",
          "2023-12-18T00:00:00",
          "2023-12-18T00:00:00",
          "2023-12-19T00:00:00"
         ],
         "xaxis": "x",
         "y": [
          205.4,
          199.5,
          204.2,
          202.8,
          204.3,
          211.2,
          195.9,
          209.3,
          205.6,
          207.1,
          205,
          214.9,
          210.1,
          204.3,
          206.3,
          216.7,
          206.6,
          211.7,
          217.1,
          212.3,
          214.3,
          205.5,
          220.4,
          213.3,
          210.1,
          219.4,
          212.4,
          212.9,
          215,
          215.5,
          219.2,
          222,
          217.5,
          224.7,
          216.9,
          227.2,
          217.8,
          230.4,
          220.1,
          226,
          222.4,
          235.2,
          225.5,
          229.3,
          224.9,
          225.7,
          224.5,
          225.4,
          226.3,
          230.7,
          237.2,
          225.8,
          238.3,
          222.9,
          228,
          231.4,
          232.4,
          222.6,
          230.4,
          225.5,
          228.3,
          235.6,
          229.4,
          227.2,
          228.9,
          228.7,
          228.8,
          232.3,
          229.1,
          231.4,
          228.4,
          240.8,
          222.4,
          237.5,
          229.7,
          233.9,
          231.1,
          230.1,
          231,
          224,
          228.2,
          230.9,
          236.7,
          228.8,
          230.8,
          232.4,
          229.4,
          238.7,
          233.8,
          229.1,
          232.5,
          230,
          234.4,
          221.1,
          236.6,
          234.2,
          235,
          229.2,
          229.8,
          228.8,
          229.2,
          228.8,
          229,
          231.4,
          226.3,
          219.8
         ],
         "yaxis": "y"
        }
       ],
       "layout": {
        "legend": {
         "title": {
          "text": "id"
         },
         "tracegroupgap": 0
        },
        "template": {
         "data": {
          "bar": [
           {
            "error_x": {
             "color": "#2a3f5f"
            },
            "error_y": {
             "color": "#2a3f5f"
            },
            "marker": {
             "line": {
              "color": "#E5ECF6",
              "width": 0.5
             },
             "pattern": {
              "fillmode": "overlay",
              "size": 10,
              "solidity": 0.2
             }
            },
            "type": "bar"
           }
          ],
          "barpolar": [
           {
            "marker": {
             "line": {
              "color": "#E5ECF6",
              "width": 0.5
             },
             "pattern": {
              "fillmode": "overlay",
              "size": 10,
              "solidity": 0.2
             }
            },
            "type": "barpolar"
           }
          ],
          "carpet": [
           {
            "aaxis": {
             "endlinecolor": "#2a3f5f",
             "gridcolor": "white",
             "linecolor": "white",
             "minorgridcolor": "white",
             "startlinecolor": "#2a3f5f"
            },
            "baxis": {
             "endlinecolor": "#2a3f5f",
             "gridcolor": "white",
             "linecolor": "white",
             "minorgridcolor": "white",
             "startlinecolor": "#2a3f5f"
            },
            "type": "carpet"
           }
          ],
          "choropleth": [
           {
            "colorbar": {
             "outlinewidth": 0,
             "ticks": ""
            },
            "type": "choropleth"
           }
          ],
          "contour": [
           {
            "colorbar": {
             "outlinewidth": 0,
             "ticks": ""
            },
            "colorscale": [
             [
              0,
              "#0d0887"
             ],
             [
              0.1111111111111111,
              "#46039f"
             ],
             [
              0.2222222222222222,
              "#7201a8"
             ],
             [
              0.3333333333333333,
              "#9c179e"
             ],
             [
              0.4444444444444444,
              "#bd3786"
             ],
             [
              0.5555555555555556,
              "#d8576b"
             ],
             [
              0.6666666666666666,
              "#ed7953"
             ],
             [
              0.7777777777777778,
              "#fb9f3a"
             ],
             [
              0.8888888888888888,
              "#fdca26"
             ],
             [
              1,
              "#f0f921"
             ]
            ],
            "type": "contour"
           }
          ],
          "contourcarpet": [
           {
            "colorbar": {
             "outlinewidth": 0,
             "ticks": ""
            },
            "type": "contourcarpet"
           }
          ],
          "heatmap": [
           {
            "colorbar": {
             "outlinewidth": 0,
             "ticks": ""
            },
            "colorscale": [
             [
              0,
              "#0d0887"
             ],
             [
              0.1111111111111111,
              "#46039f"
             ],
             [
              0.2222222222222222,
              "#7201a8"
             ],
             [
              0.3333333333333333,
              "#9c179e"
             ],
             [
              0.4444444444444444,
              "#bd3786"
             ],
             [
              0.5555555555555556,
              "#d8576b"
             ],
             [
              0.6666666666666666,
              "#ed7953"
             ],
             [
              0.7777777777777778,
              "#fb9f3a"
             ],
             [
              0.8888888888888888,
              "#fdca26"
             ],
             [
              1,
              "#f0f921"
             ]
            ],
            "type": "heatmap"
           }
          ],
          "heatmapgl": [
           {
            "colorbar": {
             "outlinewidth": 0,
             "ticks": ""
            },
            "colorscale": [
             [
              0,
              "#0d0887"
             ],
             [
              0.1111111111111111,
              "#46039f"
             ],
             [
              0.2222222222222222,
              "#7201a8"
             ],
             [
              0.3333333333333333,
              "#9c179e"
             ],
             [
              0.4444444444444444,
              "#bd3786"
             ],
             [
              0.5555555555555556,
              "#d8576b"
             ],
             [
              0.6666666666666666,
              "#ed7953"
             ],
             [
              0.7777777777777778,
              "#fb9f3a"
             ],
             [
              0.8888888888888888,
              "#fdca26"
             ],
             [
              1,
              "#f0f921"
             ]
            ],
            "type": "heatmapgl"
           }
          ],
          "histogram": [
           {
            "marker": {
             "pattern": {
              "fillmode": "overlay",
              "size": 10,
              "solidity": 0.2
             }
            },
            "type": "histogram"
           }
          ],
          "histogram2d": [
           {
            "colorbar": {
             "outlinewidth": 0,
             "ticks": ""
            },
            "colorscale": [
             [
              0,
              "#0d0887"
             ],
             [
              0.1111111111111111,
              "#46039f"
             ],
             [
              0.2222222222222222,
              "#7201a8"
             ],
             [
              0.3333333333333333,
              "#9c179e"
             ],
             [
              0.4444444444444444,
              "#bd3786"
             ],
             [
              0.5555555555555556,
              "#d8576b"
             ],
             [
              0.6666666666666666,
              "#ed7953"
             ],
             [
              0.7777777777777778,
              "#fb9f3a"
             ],
             [
              0.8888888888888888,
              "#fdca26"
             ],
             [
              1,
              "#f0f921"
             ]
            ],
            "type": "histogram2d"
           }
          ],
          "histogram2dcontour": [
           {
            "colorbar": {
             "outlinewidth": 0,
             "ticks": ""
            },
            "colorscale": [
             [
              0,
              "#0d0887"
             ],
             [
              0.1111111111111111,
              "#46039f"
             ],
             [
              0.2222222222222222,
              "#7201a8"
             ],
             [
              0.3333333333333333,
              "#9c179e"
             ],
             [
              0.4444444444444444,
              "#bd3786"
             ],
             [
              0.5555555555555556,
              "#d8576b"
             ],
             [
              0.6666666666666666,
              "#ed7953"
             ],
             [
              0.7777777777777778,
              "#fb9f3a"
             ],
             [
              0.8888888888888888,
              "#fdca26"
             ],
             [
              1,
              "#f0f921"
             ]
            ],
            "type": "histogram2dcontour"
           }
          ],
          "mesh3d": [
           {
            "colorbar": {
             "outlinewidth": 0,
             "ticks": ""
            },
            "type": "mesh3d"
           }
          ],
          "parcoords": [
           {
            "line": {
             "colorbar": {
              "outlinewidth": 0,
              "ticks": ""
             }
            },
            "type": "parcoords"
           }
          ],
          "pie": [
           {
            "automargin": true,
            "type": "pie"
           }
          ],
          "scatter": [
           {
            "fillpattern": {
             "fillmode": "overlay",
             "size": 10,
             "solidity": 0.2
            },
            "type": "scatter"
           }
          ],
          "scatter3d": [
           {
            "line": {
             "colorbar": {
              "outlinewidth": 0,
              "ticks": ""
             }
            },
            "marker": {
             "colorbar": {
              "outlinewidth": 0,
              "ticks": ""
             }
            },
            "type": "scatter3d"
           }
          ],
          "scattercarpet": [
           {
            "marker": {
             "colorbar": {
              "outlinewidth": 0,
              "ticks": ""
             }
            },
            "type": "scattercarpet"
           }
          ],
          "scattergeo": [
           {
            "marker": {
             "colorbar": {
              "outlinewidth": 0,
              "ticks": ""
             }
            },
            "type": "scattergeo"
           }
          ],
          "scattergl": [
           {
            "marker": {
             "colorbar": {
              "outlinewidth": 0,
              "ticks": ""
             }
            },
            "type": "scattergl"
           }
          ],
          "scattermapbox": [
           {
            "marker": {
             "colorbar": {
              "outlinewidth": 0,
              "ticks": ""
             }
            },
            "type": "scattermapbox"
           }
          ],
          "scatterpolar": [
           {
            "marker": {
             "colorbar": {
              "outlinewidth": 0,
              "ticks": ""
             }
            },
            "type": "scatterpolar"
           }
          ],
          "scatterpolargl": [
           {
            "marker": {
             "colorbar": {
              "outlinewidth": 0,
              "ticks": ""
             }
            },
            "type": "scatterpolargl"
           }
          ],
          "scatterternary": [
           {
            "marker": {
             "colorbar": {
              "outlinewidth": 0,
              "ticks": ""
             }
            },
            "type": "scatterternary"
           }
          ],
          "surface": [
           {
            "colorbar": {
             "outlinewidth": 0,
             "ticks": ""
            },
            "colorscale": [
             [
              0,
              "#0d0887"
             ],
             [
              0.1111111111111111,
              "#46039f"
             ],
             [
              0.2222222222222222,
              "#7201a8"
             ],
             [
              0.3333333333333333,
              "#9c179e"
             ],
             [
              0.4444444444444444,
              "#bd3786"
             ],
             [
              0.5555555555555556,
              "#d8576b"
             ],
             [
              0.6666666666666666,
              "#ed7953"
             ],
             [
              0.7777777777777778,
              "#fb9f3a"
             ],
             [
              0.8888888888888888,
              "#fdca26"
             ],
             [
              1,
              "#f0f921"
             ]
            ],
            "type": "surface"
           }
          ],
          "table": [
           {
            "cells": {
             "fill": {
              "color": "#EBF0F8"
             },
             "line": {
              "color": "white"
             }
            },
            "header": {
             "fill": {
              "color": "#C8D4E3"
             },
             "line": {
              "color": "white"
             }
            },
            "type": "table"
           }
          ]
         },
         "layout": {
          "annotationdefaults": {
           "arrowcolor": "#2a3f5f",
           "arrowhead": 0,
           "arrowwidth": 1
          },
          "autotypenumbers": "strict",
          "coloraxis": {
           "colorbar": {
            "outlinewidth": 0,
            "ticks": ""
           }
          },
          "colorscale": {
           "diverging": [
            [
             0,
             "#8e0152"
            ],
            [
             0.1,
             "#c51b7d"
            ],
            [
             0.2,
             "#de77ae"
            ],
            [
             0.3,
             "#f1b6da"
            ],
            [
             0.4,
             "#fde0ef"
            ],
            [
             0.5,
             "#f7f7f7"
            ],
            [
             0.6,
             "#e6f5d0"
            ],
            [
             0.7,
             "#b8e186"
            ],
            [
             0.8,
             "#7fbc41"
            ],
            [
             0.9,
             "#4d9221"
            ],
            [
             1,
             "#276419"
            ]
           ],
           "sequential": [
            [
             0,
             "#0d0887"
            ],
            [
             0.1111111111111111,
             "#46039f"
            ],
            [
             0.2222222222222222,
             "#7201a8"
            ],
            [
             0.3333333333333333,
             "#9c179e"
            ],
            [
             0.4444444444444444,
             "#bd3786"
            ],
            [
             0.5555555555555556,
             "#d8576b"
            ],
            [
             0.6666666666666666,
             "#ed7953"
            ],
            [
             0.7777777777777778,
             "#fb9f3a"
            ],
            [
             0.8888888888888888,
             "#fdca26"
            ],
            [
             1,
             "#f0f921"
            ]
           ],
           "sequentialminus": [
            [
             0,
             "#0d0887"
            ],
            [
             0.1111111111111111,
             "#46039f"
            ],
            [
             0.2222222222222222,
             "#7201a8"
            ],
            [
             0.3333333333333333,
             "#9c179e"
            ],
            [
             0.4444444444444444,
             "#bd3786"
            ],
            [
             0.5555555555555556,
             "#d8576b"
            ],
            [
             0.6666666666666666,
             "#ed7953"
            ],
            [
             0.7777777777777778,
             "#fb9f3a"
            ],
            [
             0.8888888888888888,
             "#fdca26"
            ],
            [
             1,
             "#f0f921"
            ]
           ]
          },
          "colorway": [
           "#636efa",
           "#EF553B",
           "#00cc96",
           "#ab63fa",
           "#FFA15A",
           "#19d3f3",
           "#FF6692",
           "#B6E880",
           "#FF97FF",
           "#FECB52"
          ],
          "font": {
           "color": "#2a3f5f"
          },
          "geo": {
           "bgcolor": "white",
           "lakecolor": "white",
           "landcolor": "#E5ECF6",
           "showlakes": true,
           "showland": true,
           "subunitcolor": "white"
          },
          "hoverlabel": {
           "align": "left"
          },
          "hovermode": "closest",
          "mapbox": {
           "style": "light"
          },
          "paper_bgcolor": "white",
          "plot_bgcolor": "#E5ECF6",
          "polar": {
           "angularaxis": {
            "gridcolor": "white",
            "linecolor": "white",
            "ticks": ""
           },
           "bgcolor": "#E5ECF6",
           "radialaxis": {
            "gridcolor": "white",
            "linecolor": "white",
            "ticks": ""
           }
          },
          "scene": {
           "xaxis": {
            "backgroundcolor": "#E5ECF6",
            "gridcolor": "white",
            "gridwidth": 2,
            "linecolor": "white",
            "showbackground": true,
            "ticks": "",
            "zerolinecolor": "white"
           },
           "yaxis": {
            "backgroundcolor": "#E5ECF6",
            "gridcolor": "white",
            "gridwidth": 2,
            "linecolor": "white",
            "showbackground": true,
            "ticks": "",
            "zerolinecolor": "white"
           },
           "zaxis": {
            "backgroundcolor": "#E5ECF6",
            "gridcolor": "white",
            "gridwidth": 2,
            "linecolor": "white",
            "showbackground": true,
            "ticks": "",
            "zerolinecolor": "white"
           }
          },
          "shapedefaults": {
           "line": {
            "color": "#2a3f5f"
           }
          },
          "ternary": {
           "aaxis": {
            "gridcolor": "white",
            "linecolor": "white",
            "ticks": ""
           },
           "baxis": {
            "gridcolor": "white",
            "linecolor": "white",
            "ticks": ""
           },
           "bgcolor": "#E5ECF6",
           "caxis": {
            "gridcolor": "white",
            "linecolor": "white",
            "ticks": ""
           }
          },
          "title": {
           "x": 0.05
          },
          "xaxis": {
           "automargin": true,
           "gridcolor": "white",
           "linecolor": "white",
           "ticks": "",
           "title": {
            "standoff": 15
           },
           "zerolinecolor": "white",
           "zerolinewidth": 2
          },
          "yaxis": {
           "automargin": true,
           "gridcolor": "white",
           "linecolor": "white",
           "ticks": "",
           "title": {
            "standoff": 15
           },
           "zerolinecolor": "white",
           "zerolinewidth": 2
          }
         }
        },
        "title": {
         "text": "Historical beervolumes for [1, 2] IDs"
        },
        "xaxis": {
         "anchor": "y",
         "domain": [
          0,
          1
         ],
         "title": {
          "text": "Date"
         }
        },
        "yaxis": {
         "anchor": "x",
         "domain": [
          0,
          1
         ],
         "title": {
          "text": "beervolume"
         }
        }
       }
      }
     },
     "metadata": {},
     "output_type": "display_data"
    }
   ],
   "source": [
    "plot_historical_id([1,2], data_generated)"
   ]
  },
  {
   "cell_type": "markdown",
   "id": "c83e00ef",
   "metadata": {},
   "source": [
    "## <span style=\"color:#ff5f27\"> 👮🏻‍♂️ Beer Volume data validation using Great Expectations</span>\n",
    "\n",
    "In order to make sure that the generated data is in the right format, we will be running the generated synthetic data through an \"Expectation Suite\" that is part of the \"Great Expectations\" framework (see [over here](https://github.com/great-expectations/great_expectations) for more info) that is part of [Hopsworks](www.hopsworks.ai)."
   ]
  },
  {
   "cell_type": "code",
   "execution_count": 5,
   "id": "4d644fc1",
   "metadata": {},
   "outputs": [],
   "source": [
    "# Convert the generated historical data DataFrame to a Great Expectations DataFrame\n",
    "ge_beervolume_df = ge.from_pandas(data_generated)\n",
    "\n",
    "# Retrieve the expectation suite associated with the ge DataFrame\n",
    "expectation_suite_beervolume = ge_beervolume_df.get_expectation_suite()\n",
    "\n",
    "# Set the expectation suite name to \"beervolume_suite\"\n",
    "expectation_suite_beervolume.expectation_suite_name = \"beervolume_suite\""
   ]
  },
  {
   "cell_type": "markdown",
   "metadata": {},
   "source": [
    "Now that we have the \"Expectation Suite\", we can add specific \"Expectations\" to that suite: every parameter that we generated will have comply with a specific expectation."
   ]
  },
  {
   "cell_type": "code",
   "execution_count": 6,
   "id": "21ea95d9",
   "metadata": {},
   "outputs": [],
   "source": [
    "# Add expectation for the 'id' column values to be between 0 and 5000\n",
    "expectation_suite_beervolume.add_expectation(\n",
    "    ExpectationConfiguration(\n",
    "        expectation_type=\"expect_column_values_to_be_between\",\n",
    "        kwargs={\n",
    "            \"column\": \"id\",\n",
    "            \"min_value\": 0,\n",
    "            \"max_value\": 5000,\n",
    "        }\n",
    "    )\n",
    ")\n",
    "\n",
    "# Add expectation for the 'beervolume' column values to be between 0 and 1000\n",
    "expectation_suite_beervolume.add_expectation(\n",
    "    ExpectationConfiguration(\n",
    "        expectation_type=\"expect_column_values_to_be_between\",\n",
    "        kwargs={\n",
    "            \"column\": \"beervolume\",\n",
    "            \"min_value\": 0,\n",
    "            \"max_value\": 1000,\n",
    "        }\n",
    "    )\n",
    ")\n",
    "\n",
    "# Loop through specified columns ('date', 'id', 'beervolume') and add expectations for null values\n",
    "for column in ['date', 'id', 'beervolume']:\n",
    "    expectation_suite_beervolume.add_expectation(\n",
    "        ExpectationConfiguration(\n",
    "            expectation_type=\"expect_column_values_to_be_null\",\n",
    "            kwargs={\n",
    "                \"column\": column,\n",
    "                \"mostly\": 0.0,\n",
    "            }\n",
    "        )\n",
    "    )\n"
   ]
  },
  {
   "cell_type": "markdown",
   "id": "6148b5e6",
   "metadata": {},
   "source": [
    "## <span style=\"color:#ff5f27\">🔮 Connect to Hopsworks Feature Store </span>\n",
    "As we have already installed Hopsworks in a previous cell, all we now need to do is import the library into this notebook, and start establishing the connection to the Hopsworks feature store."
   ]
  },
  {
   "cell_type": "code",
   "execution_count": 7,
   "id": "e8d98244",
   "metadata": {},
   "outputs": [
    {
     "name": "stdout",
     "output_type": "stream",
     "text": [
      "Connected. Call `.close()` to terminate connection gracefully.\n"
     ]
    }
   ],
   "source": [
    "import hopsworks\n",
    "\n",
    "#To connect to Managed:\n",
    "import hsfs\n",
    "conn = hsfs.connection(\n",
    "    host=\"172f2800-9e76-11ee-ba4c-277d56d9f8e7.cloud.hopsworks.ai\",                                # DNS of your Feature Store instance\n",
    "    project=\"RixBeervolumeDemo\",                      # Name of your Hopsworks Feature Store project\n",
    "    hostname_verification=False,                     # Disable for self-signed certificates\n",
    "    api_key_value=\"Q0sPuOSFpsuwdIa0.pfBCpgAAnPr3C3J49BvEdeJvfoqTkwQihEotXupzz23FPzDdJpexwHmXyRB8ACDf\"          # Feature store API key value \n",
    ")\n",
    "fs = conn.get_feature_store()           # Get the project's default feature store\"\n",
    "\n",
    "#To connect to Serverless:\n",
    "#import hopsworks\n",
    "#project = hopsworks.login()\n",
    "#fs = project.get_feature_store() \n",
    "\n"
   ]
  },
  {
   "cell_type": "markdown",
   "metadata": {},
   "source": [
    "Now that we have a connection to the feature store (called `fs`) we can start working with it in the notebook. Specifically, we first want to start creating feature groups for our Beer Consumption machine learning assignment."
   ]
  },
  {
   "cell_type": "markdown",
   "id": "9471bceb",
   "metadata": {},
   "source": [
    "## <span style=\"color:#ff5f27\">🪄 Creating the **beervolume** Feature Group </span>\n",
    "Based on the synthetic data that we generated in previous notebook cells, we are now going to create the first feature group for our Beer Volume dataset."
   ]
  },
  {
   "cell_type": "code",
   "execution_count": 8,
   "id": "b13b302d",
   "metadata": {},
   "outputs": [
    {
     "name": "stdout",
     "output_type": "stream",
     "text": [
      "Feature Group created successfully, explore it at \n",
      "https://172f2800-9e76-11ee-ba4c-277d56d9f8e7.cloud.hopsworks.ai:443/p/120/fs/68/fg/19\n",
      "Validation succeeded.\n",
      "Validation Report saved successfully, explore a summary at https://172f2800-9e76-11ee-ba4c-277d56d9f8e7.cloud.hopsworks.ai:443/p/120/fs/68/fg/19\n"
     ]
    },
    {
     "data": {
      "application/vnd.jupyter.widget-view+json": {
       "model_id": "598494ee2e59440093efb5543b3728df",
       "version_major": 2,
       "version_minor": 0
      },
      "text/plain": [
       "Uploading Dataframe: 0.00% |          | Rows 0/545209 | Elapsed Time: 00:00 | Remaining Time: ?"
      ]
     },
     "metadata": {},
     "output_type": "display_data"
    },
    {
     "name": "stdout",
     "output_type": "stream",
     "text": [
      "Launching job: beervolume_1_offline_fg_materialization\n",
      "Job started successfully, you can follow the progress at \n",
      "https://172f2800-9e76-11ee-ba4c-277d56d9f8e7.cloud.hopsworks.ai/p/120/jobs/named/beervolume_1_offline_fg_materialization/executions\n"
     ]
    },
    {
     "data": {
      "text/plain": [
       "(<hsfs.core.job.Job at 0x15ac097d0>,\n",
       " {\n",
       "   \"meta\": {\n",
       "     \"great_expectations_version\": \"0.15.12\",\n",
       "     \"expectation_suite_name\": \"beervolume_suite\",\n",
       "     \"run_id\": {\n",
       "       \"run_name\": null,\n",
       "       \"run_time\": \"2023-12-20T14:56:36.158236+00:00\"\n",
       "     },\n",
       "     \"batch_kwargs\": {\n",
       "       \"ge_batch_id\": \"f8d969ba-9f47-11ee-bd9d-a2df1663ba56\"\n",
       "     },\n",
       "     \"batch_markers\": {},\n",
       "     \"batch_parameters\": {},\n",
       "     \"validation_time\": \"20231220T145636.157843Z\",\n",
       "     \"expectation_suite_meta\": {\n",
       "       \"great_expectations_version\": \"0.15.12\"\n",
       "     }\n",
       "   },\n",
       "   \"results\": [\n",
       "     {\n",
       "       \"meta\": {\n",
       "         \"ingestionResult\": \"INGESTED\",\n",
       "         \"validationTime\": \"2023-12-20T02:56:36.000157Z\"\n",
       "       },\n",
       "       \"exception_info\": {\n",
       "         \"raised_exception\": false,\n",
       "         \"exception_message\": null,\n",
       "         \"exception_traceback\": null\n",
       "       },\n",
       "       \"expectation_config\": {\n",
       "         \"meta\": {\n",
       "           \"expectationId\": 19\n",
       "         },\n",
       "         \"kwargs\": {\n",
       "           \"column\": \"id\",\n",
       "           \"mostly\": 0.0\n",
       "         },\n",
       "         \"expectation_type\": \"expect_column_values_to_be_null\"\n",
       "       },\n",
       "       \"success\": true,\n",
       "       \"result\": {\n",
       "         \"element_count\": 545209,\n",
       "         \"unexpected_count\": 545209,\n",
       "         \"unexpected_percent\": 100.0,\n",
       "         \"unexpected_percent_total\": 100.0,\n",
       "         \"partial_unexpected_list\": []\n",
       "       }\n",
       "     },\n",
       "     {\n",
       "       \"meta\": {\n",
       "         \"ingestionResult\": \"INGESTED\",\n",
       "         \"validationTime\": \"2023-12-20T02:56:36.000157Z\"\n",
       "       },\n",
       "       \"exception_info\": {\n",
       "         \"raised_exception\": false,\n",
       "         \"exception_message\": null,\n",
       "         \"exception_traceback\": null\n",
       "       },\n",
       "       \"expectation_config\": {\n",
       "         \"meta\": {\n",
       "           \"expectationId\": 17\n",
       "         },\n",
       "         \"kwargs\": {\n",
       "           \"column\": \"id\",\n",
       "           \"min_value\": 0,\n",
       "           \"max_value\": 5000\n",
       "         },\n",
       "         \"expectation_type\": \"expect_column_values_to_be_between\"\n",
       "       },\n",
       "       \"success\": true,\n",
       "       \"result\": {\n",
       "         \"element_count\": 545209,\n",
       "         \"missing_count\": 0,\n",
       "         \"missing_percent\": 0.0,\n",
       "         \"unexpected_count\": 0,\n",
       "         \"unexpected_percent\": 0.0,\n",
       "         \"unexpected_percent_total\": 0.0,\n",
       "         \"unexpected_percent_nonmissing\": 0.0,\n",
       "         \"partial_unexpected_list\": []\n",
       "       }\n",
       "     },\n",
       "     {\n",
       "       \"meta\": {\n",
       "         \"ingestionResult\": \"INGESTED\",\n",
       "         \"validationTime\": \"2023-12-20T02:56:36.000157Z\"\n",
       "       },\n",
       "       \"exception_info\": {\n",
       "         \"raised_exception\": false,\n",
       "         \"exception_message\": null,\n",
       "         \"exception_traceback\": null\n",
       "       },\n",
       "       \"expectation_config\": {\n",
       "         \"meta\": {\n",
       "           \"expectationId\": 16\n",
       "         },\n",
       "         \"kwargs\": {\n",
       "           \"column\": \"beervolume\",\n",
       "           \"mostly\": 0.0\n",
       "         },\n",
       "         \"expectation_type\": \"expect_column_values_to_be_null\"\n",
       "       },\n",
       "       \"success\": true,\n",
       "       \"result\": {\n",
       "         \"element_count\": 545209,\n",
       "         \"unexpected_count\": 545209,\n",
       "         \"unexpected_percent\": 100.0,\n",
       "         \"unexpected_percent_total\": 100.0,\n",
       "         \"partial_unexpected_list\": []\n",
       "       }\n",
       "     },\n",
       "     {\n",
       "       \"meta\": {\n",
       "         \"ingestionResult\": \"INGESTED\",\n",
       "         \"validationTime\": \"2023-12-20T02:56:36.000157Z\"\n",
       "       },\n",
       "       \"exception_info\": {\n",
       "         \"raised_exception\": false,\n",
       "         \"exception_message\": null,\n",
       "         \"exception_traceback\": null\n",
       "       },\n",
       "       \"expectation_config\": {\n",
       "         \"meta\": {\n",
       "           \"expectationId\": 18\n",
       "         },\n",
       "         \"kwargs\": {\n",
       "           \"column\": \"beervolume\",\n",
       "           \"min_value\": 0,\n",
       "           \"max_value\": 1000\n",
       "         },\n",
       "         \"expectation_type\": \"expect_column_values_to_be_between\"\n",
       "       },\n",
       "       \"success\": true,\n",
       "       \"result\": {\n",
       "         \"element_count\": 545209,\n",
       "         \"missing_count\": 0,\n",
       "         \"missing_percent\": 0.0,\n",
       "         \"unexpected_count\": 0,\n",
       "         \"unexpected_percent\": 0.0,\n",
       "         \"unexpected_percent_total\": 0.0,\n",
       "         \"unexpected_percent_nonmissing\": 0.0,\n",
       "         \"partial_unexpected_list\": []\n",
       "       }\n",
       "     },\n",
       "     {\n",
       "       \"meta\": {\n",
       "         \"ingestionResult\": \"INGESTED\",\n",
       "         \"validationTime\": \"2023-12-20T02:56:36.000157Z\"\n",
       "       },\n",
       "       \"exception_info\": {\n",
       "         \"raised_exception\": false,\n",
       "         \"exception_message\": null,\n",
       "         \"exception_traceback\": null\n",
       "       },\n",
       "       \"expectation_config\": {\n",
       "         \"meta\": {\n",
       "           \"expectationId\": 20\n",
       "         },\n",
       "         \"kwargs\": {\n",
       "           \"column\": \"date\",\n",
       "           \"mostly\": 0.0\n",
       "         },\n",
       "         \"expectation_type\": \"expect_column_values_to_be_null\"\n",
       "       },\n",
       "       \"success\": true,\n",
       "       \"result\": {\n",
       "         \"element_count\": 545209,\n",
       "         \"unexpected_count\": 545209,\n",
       "         \"unexpected_percent\": 100.0,\n",
       "         \"unexpected_percent_total\": 100.0,\n",
       "         \"partial_unexpected_list\": []\n",
       "       }\n",
       "     }\n",
       "   ],\n",
       "   \"success\": true,\n",
       "   \"statistics\": {\n",
       "     \"evaluated_expectations\": 5,\n",
       "     \"successful_expectations\": 5,\n",
       "     \"unsuccessful_expectations\": 0,\n",
       "     \"success_percent\": 100.0\n",
       "   },\n",
       "   \"evaluation_parameters\": {}\n",
       " })"
      ]
     },
     "execution_count": 8,
     "metadata": {},
     "output_type": "execute_result"
    }
   ],
   "source": [
    "# Get or create the 'beervolume' feature group\n",
    "beervolume_fg = fs.get_or_create_feature_group(\n",
    "    name='beervolume',\n",
    "    description='Beer Volume Consumption Data',\n",
    "    version=1,\n",
    "    primary_key=['id'],\n",
    "    event_time='date',\n",
    "    online_enabled=True,\n",
    "    expectation_suite=expectation_suite_beervolume,\n",
    ")    \n",
    "# Insert data\n",
    "beervolume_fg.insert(data_generated,write_options={\"wait\":True})"
   ]
  },
  {
   "cell_type": "markdown",
   "metadata": {},
   "source": [
    "Now that this is done, we can move on to creating derived features that we will _engineer_ from the featuregroup above."
   ]
  },
  {
   "cell_type": "markdown",
   "id": "b7ad450b",
   "metadata": {},
   "source": [
    "## <span style=\"color:#ff5f27\">⚙️ **beervolume** Feature Engineering  </span>\n",
    "\n",
    "In order to make predictions around the volume of the consumption of beer that our hypothetical bar owner needs to take into account, we actually want to calculate a set of derived features that will be meaningful input to our prediction pipelines later on. We will therefore *engineer* the following features:\n",
    "\n",
    "- `ma_7`: This feature represents the **7-day moving average** of the 'beervolume' data, providing a smoothed representation of short-term beervolume trends.\n",
    "\n",
    "- `ma_14`: This feature represents the **14-day moving average** of the 'beervolume' data, offering a slightly longer-term smoothed beervolume trend.\n",
    "\n",
    "- `ma_30`: This feature represents the **30-day moving average** of the 'beervolume' data, providing a longer-term smoothed representation of beervolume trends.\n",
    "\n",
    "- `daily_rate_of_change`: This feature calculates the **daily rate of change** in beer volumes as a percentage change, indicating how much the beervolume has changed from the previous day.\n",
    "\n",
    "- `volatility_30_day`: This feature measures the **volatility of beer volume over a 30-day window** using the standard deviation. Higher values indicate greater beer volume fluctuations.\n",
    "\n",
    "- `ema_02`: This feature calculates the **exponential moving average (EMA)** of 'beervolume' with a _smoothing factor of 0.2_, giving more weight to recent data points in the calculation.\n",
    "\n",
    "- `ema_05`: Similar to ema_02, this feature calculates the **EMA of 'beer volume'** with a _smoothing factor of 0.5_, providing a different degree of responsiveness to recent data.\n",
    "\n",
    "- `rsi`: The **Relative Strength Index (RSI)** is a momentum oscillator that measures the speed and change of beer volume movements. It ranges from 0 to 100, with values above 70 indicating higher-than-normal beervolume and values below 30 indicating lower-than-normal beervolume."
   ]
  },
  {
   "cell_type": "code",
   "execution_count": 9,
   "id": "d3123547",
   "metadata": {},
   "outputs": [
    {
     "data": {
      "text/html": [
       "<div>\n",
       "<style scoped>\n",
       "    .dataframe tbody tr th:only-of-type {\n",
       "        vertical-align: middle;\n",
       "    }\n",
       "\n",
       "    .dataframe tbody tr th {\n",
       "        vertical-align: top;\n",
       "    }\n",
       "\n",
       "    .dataframe thead th {\n",
       "        text-align: right;\n",
       "    }\n",
       "</style>\n",
       "<table border=\"1\" class=\"dataframe\">\n",
       "  <thead>\n",
       "    <tr style=\"text-align: right;\">\n",
       "      <th></th>\n",
       "      <th>date</th>\n",
       "      <th>id</th>\n",
       "      <th>beervolume</th>\n",
       "    </tr>\n",
       "  </thead>\n",
       "  <tbody>\n",
       "    <tr>\n",
       "      <th>0</th>\n",
       "      <td>2023-12-20</td>\n",
       "      <td>1538</td>\n",
       "      <td>216.2</td>\n",
       "    </tr>\n",
       "    <tr>\n",
       "      <th>1</th>\n",
       "      <td>2023-12-20</td>\n",
       "      <td>21</td>\n",
       "      <td>228.1</td>\n",
       "    </tr>\n",
       "    <tr>\n",
       "      <th>2</th>\n",
       "      <td>2023-12-19</td>\n",
       "      <td>4032</td>\n",
       "      <td>230.1</td>\n",
       "    </tr>\n",
       "  </tbody>\n",
       "</table>\n",
       "</div>"
      ],
      "text/plain": [
       "         date    id  beervolume\n",
       "0  2023-12-20  1538       216.2\n",
       "1  2023-12-20    21       228.1\n",
       "2  2023-12-19  4032       230.1"
      ]
     },
     "execution_count": 9,
     "metadata": {},
     "output_type": "execute_result"
    }
   ],
   "source": [
    "# Read the beer volume data from the 'beervolume' feature group\n",
    "beervolume_df = beervolume_fg.read(online=True)\n",
    "beervolume_df.head(3)"
   ]
  },
  {
   "cell_type": "code",
   "execution_count": 10,
   "id": "2b3f9bbe",
   "metadata": {},
   "outputs": [
    {
     "data": {
      "text/html": [
       "<div>\n",
       "<style scoped>\n",
       "    .dataframe tbody tr th:only-of-type {\n",
       "        vertical-align: middle;\n",
       "    }\n",
       "\n",
       "    .dataframe tbody tr th {\n",
       "        vertical-align: top;\n",
       "    }\n",
       "\n",
       "    .dataframe thead th {\n",
       "        text-align: right;\n",
       "    }\n",
       "</style>\n",
       "<table border=\"1\" class=\"dataframe\">\n",
       "  <thead>\n",
       "    <tr style=\"text-align: right;\">\n",
       "      <th></th>\n",
       "      <th></th>\n",
       "      <th>date</th>\n",
       "      <th>id</th>\n",
       "      <th>ma_7</th>\n",
       "      <th>ma_14</th>\n",
       "      <th>ma_30</th>\n",
       "      <th>daily_rate_of_change</th>\n",
       "      <th>volatility_30_day</th>\n",
       "      <th>ema_02</th>\n",
       "      <th>ema_05</th>\n",
       "      <th>rsi</th>\n",
       "    </tr>\n",
       "    <tr>\n",
       "      <th>id</th>\n",
       "      <th></th>\n",
       "      <th></th>\n",
       "      <th></th>\n",
       "      <th></th>\n",
       "      <th></th>\n",
       "      <th></th>\n",
       "      <th></th>\n",
       "      <th></th>\n",
       "      <th></th>\n",
       "      <th></th>\n",
       "      <th></th>\n",
       "    </tr>\n",
       "  </thead>\n",
       "  <tbody>\n",
       "    <tr>\n",
       "      <th rowspan=\"3\" valign=\"top\">0</th>\n",
       "      <th>12</th>\n",
       "      <td>2023-09-01</td>\n",
       "      <td>0</td>\n",
       "      <td>0.0</td>\n",
       "      <td>0.0</td>\n",
       "      <td>0.0</td>\n",
       "      <td>0.00000</td>\n",
       "      <td>0.0</td>\n",
       "      <td>200.000000</td>\n",
       "      <td>200.000000</td>\n",
       "      <td>0.0</td>\n",
       "    </tr>\n",
       "    <tr>\n",
       "      <th>7949</th>\n",
       "      <td>2023-09-02</td>\n",
       "      <td>0</td>\n",
       "      <td>0.0</td>\n",
       "      <td>0.0</td>\n",
       "      <td>0.0</td>\n",
       "      <td>0.80000</td>\n",
       "      <td>0.0</td>\n",
       "      <td>200.888889</td>\n",
       "      <td>201.066667</td>\n",
       "      <td>0.0</td>\n",
       "    </tr>\n",
       "    <tr>\n",
       "      <th>8755</th>\n",
       "      <td>2023-09-02</td>\n",
       "      <td>0</td>\n",
       "      <td>0.0</td>\n",
       "      <td>0.0</td>\n",
       "      <td>0.0</td>\n",
       "      <td>0.94246</td>\n",
       "      <td>0.0</td>\n",
       "      <td>201.959016</td>\n",
       "      <td>202.457143</td>\n",
       "      <td>0.0</td>\n",
       "    </tr>\n",
       "  </tbody>\n",
       "</table>\n",
       "</div>"
      ],
      "text/plain": [
       "              date  id  ma_7  ma_14  ma_30  daily_rate_of_change  \\\n",
       "id                                                                 \n",
       "0  12   2023-09-01   0   0.0    0.0    0.0               0.00000   \n",
       "   7949 2023-09-02   0   0.0    0.0    0.0               0.80000   \n",
       "   8755 2023-09-02   0   0.0    0.0    0.0               0.94246   \n",
       "\n",
       "         volatility_30_day      ema_02      ema_05  rsi  \n",
       "id                                                       \n",
       "0  12                  0.0  200.000000  200.000000  0.0  \n",
       "   7949                0.0  200.888889  201.066667  0.0  \n",
       "   8755                0.0  201.959016  202.457143  0.0  "
      ]
     },
     "execution_count": 10,
     "metadata": {},
     "output_type": "execute_result"
    }
   ],
   "source": [
    "# Calculate second-order features\n",
    "#beervolume_averages_df = calculate_second_order_features(beervolume_df)\n",
    "beervolume_averages_df = calculate_second_order_features(data_generated)\n",
    "\n",
    "# Display the first 3 rows of the resulting DataFrame\n",
    "beervolume_averages_df.head(3)"
   ]
  },
  {
   "cell_type": "markdown",
   "id": "b8496432",
   "metadata": {},
   "source": [
    "## <span style=\"color:#ff5f27\">🪄 Creating feature groups for the newly engineered features </span>\n",
    "\n",
    "Now that we have the newly engineered features calculated, we will add them to a separate set of Hopsworks Feature Groups:"
   ]
  },
  {
   "cell_type": "code",
   "execution_count": 11,
   "id": "e4c0dbab",
   "metadata": {},
   "outputs": [
    {
     "name": "stdout",
     "output_type": "stream",
     "text": [
      "Feature Group created successfully, explore it at \n",
      "https://172f2800-9e76-11ee-ba4c-277d56d9f8e7.cloud.hopsworks.ai:443/p/120/fs/68/fg/20\n"
     ]
    },
    {
     "data": {
      "application/vnd.jupyter.widget-view+json": {
       "model_id": "3c38f093db654212b5e920419b5e82bd",
       "version_major": 2,
       "version_minor": 0
      },
      "text/plain": [
       "Uploading Dataframe: 0.00% |          | Rows 0/545209 | Elapsed Time: 00:00 | Remaining Time: ?"
      ]
     },
     "metadata": {},
     "output_type": "display_data"
    },
    {
     "name": "stdout",
     "output_type": "stream",
     "text": [
      "Launching job: beervolume_averages_1_offline_fg_materialization\n",
      "Job started successfully, you can follow the progress at \n",
      "https://172f2800-9e76-11ee-ba4c-277d56d9f8e7.cloud.hopsworks.ai/p/120/jobs/named/beervolume_averages_1_offline_fg_materialization/executions\n"
     ]
    },
    {
     "data": {
      "text/plain": [
       "(<hsfs.core.job.Job at 0x1618ccbd0>, None)"
      ]
     },
     "execution_count": 11,
     "metadata": {},
     "output_type": "execute_result"
    }
   ],
   "source": [
    "# Get or create the 'averages' feature group\n",
    "beervolume_averages_fg = fs.get_or_create_feature_group(\n",
    "    name='beervolume_averages',\n",
    "    description='Calculated second beervolume order features',\n",
    "    version=1,\n",
    "    primary_key=['id'],\n",
    "    event_time='date',\n",
    "    online_enabled=True,\n",
    "    parents=[beervolume_fg],\n",
    ")\n",
    "# Insert data\n",
    "beervolume_averages_fg.insert(beervolume_averages_df)"
   ]
  },
  {
   "cell_type": "markdown",
   "id": "6fdf0327",
   "metadata": {},
   "source": [
    "---"
   ]
  }
 ],
 "metadata": {
  "kernelspec": {
   "display_name": "Python 3 (ipykernel)",
   "language": "python",
   "name": "python3"
  },
  "language_info": {
   "codemirror_mode": {
    "name": "ipython",
    "version": 3
   },
   "file_extension": ".py",
   "mimetype": "text/x-python",
   "name": "python",
   "nbconvert_exporter": "python",
   "pygments_lexer": "ipython3",
   "version": "3.11.6"
  }
 },
 "nbformat": 4,
 "nbformat_minor": 5
}
