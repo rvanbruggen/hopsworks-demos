{
 "cells": [
  {
   "cell_type": "markdown",
   "metadata": {},
   "source": [
    "# BeerVolume Prediction Demo - Training Pipeline (2)\n",
    "\n",
    "This is the seocnd part of a short demonstration of how you can use Hopsworks for creating a Machine Learning System that creates predictions. The hypothetical use case is that of a **bar owner** who would want to predict how much beer will be consumed in his bar, based on past trends and behaviour.\n",
    "\n",
    "![](https://lh3.googleusercontent.com/blogger_img_proxy/ALY8t1uqu0YUTdfoFJYGV2r9a2iHEewpP3daVa9J3qzCzV3rZm8EX8YyhHhOHbfG450AhHYQXu6Hgf8pj2fTpSzg4uio4X_qv9TTEfMnEtO6rYLevnGBxF6sO97tGeYyzaAkGSyVBnw8WtWS1P_2RLY=s0-d)\n",
    "\n",
    "In this second part of the Machine Learning system that we are creating, we are going to focus on the **Training Pipeline** required to make the predictions that we want."
   ]
  },
  {
   "cell_type": "markdown",
   "id": "83dd6e7e",
   "metadata": {},
   "source": [
    "## <span style=\"color:#ff5f27\">📝 Code Library Imports and installations</span>"
   ]
  },
  {
   "cell_type": "markdown",
   "metadata": {},
   "source": [
    "### Installing Supporting libraries\n",
    "We also need to install the Kaleido libraries so that we can use these during our notebook exploration:"
   ]
  },
  {
   "cell_type": "code",
   "execution_count": 1,
   "id": "5c5b0a68",
   "metadata": {},
   "outputs": [
    {
     "name": "stdout",
     "output_type": "stream",
     "text": [
      "Requirement already satisfied: kaleido in /Users/rvanbruggen/.pyenv/versions/3.11.6/lib/python3.11/site-packages (0.2.1)\n",
      "Requirement already satisfied: sklearn in /Users/rvanbruggen/.pyenv/versions/3.11.6/lib/python3.11/site-packages (0.0.post12)\n",
      "Requirement already satisfied: hopsworks==3.5.0rc1 in /Users/rvanbruggen/.pyenv/versions/3.11.6/lib/python3.11/site-packages (3.5.0rc1)\n",
      "Requirement already satisfied: hsfs~=3.5.0rc0 in /Users/rvanbruggen/.pyenv/versions/3.11.6/lib/python3.11/site-packages (from hsfs[python]~=3.5.0rc0->hopsworks==3.5.0rc1) (3.5.0rc4)\n",
      "Requirement already satisfied: hsml~=3.5.0rc0 in /Users/rvanbruggen/.pyenv/versions/3.11.6/lib/python3.11/site-packages (from hopsworks==3.5.0rc1) (3.5.0rc0)\n",
      "Requirement already satisfied: pyhumps==1.6.1 in /Users/rvanbruggen/.pyenv/versions/3.11.6/lib/python3.11/site-packages (from hopsworks==3.5.0rc1) (1.6.1)\n",
      "Requirement already satisfied: requests in /Users/rvanbruggen/.pyenv/versions/3.11.6/lib/python3.11/site-packages (from hopsworks==3.5.0rc1) (2.31.0)\n",
      "Requirement already satisfied: furl in /Users/rvanbruggen/.pyenv/versions/3.11.6/lib/python3.11/site-packages (from hopsworks==3.5.0rc1) (2.1.3)\n",
      "Requirement already satisfied: boto3 in /Users/rvanbruggen/.pyenv/versions/3.11.6/lib/python3.11/site-packages (from hopsworks==3.5.0rc1) (1.28.83)\n",
      "Requirement already satisfied: pyjks in /Users/rvanbruggen/.pyenv/versions/3.11.6/lib/python3.11/site-packages (from hopsworks==3.5.0rc1) (20.0.0)\n",
      "Requirement already satisfied: mock in /Users/rvanbruggen/.pyenv/versions/3.11.6/lib/python3.11/site-packages (from hopsworks==3.5.0rc1) (5.1.0)\n",
      "Requirement already satisfied: tqdm in /Users/rvanbruggen/.pyenv/versions/3.11.6/lib/python3.11/site-packages (from hopsworks==3.5.0rc1) (4.66.1)\n",
      "Requirement already satisfied: pandas<2.1.0 in /Users/rvanbruggen/.pyenv/versions/3.11.6/lib/python3.11/site-packages (from hsfs~=3.5.0rc0->hsfs[python]~=3.5.0rc0->hopsworks==3.5.0rc1) (2.0.3)\n",
      "Requirement already satisfied: numpy<2 in /Users/rvanbruggen/.pyenv/versions/3.11.6/lib/python3.11/site-packages (from hsfs~=3.5.0rc0->hsfs[python]~=3.5.0rc0->hopsworks==3.5.0rc1) (1.26.1)\n",
      "Requirement already satisfied: avro==1.11.3 in /Users/rvanbruggen/.pyenv/versions/3.11.6/lib/python3.11/site-packages (from hsfs~=3.5.0rc0->hsfs[python]~=3.5.0rc0->hopsworks==3.5.0rc1) (1.11.3)\n",
      "Requirement already satisfied: sqlalchemy in /Users/rvanbruggen/.pyenv/versions/3.11.6/lib/python3.11/site-packages (from hsfs~=3.5.0rc0->hsfs[python]~=3.5.0rc0->hopsworks==3.5.0rc1) (2.0.23)\n",
      "Requirement already satisfied: PyMySQL[rsa] in /Users/rvanbruggen/.pyenv/versions/3.11.6/lib/python3.11/site-packages (from hsfs~=3.5.0rc0->hsfs[python]~=3.5.0rc0->hopsworks==3.5.0rc1) (1.1.0)\n",
      "Requirement already satisfied: great-expectations==0.15.12 in /Users/rvanbruggen/.pyenv/versions/3.11.6/lib/python3.11/site-packages (from hsfs~=3.5.0rc0->hsfs[python]~=3.5.0rc0->hopsworks==3.5.0rc1) (0.15.12)\n",
      "Requirement already satisfied: markupsafe<2.1.0 in /Users/rvanbruggen/.pyenv/versions/3.11.6/lib/python3.11/site-packages (from hsfs~=3.5.0rc0->hsfs[python]~=3.5.0rc0->hopsworks==3.5.0rc1) (2.0.1)\n",
      "Requirement already satisfied: tzlocal in /Users/rvanbruggen/.pyenv/versions/3.11.6/lib/python3.11/site-packages (from hsfs~=3.5.0rc0->hsfs[python]~=3.5.0rc0->hopsworks==3.5.0rc1) (5.2)\n",
      "Requirement already satisfied: fsspec in /Users/rvanbruggen/.pyenv/versions/3.11.6/lib/python3.11/site-packages (from hsfs~=3.5.0rc0->hsfs[python]~=3.5.0rc0->hopsworks==3.5.0rc1) (2023.10.0)\n",
      "Requirement already satisfied: retrying in /Users/rvanbruggen/.pyenv/versions/3.11.6/lib/python3.11/site-packages (from hsfs~=3.5.0rc0->hsfs[python]~=3.5.0rc0->hopsworks==3.5.0rc1) (1.3.4)\n",
      "Requirement already satisfied: altair<5,>=4.0.0 in /Users/rvanbruggen/.pyenv/versions/3.11.6/lib/python3.11/site-packages (from great-expectations==0.15.12->hsfs~=3.5.0rc0->hsfs[python]~=3.5.0rc0->hopsworks==3.5.0rc1) (4.2.2)\n",
      "Requirement already satisfied: Click>=7.1.2 in /Users/rvanbruggen/.pyenv/versions/3.11.6/lib/python3.11/site-packages (from great-expectations==0.15.12->hsfs~=3.5.0rc0->hsfs[python]~=3.5.0rc0->hopsworks==3.5.0rc1) (8.1.7)\n",
      "Requirement already satisfied: colorama>=0.4.3 in /Users/rvanbruggen/.pyenv/versions/3.11.6/lib/python3.11/site-packages (from great-expectations==0.15.12->hsfs~=3.5.0rc0->hsfs[python]~=3.5.0rc0->hopsworks==3.5.0rc1) (0.4.6)\n",
      "Requirement already satisfied: cryptography>=3.2 in /Users/rvanbruggen/.pyenv/versions/3.11.6/lib/python3.11/site-packages (from great-expectations==0.15.12->hsfs~=3.5.0rc0->hsfs[python]~=3.5.0rc0->hopsworks==3.5.0rc1) (41.0.5)\n",
      "Requirement already satisfied: importlib-metadata>=1.7.0 in /Users/rvanbruggen/.pyenv/versions/3.11.6/lib/python3.11/site-packages (from great-expectations==0.15.12->hsfs~=3.5.0rc0->hsfs[python]~=3.5.0rc0->hopsworks==3.5.0rc1) (6.8.0)\n",
      "Requirement already satisfied: Ipython>=7.16.3 in /Users/rvanbruggen/.pyenv/versions/3.11.6/lib/python3.11/site-packages (from great-expectations==0.15.12->hsfs~=3.5.0rc0->hsfs[python]~=3.5.0rc0->hopsworks==3.5.0rc1) (8.17.2)\n",
      "Requirement already satisfied: jinja2>=2.10 in /Users/rvanbruggen/.pyenv/versions/3.11.6/lib/python3.11/site-packages (from great-expectations==0.15.12->hsfs~=3.5.0rc0->hsfs[python]~=3.5.0rc0->hopsworks==3.5.0rc1) (3.0.3)\n",
      "Requirement already satisfied: jsonpatch>=1.22 in /Users/rvanbruggen/.pyenv/versions/3.11.6/lib/python3.11/site-packages (from great-expectations==0.15.12->hsfs~=3.5.0rc0->hsfs[python]~=3.5.0rc0->hopsworks==3.5.0rc1) (1.33)\n",
      "Requirement already satisfied: jsonschema>=2.5.1 in /Users/rvanbruggen/.pyenv/versions/3.11.6/lib/python3.11/site-packages (from great-expectations==0.15.12->hsfs~=3.5.0rc0->hsfs[python]~=3.5.0rc0->hopsworks==3.5.0rc1) (4.19.2)\n",
      "Requirement already satisfied: mistune>=0.8.4 in /Users/rvanbruggen/.pyenv/versions/3.11.6/lib/python3.11/site-packages (from great-expectations==0.15.12->hsfs~=3.5.0rc0->hsfs[python]~=3.5.0rc0->hopsworks==3.5.0rc1) (3.0.2)\n",
      "Requirement already satisfied: nbformat>=5.0 in /Users/rvanbruggen/.pyenv/versions/3.11.6/lib/python3.11/site-packages (from great-expectations==0.15.12->hsfs~=3.5.0rc0->hsfs[python]~=3.5.0rc0->hopsworks==3.5.0rc1) (5.9.2)\n",
      "Requirement already satisfied: notebook>=6.4.10 in /Users/rvanbruggen/.pyenv/versions/3.11.6/lib/python3.11/site-packages (from great-expectations==0.15.12->hsfs~=3.5.0rc0->hsfs[python]~=3.5.0rc0->hopsworks==3.5.0rc1) (7.0.6)\n",
      "Requirement already satisfied: packaging in /Users/rvanbruggen/.pyenv/versions/3.11.6/lib/python3.11/site-packages (from great-expectations==0.15.12->hsfs~=3.5.0rc0->hsfs[python]~=3.5.0rc0->hopsworks==3.5.0rc1) (23.2)\n",
      "Requirement already satisfied: pyparsing<3,>=2.4 in /Users/rvanbruggen/.pyenv/versions/3.11.6/lib/python3.11/site-packages (from great-expectations==0.15.12->hsfs~=3.5.0rc0->hsfs[python]~=3.5.0rc0->hopsworks==3.5.0rc1) (2.4.7)\n",
      "Requirement already satisfied: python-dateutil>=2.8.1 in /Users/rvanbruggen/.pyenv/versions/3.11.6/lib/python3.11/site-packages (from great-expectations==0.15.12->hsfs~=3.5.0rc0->hsfs[python]~=3.5.0rc0->hopsworks==3.5.0rc1) (2.8.2)\n",
      "Requirement already satisfied: pytz>=2021.3 in /Users/rvanbruggen/.pyenv/versions/3.11.6/lib/python3.11/site-packages (from great-expectations==0.15.12->hsfs~=3.5.0rc0->hsfs[python]~=3.5.0rc0->hopsworks==3.5.0rc1) (2023.3.post1)\n",
      "Requirement already satisfied: ruamel.yaml<0.17.18,>=0.16 in /Users/rvanbruggen/.pyenv/versions/3.11.6/lib/python3.11/site-packages (from great-expectations==0.15.12->hsfs~=3.5.0rc0->hsfs[python]~=3.5.0rc0->hopsworks==3.5.0rc1) (0.17.17)\n",
      "Requirement already satisfied: scipy>=0.19.0 in /Users/rvanbruggen/.pyenv/versions/3.11.6/lib/python3.11/site-packages (from great-expectations==0.15.12->hsfs~=3.5.0rc0->hsfs[python]~=3.5.0rc0->hopsworks==3.5.0rc1) (1.11.3)\n",
      "Requirement already satisfied: termcolor>=1.1.0 in /Users/rvanbruggen/.pyenv/versions/3.11.6/lib/python3.11/site-packages (from great-expectations==0.15.12->hsfs~=3.5.0rc0->hsfs[python]~=3.5.0rc0->hopsworks==3.5.0rc1) (2.3.0)\n",
      "Requirement already satisfied: typing-extensions>=3.10.0.0 in /Users/rvanbruggen/.pyenv/versions/3.11.6/lib/python3.11/site-packages (from great-expectations==0.15.12->hsfs~=3.5.0rc0->hsfs[python]~=3.5.0rc0->hopsworks==3.5.0rc1) (4.8.0)\n",
      "Requirement already satisfied: urllib3<1.27,>=1.25.4 in /Users/rvanbruggen/.pyenv/versions/3.11.6/lib/python3.11/site-packages (from great-expectations==0.15.12->hsfs~=3.5.0rc0->hsfs[python]~=3.5.0rc0->hopsworks==3.5.0rc1) (1.26.18)\n",
      "Requirement already satisfied: pyhopshive[thrift] in /Users/rvanbruggen/.pyenv/versions/3.11.6/lib/python3.11/site-packages (from hsfs[python]~=3.5.0rc0->hopsworks==3.5.0rc1) (0.6.4.1.dev0)\n",
      "Requirement already satisfied: pyarrow>=10.0 in /Users/rvanbruggen/.pyenv/versions/3.11.6/lib/python3.11/site-packages (from hsfs[python]~=3.5.0rc0->hopsworks==3.5.0rc1) (14.0.1)\n",
      "Requirement already satisfied: confluent-kafka<=2.1.1 in /Users/rvanbruggen/.pyenv/versions/3.11.6/lib/python3.11/site-packages (from hsfs[python]~=3.5.0rc0->hopsworks==3.5.0rc1) (2.1.1)\n",
      "Requirement already satisfied: fastavro<=1.8.2,>=1.4.11 in /Users/rvanbruggen/.pyenv/versions/3.11.6/lib/python3.11/site-packages (from hsfs[python]~=3.5.0rc0->hopsworks==3.5.0rc1) (1.8.2)\n",
      "Requirement already satisfied: charset-normalizer<4,>=2 in /Users/rvanbruggen/.pyenv/versions/3.11.6/lib/python3.11/site-packages (from requests->hopsworks==3.5.0rc1) (3.3.2)\n",
      "Requirement already satisfied: idna<4,>=2.5 in /Users/rvanbruggen/.pyenv/versions/3.11.6/lib/python3.11/site-packages (from requests->hopsworks==3.5.0rc1) (3.4)\n",
      "Requirement already satisfied: certifi>=2017.4.17 in /Users/rvanbruggen/.pyenv/versions/3.11.6/lib/python3.11/site-packages (from requests->hopsworks==3.5.0rc1) (2023.7.22)\n",
      "Requirement already satisfied: botocore<1.32.0,>=1.31.83 in /Users/rvanbruggen/.pyenv/versions/3.11.6/lib/python3.11/site-packages (from boto3->hopsworks==3.5.0rc1) (1.31.83)\n",
      "Requirement already satisfied: jmespath<2.0.0,>=0.7.1 in /Users/rvanbruggen/.pyenv/versions/3.11.6/lib/python3.11/site-packages (from boto3->hopsworks==3.5.0rc1) (1.0.1)\n",
      "Requirement already satisfied: s3transfer<0.8.0,>=0.7.0 in /Users/rvanbruggen/.pyenv/versions/3.11.6/lib/python3.11/site-packages (from boto3->hopsworks==3.5.0rc1) (0.7.0)\n",
      "Requirement already satisfied: six>=1.8.0 in /Users/rvanbruggen/.pyenv/versions/3.11.6/lib/python3.11/site-packages (from furl->hopsworks==3.5.0rc1) (1.16.0)\n",
      "Requirement already satisfied: orderedmultidict>=1.0.1 in /Users/rvanbruggen/.pyenv/versions/3.11.6/lib/python3.11/site-packages (from furl->hopsworks==3.5.0rc1) (1.0.1)\n",
      "Requirement already satisfied: javaobj-py3 in /Users/rvanbruggen/.pyenv/versions/3.11.6/lib/python3.11/site-packages (from pyjks->hopsworks==3.5.0rc1) (0.4.3)\n",
      "Requirement already satisfied: pyasn1>=0.3.5 in /Users/rvanbruggen/.pyenv/versions/3.11.6/lib/python3.11/site-packages (from pyjks->hopsworks==3.5.0rc1) (0.5.0)\n",
      "Requirement already satisfied: pyasn1-modules in /Users/rvanbruggen/.pyenv/versions/3.11.6/lib/python3.11/site-packages (from pyjks->hopsworks==3.5.0rc1) (0.3.0)\n",
      "Requirement already satisfied: pycryptodomex in /Users/rvanbruggen/.pyenv/versions/3.11.6/lib/python3.11/site-packages (from pyjks->hopsworks==3.5.0rc1) (3.19.0)\n",
      "Requirement already satisfied: twofish in /Users/rvanbruggen/.pyenv/versions/3.11.6/lib/python3.11/site-packages (from pyjks->hopsworks==3.5.0rc1) (0.3.0)\n",
      "Requirement already satisfied: tzdata>=2022.1 in /Users/rvanbruggen/.pyenv/versions/3.11.6/lib/python3.11/site-packages (from pandas<2.1.0->hsfs~=3.5.0rc0->hsfs[python]~=3.5.0rc0->hopsworks==3.5.0rc1) (2023.3)\n",
      "Requirement already satisfied: future in /Users/rvanbruggen/.pyenv/versions/3.11.6/lib/python3.11/site-packages (from pyhopshive[thrift]; extra == \"python\"->hsfs[python]~=3.5.0rc0->hopsworks==3.5.0rc1) (0.18.3)\n",
      "Requirement already satisfied: thrift>=0.10.0 in /Users/rvanbruggen/.pyenv/versions/3.11.6/lib/python3.11/site-packages (from pyhopshive[thrift]; extra == \"python\"->hsfs[python]~=3.5.0rc0->hopsworks==3.5.0rc1) (0.16.0)\n",
      "Requirement already satisfied: greenlet!=0.4.17 in /Users/rvanbruggen/.pyenv/versions/3.11.6/lib/python3.11/site-packages (from sqlalchemy->hsfs~=3.5.0rc0->hsfs[python]~=3.5.0rc0->hopsworks==3.5.0rc1) (3.0.1)\n",
      "Requirement already satisfied: entrypoints in /Users/rvanbruggen/.pyenv/versions/3.11.6/lib/python3.11/site-packages (from altair<5,>=4.0.0->great-expectations==0.15.12->hsfs~=3.5.0rc0->hsfs[python]~=3.5.0rc0->hopsworks==3.5.0rc1) (0.4)\n",
      "Requirement already satisfied: toolz in /Users/rvanbruggen/.pyenv/versions/3.11.6/lib/python3.11/site-packages (from altair<5,>=4.0.0->great-expectations==0.15.12->hsfs~=3.5.0rc0->hsfs[python]~=3.5.0rc0->hopsworks==3.5.0rc1) (0.12.0)\n",
      "Requirement already satisfied: cffi>=1.12 in /Users/rvanbruggen/.pyenv/versions/3.11.6/lib/python3.11/site-packages (from cryptography>=3.2->great-expectations==0.15.12->hsfs~=3.5.0rc0->hsfs[python]~=3.5.0rc0->hopsworks==3.5.0rc1) (1.16.0)\n",
      "Requirement already satisfied: zipp>=0.5 in /Users/rvanbruggen/.pyenv/versions/3.11.6/lib/python3.11/site-packages (from importlib-metadata>=1.7.0->great-expectations==0.15.12->hsfs~=3.5.0rc0->hsfs[python]~=3.5.0rc0->hopsworks==3.5.0rc1) (3.17.0)\n",
      "Requirement already satisfied: decorator in /Users/rvanbruggen/.pyenv/versions/3.11.6/lib/python3.11/site-packages (from Ipython>=7.16.3->great-expectations==0.15.12->hsfs~=3.5.0rc0->hsfs[python]~=3.5.0rc0->hopsworks==3.5.0rc1) (5.1.1)\n",
      "Requirement already satisfied: jedi>=0.16 in /Users/rvanbruggen/.pyenv/versions/3.11.6/lib/python3.11/site-packages (from Ipython>=7.16.3->great-expectations==0.15.12->hsfs~=3.5.0rc0->hsfs[python]~=3.5.0rc0->hopsworks==3.5.0rc1) (0.19.1)\n",
      "Requirement already satisfied: matplotlib-inline in /Users/rvanbruggen/.pyenv/versions/3.11.6/lib/python3.11/site-packages (from Ipython>=7.16.3->great-expectations==0.15.12->hsfs~=3.5.0rc0->hsfs[python]~=3.5.0rc0->hopsworks==3.5.0rc1) (0.1.6)\n",
      "Requirement already satisfied: prompt-toolkit!=3.0.37,<3.1.0,>=3.0.30 in /Users/rvanbruggen/.pyenv/versions/3.11.6/lib/python3.11/site-packages (from Ipython>=7.16.3->great-expectations==0.15.12->hsfs~=3.5.0rc0->hsfs[python]~=3.5.0rc0->hopsworks==3.5.0rc1) (3.0.39)\n",
      "Requirement already satisfied: pygments>=2.4.0 in /Users/rvanbruggen/.pyenv/versions/3.11.6/lib/python3.11/site-packages (from Ipython>=7.16.3->great-expectations==0.15.12->hsfs~=3.5.0rc0->hsfs[python]~=3.5.0rc0->hopsworks==3.5.0rc1) (2.16.1)\n",
      "Requirement already satisfied: stack-data in /Users/rvanbruggen/.pyenv/versions/3.11.6/lib/python3.11/site-packages (from Ipython>=7.16.3->great-expectations==0.15.12->hsfs~=3.5.0rc0->hsfs[python]~=3.5.0rc0->hopsworks==3.5.0rc1) (0.6.3)\n",
      "Requirement already satisfied: traitlets>=5 in /Users/rvanbruggen/.pyenv/versions/3.11.6/lib/python3.11/site-packages (from Ipython>=7.16.3->great-expectations==0.15.12->hsfs~=3.5.0rc0->hsfs[python]~=3.5.0rc0->hopsworks==3.5.0rc1) (5.13.0)\n",
      "Requirement already satisfied: pexpect>4.3 in /Users/rvanbruggen/.pyenv/versions/3.11.6/lib/python3.11/site-packages (from Ipython>=7.16.3->great-expectations==0.15.12->hsfs~=3.5.0rc0->hsfs[python]~=3.5.0rc0->hopsworks==3.5.0rc1) (4.8.0)\n",
      "Requirement already satisfied: appnope in /Users/rvanbruggen/.pyenv/versions/3.11.6/lib/python3.11/site-packages (from Ipython>=7.16.3->great-expectations==0.15.12->hsfs~=3.5.0rc0->hsfs[python]~=3.5.0rc0->hopsworks==3.5.0rc1) (0.1.3)\n",
      "Requirement already satisfied: jsonpointer>=1.9 in /Users/rvanbruggen/.pyenv/versions/3.11.6/lib/python3.11/site-packages (from jsonpatch>=1.22->great-expectations==0.15.12->hsfs~=3.5.0rc0->hsfs[python]~=3.5.0rc0->hopsworks==3.5.0rc1) (2.4)\n",
      "Requirement already satisfied: attrs>=22.2.0 in /Users/rvanbruggen/.pyenv/versions/3.11.6/lib/python3.11/site-packages (from jsonschema>=2.5.1->great-expectations==0.15.12->hsfs~=3.5.0rc0->hsfs[python]~=3.5.0rc0->hopsworks==3.5.0rc1) (23.1.0)\n",
      "Requirement already satisfied: jsonschema-specifications>=2023.03.6 in /Users/rvanbruggen/.pyenv/versions/3.11.6/lib/python3.11/site-packages (from jsonschema>=2.5.1->great-expectations==0.15.12->hsfs~=3.5.0rc0->hsfs[python]~=3.5.0rc0->hopsworks==3.5.0rc1) (2023.7.1)\n",
      "Requirement already satisfied: referencing>=0.28.4 in /Users/rvanbruggen/.pyenv/versions/3.11.6/lib/python3.11/site-packages (from jsonschema>=2.5.1->great-expectations==0.15.12->hsfs~=3.5.0rc0->hsfs[python]~=3.5.0rc0->hopsworks==3.5.0rc1) (0.30.2)\n",
      "Requirement already satisfied: rpds-py>=0.7.1 in /Users/rvanbruggen/.pyenv/versions/3.11.6/lib/python3.11/site-packages (from jsonschema>=2.5.1->great-expectations==0.15.12->hsfs~=3.5.0rc0->hsfs[python]~=3.5.0rc0->hopsworks==3.5.0rc1) (0.12.0)\n",
      "Requirement already satisfied: fastjsonschema in /Users/rvanbruggen/.pyenv/versions/3.11.6/lib/python3.11/site-packages (from nbformat>=5.0->great-expectations==0.15.12->hsfs~=3.5.0rc0->hsfs[python]~=3.5.0rc0->hopsworks==3.5.0rc1) (2.18.1)\n",
      "Requirement already satisfied: jupyter-core in /Users/rvanbruggen/.pyenv/versions/3.11.6/lib/python3.11/site-packages (from nbformat>=5.0->great-expectations==0.15.12->hsfs~=3.5.0rc0->hsfs[python]~=3.5.0rc0->hopsworks==3.5.0rc1) (5.5.0)\n",
      "Requirement already satisfied: jupyter-server<3,>=2.4.0 in /Users/rvanbruggen/.pyenv/versions/3.11.6/lib/python3.11/site-packages (from notebook>=6.4.10->great-expectations==0.15.12->hsfs~=3.5.0rc0->hsfs[python]~=3.5.0rc0->hopsworks==3.5.0rc1) (2.10.0)\n",
      "Requirement already satisfied: jupyterlab-server<3,>=2.22.1 in /Users/rvanbruggen/.pyenv/versions/3.11.6/lib/python3.11/site-packages (from notebook>=6.4.10->great-expectations==0.15.12->hsfs~=3.5.0rc0->hsfs[python]~=3.5.0rc0->hopsworks==3.5.0rc1) (2.25.1)\n",
      "Requirement already satisfied: jupyterlab<5,>=4.0.2 in /Users/rvanbruggen/.pyenv/versions/3.11.6/lib/python3.11/site-packages (from notebook>=6.4.10->great-expectations==0.15.12->hsfs~=3.5.0rc0->hsfs[python]~=3.5.0rc0->hopsworks==3.5.0rc1) (4.0.8)\n",
      "Requirement already satisfied: notebook-shim<0.3,>=0.2 in /Users/rvanbruggen/.pyenv/versions/3.11.6/lib/python3.11/site-packages (from notebook>=6.4.10->great-expectations==0.15.12->hsfs~=3.5.0rc0->hsfs[python]~=3.5.0rc0->hopsworks==3.5.0rc1) (0.2.3)\n",
      "Requirement already satisfied: tornado>=6.2.0 in /Users/rvanbruggen/.pyenv/versions/3.11.6/lib/python3.11/site-packages (from notebook>=6.4.10->great-expectations==0.15.12->hsfs~=3.5.0rc0->hsfs[python]~=3.5.0rc0->hopsworks==3.5.0rc1) (6.3.3)\n",
      "Requirement already satisfied: pycparser in /Users/rvanbruggen/.pyenv/versions/3.11.6/lib/python3.11/site-packages (from cffi>=1.12->cryptography>=3.2->great-expectations==0.15.12->hsfs~=3.5.0rc0->hsfs[python]~=3.5.0rc0->hopsworks==3.5.0rc1) (2.21)\n",
      "Requirement already satisfied: parso<0.9.0,>=0.8.3 in /Users/rvanbruggen/.pyenv/versions/3.11.6/lib/python3.11/site-packages (from jedi>=0.16->Ipython>=7.16.3->great-expectations==0.15.12->hsfs~=3.5.0rc0->hsfs[python]~=3.5.0rc0->hopsworks==3.5.0rc1) (0.8.3)\n",
      "Requirement already satisfied: anyio>=3.1.0 in /Users/rvanbruggen/.pyenv/versions/3.11.6/lib/python3.11/site-packages (from jupyter-server<3,>=2.4.0->notebook>=6.4.10->great-expectations==0.15.12->hsfs~=3.5.0rc0->hsfs[python]~=3.5.0rc0->hopsworks==3.5.0rc1) (4.0.0)\n",
      "Requirement already satisfied: argon2-cffi in /Users/rvanbruggen/.pyenv/versions/3.11.6/lib/python3.11/site-packages (from jupyter-server<3,>=2.4.0->notebook>=6.4.10->great-expectations==0.15.12->hsfs~=3.5.0rc0->hsfs[python]~=3.5.0rc0->hopsworks==3.5.0rc1) (23.1.0)\n",
      "Requirement already satisfied: jupyter-client>=7.4.4 in /Users/rvanbruggen/.pyenv/versions/3.11.6/lib/python3.11/site-packages (from jupyter-server<3,>=2.4.0->notebook>=6.4.10->great-expectations==0.15.12->hsfs~=3.5.0rc0->hsfs[python]~=3.5.0rc0->hopsworks==3.5.0rc1) (8.6.0)\n",
      "Requirement already satisfied: jupyter-events>=0.6.0 in /Users/rvanbruggen/.pyenv/versions/3.11.6/lib/python3.11/site-packages (from jupyter-server<3,>=2.4.0->notebook>=6.4.10->great-expectations==0.15.12->hsfs~=3.5.0rc0->hsfs[python]~=3.5.0rc0->hopsworks==3.5.0rc1) (0.9.0)\n",
      "Requirement already satisfied: jupyter-server-terminals in /Users/rvanbruggen/.pyenv/versions/3.11.6/lib/python3.11/site-packages (from jupyter-server<3,>=2.4.0->notebook>=6.4.10->great-expectations==0.15.12->hsfs~=3.5.0rc0->hsfs[python]~=3.5.0rc0->hopsworks==3.5.0rc1) (0.4.4)\n",
      "Requirement already satisfied: nbconvert>=6.4.4 in /Users/rvanbruggen/.pyenv/versions/3.11.6/lib/python3.11/site-packages (from jupyter-server<3,>=2.4.0->notebook>=6.4.10->great-expectations==0.15.12->hsfs~=3.5.0rc0->hsfs[python]~=3.5.0rc0->hopsworks==3.5.0rc1) (7.11.0)\n",
      "Requirement already satisfied: overrides in /Users/rvanbruggen/.pyenv/versions/3.11.6/lib/python3.11/site-packages (from jupyter-server<3,>=2.4.0->notebook>=6.4.10->great-expectations==0.15.12->hsfs~=3.5.0rc0->hsfs[python]~=3.5.0rc0->hopsworks==3.5.0rc1) (7.4.0)\n",
      "Requirement already satisfied: prometheus-client in /Users/rvanbruggen/.pyenv/versions/3.11.6/lib/python3.11/site-packages (from jupyter-server<3,>=2.4.0->notebook>=6.4.10->great-expectations==0.15.12->hsfs~=3.5.0rc0->hsfs[python]~=3.5.0rc0->hopsworks==3.5.0rc1) (0.18.0)\n",
      "Requirement already satisfied: pyzmq>=24 in /Users/rvanbruggen/.pyenv/versions/3.11.6/lib/python3.11/site-packages (from jupyter-server<3,>=2.4.0->notebook>=6.4.10->great-expectations==0.15.12->hsfs~=3.5.0rc0->hsfs[python]~=3.5.0rc0->hopsworks==3.5.0rc1) (25.1.1)\n",
      "Requirement already satisfied: send2trash>=1.8.2 in /Users/rvanbruggen/.pyenv/versions/3.11.6/lib/python3.11/site-packages (from jupyter-server<3,>=2.4.0->notebook>=6.4.10->great-expectations==0.15.12->hsfs~=3.5.0rc0->hsfs[python]~=3.5.0rc0->hopsworks==3.5.0rc1) (1.8.2)\n",
      "Requirement already satisfied: terminado>=0.8.3 in /Users/rvanbruggen/.pyenv/versions/3.11.6/lib/python3.11/site-packages (from jupyter-server<3,>=2.4.0->notebook>=6.4.10->great-expectations==0.15.12->hsfs~=3.5.0rc0->hsfs[python]~=3.5.0rc0->hopsworks==3.5.0rc1) (0.18.0)\n",
      "Requirement already satisfied: websocket-client in /Users/rvanbruggen/.pyenv/versions/3.11.6/lib/python3.11/site-packages (from jupyter-server<3,>=2.4.0->notebook>=6.4.10->great-expectations==0.15.12->hsfs~=3.5.0rc0->hsfs[python]~=3.5.0rc0->hopsworks==3.5.0rc1) (1.6.4)\n",
      "Requirement already satisfied: platformdirs>=2.5 in /Users/rvanbruggen/.pyenv/versions/3.11.6/lib/python3.11/site-packages (from jupyter-core->nbformat>=5.0->great-expectations==0.15.12->hsfs~=3.5.0rc0->hsfs[python]~=3.5.0rc0->hopsworks==3.5.0rc1) (3.11.0)\n",
      "Requirement already satisfied: async-lru>=1.0.0 in /Users/rvanbruggen/.pyenv/versions/3.11.6/lib/python3.11/site-packages (from jupyterlab<5,>=4.0.2->notebook>=6.4.10->great-expectations==0.15.12->hsfs~=3.5.0rc0->hsfs[python]~=3.5.0rc0->hopsworks==3.5.0rc1) (2.0.4)\n",
      "Requirement already satisfied: ipykernel in /Users/rvanbruggen/.pyenv/versions/3.11.6/lib/python3.11/site-packages (from jupyterlab<5,>=4.0.2->notebook>=6.4.10->great-expectations==0.15.12->hsfs~=3.5.0rc0->hsfs[python]~=3.5.0rc0->hopsworks==3.5.0rc1) (6.26.0)\n",
      "Requirement already satisfied: jupyter-lsp>=2.0.0 in /Users/rvanbruggen/.pyenv/versions/3.11.6/lib/python3.11/site-packages (from jupyterlab<5,>=4.0.2->notebook>=6.4.10->great-expectations==0.15.12->hsfs~=3.5.0rc0->hsfs[python]~=3.5.0rc0->hopsworks==3.5.0rc1) (2.2.0)\n",
      "Requirement already satisfied: babel>=2.10 in /Users/rvanbruggen/.pyenv/versions/3.11.6/lib/python3.11/site-packages (from jupyterlab-server<3,>=2.22.1->notebook>=6.4.10->great-expectations==0.15.12->hsfs~=3.5.0rc0->hsfs[python]~=3.5.0rc0->hopsworks==3.5.0rc1) (2.13.1)\n",
      "Requirement already satisfied: json5>=0.9.0 in /Users/rvanbruggen/.pyenv/versions/3.11.6/lib/python3.11/site-packages (from jupyterlab-server<3,>=2.22.1->notebook>=6.4.10->great-expectations==0.15.12->hsfs~=3.5.0rc0->hsfs[python]~=3.5.0rc0->hopsworks==3.5.0rc1) (0.9.14)\n",
      "Requirement already satisfied: ptyprocess>=0.5 in /Users/rvanbruggen/.pyenv/versions/3.11.6/lib/python3.11/site-packages (from pexpect>4.3->Ipython>=7.16.3->great-expectations==0.15.12->hsfs~=3.5.0rc0->hsfs[python]~=3.5.0rc0->hopsworks==3.5.0rc1) (0.7.0)\n",
      "Requirement already satisfied: wcwidth in /Users/rvanbruggen/.pyenv/versions/3.11.6/lib/python3.11/site-packages (from prompt-toolkit!=3.0.37,<3.1.0,>=3.0.30->Ipython>=7.16.3->great-expectations==0.15.12->hsfs~=3.5.0rc0->hsfs[python]~=3.5.0rc0->hopsworks==3.5.0rc1) (0.2.9)\n",
      "Requirement already satisfied: executing>=1.2.0 in /Users/rvanbruggen/.pyenv/versions/3.11.6/lib/python3.11/site-packages (from stack-data->Ipython>=7.16.3->great-expectations==0.15.12->hsfs~=3.5.0rc0->hsfs[python]~=3.5.0rc0->hopsworks==3.5.0rc1) (2.0.1)\n",
      "Requirement already satisfied: asttokens>=2.1.0 in /Users/rvanbruggen/.pyenv/versions/3.11.6/lib/python3.11/site-packages (from stack-data->Ipython>=7.16.3->great-expectations==0.15.12->hsfs~=3.5.0rc0->hsfs[python]~=3.5.0rc0->hopsworks==3.5.0rc1) (2.4.1)\n",
      "Requirement already satisfied: pure-eval in /Users/rvanbruggen/.pyenv/versions/3.11.6/lib/python3.11/site-packages (from stack-data->Ipython>=7.16.3->great-expectations==0.15.12->hsfs~=3.5.0rc0->hsfs[python]~=3.5.0rc0->hopsworks==3.5.0rc1) (0.2.2)\n",
      "Requirement already satisfied: sniffio>=1.1 in /Users/rvanbruggen/.pyenv/versions/3.11.6/lib/python3.11/site-packages (from anyio>=3.1.0->jupyter-server<3,>=2.4.0->notebook>=6.4.10->great-expectations==0.15.12->hsfs~=3.5.0rc0->hsfs[python]~=3.5.0rc0->hopsworks==3.5.0rc1) (1.3.0)\n",
      "Requirement already satisfied: python-json-logger>=2.0.4 in /Users/rvanbruggen/.pyenv/versions/3.11.6/lib/python3.11/site-packages (from jupyter-events>=0.6.0->jupyter-server<3,>=2.4.0->notebook>=6.4.10->great-expectations==0.15.12->hsfs~=3.5.0rc0->hsfs[python]~=3.5.0rc0->hopsworks==3.5.0rc1) (2.0.7)\n",
      "Requirement already satisfied: pyyaml>=5.3 in /Users/rvanbruggen/.pyenv/versions/3.11.6/lib/python3.11/site-packages (from jupyter-events>=0.6.0->jupyter-server<3,>=2.4.0->notebook>=6.4.10->great-expectations==0.15.12->hsfs~=3.5.0rc0->hsfs[python]~=3.5.0rc0->hopsworks==3.5.0rc1) (6.0.1)\n",
      "Requirement already satisfied: rfc3339-validator in /Users/rvanbruggen/.pyenv/versions/3.11.6/lib/python3.11/site-packages (from jupyter-events>=0.6.0->jupyter-server<3,>=2.4.0->notebook>=6.4.10->great-expectations==0.15.12->hsfs~=3.5.0rc0->hsfs[python]~=3.5.0rc0->hopsworks==3.5.0rc1) (0.1.4)\n",
      "Requirement already satisfied: rfc3986-validator>=0.1.1 in /Users/rvanbruggen/.pyenv/versions/3.11.6/lib/python3.11/site-packages (from jupyter-events>=0.6.0->jupyter-server<3,>=2.4.0->notebook>=6.4.10->great-expectations==0.15.12->hsfs~=3.5.0rc0->hsfs[python]~=3.5.0rc0->hopsworks==3.5.0rc1) (0.1.1)\n",
      "Requirement already satisfied: beautifulsoup4 in /Users/rvanbruggen/.pyenv/versions/3.11.6/lib/python3.11/site-packages (from nbconvert>=6.4.4->jupyter-server<3,>=2.4.0->notebook>=6.4.10->great-expectations==0.15.12->hsfs~=3.5.0rc0->hsfs[python]~=3.5.0rc0->hopsworks==3.5.0rc1) (4.12.2)\n",
      "Requirement already satisfied: bleach!=5.0.0 in /Users/rvanbruggen/.pyenv/versions/3.11.6/lib/python3.11/site-packages (from nbconvert>=6.4.4->jupyter-server<3,>=2.4.0->notebook>=6.4.10->great-expectations==0.15.12->hsfs~=3.5.0rc0->hsfs[python]~=3.5.0rc0->hopsworks==3.5.0rc1) (6.1.0)\n",
      "Requirement already satisfied: defusedxml in /Users/rvanbruggen/.pyenv/versions/3.11.6/lib/python3.11/site-packages (from nbconvert>=6.4.4->jupyter-server<3,>=2.4.0->notebook>=6.4.10->great-expectations==0.15.12->hsfs~=3.5.0rc0->hsfs[python]~=3.5.0rc0->hopsworks==3.5.0rc1) (0.7.1)\n",
      "Requirement already satisfied: jupyterlab-pygments in /Users/rvanbruggen/.pyenv/versions/3.11.6/lib/python3.11/site-packages (from nbconvert>=6.4.4->jupyter-server<3,>=2.4.0->notebook>=6.4.10->great-expectations==0.15.12->hsfs~=3.5.0rc0->hsfs[python]~=3.5.0rc0->hopsworks==3.5.0rc1) (0.2.2)\n",
      "Requirement already satisfied: nbclient>=0.5.0 in /Users/rvanbruggen/.pyenv/versions/3.11.6/lib/python3.11/site-packages (from nbconvert>=6.4.4->jupyter-server<3,>=2.4.0->notebook>=6.4.10->great-expectations==0.15.12->hsfs~=3.5.0rc0->hsfs[python]~=3.5.0rc0->hopsworks==3.5.0rc1) (0.9.0)\n",
      "Requirement already satisfied: pandocfilters>=1.4.1 in /Users/rvanbruggen/.pyenv/versions/3.11.6/lib/python3.11/site-packages (from nbconvert>=6.4.4->jupyter-server<3,>=2.4.0->notebook>=6.4.10->great-expectations==0.15.12->hsfs~=3.5.0rc0->hsfs[python]~=3.5.0rc0->hopsworks==3.5.0rc1) (1.5.0)\n",
      "Requirement already satisfied: tinycss2 in /Users/rvanbruggen/.pyenv/versions/3.11.6/lib/python3.11/site-packages (from nbconvert>=6.4.4->jupyter-server<3,>=2.4.0->notebook>=6.4.10->great-expectations==0.15.12->hsfs~=3.5.0rc0->hsfs[python]~=3.5.0rc0->hopsworks==3.5.0rc1) (1.2.1)\n",
      "Requirement already satisfied: argon2-cffi-bindings in /Users/rvanbruggen/.pyenv/versions/3.11.6/lib/python3.11/site-packages (from argon2-cffi->jupyter-server<3,>=2.4.0->notebook>=6.4.10->great-expectations==0.15.12->hsfs~=3.5.0rc0->hsfs[python]~=3.5.0rc0->hopsworks==3.5.0rc1) (21.2.0)\n",
      "Requirement already satisfied: comm>=0.1.1 in /Users/rvanbruggen/.pyenv/versions/3.11.6/lib/python3.11/site-packages (from ipykernel->jupyterlab<5,>=4.0.2->notebook>=6.4.10->great-expectations==0.15.12->hsfs~=3.5.0rc0->hsfs[python]~=3.5.0rc0->hopsworks==3.5.0rc1) (0.2.0)\n",
      "Requirement already satisfied: debugpy>=1.6.5 in /Users/rvanbruggen/.pyenv/versions/3.11.6/lib/python3.11/site-packages (from ipykernel->jupyterlab<5,>=4.0.2->notebook>=6.4.10->great-expectations==0.15.12->hsfs~=3.5.0rc0->hsfs[python]~=3.5.0rc0->hopsworks==3.5.0rc1) (1.8.0)\n",
      "Requirement already satisfied: nest-asyncio in /Users/rvanbruggen/.pyenv/versions/3.11.6/lib/python3.11/site-packages (from ipykernel->jupyterlab<5,>=4.0.2->notebook>=6.4.10->great-expectations==0.15.12->hsfs~=3.5.0rc0->hsfs[python]~=3.5.0rc0->hopsworks==3.5.0rc1) (1.5.8)\n",
      "Requirement already satisfied: psutil in /Users/rvanbruggen/.pyenv/versions/3.11.6/lib/python3.11/site-packages (from ipykernel->jupyterlab<5,>=4.0.2->notebook>=6.4.10->great-expectations==0.15.12->hsfs~=3.5.0rc0->hsfs[python]~=3.5.0rc0->hopsworks==3.5.0rc1) (5.9.6)\n",
      "Requirement already satisfied: webencodings in /Users/rvanbruggen/.pyenv/versions/3.11.6/lib/python3.11/site-packages (from bleach!=5.0.0->nbconvert>=6.4.4->jupyter-server<3,>=2.4.0->notebook>=6.4.10->great-expectations==0.15.12->hsfs~=3.5.0rc0->hsfs[python]~=3.5.0rc0->hopsworks==3.5.0rc1) (0.5.1)\n",
      "Requirement already satisfied: fqdn in /Users/rvanbruggen/.pyenv/versions/3.11.6/lib/python3.11/site-packages (from jsonschema[format-nongpl]>=4.18.0->jupyter-events>=0.6.0->jupyter-server<3,>=2.4.0->notebook>=6.4.10->great-expectations==0.15.12->hsfs~=3.5.0rc0->hsfs[python]~=3.5.0rc0->hopsworks==3.5.0rc1) (1.5.1)\n",
      "Requirement already satisfied: isoduration in /Users/rvanbruggen/.pyenv/versions/3.11.6/lib/python3.11/site-packages (from jsonschema[format-nongpl]>=4.18.0->jupyter-events>=0.6.0->jupyter-server<3,>=2.4.0->notebook>=6.4.10->great-expectations==0.15.12->hsfs~=3.5.0rc0->hsfs[python]~=3.5.0rc0->hopsworks==3.5.0rc1) (20.11.0)\n",
      "Requirement already satisfied: uri-template in /Users/rvanbruggen/.pyenv/versions/3.11.6/lib/python3.11/site-packages (from jsonschema[format-nongpl]>=4.18.0->jupyter-events>=0.6.0->jupyter-server<3,>=2.4.0->notebook>=6.4.10->great-expectations==0.15.12->hsfs~=3.5.0rc0->hsfs[python]~=3.5.0rc0->hopsworks==3.5.0rc1) (1.3.0)\n",
      "Requirement already satisfied: webcolors>=1.11 in /Users/rvanbruggen/.pyenv/versions/3.11.6/lib/python3.11/site-packages (from jsonschema[format-nongpl]>=4.18.0->jupyter-events>=0.6.0->jupyter-server<3,>=2.4.0->notebook>=6.4.10->great-expectations==0.15.12->hsfs~=3.5.0rc0->hsfs[python]~=3.5.0rc0->hopsworks==3.5.0rc1) (1.13)\n",
      "Requirement already satisfied: soupsieve>1.2 in /Users/rvanbruggen/.pyenv/versions/3.11.6/lib/python3.11/site-packages (from beautifulsoup4->nbconvert>=6.4.4->jupyter-server<3,>=2.4.0->notebook>=6.4.10->great-expectations==0.15.12->hsfs~=3.5.0rc0->hsfs[python]~=3.5.0rc0->hopsworks==3.5.0rc1) (2.5)\n",
      "Requirement already satisfied: arrow>=0.15.0 in /Users/rvanbruggen/.pyenv/versions/3.11.6/lib/python3.11/site-packages (from isoduration->jsonschema[format-nongpl]>=4.18.0->jupyter-events>=0.6.0->jupyter-server<3,>=2.4.0->notebook>=6.4.10->great-expectations==0.15.12->hsfs~=3.5.0rc0->hsfs[python]~=3.5.0rc0->hopsworks==3.5.0rc1) (1.3.0)\n",
      "Requirement already satisfied: types-python-dateutil>=2.8.10 in /Users/rvanbruggen/.pyenv/versions/3.11.6/lib/python3.11/site-packages (from arrow>=0.15.0->isoduration->jsonschema[format-nongpl]>=4.18.0->jupyter-events>=0.6.0->jupyter-server<3,>=2.4.0->notebook>=6.4.10->great-expectations==0.15.12->hsfs~=3.5.0rc0->hsfs[python]~=3.5.0rc0->hopsworks==3.5.0rc1) (2.8.19.14)\n"
     ]
    }
   ],
   "source": [
    "!pip install -U kaleido # For Plotly Image export\n",
    "!pip install sklearn\n",
    "!pip install hopsworks==3.5.0rc1"
   ]
  },
  {
   "cell_type": "markdown",
   "metadata": {},
   "source": [
    "### Other imports\n",
    "We are importing a number of other libaries, among which several classes from  `beervolume.py` and `averages.py`, into this notebook, as we will use it later on."
   ]
  },
  {
   "cell_type": "code",
   "execution_count": 8,
   "id": "8355be0e",
   "metadata": {},
   "outputs": [],
   "source": [
    "import pandas as pd\n",
    "import numpy as np\n",
    "import xgboost as xgb\n",
    "from sklearn.metrics import mean_squared_error\n",
    "import os\n",
    "import joblib\n",
    "from beervolume import plot_prediction_test\n",
    "from functions import predict_id\n",
    "from datetime import datetime\n",
    "import warnings\n",
    "warnings.filterwarnings('ignore')"
   ]
  },
  {
   "cell_type": "markdown",
   "id": "9dbea0ad",
   "metadata": {},
   "source": [
    "## <span style=\"color:#ff5f27\">🔮 Connect to Hopsworks Feature Store </span>\n",
    "As we have already installed Hopsworks on this system, all we now need to do is import the library into this notebook, and start establishing the connection to the Hopsworks feature store."
   ]
  },
  {
   "cell_type": "code",
   "execution_count": 2,
   "id": "e499f528",
   "metadata": {},
   "outputs": [
    {
     "name": "stdout",
     "output_type": "stream",
     "text": [
      "Connected. Call `.close()` to terminate connection gracefully.\n",
      "\n",
      "Logged in to project, explore it here https://172f2800-9e76-11ee-ba4c-277d56d9f8e7.cloud.hopsworks.ai:443/p/120\n",
      "Connected. Call `.close()` to terminate connection gracefully.\n"
     ]
    }
   ],
   "source": [
    "import hopsworks\n",
    "\n",
    "# #To connect to Managed:\n",
    "# import hsfs\n",
    "# conn = hsfs.connection(\n",
    "#     host=\"172f2800-9e76-11ee-ba4c-277d56d9f8e7.cloud.hopsworks.ai\",                                # DNS of your Feature Store instance\n",
    "#     project=\"RixBeervolumeDemo\",                      # Name of your Hopsworks Feature Store project\n",
    "#     hostname_verification=False,                     # Disable for self-signed certificates\n",
    "#     api_key_value=\"Q0sPuOSFpsuwdIa0.pfBCpgAAnPr3C3J49BvEdeJvfoqTkwQihEotXupzz23FPzDdJpexwHmXyRB8ACDf\"          # Feature store API key value \n",
    "# )\n",
    "# fs = conn.get_feature_store()           # Get the project's default feature store\"\n",
    "\n",
    "project = hopsworks.login(\n",
    "    host=\"172f2800-9e76-11ee-ba4c-277d56d9f8e7.cloud.hopsworks.ai\", \n",
    "    project=\"RixBeervolumeDemo\",        \n",
    "    api_key_value=\"Q0sPuOSFpsuwdIa0.pfBCpgAAnPr3C3J49BvEdeJvfoqTkwQihEotXupzz23FPzDdJpexwHmXyRB8ACDf\" \n",
    ")\n",
    "fs = project.get_feature_store()  \n",
    "\n",
    "#To connect to Serverless:\n",
    "#import hopsworks\n",
    "# project = hopsworks.login()\n",
    "#fs = project.get_feature_store() "
   ]
  },
  {
   "cell_type": "markdown",
   "metadata": {},
   "source": [
    "Since we have already created the necessary feature groups in our previous notebook, we can now just import these into our training pipeline. Remember we had two feature groups:\n",
    "1. a `beervolume` feature group that contained the synthetic data that we had created,\n",
    "2. a `beervolume_averages` feature group that contained a number of _engineered_ features that we derived from the `beervolume` feature group in order to have better predictions later on.\n",
    "\n",
    "We retrieve bother feature groups:"
   ]
  },
  {
   "cell_type": "code",
   "execution_count": 3,
   "id": "b9c6c942",
   "metadata": {},
   "outputs": [],
   "source": [
    "# Retrieve feature groups\n",
    "beervolume_fg = fs.get_feature_group(\n",
    "    name='beervolume',\n",
    "    version=1,\n",
    ")\n",
    "beervolume_averages_fg = fs.get_feature_group(\n",
    "    name='beervolume_averages',\n",
    "    version=1,\n",
    ")"
   ]
  },
  {
   "cell_type": "markdown",
   "id": "7e72db48",
   "metadata": {},
   "source": [
    "## <span style=\"color:#ff5f27\">🔪 Preparing our Training pipeline: Feature Selection </span>\n",
    "Using the Hopsworks feature store, we can very easily select the specific subset that we need for our training pipeline, and be confident that we will be using the correct training dataset in our Machine Learning process:"
   ]
  },
  {
   "cell_type": "code",
   "execution_count": 4,
   "id": "0740ac7f",
   "metadata": {},
   "outputs": [
    {
     "name": "stdout",
     "output_type": "stream",
     "text": [
      "Finished: Reading data from Hopsworks, using ArrowFlight (23.98s) \n"
     ]
    },
    {
     "data": {
      "text/html": [
       "<div>\n",
       "<style scoped>\n",
       "    .dataframe tbody tr th:only-of-type {\n",
       "        vertical-align: middle;\n",
       "    }\n",
       "\n",
       "    .dataframe tbody tr th {\n",
       "        vertical-align: top;\n",
       "    }\n",
       "\n",
       "    .dataframe thead th {\n",
       "        text-align: right;\n",
       "    }\n",
       "</style>\n",
       "<table border=\"1\" class=\"dataframe\">\n",
       "  <thead>\n",
       "    <tr style=\"text-align: right;\">\n",
       "      <th></th>\n",
       "      <th>date</th>\n",
       "      <th>id</th>\n",
       "      <th>beervolume</th>\n",
       "      <th>ma_7</th>\n",
       "      <th>ma_14</th>\n",
       "      <th>ma_30</th>\n",
       "      <th>daily_rate_of_change</th>\n",
       "      <th>volatility_30_day</th>\n",
       "      <th>ema_02</th>\n",
       "      <th>ema_05</th>\n",
       "      <th>rsi</th>\n",
       "    </tr>\n",
       "  </thead>\n",
       "  <tbody>\n",
       "    <tr>\n",
       "      <th>0</th>\n",
       "      <td>2023-09-01</td>\n",
       "      <td>0</td>\n",
       "      <td>200.0</td>\n",
       "      <td>0.000000</td>\n",
       "      <td>0.0</td>\n",
       "      <td>0.0</td>\n",
       "      <td>0.000000</td>\n",
       "      <td>0.0</td>\n",
       "      <td>200.000000</td>\n",
       "      <td>200.000000</td>\n",
       "      <td>0.0</td>\n",
       "    </tr>\n",
       "    <tr>\n",
       "      <th>1</th>\n",
       "      <td>2023-09-02</td>\n",
       "      <td>0</td>\n",
       "      <td>204.7</td>\n",
       "      <td>0.000000</td>\n",
       "      <td>0.0</td>\n",
       "      <td>0.0</td>\n",
       "      <td>0.589681</td>\n",
       "      <td>0.0</td>\n",
       "      <td>202.916393</td>\n",
       "      <td>203.600000</td>\n",
       "      <td>0.0</td>\n",
       "    </tr>\n",
       "    <tr>\n",
       "      <th>2</th>\n",
       "      <td>2023-09-04</td>\n",
       "      <td>0</td>\n",
       "      <td>202.7</td>\n",
       "      <td>0.000000</td>\n",
       "      <td>0.0</td>\n",
       "      <td>0.0</td>\n",
       "      <td>-0.977040</td>\n",
       "      <td>0.0</td>\n",
       "      <td>202.843089</td>\n",
       "      <td>203.120000</td>\n",
       "      <td>0.0</td>\n",
       "    </tr>\n",
       "    <tr>\n",
       "      <th>3</th>\n",
       "      <td>2023-09-05</td>\n",
       "      <td>0</td>\n",
       "      <td>199.6</td>\n",
       "      <td>0.000000</td>\n",
       "      <td>0.0</td>\n",
       "      <td>0.0</td>\n",
       "      <td>-1.529354</td>\n",
       "      <td>0.0</td>\n",
       "      <td>201.878344</td>\n",
       "      <td>201.303226</td>\n",
       "      <td>0.0</td>\n",
       "    </tr>\n",
       "    <tr>\n",
       "      <th>4</th>\n",
       "      <td>2023-09-07</td>\n",
       "      <td>0</td>\n",
       "      <td>202.4</td>\n",
       "      <td>201.642857</td>\n",
       "      <td>0.0</td>\n",
       "      <td>0.0</td>\n",
       "      <td>-1.123596</td>\n",
       "      <td>0.0</td>\n",
       "      <td>201.989634</td>\n",
       "      <td>202.535433</td>\n",
       "      <td>0.0</td>\n",
       "    </tr>\n",
       "  </tbody>\n",
       "</table>\n",
       "</div>"
      ],
      "text/plain": [
       "         date  id  beervolume        ma_7  ma_14  ma_30  daily_rate_of_change  \\\n",
       "0  2023-09-01   0       200.0    0.000000    0.0    0.0              0.000000   \n",
       "1  2023-09-02   0       204.7    0.000000    0.0    0.0              0.589681   \n",
       "2  2023-09-04   0       202.7    0.000000    0.0    0.0             -0.977040   \n",
       "3  2023-09-05   0       199.6    0.000000    0.0    0.0             -1.529354   \n",
       "4  2023-09-07   0       202.4  201.642857    0.0    0.0             -1.123596   \n",
       "\n",
       "   volatility_30_day      ema_02      ema_05  rsi  \n",
       "0                0.0  200.000000  200.000000  0.0  \n",
       "1                0.0  202.916393  203.600000  0.0  \n",
       "2                0.0  202.843089  203.120000  0.0  \n",
       "3                0.0  201.878344  201.303226  0.0  \n",
       "4                0.0  201.989634  202.535433  0.0  "
      ]
     },
     "execution_count": 4,
     "metadata": {},
     "output_type": "execute_result"
    }
   ],
   "source": [
    "# Select features for training dataset\n",
    "selected_features = beervolume_fg.select_all() \\\n",
    "    .join(beervolume_averages_fg.select_except(['date']))\n",
    "selected_features.show(5)"
   ]
  },
  {
   "cell_type": "markdown",
   "id": "1334a4cb",
   "metadata": {},
   "source": [
    "## <span style=\"color:#ff5f27\">🤖 Preparing our Training pipeline: Transformation Functions </span>\n",
    "Using the Hopsworks feature store, we can easily apply a set of transformation functions that will apply to our training pipeline:"
   ]
  },
  {
   "cell_type": "code",
   "execution_count": 5,
   "id": "bccb7d00",
   "metadata": {},
   "outputs": [
    {
     "data": {
      "text/plain": [
       "{'ma_7': <hsfs.transformation_function.TransformationFunction at 0x1579f1d90>,\n",
       " 'ma_14': <hsfs.transformation_function.TransformationFunction at 0x1579f1d90>,\n",
       " 'ma_30': <hsfs.transformation_function.TransformationFunction at 0x1579f1d90>,\n",
       " 'daily_rate_of_change': <hsfs.transformation_function.TransformationFunction at 0x1579f1d90>,\n",
       " 'volatility_30_day': <hsfs.transformation_function.TransformationFunction at 0x1579f1d90>,\n",
       " 'ema_02': <hsfs.transformation_function.TransformationFunction at 0x1579f1d90>,\n",
       " 'ema_05': <hsfs.transformation_function.TransformationFunction at 0x1579f1d90>,\n",
       " 'rsi': <hsfs.transformation_function.TransformationFunction at 0x1579f1d90>}"
      ]
     },
     "execution_count": 5,
     "metadata": {},
     "output_type": "execute_result"
    }
   ],
   "source": [
    "# Load transformation function\n",
    "min_max_scaler = fs.get_transformation_function(name=\"min_max_scaler\")\n",
    "\n",
    "# Define a list of feature names\n",
    "feature_names = [\n",
    "    'ma_7', 'ma_14', 'ma_30', 'daily_rate_of_change', 'volatility_30_day', 'ema_02', 'ema_05', 'rsi'\n",
    "]\n",
    "\n",
    "# Map features to transformations\n",
    "transformation_functions = {\n",
    "    feature_name: min_max_scaler\n",
    "    for feature_name in feature_names\n",
    "}\n",
    "transformation_functions"
   ]
  },
  {
   "cell_type": "markdown",
   "id": "925ad679",
   "metadata": {},
   "source": [
    "## <span style=\"color:#ff5f27\">⚙️ Feature View Creation leveraging feature groups, feature selection and feature transformations </span>\n",
    "Using the feature groups, the selection that we made above and finally the associated transformation functions, we can create a **feature view** in the Hopsworks feature store:"
   ]
  },
  {
   "cell_type": "code",
   "execution_count": 6,
   "id": "ffdfda5e",
   "metadata": {},
   "outputs": [],
   "source": [
    "# Get or create the 'beervolume_fv' feature view\n",
    "feature_view = fs.get_or_create_feature_view(\n",
    "    name='beervolume_fv',\n",
    "    version=1,\n",
    "    query=selected_features,\n",
    "    labels=[\"beervolume\"],\n",
    "    transformation_functions=transformation_functions,\n",
    ")\n"
   ]
  },
  {
   "cell_type": "markdown",
   "id": "3e1e1170",
   "metadata": {},
   "source": [
    "# <span style=\"color:#ff5f27\">🏋️ Training Dataset Creation based on the Feature View</span>\n",
    "The next part of our process will focus on the creation of a Training dataset based on the feature view that we have prepared above."
   ]
  },
  {
   "cell_type": "code",
   "execution_count": 9,
   "id": "554cbace",
   "metadata": {},
   "outputs": [
    {
     "name": "stdout",
     "output_type": "stream",
     "text": [
      "Finished: Reading data from Hopsworks, using ArrowFlight (19.23s) \n"
     ]
    }
   ],
   "source": [
    "# Get training and testing sets\n",
    "X_train, X_test, y_train, y_test = feature_view.train_test_split(\n",
    "    description='Beer Volume Dataset',  # Provide a description for the dataset split\n",
    "    train_start='2023-09-01',      # Start date for the training set\n",
    "    train_end='2023-11-01',        # End date for the training set\n",
    "    test_start='2023-11-01',       # Start date for the testing set\n",
    "    test_end=datetime.today().strftime(\"%Y-%m-%d\"),  # End date for the testing set (current date)\n",
    ")"
   ]
  },
  {
   "cell_type": "code",
   "execution_count": 10,
   "id": "041666ce",
   "metadata": {},
   "outputs": [
    {
     "data": {
      "text/html": [
       "<div>\n",
       "<style scoped>\n",
       "    .dataframe tbody tr th:only-of-type {\n",
       "        vertical-align: middle;\n",
       "    }\n",
       "\n",
       "    .dataframe tbody tr th {\n",
       "        vertical-align: top;\n",
       "    }\n",
       "\n",
       "    .dataframe thead th {\n",
       "        text-align: right;\n",
       "    }\n",
       "</style>\n",
       "<table border=\"1\" class=\"dataframe\">\n",
       "  <thead>\n",
       "    <tr style=\"text-align: right;\">\n",
       "      <th></th>\n",
       "      <th>date</th>\n",
       "      <th>id</th>\n",
       "      <th>ma_7</th>\n",
       "      <th>ma_14</th>\n",
       "      <th>ma_30</th>\n",
       "      <th>daily_rate_of_change</th>\n",
       "      <th>volatility_30_day</th>\n",
       "      <th>ema_02</th>\n",
       "      <th>ema_05</th>\n",
       "      <th>rsi</th>\n",
       "    </tr>\n",
       "  </thead>\n",
       "  <tbody>\n",
       "    <tr>\n",
       "      <th>0</th>\n",
       "      <td>2023-09-01</td>\n",
       "      <td>0</td>\n",
       "      <td>0.0</td>\n",
       "      <td>0.0</td>\n",
       "      <td>0.0</td>\n",
       "      <td>0.455051</td>\n",
       "      <td>0.0</td>\n",
       "      <td>0.206380</td>\n",
       "      <td>0.187163</td>\n",
       "      <td>0.362253</td>\n",
       "    </tr>\n",
       "    <tr>\n",
       "      <th>1</th>\n",
       "      <td>2023-09-02</td>\n",
       "      <td>0</td>\n",
       "      <td>0.0</td>\n",
       "      <td>0.0</td>\n",
       "      <td>0.0</td>\n",
       "      <td>0.476508</td>\n",
       "      <td>0.0</td>\n",
       "      <td>0.282569</td>\n",
       "      <td>0.272452</td>\n",
       "      <td>0.362253</td>\n",
       "    </tr>\n",
       "    <tr>\n",
       "      <th>2</th>\n",
       "      <td>2023-09-04</td>\n",
       "      <td>0</td>\n",
       "      <td>0.0</td>\n",
       "      <td>0.0</td>\n",
       "      <td>0.0</td>\n",
       "      <td>0.419499</td>\n",
       "      <td>0.0</td>\n",
       "      <td>0.280654</td>\n",
       "      <td>0.261080</td>\n",
       "      <td>0.362253</td>\n",
       "    </tr>\n",
       "  </tbody>\n",
       "</table>\n",
       "</div>"
      ],
      "text/plain": [
       "         date  id  ma_7  ma_14  ma_30  daily_rate_of_change  \\\n",
       "0  2023-09-01   0   0.0    0.0    0.0              0.455051   \n",
       "1  2023-09-02   0   0.0    0.0    0.0              0.476508   \n",
       "2  2023-09-04   0   0.0    0.0    0.0              0.419499   \n",
       "\n",
       "   volatility_30_day    ema_02    ema_05       rsi  \n",
       "0                0.0  0.206380  0.187163  0.362253  \n",
       "1                0.0  0.282569  0.272452  0.362253  \n",
       "2                0.0  0.280654  0.261080  0.362253  "
      ]
     },
     "execution_count": 10,
     "metadata": {},
     "output_type": "execute_result"
    }
   ],
   "source": [
    "X_train.head(3)"
   ]
  },
  {
   "cell_type": "code",
   "execution_count": 11,
   "id": "d7315f14",
   "metadata": {},
   "outputs": [
    {
     "data": {
      "text/html": [
       "<div>\n",
       "<style scoped>\n",
       "    .dataframe tbody tr th:only-of-type {\n",
       "        vertical-align: middle;\n",
       "    }\n",
       "\n",
       "    .dataframe tbody tr th {\n",
       "        vertical-align: top;\n",
       "    }\n",
       "\n",
       "    .dataframe thead th {\n",
       "        text-align: right;\n",
       "    }\n",
       "</style>\n",
       "<table border=\"1\" class=\"dataframe\">\n",
       "  <thead>\n",
       "    <tr style=\"text-align: right;\">\n",
       "      <th></th>\n",
       "      <th>beervolume</th>\n",
       "    </tr>\n",
       "  </thead>\n",
       "  <tbody>\n",
       "    <tr>\n",
       "      <th>0</th>\n",
       "      <td>200.0</td>\n",
       "    </tr>\n",
       "    <tr>\n",
       "      <th>1</th>\n",
       "      <td>204.7</td>\n",
       "    </tr>\n",
       "    <tr>\n",
       "      <th>2</th>\n",
       "      <td>202.7</td>\n",
       "    </tr>\n",
       "  </tbody>\n",
       "</table>\n",
       "</div>"
      ],
      "text/plain": [
       "   beervolume\n",
       "0       200.0\n",
       "1       204.7\n",
       "2       202.7"
      ]
     },
     "execution_count": 11,
     "metadata": {},
     "output_type": "execute_result"
    }
   ],
   "source": [
    "y_train.head(3)"
   ]
  },
  {
   "cell_type": "code",
   "execution_count": 12,
   "id": "af817399",
   "metadata": {},
   "outputs": [],
   "source": [
    "# Sort the training features by the 'date' column\n",
    "X_train = X_train.sort_values(\"date\")\n",
    "\n",
    "# Reindex the target 'y_train' to match the sorted order of 'X_train'\n",
    "y_train = y_train.reindex(X_train.index)\n",
    "\n",
    "# Sort the testing features by the 'date' column\n",
    "X_test = X_test.sort_values(\"date\")\n",
    "\n",
    "# Reindex the target 'y_test' to match the sorted order of 'X_test'\n",
    "y_test = y_test.reindex(X_test.index)\n",
    "\n",
    "# Extract and store the 'date' column as a separate DataFrame for both training and testing sets\n",
    "train_date = pd.DataFrame(X_train.pop(\"date\"))\n",
    "test_date = pd.DataFrame(X_test.pop(\"date\"))"
   ]
  },
  {
   "cell_type": "markdown",
   "id": "4e7d0253",
   "metadata": {},
   "source": [
    "# <span style=\"color:#ff5f27\">🧬 Using the training dataset to create a Machine Learning Model</span>\n",
    "\n",
    "In order to now create a predictive model out of our data, we will use the **XGBoost Regressor** to examine the training dataset and figure out a predictive model. XGBoost regressor is a powerful and highly effective machine learning algorithm for regression problems. XGBoost is known for its ability to handle complex relationships in the data, handle missing values, and provide accurate predictions. It's a popular choice in the data science community due to its robustness and excellent predictive performance, making it well-suited for our specific problem."
   ]
  },
  {
   "cell_type": "code",
   "execution_count": 13,
   "id": "a999d119",
   "metadata": {},
   "outputs": [
    {
     "name": "stdout",
     "output_type": "stream",
     "text": [
      "Mean Squared Error (MSE): 1.6045212568759295\n"
     ]
    }
   ],
   "source": [
    "# Initialize the XGBoost regressor\n",
    "model = xgb.XGBRegressor()\n",
    "\n",
    "# Train the model on the training data\n",
    "model.fit(X_train, y_train)\n",
    "\n",
    "# Make predictions on the validation set\n",
    "y_test_pred = model.predict(X_test)\n",
    "\n",
    "# Calculate RMSE on the validation set\n",
    "mse = mean_squared_error(y_test, y_test_pred, squared=False)\n",
    "print(f\"Mean Squared Error (MSE): {mse}\")"
   ]
  },
  {
   "cell_type": "code",
   "execution_count": 14,
   "id": "3b0f556d",
   "metadata": {},
   "outputs": [
    {
     "data": {
      "application/vnd.plotly.v1+json": {
       "config": {
        "plotlyServerURL": "https://plot.ly"
       },
       "data": [
        {
         "line": {
          "color": "blue"
         },
         "mode": "lines",
         "name": "Training Data",
         "type": "scatter",
         "x": [
          "2023-09-01",
          "2023-09-02",
          "2023-09-04",
          "2023-09-05",
          "2023-09-06",
          "2023-09-07",
          "2023-09-08",
          "2023-09-10",
          "2023-09-11",
          "2023-09-12",
          "2023-09-13",
          "2023-09-14",
          "2023-09-15",
          "2023-09-16",
          "2023-09-17",
          "2023-09-19",
          "2023-09-20",
          "2023-09-21",
          "2023-09-22",
          "2023-09-23",
          "2023-09-24",
          "2023-09-25",
          "2023-09-26",
          "2023-09-27",
          "2023-09-28",
          "2023-09-29",
          "2023-09-30",
          "2023-10-01",
          "2023-10-02",
          "2023-10-03",
          "2023-10-05",
          "2023-10-06",
          "2023-10-08",
          "2023-10-09",
          "2023-10-11",
          "2023-10-12",
          "2023-10-13",
          "2023-10-15",
          "2023-10-16",
          "2023-10-17",
          "2023-10-18",
          "2023-10-19",
          "2023-10-20",
          "2023-10-21",
          "2023-10-22",
          "2023-10-23",
          "2023-10-24",
          "2023-10-25",
          "2023-10-26",
          "2023-10-28",
          "2023-10-29",
          "2023-10-30",
          "2023-10-31"
         ],
         "y": [
          200,
          199.4,
          208.6,
          205.1,
          204.2,
          202.8,
          194.5,
          218.4,
          196.1,
          207.6,
          207,
          206.8,
          207.9,
          210.3,
          209.9,
          205.5,
          207.8,
          206.6,
          201.5,
          212.3,
          211,
          205.5,
          202.6,
          204.5,
          207,
          210,
          216,
          218,
          211.8,
          214.5,
          218.1,
          224.6,
          212.2,
          213.2,
          220.8,
          221.4,
          224.7,
          226.1,
          220.9,
          217.8,
          230.4,
          221,
          222.3,
          222.9,
          220.5,
          222.4,
          222.9,
          231.1,
          214.9,
          223,
          225.8,
          225.4,
          223.8
         ]
        },
        {
         "line": {
          "color": "green"
         },
         "mode": "lines",
         "name": "Test Data",
         "type": "scatter",
         "x": [
          "2023-11-01",
          "2023-11-02",
          "2023-11-03",
          "2023-11-04",
          "2023-11-06",
          "2023-11-07",
          "2023-11-08",
          "2023-11-09",
          "2023-11-10",
          "2023-11-11",
          "2023-11-12",
          "2023-11-13",
          "2023-11-14",
          "2023-11-15",
          "2023-11-16",
          "2023-11-17",
          "2023-11-19",
          "2023-11-20",
          "2023-11-21",
          "2023-11-22",
          "2023-11-23",
          "2023-11-24",
          "2023-11-25",
          "2023-11-26",
          "2023-11-27",
          "2023-11-28",
          "2023-11-29",
          "2023-11-30",
          "2023-12-01",
          "2023-12-02",
          "2023-12-03",
          "2023-12-04",
          "2023-12-05",
          "2023-12-07",
          "2023-12-09",
          "2023-12-10",
          "2023-12-11",
          "2023-12-12",
          "2023-12-13",
          "2023-12-14",
          "2023-12-15",
          "2023-12-16",
          "2023-12-17",
          "2023-12-18",
          "2023-12-19",
          "2023-12-20",
          "2023-12-21",
          "2023-12-22",
          "2023-12-26",
          "2023-12-29",
          "2023-12-31",
          "2024-01-01",
          "2024-01-03",
          "2024-01-05",
          "2024-01-08",
          "2024-01-09",
          "2024-01-10",
          "2024-01-11",
          "2024-01-14",
          "2024-01-16",
          "2024-01-17",
          "2024-01-22",
          "2024-01-23",
          "2024-01-24",
          "2024-01-26",
          "2024-01-27",
          "2024-01-28"
         ],
         "y": [
          225.4,
          226.3,
          224.3,
          232.5,
          238.3,
          230.9,
          231.4,
          231.8,
          236.1,
          225.5,
          228.1,
          230.5,
          228.6,
          229.7,
          227.8,
          231.4,
          229.2,
          223.1,
          235.3,
          225.5,
          216.6,
          230.7,
          225.7,
          229.2,
          226.3,
          235.8,
          227.4,
          227.9,
          230.8,
          231.1,
          232.4,
          229.2,
          232.3,
          224.5,
          236.2,
          230,
          232.1,
          229.2,
          229.3,
          228.8,
          229.2,
          227.4,
          229.4,
          225.7,
          235.9,
          222.2,
          228.6,
          220.8,
          218.1,
          227.6,
          220.1,
          221.3,
          227.5,
          229.5,
          224.2,
          226.1,
          222.1,
          221.7,
          219.7,
          215.1,
          219.8,
          214.8,
          210.7,
          208,
          216.3,
          216.8,
          218.2
         ]
        },
        {
         "line": {
          "color": "red"
         },
         "mode": "lines",
         "name": "Prediction",
         "type": "scatter",
         "x": [
          "2023-11-01",
          "2023-11-02",
          "2023-11-03",
          "2023-11-04",
          "2023-11-06",
          "2023-11-07",
          "2023-11-08",
          "2023-11-09",
          "2023-11-10",
          "2023-11-11",
          "2023-11-12",
          "2023-11-13",
          "2023-11-14",
          "2023-11-15",
          "2023-11-16",
          "2023-11-17",
          "2023-11-19",
          "2023-11-20",
          "2023-11-21",
          "2023-11-22",
          "2023-11-23",
          "2023-11-24",
          "2023-11-25",
          "2023-11-26",
          "2023-11-27",
          "2023-11-28",
          "2023-11-29",
          "2023-11-30",
          "2023-12-01",
          "2023-12-02",
          "2023-12-03",
          "2023-12-04",
          "2023-12-05",
          "2023-12-07",
          "2023-12-09",
          "2023-12-10",
          "2023-12-11",
          "2023-12-12",
          "2023-12-13",
          "2023-12-14",
          "2023-12-15",
          "2023-12-16",
          "2023-12-17",
          "2023-12-18",
          "2023-12-19",
          "2023-12-20",
          "2023-12-21",
          "2023-12-22",
          "2023-12-26",
          "2023-12-29",
          "2023-12-31",
          "2024-01-01",
          "2024-01-03",
          "2024-01-05",
          "2024-01-08",
          "2024-01-09",
          "2024-01-10",
          "2024-01-11",
          "2024-01-14",
          "2024-01-16",
          "2024-01-17",
          "2024-01-22",
          "2024-01-23",
          "2024-01-24",
          "2024-01-26",
          "2024-01-27",
          "2024-01-28"
         ],
         "y": [
          225.47174072265625,
          226.08599853515625,
          224.4022979736328,
          232.27291870117188,
          236.0703125,
          233.35848999023438,
          232.09938049316406,
          232.43453979492188,
          236.42193603515625,
          225.90017700195312,
          228.75425720214844,
          234.20761108398438,
          231.78260803222656,
          232.80238342285156,
          228.97825622558594,
          233.12535095214844,
          230.09178161621094,
          223.8966522216797,
          235.70733642578125,
          224.2262725830078,
          218.6541748046875,
          230.2956085205078,
          227.3423309326172,
          230.6801300048828,
          227.73707580566406,
          235.28607177734375,
          229.2641143798828,
          230.353271484375,
          233.56179809570312,
          231.34388732910156,
          232.21649169921875,
          230.5301055908203,
          232.35279846191406,
          225.2119140625,
          235.72552490234375,
          229.41281127929688,
          234.5848388671875,
          228.59576416015625,
          230.2010955810547,
          231.27381896972656,
          231.25729370117188,
          228.97496032714844,
          229.7160186767578,
          225.38389587402344,
          235.44760131835938,
          221.71604919433594,
          229.2833251953125,
          221.33984375,
          217.31842041015625,
          226.0739288330078,
          218.96807861328125,
          221.2653045654297,
          226.3382110595703,
          229.3137664794922,
          223.62437438964844,
          225.6922149658203,
          222.1511993408203,
          220.8556671142578,
          219.50433349609375,
          215.64349365234375,
          219.2097930908203,
          214.3198699951172,
          211.4980926513672,
          206.9609375,
          213.96498107910156,
          216.03610229492188,
          218.2418670654297
         ]
        }
       ],
       "layout": {
        "legend": {
         "title": {
          "text": "Data Type"
         }
        },
        "template": {
         "data": {
          "bar": [
           {
            "error_x": {
             "color": "#2a3f5f"
            },
            "error_y": {
             "color": "#2a3f5f"
            },
            "marker": {
             "line": {
              "color": "#E5ECF6",
              "width": 0.5
             },
             "pattern": {
              "fillmode": "overlay",
              "size": 10,
              "solidity": 0.2
             }
            },
            "type": "bar"
           }
          ],
          "barpolar": [
           {
            "marker": {
             "line": {
              "color": "#E5ECF6",
              "width": 0.5
             },
             "pattern": {
              "fillmode": "overlay",
              "size": 10,
              "solidity": 0.2
             }
            },
            "type": "barpolar"
           }
          ],
          "carpet": [
           {
            "aaxis": {
             "endlinecolor": "#2a3f5f",
             "gridcolor": "white",
             "linecolor": "white",
             "minorgridcolor": "white",
             "startlinecolor": "#2a3f5f"
            },
            "baxis": {
             "endlinecolor": "#2a3f5f",
             "gridcolor": "white",
             "linecolor": "white",
             "minorgridcolor": "white",
             "startlinecolor": "#2a3f5f"
            },
            "type": "carpet"
           }
          ],
          "choropleth": [
           {
            "colorbar": {
             "outlinewidth": 0,
             "ticks": ""
            },
            "type": "choropleth"
           }
          ],
          "contour": [
           {
            "colorbar": {
             "outlinewidth": 0,
             "ticks": ""
            },
            "colorscale": [
             [
              0,
              "#0d0887"
             ],
             [
              0.1111111111111111,
              "#46039f"
             ],
             [
              0.2222222222222222,
              "#7201a8"
             ],
             [
              0.3333333333333333,
              "#9c179e"
             ],
             [
              0.4444444444444444,
              "#bd3786"
             ],
             [
              0.5555555555555556,
              "#d8576b"
             ],
             [
              0.6666666666666666,
              "#ed7953"
             ],
             [
              0.7777777777777778,
              "#fb9f3a"
             ],
             [
              0.8888888888888888,
              "#fdca26"
             ],
             [
              1,
              "#f0f921"
             ]
            ],
            "type": "contour"
           }
          ],
          "contourcarpet": [
           {
            "colorbar": {
             "outlinewidth": 0,
             "ticks": ""
            },
            "type": "contourcarpet"
           }
          ],
          "heatmap": [
           {
            "colorbar": {
             "outlinewidth": 0,
             "ticks": ""
            },
            "colorscale": [
             [
              0,
              "#0d0887"
             ],
             [
              0.1111111111111111,
              "#46039f"
             ],
             [
              0.2222222222222222,
              "#7201a8"
             ],
             [
              0.3333333333333333,
              "#9c179e"
             ],
             [
              0.4444444444444444,
              "#bd3786"
             ],
             [
              0.5555555555555556,
              "#d8576b"
             ],
             [
              0.6666666666666666,
              "#ed7953"
             ],
             [
              0.7777777777777778,
              "#fb9f3a"
             ],
             [
              0.8888888888888888,
              "#fdca26"
             ],
             [
              1,
              "#f0f921"
             ]
            ],
            "type": "heatmap"
           }
          ],
          "heatmapgl": [
           {
            "colorbar": {
             "outlinewidth": 0,
             "ticks": ""
            },
            "colorscale": [
             [
              0,
              "#0d0887"
             ],
             [
              0.1111111111111111,
              "#46039f"
             ],
             [
              0.2222222222222222,
              "#7201a8"
             ],
             [
              0.3333333333333333,
              "#9c179e"
             ],
             [
              0.4444444444444444,
              "#bd3786"
             ],
             [
              0.5555555555555556,
              "#d8576b"
             ],
             [
              0.6666666666666666,
              "#ed7953"
             ],
             [
              0.7777777777777778,
              "#fb9f3a"
             ],
             [
              0.8888888888888888,
              "#fdca26"
             ],
             [
              1,
              "#f0f921"
             ]
            ],
            "type": "heatmapgl"
           }
          ],
          "histogram": [
           {
            "marker": {
             "pattern": {
              "fillmode": "overlay",
              "size": 10,
              "solidity": 0.2
             }
            },
            "type": "histogram"
           }
          ],
          "histogram2d": [
           {
            "colorbar": {
             "outlinewidth": 0,
             "ticks": ""
            },
            "colorscale": [
             [
              0,
              "#0d0887"
             ],
             [
              0.1111111111111111,
              "#46039f"
             ],
             [
              0.2222222222222222,
              "#7201a8"
             ],
             [
              0.3333333333333333,
              "#9c179e"
             ],
             [
              0.4444444444444444,
              "#bd3786"
             ],
             [
              0.5555555555555556,
              "#d8576b"
             ],
             [
              0.6666666666666666,
              "#ed7953"
             ],
             [
              0.7777777777777778,
              "#fb9f3a"
             ],
             [
              0.8888888888888888,
              "#fdca26"
             ],
             [
              1,
              "#f0f921"
             ]
            ],
            "type": "histogram2d"
           }
          ],
          "histogram2dcontour": [
           {
            "colorbar": {
             "outlinewidth": 0,
             "ticks": ""
            },
            "colorscale": [
             [
              0,
              "#0d0887"
             ],
             [
              0.1111111111111111,
              "#46039f"
             ],
             [
              0.2222222222222222,
              "#7201a8"
             ],
             [
              0.3333333333333333,
              "#9c179e"
             ],
             [
              0.4444444444444444,
              "#bd3786"
             ],
             [
              0.5555555555555556,
              "#d8576b"
             ],
             [
              0.6666666666666666,
              "#ed7953"
             ],
             [
              0.7777777777777778,
              "#fb9f3a"
             ],
             [
              0.8888888888888888,
              "#fdca26"
             ],
             [
              1,
              "#f0f921"
             ]
            ],
            "type": "histogram2dcontour"
           }
          ],
          "mesh3d": [
           {
            "colorbar": {
             "outlinewidth": 0,
             "ticks": ""
            },
            "type": "mesh3d"
           }
          ],
          "parcoords": [
           {
            "line": {
             "colorbar": {
              "outlinewidth": 0,
              "ticks": ""
             }
            },
            "type": "parcoords"
           }
          ],
          "pie": [
           {
            "automargin": true,
            "type": "pie"
           }
          ],
          "scatter": [
           {
            "fillpattern": {
             "fillmode": "overlay",
             "size": 10,
             "solidity": 0.2
            },
            "type": "scatter"
           }
          ],
          "scatter3d": [
           {
            "line": {
             "colorbar": {
              "outlinewidth": 0,
              "ticks": ""
             }
            },
            "marker": {
             "colorbar": {
              "outlinewidth": 0,
              "ticks": ""
             }
            },
            "type": "scatter3d"
           }
          ],
          "scattercarpet": [
           {
            "marker": {
             "colorbar": {
              "outlinewidth": 0,
              "ticks": ""
             }
            },
            "type": "scattercarpet"
           }
          ],
          "scattergeo": [
           {
            "marker": {
             "colorbar": {
              "outlinewidth": 0,
              "ticks": ""
             }
            },
            "type": "scattergeo"
           }
          ],
          "scattergl": [
           {
            "marker": {
             "colorbar": {
              "outlinewidth": 0,
              "ticks": ""
             }
            },
            "type": "scattergl"
           }
          ],
          "scattermapbox": [
           {
            "marker": {
             "colorbar": {
              "outlinewidth": 0,
              "ticks": ""
             }
            },
            "type": "scattermapbox"
           }
          ],
          "scatterpolar": [
           {
            "marker": {
             "colorbar": {
              "outlinewidth": 0,
              "ticks": ""
             }
            },
            "type": "scatterpolar"
           }
          ],
          "scatterpolargl": [
           {
            "marker": {
             "colorbar": {
              "outlinewidth": 0,
              "ticks": ""
             }
            },
            "type": "scatterpolargl"
           }
          ],
          "scatterternary": [
           {
            "marker": {
             "colorbar": {
              "outlinewidth": 0,
              "ticks": ""
             }
            },
            "type": "scatterternary"
           }
          ],
          "surface": [
           {
            "colorbar": {
             "outlinewidth": 0,
             "ticks": ""
            },
            "colorscale": [
             [
              0,
              "#0d0887"
             ],
             [
              0.1111111111111111,
              "#46039f"
             ],
             [
              0.2222222222222222,
              "#7201a8"
             ],
             [
              0.3333333333333333,
              "#9c179e"
             ],
             [
              0.4444444444444444,
              "#bd3786"
             ],
             [
              0.5555555555555556,
              "#d8576b"
             ],
             [
              0.6666666666666666,
              "#ed7953"
             ],
             [
              0.7777777777777778,
              "#fb9f3a"
             ],
             [
              0.8888888888888888,
              "#fdca26"
             ],
             [
              1,
              "#f0f921"
             ]
            ],
            "type": "surface"
           }
          ],
          "table": [
           {
            "cells": {
             "fill": {
              "color": "#EBF0F8"
             },
             "line": {
              "color": "white"
             }
            },
            "header": {
             "fill": {
              "color": "#C8D4E3"
             },
             "line": {
              "color": "white"
             }
            },
            "type": "table"
           }
          ]
         },
         "layout": {
          "annotationdefaults": {
           "arrowcolor": "#2a3f5f",
           "arrowhead": 0,
           "arrowwidth": 1
          },
          "autotypenumbers": "strict",
          "coloraxis": {
           "colorbar": {
            "outlinewidth": 0,
            "ticks": ""
           }
          },
          "colorscale": {
           "diverging": [
            [
             0,
             "#8e0152"
            ],
            [
             0.1,
             "#c51b7d"
            ],
            [
             0.2,
             "#de77ae"
            ],
            [
             0.3,
             "#f1b6da"
            ],
            [
             0.4,
             "#fde0ef"
            ],
            [
             0.5,
             "#f7f7f7"
            ],
            [
             0.6,
             "#e6f5d0"
            ],
            [
             0.7,
             "#b8e186"
            ],
            [
             0.8,
             "#7fbc41"
            ],
            [
             0.9,
             "#4d9221"
            ],
            [
             1,
             "#276419"
            ]
           ],
           "sequential": [
            [
             0,
             "#0d0887"
            ],
            [
             0.1111111111111111,
             "#46039f"
            ],
            [
             0.2222222222222222,
             "#7201a8"
            ],
            [
             0.3333333333333333,
             "#9c179e"
            ],
            [
             0.4444444444444444,
             "#bd3786"
            ],
            [
             0.5555555555555556,
             "#d8576b"
            ],
            [
             0.6666666666666666,
             "#ed7953"
            ],
            [
             0.7777777777777778,
             "#fb9f3a"
            ],
            [
             0.8888888888888888,
             "#fdca26"
            ],
            [
             1,
             "#f0f921"
            ]
           ],
           "sequentialminus": [
            [
             0,
             "#0d0887"
            ],
            [
             0.1111111111111111,
             "#46039f"
            ],
            [
             0.2222222222222222,
             "#7201a8"
            ],
            [
             0.3333333333333333,
             "#9c179e"
            ],
            [
             0.4444444444444444,
             "#bd3786"
            ],
            [
             0.5555555555555556,
             "#d8576b"
            ],
            [
             0.6666666666666666,
             "#ed7953"
            ],
            [
             0.7777777777777778,
             "#fb9f3a"
            ],
            [
             0.8888888888888888,
             "#fdca26"
            ],
            [
             1,
             "#f0f921"
            ]
           ]
          },
          "colorway": [
           "#636efa",
           "#EF553B",
           "#00cc96",
           "#ab63fa",
           "#FFA15A",
           "#19d3f3",
           "#FF6692",
           "#B6E880",
           "#FF97FF",
           "#FECB52"
          ],
          "font": {
           "color": "#2a3f5f"
          },
          "geo": {
           "bgcolor": "white",
           "lakecolor": "white",
           "landcolor": "#E5ECF6",
           "showlakes": true,
           "showland": true,
           "subunitcolor": "white"
          },
          "hoverlabel": {
           "align": "left"
          },
          "hovermode": "closest",
          "mapbox": {
           "style": "light"
          },
          "paper_bgcolor": "white",
          "plot_bgcolor": "#E5ECF6",
          "polar": {
           "angularaxis": {
            "gridcolor": "white",
            "linecolor": "white",
            "ticks": ""
           },
           "bgcolor": "#E5ECF6",
           "radialaxis": {
            "gridcolor": "white",
            "linecolor": "white",
            "ticks": ""
           }
          },
          "scene": {
           "xaxis": {
            "backgroundcolor": "#E5ECF6",
            "gridcolor": "white",
            "gridwidth": 2,
            "linecolor": "white",
            "showbackground": true,
            "ticks": "",
            "zerolinecolor": "white"
           },
           "yaxis": {
            "backgroundcolor": "#E5ECF6",
            "gridcolor": "white",
            "gridwidth": 2,
            "linecolor": "white",
            "showbackground": true,
            "ticks": "",
            "zerolinecolor": "white"
           },
           "zaxis": {
            "backgroundcolor": "#E5ECF6",
            "gridcolor": "white",
            "gridwidth": 2,
            "linecolor": "white",
            "showbackground": true,
            "ticks": "",
            "zerolinecolor": "white"
           }
          },
          "shapedefaults": {
           "line": {
            "color": "#2a3f5f"
           }
          },
          "ternary": {
           "aaxis": {
            "gridcolor": "white",
            "linecolor": "white",
            "ticks": ""
           },
           "baxis": {
            "gridcolor": "white",
            "linecolor": "white",
            "ticks": ""
           },
           "bgcolor": "#E5ECF6",
           "caxis": {
            "gridcolor": "white",
            "linecolor": "white",
            "ticks": ""
           }
          },
          "title": {
           "x": 0.05
          },
          "xaxis": {
           "automargin": true,
           "gridcolor": "white",
           "linecolor": "white",
           "ticks": "",
           "title": {
            "standoff": 15
           },
           "zerolinecolor": "white",
           "zerolinewidth": 2
          },
          "yaxis": {
           "automargin": true,
           "gridcolor": "white",
           "linecolor": "white",
           "ticks": "",
           "title": {
            "standoff": 15
           },
           "zerolinecolor": "white",
           "zerolinewidth": 2
          }
         }
        },
        "title": {
         "text": "Time Series for the 1 ID"
        },
        "xaxis": {
         "range": [
          "2023-09-01",
          "2024-01-28"
         ],
         "title": {
          "text": "Date"
         }
        },
        "yaxis": {
         "title": {
          "text": "Beervolume"
         }
        }
       }
      }
     },
     "metadata": {},
     "output_type": "display_data"
    }
   ],
   "source": [
    "# Make predictions for a specific ID (ID=1) using the 'predict_id' function\n",
    "prediction_for_id = predict_id(\n",
    "    1, \n",
    "    X_test, \n",
    "    model,\n",
    ")\n",
    "\n",
    "# Generate a Plotly figure for visualizing the predictions\n",
    "fig = plot_prediction_test(\n",
    "    1, \n",
    "    X_train, \n",
    "    X_test, \n",
    "    y_train, \n",
    "    y_test, \n",
    "    train_date, \n",
    "    test_date, \n",
    "    prediction_for_id,\n",
    ")\n",
    "\n",
    "# Display the generated Plotly figure\n",
    "fig.show()"
   ]
  },
  {
   "cell_type": "markdown",
   "id": "558799fa",
   "metadata": {},
   "source": [
    "## <span style=\"color:#ff5f27\">⚙️ Creating the Model Schema </span>\n",
    "Now that we know what the input training features and the target/output variables will look like, we can create a schema for this and save this to a dictionary."
   ]
  },
  {
   "cell_type": "code",
   "execution_count": 15,
   "id": "3b490e4d",
   "metadata": {},
   "outputs": [
    {
     "data": {
      "text/plain": [
       "{'input_schema': {'tensor_schema': {'shape': '(263577, 9)',\n",
       "   'type': 'float64'}},\n",
       " 'output_schema': {'columnar_schema': [{'name': 'beervolume',\n",
       "    'type': 'float64'}]}}"
      ]
     },
     "execution_count": 15,
     "metadata": {},
     "output_type": "execute_result"
    }
   ],
   "source": [
    "from hsml.schema import Schema\n",
    "from hsml.model_schema import ModelSchema\n",
    "\n",
    "# Create an input schema using the training features\n",
    "input_schema = Schema(X_train.values)\n",
    "\n",
    "# Create an output schema using the target variable\n",
    "output_schema = Schema(y_train)\n",
    "\n",
    "# Create a model schema using the input and output schemas\n",
    "model_schema = ModelSchema(\n",
    "    input_schema=input_schema, \n",
    "    output_schema=output_schema,\n",
    ")\n",
    "\n",
    "# Convert the model schema to a dictionary\n",
    "model_schema.to_dict()"
   ]
  },
  {
   "cell_type": "markdown",
   "id": "44e8f511",
   "metadata": {},
   "source": [
    "## <span style=\"color:#ff5f27\">📝 Registering the model in the Hopsworks registry</span>\n",
    "We will also save and persist the model in Hopsworks, in case future decisions would need to be retraced to a specific version of the prediction system:"
   ]
  },
  {
   "cell_type": "code",
   "execution_count": 16,
   "id": "fb397a64",
   "metadata": {},
   "outputs": [],
   "source": [
    "# Specify the directory for saving the model\n",
    "model_dir = \"beervolume_model\"\n",
    "\n",
    "# Check if the directory exists, and create it if not\n",
    "if not os.path.isdir(model_dir):\n",
    "    os.mkdir(model_dir)\n",
    "\n",
    "# Save the trained XGBoost model using joblib\n",
    "joblib.dump(model, f'{model_dir}/xgboost_beervolume_model.pkl')\n",
    "\n",
    "# Write the generated Plotly figure image to the specified directory\n",
    "fig.write_image(f'{model_dir}/model_prediction.png')"
   ]
  },
  {
   "cell_type": "code",
   "execution_count": 17,
   "id": "782f9731",
   "metadata": {},
   "outputs": [
    {
     "name": "stdout",
     "output_type": "stream",
     "text": [
      "Connected. Call `.close()` to terminate connection gracefully.\n"
     ]
    },
    {
     "data": {
      "application/vnd.jupyter.widget-view+json": {
       "model_id": "bf2afb7b8e914b989c2a116fd3fa33cc",
       "version_major": 2,
       "version_minor": 0
      },
      "text/plain": [
       "  0%|          | 0/6 [00:00<?, ?it/s]"
      ]
     },
     "metadata": {},
     "output_type": "display_data"
    },
    {
     "data": {
      "application/vnd.jupyter.widget-view+json": {
       "model_id": "b0e96fb48ddb4202ac23ee3c40af7726",
       "version_major": 2,
       "version_minor": 0
      },
      "text/plain": [
       "Uploading: 0.000%|          | 0/493946 elapsed<00:00 remaining<?"
      ]
     },
     "metadata": {},
     "output_type": "display_data"
    },
    {
     "data": {
      "application/vnd.jupyter.widget-view+json": {
       "model_id": "b0cbde04cb8c48d6874de9683c0415bb",
       "version_major": 2,
       "version_minor": 0
      },
      "text/plain": [
       "Uploading: 0.000%|          | 0/59901 elapsed<00:00 remaining<?"
      ]
     },
     "metadata": {},
     "output_type": "display_data"
    },
    {
     "data": {
      "application/vnd.jupyter.widget-view+json": {
       "model_id": "3da155e069454750a38a3b24c3b5ee8c",
       "version_major": 2,
       "version_minor": 0
      },
      "text/plain": [
       "Uploading: 0.000%|          | 0/125 elapsed<00:00 remaining<?"
      ]
     },
     "metadata": {},
     "output_type": "display_data"
    },
    {
     "data": {
      "application/vnd.jupyter.widget-view+json": {
       "model_id": "4bd9995b3b4a4a1ebdf94547ea9f2e94",
       "version_major": 2,
       "version_minor": 0
      },
      "text/plain": [
       "Uploading: 0.000%|          | 0/239 elapsed<00:00 remaining<?"
      ]
     },
     "metadata": {},
     "output_type": "display_data"
    },
    {
     "name": "stdout",
     "output_type": "stream",
     "text": [
      "Model created, explore it at https://172f2800-9e76-11ee-ba4c-277d56d9f8e7.cloud.hopsworks.ai:443/p/120/models/xgboost_beervolume_model/3\n"
     ]
    },
    {
     "data": {
      "text/plain": [
       "Model(name: 'xgboost_beervolume_model', version: 3)"
      ]
     },
     "execution_count": 17,
     "metadata": {},
     "output_type": "execute_result"
    }
   ],
   "source": [
    "# Get the model registry from the project\n",
    "mr = project.get_model_registry()\n",
    "\n",
    "# Create a Python model in the model registry named 'xgboost_price_model'\n",
    "beervolume_model = mr.python.create_model(\n",
    "    name=\"xgboost_beervolume_model\", \n",
    "    metrics={\"MSE\": mse},           # Specify metrics (Mean Squared Error)\n",
    "    model_schema=model_schema,      # Provide the model schema\n",
    "    input_example=X_train.sample(), # Provide an example of the input data\n",
    "    description=\"Beervolume Predictor\",  # Add a description for the model\n",
    ")\n",
    "\n",
    "# Save the model to the specified directory\n",
    "beervolume_model.save(model_dir)"
   ]
  },
  {
   "cell_type": "markdown",
   "id": "88bfb99f",
   "metadata": {},
   "source": [
    "# <span style=\"color:#ff5f27\">🚀 Beervolume Consumption Prediction Model Deployment</span>\n",
    "\n",
    "**About Model Serving**\n",
    "\n",
    "Models can be served via KFServing or \"default\" serving, which means a Docker container exposing a Flask server. For KFServing models, or models written in Tensorflow, we do not need to write a prediction file. However, for sklearn models using default serving, you do need to proceed to write a prediction file.\n",
    "\n",
    "We will not go into this at this point - and wrap up the 2nd part of our prediction system with this training example.\n",
    "\n",
    "----"
   ]
  },
  {
   "cell_type": "markdown",
   "id": "4017c8e4",
   "metadata": {},
   "source": [
    "## <span style=\"color:#ff5f27\">📎 Predictor script for Python models</span>\n",
    "\n",
    "Scikit-learn and XGBoost models are deployed as Python models, in which case you need to provide a Predict class that implements the predict method. The `predict()` method invokes the model on the inputs and returns the prediction as a list.\n",
    "\n",
    "The `init()` method is run when the predictor is loaded into memory, loading the model from the local directory it is materialized to, ARTIFACT_FILES_PATH.\n",
    "\n",
    "The directive **\"%%writefile\"** writes out the cell before to the given Python file. We will use the **predict_example.py** file to create a deployment for our model."
   ]
  },
  {
   "cell_type": "code",
   "execution_count": 18,
   "id": "79a97ca9",
   "metadata": {},
   "outputs": [
    {
     "name": "stdout",
     "output_type": "stream",
     "text": [
      "Overwriting predict_example.py\n"
     ]
    }
   ],
   "source": [
    "%%writefile predict_example.py\n",
    "import os\n",
    "import numpy as np\n",
    "import pandas as pd\n",
    "import hsfs\n",
    "import joblib\n",
    "\n",
    "\n",
    "class Predict(object):\n",
    "\n",
    "    def __init__(self):\n",
    "        \"\"\" Initializes the serving state, reads a trained model\"\"\"        \n",
    "        # get feature store handle\n",
    "        fs_conn = hsfs.connection()\n",
    "        self.fs = fs_conn.get_feature_store()\n",
    "        \n",
    "        # get feature view\n",
    "        self.fv = self.fs.get_feature_view(\"beervolume_fv\", 1)\n",
    "        \n",
    "        # initialize serving\n",
    "        self.fv.init_serving(1)\n",
    "\n",
    "        # load the trained model\n",
    "        self.model = joblib.load(os.environ[\"ARTIFACT_FILES_PATH\"] + \"/xgboost_beervolume_model.pkl\")\n",
    "        print(\"Initialization of Beervolume model Complete\")\n",
    "\n",
    "    \n",
    "    def predict(self, id_value):\n",
    "        \"\"\" Serves a Beervolume prediction request usign a trained model\"\"\"\n",
    "        # Retrieve feature vectors\n",
    "        feature_vector = self.fv.get_feature_vector(\n",
    "            entry = {'id': id_value[0]}\n",
    "        )\n",
    "        return self.model.predict(np.asarray(feature_vector[1:]).reshape(1, -1)).tolist()"
   ]
  },
  {
   "cell_type": "markdown",
   "id": "b979582c",
   "metadata": {},
   "source": [
    "This script needs to be put into a known location in the Hopsworks file system. Let's call the file predict_example.py and put it in the Models directory."
   ]
  },
  {
   "cell_type": "code",
   "execution_count": 19,
   "id": "a64048e9",
   "metadata": {},
   "outputs": [
    {
     "data": {
      "application/vnd.jupyter.widget-view+json": {
       "model_id": "23f227c90f9944aba4476cbaf957599d",
       "version_major": 2,
       "version_minor": 0
      },
      "text/plain": [
       "Uploading: 0.000%|          | 0/1027 elapsed<00:00 remaining<?"
      ]
     },
     "metadata": {},
     "output_type": "display_data"
    }
   ],
   "source": [
    "# Get the dataset API from the project\n",
    "dataset_api = project.get_dataset_api()\n",
    "\n",
    "# Upload the file \"predict_example.py\" to the \"Models\" dataset, overwriting if it already exists\n",
    "uploaded_file_path = dataset_api.upload(\"predict_example.py\", \"Models\", overwrite=True)\n",
    "\n",
    "# Create the full path to the uploaded predictor script\n",
    "predictor_script_path = os.path.join(\"/Projects\", project.name, uploaded_file_path)"
   ]
  },
  {
   "cell_type": "markdown",
   "id": "7d7cea10",
   "metadata": {},
   "source": [
    "---"
   ]
  },
  {
   "cell_type": "markdown",
   "id": "cf59ec95",
   "metadata": {},
   "source": [
    "## <span style=\"color:#ff5f27\">🚀 Create the deployment</span>\n",
    "\n",
    "Here, you fetch the model you want from the model registry and define a configuration for the deployment. For the configuration, you need to specify the serving type (default or KFserving)."
   ]
  },
  {
   "cell_type": "code",
   "execution_count": 21,
   "id": "9f98e2dd",
   "metadata": {},
   "outputs": [
    {
     "name": "stdout",
     "output_type": "stream",
     "text": [
      ", but it is serving a different model version.\n",
      "Please, choose a different name.\n"
     ]
    },
    {
     "ename": "RestAPIError",
     "evalue": "Metadata operation error: (url: https://172f2800-9e76-11ee-ba4c-277d56d9f8e7.cloud.hopsworks.ai/hopsworks-api/api/project/120/serving). Server response: \nHTTP code: 400, HTTP reason: Bad Request, body: b'{\"errorCode\":240011,\"errorMsg\":\"An entry with the same name already exists in this project\"}', error code: 240011, error msg: An entry with the same name already exists in this project, user msg: ",
     "output_type": "error",
     "traceback": [
      "\u001b[0;31m---------------------------------------------------------------------------\u001b[0m",
      "\u001b[0;31mRestAPIError\u001b[0m                              Traceback (most recent call last)",
      "Cell \u001b[0;32mIn[21], line 2\u001b[0m\n\u001b[1;32m      1\u001b[0m \u001b[38;5;66;03m# Deploy the 'beervolume_model'\u001b[39;00m\n\u001b[0;32m----> 2\u001b[0m deployment \u001b[38;5;241m=\u001b[39m \u001b[43mbeervolume_model\u001b[49m\u001b[38;5;241;43m.\u001b[39;49m\u001b[43mdeploy\u001b[49m\u001b[43m(\u001b[49m\n\u001b[1;32m      3\u001b[0m \u001b[43m    \u001b[49m\u001b[43mname\u001b[49m\u001b[38;5;241;43m=\u001b[39;49m\u001b[38;5;124;43m\"\u001b[39;49m\u001b[38;5;124;43mbeervolumeonlinemodeldeployment\u001b[39;49m\u001b[38;5;124;43m\"\u001b[39;49m\u001b[43m,\u001b[49m\u001b[43m  \u001b[49m\u001b[38;5;66;43;03m# Specify the deployment name\u001b[39;49;00m\n\u001b[1;32m      4\u001b[0m \u001b[43m    \u001b[49m\u001b[43mscript_file\u001b[49m\u001b[38;5;241;43m=\u001b[39;49m\u001b[43mpredictor_script_path\u001b[49m\u001b[43m,\u001b[49m\u001b[43m  \u001b[49m\u001b[38;5;66;43;03m# Provide the path to the predictor script\u001b[39;49;00m\n\u001b[1;32m      5\u001b[0m \u001b[43m)\u001b[49m\n",
      "File \u001b[0;32m~/.pyenv/versions/3.11.6/lib/python3.11/site-packages/hsml/model.py:185\u001b[0m, in \u001b[0;36mModel.deploy\u001b[0;34m(self, name, description, artifact_version, serving_tool, script_file, resources, inference_logger, inference_batcher, transformer)\u001b[0m\n\u001b[1;32m    170\u001b[0m     name \u001b[38;5;241m=\u001b[39m \u001b[38;5;28mself\u001b[39m\u001b[38;5;241m.\u001b[39m_name\n\u001b[1;32m    172\u001b[0m predictor \u001b[38;5;241m=\u001b[39m Predictor\u001b[38;5;241m.\u001b[39mfor_model(\n\u001b[1;32m    173\u001b[0m     \u001b[38;5;28mself\u001b[39m,\n\u001b[1;32m    174\u001b[0m     name\u001b[38;5;241m=\u001b[39mname,\n\u001b[0;32m   (...)\u001b[0m\n\u001b[1;32m    182\u001b[0m     transformer\u001b[38;5;241m=\u001b[39mtransformer,\n\u001b[1;32m    183\u001b[0m )\n\u001b[0;32m--> 185\u001b[0m \u001b[38;5;28;01mreturn\u001b[39;00m \u001b[43mpredictor\u001b[49m\u001b[38;5;241;43m.\u001b[39;49m\u001b[43mdeploy\u001b[49m\u001b[43m(\u001b[49m\u001b[43m)\u001b[49m\n",
      "File \u001b[0;32m~/.pyenv/versions/3.11.6/lib/python3.11/site-packages/hsml/predictor.py:122\u001b[0m, in \u001b[0;36mPredictor.deploy\u001b[0;34m(self)\u001b[0m\n\u001b[1;32m     91\u001b[0m \u001b[38;5;250m\u001b[39m\u001b[38;5;124;03m\"\"\"Create a deployment for this predictor and persists it in the Model Serving.\u001b[39;00m\n\u001b[1;32m     92\u001b[0m \n\u001b[1;32m     93\u001b[0m \u001b[38;5;124;03m!!! example\u001b[39;00m\n\u001b[0;32m   (...)\u001b[0m\n\u001b[1;32m    116\u001b[0m \u001b[38;5;124;03m    `Deployment`. The deployment metadata object of a new or existing deployment.\u001b[39;00m\n\u001b[1;32m    117\u001b[0m \u001b[38;5;124;03m\"\"\"\u001b[39;00m\n\u001b[1;32m    119\u001b[0m _deployment \u001b[38;5;241m=\u001b[39m deployment\u001b[38;5;241m.\u001b[39mDeployment(\n\u001b[1;32m    120\u001b[0m     predictor\u001b[38;5;241m=\u001b[39m\u001b[38;5;28mself\u001b[39m, name\u001b[38;5;241m=\u001b[39m\u001b[38;5;28mself\u001b[39m\u001b[38;5;241m.\u001b[39m_name, description\u001b[38;5;241m=\u001b[39m\u001b[38;5;28mself\u001b[39m\u001b[38;5;241m.\u001b[39m_description\n\u001b[1;32m    121\u001b[0m )\n\u001b[0;32m--> 122\u001b[0m \u001b[43m_deployment\u001b[49m\u001b[38;5;241;43m.\u001b[39;49m\u001b[43msave\u001b[49m\u001b[43m(\u001b[49m\u001b[43m)\u001b[49m\n\u001b[1;32m    124\u001b[0m \u001b[38;5;28;01mreturn\u001b[39;00m _deployment\n",
      "File \u001b[0;32m~/.pyenv/versions/3.11.6/lib/python3.11/site-packages/hsml/deployment.py:73\u001b[0m, in \u001b[0;36mDeployment.save\u001b[0;34m(self, await_update)\u001b[0m\n\u001b[1;32m     64\u001b[0m \u001b[38;5;28;01mdef\u001b[39;00m \u001b[38;5;21msave\u001b[39m(\u001b[38;5;28mself\u001b[39m, await_update: Optional[\u001b[38;5;28mint\u001b[39m] \u001b[38;5;241m=\u001b[39m \u001b[38;5;241m60\u001b[39m):\n\u001b[1;32m     65\u001b[0m \u001b[38;5;250m    \u001b[39m\u001b[38;5;124;03m\"\"\"Persist this deployment including the predictor and metadata to Model Serving.\u001b[39;00m\n\u001b[1;32m     66\u001b[0m \n\u001b[1;32m     67\u001b[0m \u001b[38;5;124;03m    # Arguments\u001b[39;00m\n\u001b[0;32m   (...)\u001b[0m\n\u001b[1;32m     70\u001b[0m \u001b[38;5;124;03m                      the update in the background.\u001b[39;00m\n\u001b[1;32m     71\u001b[0m \u001b[38;5;124;03m    \"\"\"\u001b[39;00m\n\u001b[0;32m---> 73\u001b[0m     \u001b[38;5;28;43mself\u001b[39;49m\u001b[38;5;241;43m.\u001b[39;49m\u001b[43m_serving_engine\u001b[49m\u001b[38;5;241;43m.\u001b[39;49m\u001b[43msave\u001b[49m\u001b[43m(\u001b[49m\u001b[38;5;28;43mself\u001b[39;49m\u001b[43m,\u001b[49m\u001b[43m \u001b[49m\u001b[43mawait_update\u001b[49m\u001b[43m)\u001b[49m\n",
      "File \u001b[0;32m~/.pyenv/versions/3.11.6/lib/python3.11/site-packages/hsml/engine/serving_engine.py:482\u001b[0m, in \u001b[0;36mServingEngine.save\u001b[0;34m(self, deployment_instance, await_update)\u001b[0m\n\u001b[1;32m    479\u001b[0m \u001b[38;5;28;01mdef\u001b[39;00m \u001b[38;5;21msave\u001b[39m(\u001b[38;5;28mself\u001b[39m, deployment_instance, await_update: \u001b[38;5;28mint\u001b[39m):\n\u001b[1;32m    480\u001b[0m     \u001b[38;5;28;01mif\u001b[39;00m deployment_instance\u001b[38;5;241m.\u001b[39mid \u001b[38;5;129;01mis\u001b[39;00m \u001b[38;5;28;01mNone\u001b[39;00m:\n\u001b[1;32m    481\u001b[0m         \u001b[38;5;66;03m# if new deployment\u001b[39;00m\n\u001b[0;32m--> 482\u001b[0m         \u001b[38;5;28;43mself\u001b[39;49m\u001b[38;5;241;43m.\u001b[39;49m\u001b[43mcreate\u001b[49m\u001b[43m(\u001b[49m\u001b[43mdeployment_instance\u001b[49m\u001b[43m)\u001b[49m\n\u001b[1;32m    483\u001b[0m         \u001b[38;5;28;01mreturn\u001b[39;00m\n\u001b[1;32m    485\u001b[0m     \u001b[38;5;66;03m# if existing deployment\u001b[39;00m\n",
      "File \u001b[0;32m~/.pyenv/versions/3.11.6/lib/python3.11/site-packages/hsml/engine/serving_engine.py:425\u001b[0m, in \u001b[0;36mServingEngine.create\u001b[0;34m(self, deployment_instance)\u001b[0m\n\u001b[1;32m    422\u001b[0m             \u001b[38;5;28mprint\u001b[39m(\u001b[38;5;124m\"\u001b[39m\u001b[38;5;124mPlease, choose a different name.\u001b[39m\u001b[38;5;124m\"\u001b[39m)\n\u001b[1;32m    424\u001b[0m     \u001b[38;5;28;01mif\u001b[39;00m raise_err:\n\u001b[0;32m--> 425\u001b[0m         \u001b[38;5;28;01mraise\u001b[39;00m re\n\u001b[1;32m    427\u001b[0m \u001b[38;5;28;01mif\u001b[39;00m deployment_instance\u001b[38;5;241m.\u001b[39mis_stopped():\n\u001b[1;32m    428\u001b[0m     \u001b[38;5;28mprint\u001b[39m(\u001b[38;5;124m\"\u001b[39m\u001b[38;5;124mBefore making predictions, start the deployment by using `.start()`\u001b[39m\u001b[38;5;124m\"\u001b[39m)\n",
      "File \u001b[0;32m~/.pyenv/versions/3.11.6/lib/python3.11/site-packages/hsml/engine/serving_engine.py:402\u001b[0m, in \u001b[0;36mServingEngine.create\u001b[0;34m(self, deployment_instance)\u001b[0m\n\u001b[1;32m    400\u001b[0m \u001b[38;5;28;01mdef\u001b[39;00m \u001b[38;5;21mcreate\u001b[39m(\u001b[38;5;28mself\u001b[39m, deployment_instance):\n\u001b[1;32m    401\u001b[0m     \u001b[38;5;28;01mtry\u001b[39;00m:\n\u001b[0;32m--> 402\u001b[0m         \u001b[38;5;28;43mself\u001b[39;49m\u001b[38;5;241;43m.\u001b[39;49m\u001b[43m_serving_api\u001b[49m\u001b[38;5;241;43m.\u001b[39;49m\u001b[43mput\u001b[49m\u001b[43m(\u001b[49m\u001b[43mdeployment_instance\u001b[49m\u001b[43m)\u001b[49m\n\u001b[1;32m    403\u001b[0m         \u001b[38;5;28mprint\u001b[39m(\u001b[38;5;124m\"\u001b[39m\u001b[38;5;124mDeployment created, explore it at \u001b[39m\u001b[38;5;124m\"\u001b[39m \u001b[38;5;241m+\u001b[39m deployment_instance\u001b[38;5;241m.\u001b[39mget_url())\n\u001b[1;32m    404\u001b[0m     \u001b[38;5;28;01mexcept\u001b[39;00m RestAPIError \u001b[38;5;28;01mas\u001b[39;00m re:\n",
      "File \u001b[0;32m~/.pyenv/versions/3.11.6/lib/python3.11/site-packages/hsml/core/serving_api.py:112\u001b[0m, in \u001b[0;36mServingApi.put\u001b[0;34m(self, deployment_instance)\u001b[0m\n\u001b[1;32m    108\u001b[0m \u001b[38;5;28;01mif\u001b[39;00m deployment_instance\u001b[38;5;241m.\u001b[39martifact_version \u001b[38;5;241m==\u001b[39m ARTIFACT_VERSION\u001b[38;5;241m.\u001b[39mCREATE:\n\u001b[1;32m    109\u001b[0m     deployment_instance\u001b[38;5;241m.\u001b[39martifact_version \u001b[38;5;241m=\u001b[39m \u001b[38;5;241m-\u001b[39m\u001b[38;5;241m1\u001b[39m\n\u001b[1;32m    111\u001b[0m \u001b[38;5;28;01mreturn\u001b[39;00m deployment_instance\u001b[38;5;241m.\u001b[39mupdate_from_response_json(\n\u001b[0;32m--> 112\u001b[0m     \u001b[43m_client\u001b[49m\u001b[38;5;241;43m.\u001b[39;49m\u001b[43m_send_request\u001b[49m\u001b[43m(\u001b[49m\n\u001b[1;32m    113\u001b[0m \u001b[43m        \u001b[49m\u001b[38;5;124;43m\"\u001b[39;49m\u001b[38;5;124;43mPUT\u001b[39;49m\u001b[38;5;124;43m\"\u001b[39;49m\u001b[43m,\u001b[49m\n\u001b[1;32m    114\u001b[0m \u001b[43m        \u001b[49m\u001b[43mpath_params\u001b[49m\u001b[43m,\u001b[49m\n\u001b[1;32m    115\u001b[0m \u001b[43m        \u001b[49m\u001b[43mheaders\u001b[49m\u001b[38;5;241;43m=\u001b[39;49m\u001b[43mheaders\u001b[49m\u001b[43m,\u001b[49m\n\u001b[1;32m    116\u001b[0m \u001b[43m        \u001b[49m\u001b[43mdata\u001b[49m\u001b[38;5;241;43m=\u001b[39;49m\u001b[43mdeployment_instance\u001b[49m\u001b[38;5;241;43m.\u001b[39;49m\u001b[43mjson\u001b[49m\u001b[43m(\u001b[49m\u001b[43m)\u001b[49m\u001b[43m,\u001b[49m\n\u001b[1;32m    117\u001b[0m \u001b[43m    \u001b[49m\u001b[43m)\u001b[49m\n\u001b[1;32m    118\u001b[0m )\n",
      "File \u001b[0;32m~/.pyenv/versions/3.11.6/lib/python3.11/site-packages/hsml/decorators.py:35\u001b[0m, in \u001b[0;36mconnected.<locals>.if_connected\u001b[0;34m(inst, *args, **kwargs)\u001b[0m\n\u001b[1;32m     33\u001b[0m \u001b[38;5;28;01mif\u001b[39;00m \u001b[38;5;129;01mnot\u001b[39;00m inst\u001b[38;5;241m.\u001b[39m_connected:\n\u001b[1;32m     34\u001b[0m     \u001b[38;5;28;01mraise\u001b[39;00m NoHopsworksConnectionError\n\u001b[0;32m---> 35\u001b[0m \u001b[38;5;28;01mreturn\u001b[39;00m \u001b[43mfn\u001b[49m\u001b[43m(\u001b[49m\u001b[43minst\u001b[49m\u001b[43m,\u001b[49m\u001b[43m \u001b[49m\u001b[38;5;241;43m*\u001b[39;49m\u001b[43margs\u001b[49m\u001b[43m,\u001b[49m\u001b[43m \u001b[49m\u001b[38;5;241;43m*\u001b[39;49m\u001b[38;5;241;43m*\u001b[39;49m\u001b[43mkwargs\u001b[49m\u001b[43m)\u001b[49m\n",
      "File \u001b[0;32m~/.pyenv/versions/3.11.6/lib/python3.11/site-packages/hsml/client/base.py:108\u001b[0m, in \u001b[0;36mClient._send_request\u001b[0;34m(self, method, path_params, query_params, headers, data, stream, files)\u001b[0m\n\u001b[1;32m    105\u001b[0m     response \u001b[38;5;241m=\u001b[39m \u001b[38;5;28mself\u001b[39m\u001b[38;5;241m.\u001b[39m_session\u001b[38;5;241m.\u001b[39msend(prepped, verify\u001b[38;5;241m=\u001b[39m\u001b[38;5;28mself\u001b[39m\u001b[38;5;241m.\u001b[39m_verify, stream\u001b[38;5;241m=\u001b[39mstream)\n\u001b[1;32m    107\u001b[0m \u001b[38;5;28;01mif\u001b[39;00m response\u001b[38;5;241m.\u001b[39mstatus_code \u001b[38;5;241m/\u001b[39m\u001b[38;5;241m/\u001b[39m \u001b[38;5;241m100\u001b[39m \u001b[38;5;241m!=\u001b[39m \u001b[38;5;241m2\u001b[39m:\n\u001b[0;32m--> 108\u001b[0m     \u001b[38;5;28;01mraise\u001b[39;00m exceptions\u001b[38;5;241m.\u001b[39mRestAPIError(url, response)\n\u001b[1;32m    110\u001b[0m \u001b[38;5;28;01mif\u001b[39;00m stream:\n\u001b[1;32m    111\u001b[0m     \u001b[38;5;28;01mreturn\u001b[39;00m response\n",
      "\u001b[0;31mRestAPIError\u001b[0m: Metadata operation error: (url: https://172f2800-9e76-11ee-ba4c-277d56d9f8e7.cloud.hopsworks.ai/hopsworks-api/api/project/120/serving). Server response: \nHTTP code: 400, HTTP reason: Bad Request, body: b'{\"errorCode\":240011,\"errorMsg\":\"An entry with the same name already exists in this project\"}', error code: 240011, error msg: An entry with the same name already exists in this project, user msg: "
     ]
    }
   ],
   "source": [
    "# Deploy the 'beervolume_model'\n",
    "deployment = beervolume_model.deploy(\n",
    "    name=\"beervolumeonlinemodeldeployment\",  # Specify the deployment name\n",
    "    script_file=predictor_script_path,  # Provide the path to the predictor script\n",
    ")"
   ]
  },
  {
   "cell_type": "code",
   "execution_count": 27,
   "id": "86154683",
   "metadata": {},
   "outputs": [
    {
     "data": {
      "application/vnd.jupyter.widget-view+json": {
       "model_id": "4d29abb093494b768eef943347ae1346",
       "version_major": 2,
       "version_minor": 0
      },
      "text/plain": [
       "  0%|          | 0/5 [00:00<?, ?it/s]"
      ]
     },
     "metadata": {},
     "output_type": "display_data"
    },
    {
     "name": "stdout",
     "output_type": "stream",
     "text": [
      "Start making predictions by using `.predict()`\n"
     ]
    }
   ],
   "source": [
    "# Start the deployment and wait for it up to 180 seconds\n",
    "deployment.start(await_running=180)"
   ]
  },
  {
   "cell_type": "code",
   "execution_count": 28,
   "id": "80e5b6ec",
   "metadata": {},
   "outputs": [
    {
     "name": "stdout",
     "output_type": "stream",
     "text": [
      "{\n",
      "    \"available_instances\": 1,\n",
      "    \"available_transformer_instances\": 0,\n",
      "    \"condition\": {\n",
      "        \"reason\": \"Deployment is ready\",\n",
      "        \"status\": true,\n",
      "        \"type\": \"READY\"\n",
      "    },\n",
      "    \"deployed\": \"2023-12-20T17:10:27.000Z\",\n",
      "    \"hopsworks_inference_path\": \"/project/120/inference/models/beervolumeonlinemodeldeployment\",\n",
      "    \"model_server_inference_path\": \"/v1/models/beervolumeonlinemodeldeployment\",\n",
      "    \"revision\": \"48751398\",\n",
      "    \"status\": \"Running\"\n",
      "}\n"
     ]
    }
   ],
   "source": [
    "# Get the current state of the deployment and describe it\n",
    "deployment_state = deployment.get_state().describe()"
   ]
  },
  {
   "cell_type": "code",
   "execution_count": 33,
   "id": "ea906d47",
   "metadata": {},
   "outputs": [
    {
     "data": {
      "text/plain": [
       "{'predictions': [229.8468780517578]}"
      ]
     },
     "execution_count": 33,
     "metadata": {},
     "output_type": "execute_result"
    }
   ],
   "source": [
    "# Predict price for the 1 ID\n",
    "deployment.predict({'instances': [100]})"
   ]
  },
  {
   "cell_type": "markdown",
   "id": "1354c27a",
   "metadata": {},
   "source": [
    "---"
   ]
  }
 ],
 "metadata": {
  "kernelspec": {
   "display_name": "Python 3 (ipykernel)",
   "language": "python",
   "name": "python3"
  },
  "language_info": {
   "codemirror_mode": {
    "name": "ipython",
    "version": 3
   },
   "file_extension": ".py",
   "mimetype": "text/x-python",
   "name": "python",
   "nbconvert_exporter": "python",
   "pygments_lexer": "ipython3",
   "version": "3.11.6"
  }
 },
 "nbformat": 4,
 "nbformat_minor": 5
}
