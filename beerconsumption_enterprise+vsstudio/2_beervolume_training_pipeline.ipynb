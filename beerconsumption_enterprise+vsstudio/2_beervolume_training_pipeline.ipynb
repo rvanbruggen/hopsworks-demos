{
 "cells": [
  {
   "cell_type": "markdown",
   "metadata": {},
   "source": [
    "# BeerVolume Prediction Demo - Training Pipeline (2)\n",
    "\n",
    "This is the seocnd part of a short demonstration of how you can use Hopsworks for creating a Machine Learning System that creates predictions. The hypothetical use case is that of a **bar owner** who would want to predict how much beer will be consumed in his bar, based on past trends and behaviour.\n",
    "\n",
    "![](https://lh3.googleusercontent.com/blogger_img_proxy/ALY8t1uqu0YUTdfoFJYGV2r9a2iHEewpP3daVa9J3qzCzV3rZm8EX8YyhHhOHbfG450AhHYQXu6Hgf8pj2fTpSzg4uio4X_qv9TTEfMnEtO6rYLevnGBxF6sO97tGeYyzaAkGSyVBnw8WtWS1P_2RLY=s0-d)\n",
    "\n",
    "In this second part of the Machine Learning system that we are creating, we are going to focus on the **Training Pipeline** required to make the predictions that we want."
   ]
  },
  {
   "cell_type": "markdown",
   "id": "83dd6e7e",
   "metadata": {},
   "source": [
    "## <span style=\"color:#ff5f27\">📝 Code Library Imports and installations</span>"
   ]
  },
  {
   "cell_type": "markdown",
   "metadata": {},
   "source": [
    "### Installing Supporting libraries\n",
    "We also need to install the Kaleido libraries so that we can use these during our notebook exploration:"
   ]
  },
  {
   "cell_type": "code",
   "execution_count": null,
   "id": "5c5b0a68",
   "metadata": {},
   "outputs": [],
   "source": [
    "!pip install -U kaleido # For Plotly Image export\n",
    "!pip install sklearn\n",
    "!pip install hopsworks==3.5.0rc1"
   ]
  },
  {
   "cell_type": "markdown",
   "metadata": {},
   "source": [
    "### Other imports\n",
    "We are importing a number of other libaries, among which several classes from  `beervolume.py` and `averages.py`, into this notebook, as we will use it later on."
   ]
  },
  {
   "cell_type": "code",
   "execution_count": 9,
   "id": "8355be0e",
   "metadata": {},
   "outputs": [],
   "source": [
    "import pandas as pd\n",
    "import numpy as np\n",
    "import xgboost as xgb\n",
    "from sklearn.metrics import mean_squared_error\n",
    "import os\n",
    "import joblib\n",
    "from beervolume import plot_prediction_test\n",
    "from functions import predict_id\n",
    "from datetime import datetime\n",
    "import warnings\n",
    "warnings.filterwarnings('ignore')"
   ]
  },
  {
   "cell_type": "markdown",
   "id": "9dbea0ad",
   "metadata": {},
   "source": [
    "## <span style=\"color:#ff5f27\">🔮 Connect to Hopsworks Feature Store </span>\n",
    "As we have already installed Hopsworks on this system, all we now need to do is import the library into this notebook, and start establishing the connection to the Hopsworks feature store."
   ]
  },
  {
   "cell_type": "code",
   "execution_count": 10,
   "id": "e499f528",
   "metadata": {},
   "outputs": [
    {
     "name": "stdout",
     "output_type": "stream",
     "text": [
      "Connection closed.\n",
      "Connected. Call `.close()` to terminate connection gracefully.\n",
      "\n",
      "Logged in to project, explore it here https://172f2800-9e76-11ee-ba4c-277d56d9f8e7.cloud.hopsworks.ai:443/p/120\n",
      "Connected. Call `.close()` to terminate connection gracefully.\n"
     ]
    }
   ],
   "source": [
    "import hopsworks\n",
    "\n",
    "# #To connect to Managed:\n",
    "# import hsfs\n",
    "# conn = hsfs.connection(\n",
    "#     host=\"172f2800-9e76-11ee-ba4c-277d56d9f8e7.cloud.hopsworks.ai\",                                # DNS of your Feature Store instance\n",
    "#     project=\"RixBeervolumeDemo\",                      # Name of your Hopsworks Feature Store project\n",
    "#     hostname_verification=False,                     # Disable for self-signed certificates\n",
    "#     api_key_value=\"Q0sPuOSFpsuwdIa0.pfBCpgAAnPr3C3J49BvEdeJvfoqTkwQihEotXupzz23FPzDdJpexwHmXyRB8ACDf\"          # Feature store API key value \n",
    "# )\n",
    "# fs = conn.get_feature_store()           # Get the project's default feature store\"\n",
    "\n",
    "project = hopsworks.login(\n",
    "    host=\"172f2800-9e76-11ee-ba4c-277d56d9f8e7.cloud.hopsworks.ai\", \n",
    "    project=\"RixBeervolumeDemo\",        \n",
    "    api_key_value=\"Q0sPuOSFpsuwdIa0.pfBCpgAAnPr3C3J49BvEdeJvfoqTkwQihEotXupzz23FPzDdJpexwHmXyRB8ACDf\" \n",
    ")\n",
    "fs = project.get_feature_store()  \n",
    "\n",
    "#To connect to Serverless:\n",
    "#import hopsworks\n",
    "# project = hopsworks.login()\n",
    "#fs = project.get_feature_store() "
   ]
  },
  {
   "cell_type": "markdown",
   "metadata": {},
   "source": [
    "Since we have already created the necessary feature groups in our previous notebook, we can now just import these into our training pipeline. Remember we had two feature groups:\n",
    "1. a `beervolume` feature group that contained the synthetic data that we had created,\n",
    "2. a `beervolume_averages` feature group that contained a number of _engineered_ features that we derived from the `beervolume` feature group in order to have better predictions later on.\n",
    "\n",
    "We retrieve bother feature groups:"
   ]
  },
  {
   "cell_type": "code",
   "execution_count": 11,
   "id": "b9c6c942",
   "metadata": {},
   "outputs": [],
   "source": [
    "# Retrieve feature groups\n",
    "beervolume_fg = fs.get_feature_group(\n",
    "    name='beervolume',\n",
    "    version=1,\n",
    ")\n",
    "beervolume_averages_fg = fs.get_feature_group(\n",
    "    name='beervolume_averages',\n",
    "    version=1,\n",
    ")"
   ]
  },
  {
   "cell_type": "markdown",
   "id": "7e72db48",
   "metadata": {},
   "source": [
    "## <span style=\"color:#ff5f27\">🔪 Preparing our Training pipeline: Feature Selection </span>\n",
    "Using the Hopsworks feature store, we can very easily select the specific subset that we need for our training pipeline, and be confident that we will be using the correct training dataset in our Machine Learning process:"
   ]
  },
  {
   "cell_type": "code",
   "execution_count": 12,
   "id": "0740ac7f",
   "metadata": {},
   "outputs": [
    {
     "name": "stdout",
     "output_type": "stream",
     "text": [
      "Finished: Reading data from Hopsworks, using ArrowFlight (12.15s) \n"
     ]
    },
    {
     "data": {
      "text/html": [
       "<div>\n",
       "<style scoped>\n",
       "    .dataframe tbody tr th:only-of-type {\n",
       "        vertical-align: middle;\n",
       "    }\n",
       "\n",
       "    .dataframe tbody tr th {\n",
       "        vertical-align: top;\n",
       "    }\n",
       "\n",
       "    .dataframe thead th {\n",
       "        text-align: right;\n",
       "    }\n",
       "</style>\n",
       "<table border=\"1\" class=\"dataframe\">\n",
       "  <thead>\n",
       "    <tr style=\"text-align: right;\">\n",
       "      <th></th>\n",
       "      <th>date</th>\n",
       "      <th>id</th>\n",
       "      <th>beervolume</th>\n",
       "      <th>ma_7</th>\n",
       "      <th>ma_14</th>\n",
       "      <th>ma_30</th>\n",
       "      <th>daily_rate_of_change</th>\n",
       "      <th>volatility_30_day</th>\n",
       "      <th>ema_02</th>\n",
       "      <th>ema_05</th>\n",
       "      <th>rsi</th>\n",
       "    </tr>\n",
       "  </thead>\n",
       "  <tbody>\n",
       "    <tr>\n",
       "      <th>0</th>\n",
       "      <td>2023-09-01</td>\n",
       "      <td>0</td>\n",
       "      <td>200.0</td>\n",
       "      <td>0.000000</td>\n",
       "      <td>0.0</td>\n",
       "      <td>0.0</td>\n",
       "      <td>0.000000</td>\n",
       "      <td>0.0</td>\n",
       "      <td>200.000000</td>\n",
       "      <td>200.000000</td>\n",
       "      <td>0.0</td>\n",
       "    </tr>\n",
       "    <tr>\n",
       "      <th>1</th>\n",
       "      <td>2023-09-02</td>\n",
       "      <td>0</td>\n",
       "      <td>203.5</td>\n",
       "      <td>0.000000</td>\n",
       "      <td>0.0</td>\n",
       "      <td>0.0</td>\n",
       "      <td>0.942460</td>\n",
       "      <td>0.0</td>\n",
       "      <td>201.959016</td>\n",
       "      <td>202.457143</td>\n",
       "      <td>0.0</td>\n",
       "    </tr>\n",
       "    <tr>\n",
       "      <th>2</th>\n",
       "      <td>2023-09-05</td>\n",
       "      <td>0</td>\n",
       "      <td>204.7</td>\n",
       "      <td>0.000000</td>\n",
       "      <td>0.0</td>\n",
       "      <td>0.0</td>\n",
       "      <td>1.942231</td>\n",
       "      <td>0.0</td>\n",
       "      <td>201.850594</td>\n",
       "      <td>202.673016</td>\n",
       "      <td>0.0</td>\n",
       "    </tr>\n",
       "    <tr>\n",
       "      <th>3</th>\n",
       "      <td>2023-09-07</td>\n",
       "      <td>0</td>\n",
       "      <td>202.4</td>\n",
       "      <td>201.642857</td>\n",
       "      <td>0.0</td>\n",
       "      <td>0.0</td>\n",
       "      <td>-1.123596</td>\n",
       "      <td>0.0</td>\n",
       "      <td>201.989634</td>\n",
       "      <td>202.535433</td>\n",
       "      <td>0.0</td>\n",
       "    </tr>\n",
       "    <tr>\n",
       "      <th>4</th>\n",
       "      <td>2023-09-08</td>\n",
       "      <td>0</td>\n",
       "      <td>211.5</td>\n",
       "      <td>202.442857</td>\n",
       "      <td>0.0</td>\n",
       "      <td>0.0</td>\n",
       "      <td>4.289941</td>\n",
       "      <td>0.0</td>\n",
       "      <td>203.464226</td>\n",
       "      <td>206.320626</td>\n",
       "      <td>0.0</td>\n",
       "    </tr>\n",
       "  </tbody>\n",
       "</table>\n",
       "</div>"
      ],
      "text/plain": [
       "         date  id  beervolume        ma_7  ma_14  ma_30  daily_rate_of_change  \\\n",
       "0  2023-09-01   0       200.0    0.000000    0.0    0.0              0.000000   \n",
       "1  2023-09-02   0       203.5    0.000000    0.0    0.0              0.942460   \n",
       "2  2023-09-05   0       204.7    0.000000    0.0    0.0              1.942231   \n",
       "3  2023-09-07   0       202.4  201.642857    0.0    0.0             -1.123596   \n",
       "4  2023-09-08   0       211.5  202.442857    0.0    0.0              4.289941   \n",
       "\n",
       "   volatility_30_day      ema_02      ema_05  rsi  \n",
       "0                0.0  200.000000  200.000000  0.0  \n",
       "1                0.0  201.959016  202.457143  0.0  \n",
       "2                0.0  201.850594  202.673016  0.0  \n",
       "3                0.0  201.989634  202.535433  0.0  \n",
       "4                0.0  203.464226  206.320626  0.0  "
      ]
     },
     "execution_count": 12,
     "metadata": {},
     "output_type": "execute_result"
    }
   ],
   "source": [
    "# Select features for training dataset\n",
    "selected_features = beervolume_fg.select_all() \\\n",
    "    .join(beervolume_averages_fg.select_except(['date']))\n",
    "selected_features.show(5)"
   ]
  },
  {
   "cell_type": "markdown",
   "id": "1334a4cb",
   "metadata": {},
   "source": [
    "## <span style=\"color:#ff5f27\">🤖 Preparing our Training pipeline: Transformation Functions </span>\n",
    "Using the Hopsworks feature store, we can easily apply a set of transformation functions that will apply to our training pipeline:"
   ]
  },
  {
   "cell_type": "code",
   "execution_count": 13,
   "id": "bccb7d00",
   "metadata": {},
   "outputs": [
    {
     "data": {
      "text/plain": [
       "{'ma_7': <hsfs.transformation_function.TransformationFunction at 0x15b5b4610>,\n",
       " 'ma_14': <hsfs.transformation_function.TransformationFunction at 0x15b5b4610>,\n",
       " 'ma_30': <hsfs.transformation_function.TransformationFunction at 0x15b5b4610>,\n",
       " 'daily_rate_of_change': <hsfs.transformation_function.TransformationFunction at 0x15b5b4610>,\n",
       " 'volatility_30_day': <hsfs.transformation_function.TransformationFunction at 0x15b5b4610>,\n",
       " 'ema_02': <hsfs.transformation_function.TransformationFunction at 0x15b5b4610>,\n",
       " 'ema_05': <hsfs.transformation_function.TransformationFunction at 0x15b5b4610>,\n",
       " 'rsi': <hsfs.transformation_function.TransformationFunction at 0x15b5b4610>}"
      ]
     },
     "execution_count": 13,
     "metadata": {},
     "output_type": "execute_result"
    }
   ],
   "source": [
    "# Load transformation function\n",
    "min_max_scaler = fs.get_transformation_function(name=\"min_max_scaler\")\n",
    "\n",
    "# Define a list of feature names\n",
    "feature_names = [\n",
    "    'ma_7', 'ma_14', 'ma_30', 'daily_rate_of_change', 'volatility_30_day', 'ema_02', 'ema_05', 'rsi'\n",
    "]\n",
    "\n",
    "# Map features to transformations\n",
    "transformation_functions = {\n",
    "    feature_name: min_max_scaler\n",
    "    for feature_name in feature_names\n",
    "}\n",
    "transformation_functions"
   ]
  },
  {
   "cell_type": "markdown",
   "id": "925ad679",
   "metadata": {},
   "source": [
    "## <span style=\"color:#ff5f27\">⚙️ Feature View Creation leveraging feature groups, feature selection and feature transformations </span>\n",
    "Using the feature groups, the selection that we made above and finally the associated transformation functions, we can create a **feature view** in the Hopsworks feature store:"
   ]
  },
  {
   "cell_type": "code",
   "execution_count": 14,
   "id": "ffdfda5e",
   "metadata": {},
   "outputs": [],
   "source": [
    "# Get or create the 'beervolume_fv' feature view\n",
    "feature_view = fs.get_or_create_feature_view(\n",
    "    name='beervolume_fv',\n",
    "    version=1,\n",
    "    query=selected_features,\n",
    "    labels=[\"beervolume\"],\n",
    "    transformation_functions=transformation_functions,\n",
    ")\n"
   ]
  },
  {
   "cell_type": "markdown",
   "id": "3e1e1170",
   "metadata": {},
   "source": [
    "# <span style=\"color:#ff5f27\">🏋️ Training Dataset Creation based on the Feature View</span>\n",
    "The next part of our process will focus on the creation of a Training dataset based on the feature view that we have prepared above."
   ]
  },
  {
   "cell_type": "code",
   "execution_count": 15,
   "id": "554cbace",
   "metadata": {},
   "outputs": [
    {
     "name": "stdout",
     "output_type": "stream",
     "text": [
      "Finished: Reading data from Hopsworks, using ArrowFlight (12.82s) \n"
     ]
    }
   ],
   "source": [
    "# Get training and testing sets\n",
    "X_train, X_test, y_train, y_test = feature_view.train_test_split(\n",
    "    description='Beer Volume Dataset',  # Provide a description for the dataset split\n",
    "    train_start='2023-09-01',      # Start date for the training set\n",
    "    train_end='2023-11-01',        # End date for the training set\n",
    "    test_start='2023-11-01',       # Start date for the testing set\n",
    "    test_end=datetime.today().strftime(\"%Y-%m-%d\"),  # End date for the testing set (current date)\n",
    ")"
   ]
  },
  {
   "cell_type": "code",
   "execution_count": 16,
   "id": "041666ce",
   "metadata": {},
   "outputs": [
    {
     "data": {
      "text/html": [
       "<div>\n",
       "<style scoped>\n",
       "    .dataframe tbody tr th:only-of-type {\n",
       "        vertical-align: middle;\n",
       "    }\n",
       "\n",
       "    .dataframe tbody tr th {\n",
       "        vertical-align: top;\n",
       "    }\n",
       "\n",
       "    .dataframe thead th {\n",
       "        text-align: right;\n",
       "    }\n",
       "</style>\n",
       "<table border=\"1\" class=\"dataframe\">\n",
       "  <thead>\n",
       "    <tr style=\"text-align: right;\">\n",
       "      <th></th>\n",
       "      <th>date</th>\n",
       "      <th>id</th>\n",
       "      <th>ma_7</th>\n",
       "      <th>ma_14</th>\n",
       "      <th>ma_30</th>\n",
       "      <th>daily_rate_of_change</th>\n",
       "      <th>volatility_30_day</th>\n",
       "      <th>ema_02</th>\n",
       "      <th>ema_05</th>\n",
       "      <th>rsi</th>\n",
       "    </tr>\n",
       "  </thead>\n",
       "  <tbody>\n",
       "    <tr>\n",
       "      <th>0</th>\n",
       "      <td>2023-09-01</td>\n",
       "      <td>0</td>\n",
       "      <td>0.0</td>\n",
       "      <td>0.0</td>\n",
       "      <td>0.0</td>\n",
       "      <td>0.455051</td>\n",
       "      <td>0.0</td>\n",
       "      <td>0.206380</td>\n",
       "      <td>0.184410</td>\n",
       "      <td>0.365236</td>\n",
       "    </tr>\n",
       "    <tr>\n",
       "      <th>1</th>\n",
       "      <td>2023-09-02</td>\n",
       "      <td>0</td>\n",
       "      <td>0.0</td>\n",
       "      <td>0.0</td>\n",
       "      <td>0.0</td>\n",
       "      <td>0.489344</td>\n",
       "      <td>0.0</td>\n",
       "      <td>0.257558</td>\n",
       "      <td>0.241767</td>\n",
       "      <td>0.365236</td>\n",
       "    </tr>\n",
       "    <tr>\n",
       "      <th>2</th>\n",
       "      <td>2023-09-05</td>\n",
       "      <td>0</td>\n",
       "      <td>0.0</td>\n",
       "      <td>0.0</td>\n",
       "      <td>0.0</td>\n",
       "      <td>0.525723</td>\n",
       "      <td>0.0</td>\n",
       "      <td>0.254726</td>\n",
       "      <td>0.246806</td>\n",
       "      <td>0.365236</td>\n",
       "    </tr>\n",
       "  </tbody>\n",
       "</table>\n",
       "</div>"
      ],
      "text/plain": [
       "         date  id  ma_7  ma_14  ma_30  daily_rate_of_change  \\\n",
       "0  2023-09-01   0   0.0    0.0    0.0              0.455051   \n",
       "1  2023-09-02   0   0.0    0.0    0.0              0.489344   \n",
       "2  2023-09-05   0   0.0    0.0    0.0              0.525723   \n",
       "\n",
       "   volatility_30_day    ema_02    ema_05       rsi  \n",
       "0                0.0  0.206380  0.184410  0.365236  \n",
       "1                0.0  0.257558  0.241767  0.365236  \n",
       "2                0.0  0.254726  0.246806  0.365236  "
      ]
     },
     "execution_count": 16,
     "metadata": {},
     "output_type": "execute_result"
    }
   ],
   "source": [
    "X_train.head(3)"
   ]
  },
  {
   "cell_type": "code",
   "execution_count": 17,
   "id": "d7315f14",
   "metadata": {},
   "outputs": [
    {
     "data": {
      "text/html": [
       "<div>\n",
       "<style scoped>\n",
       "    .dataframe tbody tr th:only-of-type {\n",
       "        vertical-align: middle;\n",
       "    }\n",
       "\n",
       "    .dataframe tbody tr th {\n",
       "        vertical-align: top;\n",
       "    }\n",
       "\n",
       "    .dataframe thead th {\n",
       "        text-align: right;\n",
       "    }\n",
       "</style>\n",
       "<table border=\"1\" class=\"dataframe\">\n",
       "  <thead>\n",
       "    <tr style=\"text-align: right;\">\n",
       "      <th></th>\n",
       "      <th>beervolume</th>\n",
       "    </tr>\n",
       "  </thead>\n",
       "  <tbody>\n",
       "    <tr>\n",
       "      <th>0</th>\n",
       "      <td>200.0</td>\n",
       "    </tr>\n",
       "    <tr>\n",
       "      <th>1</th>\n",
       "      <td>203.5</td>\n",
       "    </tr>\n",
       "    <tr>\n",
       "      <th>2</th>\n",
       "      <td>204.7</td>\n",
       "    </tr>\n",
       "  </tbody>\n",
       "</table>\n",
       "</div>"
      ],
      "text/plain": [
       "   beervolume\n",
       "0       200.0\n",
       "1       203.5\n",
       "2       204.7"
      ]
     },
     "execution_count": 17,
     "metadata": {},
     "output_type": "execute_result"
    }
   ],
   "source": [
    "y_train.head(3)"
   ]
  },
  {
   "cell_type": "code",
   "execution_count": 18,
   "id": "af817399",
   "metadata": {},
   "outputs": [],
   "source": [
    "# Sort the training features by the 'date' column\n",
    "X_train = X_train.sort_values(\"date\")\n",
    "\n",
    "# Reindex the target 'y_train' to match the sorted order of 'X_train'\n",
    "y_train = y_train.reindex(X_train.index)\n",
    "\n",
    "# Sort the testing features by the 'date' column\n",
    "X_test = X_test.sort_values(\"date\")\n",
    "\n",
    "# Reindex the target 'y_test' to match the sorted order of 'X_test'\n",
    "y_test = y_test.reindex(X_test.index)\n",
    "\n",
    "# Extract and store the 'date' column as a separate DataFrame for both training and testing sets\n",
    "train_date = pd.DataFrame(X_train.pop(\"date\"))\n",
    "test_date = pd.DataFrame(X_test.pop(\"date\"))"
   ]
  },
  {
   "cell_type": "markdown",
   "id": "4e7d0253",
   "metadata": {},
   "source": [
    "# <span style=\"color:#ff5f27\">🧬 Using the training dataset to create a Machine Learning Model</span>\n",
    "\n",
    "In order to now create a predictive model out of our data, we will use the **XGBoost Regressor** to examine the training dataset and figure out a predictive model. XGBoost regressor is a powerful and highly effective machine learning algorithm for regression problems. XGBoost is known for its ability to handle complex relationships in the data, handle missing values, and provide accurate predictions. It's a popular choice in the data science community due to its robustness and excellent predictive performance, making it well-suited for our specific problem."
   ]
  },
  {
   "cell_type": "code",
   "execution_count": 19,
   "id": "a999d119",
   "metadata": {},
   "outputs": [
    {
     "name": "stdout",
     "output_type": "stream",
     "text": [
      "Mean Squared Error (MSE): 1.9979359906489542\n"
     ]
    }
   ],
   "source": [
    "# Initialize the XGBoost regressor\n",
    "model = xgb.XGBRegressor()\n",
    "\n",
    "# Train the model on the training data\n",
    "model.fit(X_train, y_train)\n",
    "\n",
    "# Make predictions on the validation set\n",
    "y_test_pred = model.predict(X_test)\n",
    "\n",
    "# Calculate RMSE on the validation set\n",
    "mse = mean_squared_error(y_test, y_test_pred, squared=False)\n",
    "print(f\"Mean Squared Error (MSE): {mse}\")"
   ]
  },
  {
   "cell_type": "code",
   "execution_count": 20,
   "id": "3b0f556d",
   "metadata": {},
   "outputs": [
    {
     "data": {
      "application/vnd.plotly.v1+json": {
       "config": {
        "plotlyServerURL": "https://plot.ly"
       },
       "data": [
        {
         "line": {
          "color": "blue"
         },
         "mode": "lines",
         "name": "Training Data",
         "type": "scatter",
         "x": [
          "2023-09-04",
          "2023-09-05",
          "2023-09-06",
          "2023-09-07",
          "2023-09-08",
          "2023-09-10",
          "2023-09-11",
          "2023-09-12",
          "2023-09-15",
          "2023-09-16",
          "2023-09-19",
          "2023-09-20",
          "2023-09-21",
          "2023-09-22",
          "2023-09-23",
          "2023-09-25",
          "2023-09-27",
          "2023-09-29",
          "2023-10-01",
          "2023-10-02",
          "2023-10-03",
          "2023-10-06",
          "2023-10-08",
          "2023-10-13",
          "2023-10-15",
          "2023-10-17",
          "2023-10-18",
          "2023-10-19",
          "2023-10-20",
          "2023-10-23",
          "2023-10-25",
          "2023-10-26",
          "2023-10-28",
          "2023-10-29",
          "2023-10-31"
         ],
         "y": [
          205.4,
          199.5,
          204.2,
          202.8,
          204.3,
          211.2,
          209.3,
          205.6,
          207.1,
          205,
          210.1,
          204.3,
          206.6,
          211.7,
          212.3,
          205.5,
          220.4,
          210.1,
          219.4,
          212.9,
          215.5,
          219.2,
          222,
          224.7,
          227.2,
          217.8,
          230.4,
          220.1,
          226,
          222.4,
          235.2,
          225.5,
          224.9,
          225.7,
          224.5
         ]
        },
        {
         "line": {
          "color": "green"
         },
         "mode": "lines",
         "name": "Test Data",
         "type": "scatter",
         "x": [
          "2023-11-01",
          "2023-11-02",
          "2023-11-03",
          "2023-11-04",
          "2023-11-06",
          "2023-11-08",
          "2023-11-09",
          "2023-11-11",
          "2023-11-12",
          "2023-11-13",
          "2023-11-14",
          "2023-11-16",
          "2023-11-17",
          "2023-11-19",
          "2023-11-22",
          "2023-11-23",
          "2023-11-24",
          "2023-11-25",
          "2023-11-27",
          "2023-11-28",
          "2023-11-29",
          "2023-12-01",
          "2023-12-03",
          "2023-12-04",
          "2023-12-05",
          "2023-12-07",
          "2023-12-10",
          "2023-12-11",
          "2023-12-12",
          "2023-12-13",
          "2023-12-14",
          "2023-12-15",
          "2023-12-17",
          "2023-12-18",
          "2023-12-19"
         ],
         "y": [
          225.4,
          226.3,
          230.7,
          237.2,
          238.3,
          231.4,
          232.4,
          225.5,
          235.6,
          229.4,
          228.7,
          229.1,
          231.4,
          228.4,
          222.4,
          237.5,
          229.7,
          233.9,
          230.1,
          224,
          228.2,
          230.8,
          232.4,
          238.7,
          233.8,
          234.4,
          236.6,
          235,
          229.2,
          229.8,
          228.8,
          229.2,
          229,
          226.3,
          219.8
         ]
        },
        {
         "line": {
          "color": "red"
         },
         "mode": "lines",
         "name": "Prediction",
         "type": "scatter",
         "x": [
          "2023-11-01",
          "2023-11-02",
          "2023-11-03",
          "2023-11-04",
          "2023-11-06",
          "2023-11-08",
          "2023-11-09",
          "2023-11-11",
          "2023-11-12",
          "2023-11-13",
          "2023-11-14",
          "2023-11-16",
          "2023-11-17",
          "2023-11-19",
          "2023-11-22",
          "2023-11-23",
          "2023-11-24",
          "2023-11-25",
          "2023-11-27",
          "2023-11-28",
          "2023-11-29",
          "2023-12-01",
          "2023-12-03",
          "2023-12-04",
          "2023-12-05",
          "2023-12-07",
          "2023-12-10",
          "2023-12-11",
          "2023-12-12",
          "2023-12-13",
          "2023-12-14",
          "2023-12-15",
          "2023-12-17",
          "2023-12-18",
          "2023-12-19"
         ],
         "y": [
          225.3987579345703,
          225.93710327148438,
          230.52645874023438,
          235.11386108398438,
          237.09130859375,
          232.30941772460938,
          232.56546020507812,
          225.56198120117188,
          233.93357849121094,
          231.66824340820312,
          228.8788299560547,
          230.21255493164062,
          232.5920867919922,
          230.65090942382812,
          223.3777313232422,
          236.4492950439453,
          228.95655822753906,
          232.40760803222656,
          231.975341796875,
          225.30874633789062,
          230.47341918945312,
          232.1878204345703,
          232.6366424560547,
          234.24176025390625,
          232.28872680664062,
          232.7776336669922,
          235.80166625976562,
          232.42140197753906,
          229.60302734375,
          232.21856689453125,
          232.2826385498047,
          231.3742218017578,
          228.49366760253906,
          227.03097534179688,
          220.32228088378906
         ]
        }
       ],
       "layout": {
        "legend": {
         "title": {
          "text": "Data Type"
         }
        },
        "template": {
         "data": {
          "bar": [
           {
            "error_x": {
             "color": "#2a3f5f"
            },
            "error_y": {
             "color": "#2a3f5f"
            },
            "marker": {
             "line": {
              "color": "#E5ECF6",
              "width": 0.5
             },
             "pattern": {
              "fillmode": "overlay",
              "size": 10,
              "solidity": 0.2
             }
            },
            "type": "bar"
           }
          ],
          "barpolar": [
           {
            "marker": {
             "line": {
              "color": "#E5ECF6",
              "width": 0.5
             },
             "pattern": {
              "fillmode": "overlay",
              "size": 10,
              "solidity": 0.2
             }
            },
            "type": "barpolar"
           }
          ],
          "carpet": [
           {
            "aaxis": {
             "endlinecolor": "#2a3f5f",
             "gridcolor": "white",
             "linecolor": "white",
             "minorgridcolor": "white",
             "startlinecolor": "#2a3f5f"
            },
            "baxis": {
             "endlinecolor": "#2a3f5f",
             "gridcolor": "white",
             "linecolor": "white",
             "minorgridcolor": "white",
             "startlinecolor": "#2a3f5f"
            },
            "type": "carpet"
           }
          ],
          "choropleth": [
           {
            "colorbar": {
             "outlinewidth": 0,
             "ticks": ""
            },
            "type": "choropleth"
           }
          ],
          "contour": [
           {
            "colorbar": {
             "outlinewidth": 0,
             "ticks": ""
            },
            "colorscale": [
             [
              0,
              "#0d0887"
             ],
             [
              0.1111111111111111,
              "#46039f"
             ],
             [
              0.2222222222222222,
              "#7201a8"
             ],
             [
              0.3333333333333333,
              "#9c179e"
             ],
             [
              0.4444444444444444,
              "#bd3786"
             ],
             [
              0.5555555555555556,
              "#d8576b"
             ],
             [
              0.6666666666666666,
              "#ed7953"
             ],
             [
              0.7777777777777778,
              "#fb9f3a"
             ],
             [
              0.8888888888888888,
              "#fdca26"
             ],
             [
              1,
              "#f0f921"
             ]
            ],
            "type": "contour"
           }
          ],
          "contourcarpet": [
           {
            "colorbar": {
             "outlinewidth": 0,
             "ticks": ""
            },
            "type": "contourcarpet"
           }
          ],
          "heatmap": [
           {
            "colorbar": {
             "outlinewidth": 0,
             "ticks": ""
            },
            "colorscale": [
             [
              0,
              "#0d0887"
             ],
             [
              0.1111111111111111,
              "#46039f"
             ],
             [
              0.2222222222222222,
              "#7201a8"
             ],
             [
              0.3333333333333333,
              "#9c179e"
             ],
             [
              0.4444444444444444,
              "#bd3786"
             ],
             [
              0.5555555555555556,
              "#d8576b"
             ],
             [
              0.6666666666666666,
              "#ed7953"
             ],
             [
              0.7777777777777778,
              "#fb9f3a"
             ],
             [
              0.8888888888888888,
              "#fdca26"
             ],
             [
              1,
              "#f0f921"
             ]
            ],
            "type": "heatmap"
           }
          ],
          "heatmapgl": [
           {
            "colorbar": {
             "outlinewidth": 0,
             "ticks": ""
            },
            "colorscale": [
             [
              0,
              "#0d0887"
             ],
             [
              0.1111111111111111,
              "#46039f"
             ],
             [
              0.2222222222222222,
              "#7201a8"
             ],
             [
              0.3333333333333333,
              "#9c179e"
             ],
             [
              0.4444444444444444,
              "#bd3786"
             ],
             [
              0.5555555555555556,
              "#d8576b"
             ],
             [
              0.6666666666666666,
              "#ed7953"
             ],
             [
              0.7777777777777778,
              "#fb9f3a"
             ],
             [
              0.8888888888888888,
              "#fdca26"
             ],
             [
              1,
              "#f0f921"
             ]
            ],
            "type": "heatmapgl"
           }
          ],
          "histogram": [
           {
            "marker": {
             "pattern": {
              "fillmode": "overlay",
              "size": 10,
              "solidity": 0.2
             }
            },
            "type": "histogram"
           }
          ],
          "histogram2d": [
           {
            "colorbar": {
             "outlinewidth": 0,
             "ticks": ""
            },
            "colorscale": [
             [
              0,
              "#0d0887"
             ],
             [
              0.1111111111111111,
              "#46039f"
             ],
             [
              0.2222222222222222,
              "#7201a8"
             ],
             [
              0.3333333333333333,
              "#9c179e"
             ],
             [
              0.4444444444444444,
              "#bd3786"
             ],
             [
              0.5555555555555556,
              "#d8576b"
             ],
             [
              0.6666666666666666,
              "#ed7953"
             ],
             [
              0.7777777777777778,
              "#fb9f3a"
             ],
             [
              0.8888888888888888,
              "#fdca26"
             ],
             [
              1,
              "#f0f921"
             ]
            ],
            "type": "histogram2d"
           }
          ],
          "histogram2dcontour": [
           {
            "colorbar": {
             "outlinewidth": 0,
             "ticks": ""
            },
            "colorscale": [
             [
              0,
              "#0d0887"
             ],
             [
              0.1111111111111111,
              "#46039f"
             ],
             [
              0.2222222222222222,
              "#7201a8"
             ],
             [
              0.3333333333333333,
              "#9c179e"
             ],
             [
              0.4444444444444444,
              "#bd3786"
             ],
             [
              0.5555555555555556,
              "#d8576b"
             ],
             [
              0.6666666666666666,
              "#ed7953"
             ],
             [
              0.7777777777777778,
              "#fb9f3a"
             ],
             [
              0.8888888888888888,
              "#fdca26"
             ],
             [
              1,
              "#f0f921"
             ]
            ],
            "type": "histogram2dcontour"
           }
          ],
          "mesh3d": [
           {
            "colorbar": {
             "outlinewidth": 0,
             "ticks": ""
            },
            "type": "mesh3d"
           }
          ],
          "parcoords": [
           {
            "line": {
             "colorbar": {
              "outlinewidth": 0,
              "ticks": ""
             }
            },
            "type": "parcoords"
           }
          ],
          "pie": [
           {
            "automargin": true,
            "type": "pie"
           }
          ],
          "scatter": [
           {
            "fillpattern": {
             "fillmode": "overlay",
             "size": 10,
             "solidity": 0.2
            },
            "type": "scatter"
           }
          ],
          "scatter3d": [
           {
            "line": {
             "colorbar": {
              "outlinewidth": 0,
              "ticks": ""
             }
            },
            "marker": {
             "colorbar": {
              "outlinewidth": 0,
              "ticks": ""
             }
            },
            "type": "scatter3d"
           }
          ],
          "scattercarpet": [
           {
            "marker": {
             "colorbar": {
              "outlinewidth": 0,
              "ticks": ""
             }
            },
            "type": "scattercarpet"
           }
          ],
          "scattergeo": [
           {
            "marker": {
             "colorbar": {
              "outlinewidth": 0,
              "ticks": ""
             }
            },
            "type": "scattergeo"
           }
          ],
          "scattergl": [
           {
            "marker": {
             "colorbar": {
              "outlinewidth": 0,
              "ticks": ""
             }
            },
            "type": "scattergl"
           }
          ],
          "scattermapbox": [
           {
            "marker": {
             "colorbar": {
              "outlinewidth": 0,
              "ticks": ""
             }
            },
            "type": "scattermapbox"
           }
          ],
          "scatterpolar": [
           {
            "marker": {
             "colorbar": {
              "outlinewidth": 0,
              "ticks": ""
             }
            },
            "type": "scatterpolar"
           }
          ],
          "scatterpolargl": [
           {
            "marker": {
             "colorbar": {
              "outlinewidth": 0,
              "ticks": ""
             }
            },
            "type": "scatterpolargl"
           }
          ],
          "scatterternary": [
           {
            "marker": {
             "colorbar": {
              "outlinewidth": 0,
              "ticks": ""
             }
            },
            "type": "scatterternary"
           }
          ],
          "surface": [
           {
            "colorbar": {
             "outlinewidth": 0,
             "ticks": ""
            },
            "colorscale": [
             [
              0,
              "#0d0887"
             ],
             [
              0.1111111111111111,
              "#46039f"
             ],
             [
              0.2222222222222222,
              "#7201a8"
             ],
             [
              0.3333333333333333,
              "#9c179e"
             ],
             [
              0.4444444444444444,
              "#bd3786"
             ],
             [
              0.5555555555555556,
              "#d8576b"
             ],
             [
              0.6666666666666666,
              "#ed7953"
             ],
             [
              0.7777777777777778,
              "#fb9f3a"
             ],
             [
              0.8888888888888888,
              "#fdca26"
             ],
             [
              1,
              "#f0f921"
             ]
            ],
            "type": "surface"
           }
          ],
          "table": [
           {
            "cells": {
             "fill": {
              "color": "#EBF0F8"
             },
             "line": {
              "color": "white"
             }
            },
            "header": {
             "fill": {
              "color": "#C8D4E3"
             },
             "line": {
              "color": "white"
             }
            },
            "type": "table"
           }
          ]
         },
         "layout": {
          "annotationdefaults": {
           "arrowcolor": "#2a3f5f",
           "arrowhead": 0,
           "arrowwidth": 1
          },
          "autotypenumbers": "strict",
          "coloraxis": {
           "colorbar": {
            "outlinewidth": 0,
            "ticks": ""
           }
          },
          "colorscale": {
           "diverging": [
            [
             0,
             "#8e0152"
            ],
            [
             0.1,
             "#c51b7d"
            ],
            [
             0.2,
             "#de77ae"
            ],
            [
             0.3,
             "#f1b6da"
            ],
            [
             0.4,
             "#fde0ef"
            ],
            [
             0.5,
             "#f7f7f7"
            ],
            [
             0.6,
             "#e6f5d0"
            ],
            [
             0.7,
             "#b8e186"
            ],
            [
             0.8,
             "#7fbc41"
            ],
            [
             0.9,
             "#4d9221"
            ],
            [
             1,
             "#276419"
            ]
           ],
           "sequential": [
            [
             0,
             "#0d0887"
            ],
            [
             0.1111111111111111,
             "#46039f"
            ],
            [
             0.2222222222222222,
             "#7201a8"
            ],
            [
             0.3333333333333333,
             "#9c179e"
            ],
            [
             0.4444444444444444,
             "#bd3786"
            ],
            [
             0.5555555555555556,
             "#d8576b"
            ],
            [
             0.6666666666666666,
             "#ed7953"
            ],
            [
             0.7777777777777778,
             "#fb9f3a"
            ],
            [
             0.8888888888888888,
             "#fdca26"
            ],
            [
             1,
             "#f0f921"
            ]
           ],
           "sequentialminus": [
            [
             0,
             "#0d0887"
            ],
            [
             0.1111111111111111,
             "#46039f"
            ],
            [
             0.2222222222222222,
             "#7201a8"
            ],
            [
             0.3333333333333333,
             "#9c179e"
            ],
            [
             0.4444444444444444,
             "#bd3786"
            ],
            [
             0.5555555555555556,
             "#d8576b"
            ],
            [
             0.6666666666666666,
             "#ed7953"
            ],
            [
             0.7777777777777778,
             "#fb9f3a"
            ],
            [
             0.8888888888888888,
             "#fdca26"
            ],
            [
             1,
             "#f0f921"
            ]
           ]
          },
          "colorway": [
           "#636efa",
           "#EF553B",
           "#00cc96",
           "#ab63fa",
           "#FFA15A",
           "#19d3f3",
           "#FF6692",
           "#B6E880",
           "#FF97FF",
           "#FECB52"
          ],
          "font": {
           "color": "#2a3f5f"
          },
          "geo": {
           "bgcolor": "white",
           "lakecolor": "white",
           "landcolor": "#E5ECF6",
           "showlakes": true,
           "showland": true,
           "subunitcolor": "white"
          },
          "hoverlabel": {
           "align": "left"
          },
          "hovermode": "closest",
          "mapbox": {
           "style": "light"
          },
          "paper_bgcolor": "white",
          "plot_bgcolor": "#E5ECF6",
          "polar": {
           "angularaxis": {
            "gridcolor": "white",
            "linecolor": "white",
            "ticks": ""
           },
           "bgcolor": "#E5ECF6",
           "radialaxis": {
            "gridcolor": "white",
            "linecolor": "white",
            "ticks": ""
           }
          },
          "scene": {
           "xaxis": {
            "backgroundcolor": "#E5ECF6",
            "gridcolor": "white",
            "gridwidth": 2,
            "linecolor": "white",
            "showbackground": true,
            "ticks": "",
            "zerolinecolor": "white"
           },
           "yaxis": {
            "backgroundcolor": "#E5ECF6",
            "gridcolor": "white",
            "gridwidth": 2,
            "linecolor": "white",
            "showbackground": true,
            "ticks": "",
            "zerolinecolor": "white"
           },
           "zaxis": {
            "backgroundcolor": "#E5ECF6",
            "gridcolor": "white",
            "gridwidth": 2,
            "linecolor": "white",
            "showbackground": true,
            "ticks": "",
            "zerolinecolor": "white"
           }
          },
          "shapedefaults": {
           "line": {
            "color": "#2a3f5f"
           }
          },
          "ternary": {
           "aaxis": {
            "gridcolor": "white",
            "linecolor": "white",
            "ticks": ""
           },
           "baxis": {
            "gridcolor": "white",
            "linecolor": "white",
            "ticks": ""
           },
           "bgcolor": "#E5ECF6",
           "caxis": {
            "gridcolor": "white",
            "linecolor": "white",
            "ticks": ""
           }
          },
          "title": {
           "x": 0.05
          },
          "xaxis": {
           "automargin": true,
           "gridcolor": "white",
           "linecolor": "white",
           "ticks": "",
           "title": {
            "standoff": 15
           },
           "zerolinecolor": "white",
           "zerolinewidth": 2
          },
          "yaxis": {
           "automargin": true,
           "gridcolor": "white",
           "linecolor": "white",
           "ticks": "",
           "title": {
            "standoff": 15
           },
           "zerolinecolor": "white",
           "zerolinewidth": 2
          }
         }
        },
        "title": {
         "text": "Time Series for the 1 ID"
        },
        "xaxis": {
         "range": [
          "2023-09-04",
          "2023-12-19"
         ],
         "title": {
          "text": "Date"
         }
        },
        "yaxis": {
         "title": {
          "text": "Beervolume"
         }
        }
       }
      }
     },
     "metadata": {},
     "output_type": "display_data"
    }
   ],
   "source": [
    "# Make predictions for a specific ID (ID=1) using the 'predict_id' function\n",
    "prediction_for_id = predict_id(\n",
    "    1, \n",
    "    X_test, \n",
    "    model,\n",
    ")\n",
    "\n",
    "# Generate a Plotly figure for visualizing the predictions\n",
    "fig = plot_prediction_test(\n",
    "    1, \n",
    "    X_train, \n",
    "    X_test, \n",
    "    y_train, \n",
    "    y_test, \n",
    "    train_date, \n",
    "    test_date, \n",
    "    prediction_for_id,\n",
    ")\n",
    "\n",
    "# Display the generated Plotly figure\n",
    "fig.show()"
   ]
  },
  {
   "cell_type": "markdown",
   "id": "558799fa",
   "metadata": {},
   "source": [
    "## <span style=\"color:#ff5f27\">⚙️ Creating the Model Schema </span>\n",
    "Now that we know what the input training features and the target/output variables will look like, we can create a schema for this and save this to a dictionary."
   ]
  },
  {
   "cell_type": "code",
   "execution_count": 21,
   "id": "3b490e4d",
   "metadata": {},
   "outputs": [
    {
     "data": {
      "text/plain": [
       "{'input_schema': {'tensor_schema': {'shape': '(192881, 9)',\n",
       "   'type': 'float64'}},\n",
       " 'output_schema': {'columnar_schema': [{'name': 'beervolume',\n",
       "    'type': 'float64'}]}}"
      ]
     },
     "execution_count": 21,
     "metadata": {},
     "output_type": "execute_result"
    }
   ],
   "source": [
    "from hsml.schema import Schema\n",
    "from hsml.model_schema import ModelSchema\n",
    "\n",
    "# Create an input schema using the training features\n",
    "input_schema = Schema(X_train.values)\n",
    "\n",
    "# Create an output schema using the target variable\n",
    "output_schema = Schema(y_train)\n",
    "\n",
    "# Create a model schema using the input and output schemas\n",
    "model_schema = ModelSchema(\n",
    "    input_schema=input_schema, \n",
    "    output_schema=output_schema,\n",
    ")\n",
    "\n",
    "# Convert the model schema to a dictionary\n",
    "model_schema.to_dict()"
   ]
  },
  {
   "cell_type": "markdown",
   "id": "44e8f511",
   "metadata": {},
   "source": [
    "## <span style=\"color:#ff5f27\">📝 Registering the model in the Hopsworks registry</span>\n",
    "We will also save and persist the model in Hopsworks, in case future decisions would need to be retraced to a specific version of the prediction system:"
   ]
  },
  {
   "cell_type": "code",
   "execution_count": 22,
   "id": "fb397a64",
   "metadata": {},
   "outputs": [],
   "source": [
    "# Specify the directory for saving the model\n",
    "model_dir = \"beervolume_model\"\n",
    "\n",
    "# Check if the directory exists, and create it if not\n",
    "if not os.path.isdir(model_dir):\n",
    "    os.mkdir(model_dir)\n",
    "\n",
    "# Save the trained XGBoost model using joblib\n",
    "joblib.dump(model, f'{model_dir}/xgboost_beervolume_model.pkl')\n",
    "\n",
    "# Write the generated Plotly figure image to the specified directory\n",
    "fig.write_image(f'{model_dir}/model_prediction.png')"
   ]
  },
  {
   "cell_type": "code",
   "execution_count": 23,
   "id": "782f9731",
   "metadata": {},
   "outputs": [
    {
     "name": "stdout",
     "output_type": "stream",
     "text": [
      "Connected. Call `.close()` to terminate connection gracefully.\n"
     ]
    },
    {
     "data": {
      "application/vnd.jupyter.widget-view+json": {
       "model_id": "d72177da1b25409980e65edfc395d966",
       "version_major": 2,
       "version_minor": 0
      },
      "text/plain": [
       "  0%|          | 0/6 [00:00<?, ?it/s]"
      ]
     },
     "metadata": {},
     "output_type": "display_data"
    },
    {
     "data": {
      "application/vnd.jupyter.widget-view+json": {
       "model_id": "a60566bbd0884377b2a17462f15d05b8",
       "version_major": 2,
       "version_minor": 0
      },
      "text/plain": [
       "Uploading: 0.000%|          | 0/495168 elapsed<00:00 remaining<?"
      ]
     },
     "metadata": {},
     "output_type": "display_data"
    },
    {
     "data": {
      "application/vnd.jupyter.widget-view+json": {
       "model_id": "b90514aef9204685b19d2327ed38cc33",
       "version_major": 2,
       "version_minor": 0
      },
      "text/plain": [
       "Uploading: 0.000%|          | 0/53411 elapsed<00:00 remaining<?"
      ]
     },
     "metadata": {},
     "output_type": "display_data"
    },
    {
     "data": {
      "application/vnd.jupyter.widget-view+json": {
       "model_id": "802bd065152a490f8b8e267702214cb2",
       "version_major": 2,
       "version_minor": 0
      },
      "text/plain": [
       "Uploading: 0.000%|          | 0/123 elapsed<00:00 remaining<?"
      ]
     },
     "metadata": {},
     "output_type": "display_data"
    },
    {
     "data": {
      "application/vnd.jupyter.widget-view+json": {
       "model_id": "a862c029c0214270a020054114103c32",
       "version_major": 2,
       "version_minor": 0
      },
      "text/plain": [
       "Uploading: 0.000%|          | 0/239 elapsed<00:00 remaining<?"
      ]
     },
     "metadata": {},
     "output_type": "display_data"
    },
    {
     "name": "stdout",
     "output_type": "stream",
     "text": [
      "Model created, explore it at https://172f2800-9e76-11ee-ba4c-277d56d9f8e7.cloud.hopsworks.ai:443/p/120/models/xgboost_beervolume_model/2\n"
     ]
    },
    {
     "data": {
      "text/plain": [
       "Model(name: 'xgboost_beervolume_model', version: 2)"
      ]
     },
     "execution_count": 23,
     "metadata": {},
     "output_type": "execute_result"
    }
   ],
   "source": [
    "# Get the model registry from the project\n",
    "mr = project.get_model_registry()\n",
    "\n",
    "# Create a Python model in the model registry named 'xgboost_price_model'\n",
    "beervolume_model = mr.python.create_model(\n",
    "    name=\"xgboost_beervolume_model\", \n",
    "    metrics={\"MSE\": mse},           # Specify metrics (Mean Squared Error)\n",
    "    model_schema=model_schema,      # Provide the model schema\n",
    "    input_example=X_train.sample(), # Provide an example of the input data\n",
    "    description=\"Beervolume Predictor\",  # Add a description for the model\n",
    ")\n",
    "\n",
    "# Save the model to the specified directory\n",
    "beervolume_model.save(model_dir)"
   ]
  },
  {
   "cell_type": "markdown",
   "id": "88bfb99f",
   "metadata": {},
   "source": [
    "# <span style=\"color:#ff5f27\">🚀 Beervolume Consumption Prediction Model Deployment</span>\n",
    "\n",
    "**About Model Serving**\n",
    "\n",
    "Models can be served via KFServing or \"default\" serving, which means a Docker container exposing a Flask server. For KFServing models, or models written in Tensorflow, we do not need to write a prediction file. However, for sklearn models using default serving, you do need to proceed to write a prediction file.\n",
    "\n",
    "We will not go into this at this point - and wrap up the 2nd part of our prediction system with this training example.\n",
    "\n",
    "----"
   ]
  },
  {
   "cell_type": "markdown",
   "id": "4017c8e4",
   "metadata": {},
   "source": [
    "## <span style=\"color:#ff5f27\">📎 Predictor script for Python models</span>\n",
    "\n",
    "Scikit-learn and XGBoost models are deployed as Python models, in which case you need to provide a Predict class that implements the predict method. The `predict()` method invokes the model on the inputs and returns the prediction as a list.\n",
    "\n",
    "The `init()` method is run when the predictor is loaded into memory, loading the model from the local directory it is materialized to, ARTIFACT_FILES_PATH.\n",
    "\n",
    "The directive **\"%%writefile\"** writes out the cell before to the given Python file. We will use the **predict_example.py** file to create a deployment for our model."
   ]
  },
  {
   "cell_type": "code",
   "execution_count": 24,
   "id": "79a97ca9",
   "metadata": {},
   "outputs": [
    {
     "name": "stdout",
     "output_type": "stream",
     "text": [
      "Overwriting predict_example.py\n"
     ]
    }
   ],
   "source": [
    "%%writefile predict_example.py\n",
    "import os\n",
    "import numpy as np\n",
    "import pandas as pd\n",
    "import hsfs\n",
    "import joblib\n",
    "\n",
    "\n",
    "class Predict(object):\n",
    "\n",
    "    def __init__(self):\n",
    "        \"\"\" Initializes the serving state, reads a trained model\"\"\"        \n",
    "        # get feature store handle\n",
    "        fs_conn = hsfs.connection()\n",
    "        self.fs = fs_conn.get_feature_store()\n",
    "        \n",
    "        # get feature view\n",
    "        self.fv = self.fs.get_feature_view(\"beervolume_fv\", 1)\n",
    "        \n",
    "        # initialize serving\n",
    "        self.fv.init_serving(1)\n",
    "\n",
    "        # load the trained model\n",
    "        self.model = joblib.load(os.environ[\"ARTIFACT_FILES_PATH\"] + \"/xgboost_beervolume_model.pkl\")\n",
    "        print(\"Initialization of Beervolume model Complete\")\n",
    "\n",
    "    \n",
    "    def predict(self, id_value):\n",
    "        \"\"\" Serves a Beervolume prediction request usign a trained model\"\"\"\n",
    "        # Retrieve feature vectors\n",
    "        feature_vector = self.fv.get_feature_vector(\n",
    "            entry = {'id': id_value[0]}\n",
    "        )\n",
    "        return self.model.predict(np.asarray(feature_vector[1:]).reshape(1, -1)).tolist()"
   ]
  },
  {
   "cell_type": "markdown",
   "id": "b979582c",
   "metadata": {},
   "source": [
    "This script needs to be put into a known location in the Hopsworks file system. Let's call the file predict_example.py and put it in the Models directory."
   ]
  },
  {
   "cell_type": "code",
   "execution_count": 25,
   "id": "a64048e9",
   "metadata": {},
   "outputs": [
    {
     "data": {
      "application/vnd.jupyter.widget-view+json": {
       "model_id": "7f8621040a7f4667aa07ca3dbf68fa6e",
       "version_major": 2,
       "version_minor": 0
      },
      "text/plain": [
       "Uploading: 0.000%|          | 0/1027 elapsed<00:00 remaining<?"
      ]
     },
     "metadata": {},
     "output_type": "display_data"
    }
   ],
   "source": [
    "# Get the dataset API from the project\n",
    "dataset_api = project.get_dataset_api()\n",
    "\n",
    "# Upload the file \"predict_example.py\" to the \"Models\" dataset, overwriting if it already exists\n",
    "uploaded_file_path = dataset_api.upload(\"predict_example.py\", \"Models\", overwrite=True)\n",
    "\n",
    "# Create the full path to the uploaded predictor script\n",
    "predictor_script_path = os.path.join(\"/Projects\", project.name, uploaded_file_path)"
   ]
  },
  {
   "cell_type": "markdown",
   "id": "7d7cea10",
   "metadata": {},
   "source": [
    "---"
   ]
  },
  {
   "cell_type": "markdown",
   "id": "cf59ec95",
   "metadata": {},
   "source": [
    "## <span style=\"color:#ff5f27\">🚀 Create the deployment</span>\n",
    "\n",
    "Here, you fetch the model you want from the model registry and define a configuration for the deployment. For the configuration, you need to specify the serving type (default or KFserving)."
   ]
  },
  {
   "cell_type": "code",
   "execution_count": 26,
   "id": "9f98e2dd",
   "metadata": {},
   "outputs": [
    {
     "name": "stdout",
     "output_type": "stream",
     "text": [
      "Deployment created, explore it at https://172f2800-9e76-11ee-ba4c-277d56d9f8e7.cloud.hopsworks.ai:443/p/120/deployments/2\n",
      "Before making predictions, start the deployment by using `.start()`\n"
     ]
    }
   ],
   "source": [
    "# Deploy the 'beervolume_model'\n",
    "deployment = beervolume_model.deploy(\n",
    "    name=\"beervolumeonlinemodeldeployment\",  # Specify the deployment name\n",
    "    script_file=predictor_script_path,  # Provide the path to the predictor script\n",
    ")"
   ]
  },
  {
   "cell_type": "code",
   "execution_count": 27,
   "id": "86154683",
   "metadata": {},
   "outputs": [
    {
     "data": {
      "application/vnd.jupyter.widget-view+json": {
       "model_id": "4d29abb093494b768eef943347ae1346",
       "version_major": 2,
       "version_minor": 0
      },
      "text/plain": [
       "  0%|          | 0/5 [00:00<?, ?it/s]"
      ]
     },
     "metadata": {},
     "output_type": "display_data"
    },
    {
     "name": "stdout",
     "output_type": "stream",
     "text": [
      "Start making predictions by using `.predict()`\n"
     ]
    }
   ],
   "source": [
    "# Start the deployment and wait for it up to 180 seconds\n",
    "deployment.start(await_running=180)"
   ]
  },
  {
   "cell_type": "code",
   "execution_count": 28,
   "id": "80e5b6ec",
   "metadata": {},
   "outputs": [
    {
     "name": "stdout",
     "output_type": "stream",
     "text": [
      "{\n",
      "    \"available_instances\": 1,\n",
      "    \"available_transformer_instances\": 0,\n",
      "    \"condition\": {\n",
      "        \"reason\": \"Deployment is ready\",\n",
      "        \"status\": true,\n",
      "        \"type\": \"READY\"\n",
      "    },\n",
      "    \"deployed\": \"2023-12-20T17:10:27.000Z\",\n",
      "    \"hopsworks_inference_path\": \"/project/120/inference/models/beervolumeonlinemodeldeployment\",\n",
      "    \"model_server_inference_path\": \"/v1/models/beervolumeonlinemodeldeployment\",\n",
      "    \"revision\": \"48751398\",\n",
      "    \"status\": \"Running\"\n",
      "}\n"
     ]
    }
   ],
   "source": [
    "# Get the current state of the deployment and describe it\n",
    "deployment_state = deployment.get_state().describe()"
   ]
  },
  {
   "cell_type": "code",
   "execution_count": 33,
   "id": "ea906d47",
   "metadata": {},
   "outputs": [
    {
     "data": {
      "text/plain": [
       "{'predictions': [229.8468780517578]}"
      ]
     },
     "execution_count": 33,
     "metadata": {},
     "output_type": "execute_result"
    }
   ],
   "source": [
    "# Predict price for the 1 ID\n",
    "deployment.predict({'instances': [100]})"
   ]
  },
  {
   "cell_type": "markdown",
   "id": "1354c27a",
   "metadata": {},
   "source": [
    "---"
   ]
  }
 ],
 "metadata": {
  "kernelspec": {
   "display_name": "Python 3 (ipykernel)",
   "language": "python",
   "name": "python3"
  },
  "language_info": {
   "codemirror_mode": {
    "name": "ipython",
    "version": 3
   },
   "file_extension": ".py",
   "mimetype": "text/x-python",
   "name": "python",
   "nbconvert_exporter": "python",
   "pygments_lexer": "ipython3",
   "version": "3.11.6"
  }
 },
 "nbformat": 4,
 "nbformat_minor": 5
}
